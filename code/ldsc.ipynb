{
 "cells": [
  {
   "metadata": {
    "ExecuteTime": {
     "end_time": "2024-06-18T01:09:01.138914Z",
     "start_time": "2024-06-18T01:09:01.122370Z"
    }
   },
   "cell_type": "code",
   "source": "",
   "id": "67595e535a1fb4c3",
   "outputs": [],
   "execution_count": 27
  },
  {
   "metadata": {
    "ExecuteTime": {
     "end_time": "2024-06-18T13:29:03.376244Z",
     "start_time": "2024-06-18T13:29:03.356964Z"
    }
   },
   "cell_type": "code",
   "source": [
    "import numpy as np\n",
    "import pandas as pd\n",
    "import scanpy as sc\n",
    "import networkx as nx\n",
    "import matplotlib.pyplot as plt\n",
    "import os"
   ],
   "id": "6707b0712112bc29",
   "outputs": [],
   "execution_count": 227
  },
  {
   "metadata": {},
   "cell_type": "markdown",
   "source": "# 1. ldsc的遗传关联",
   "id": "2a9e0c16ede745cd"
  },
  {
   "metadata": {
    "ExecuteTime": {
     "end_time": "2024-06-18T13:29:24.685768Z",
     "start_time": "2024-06-18T13:29:22.687724Z"
    }
   },
   "cell_type": "code",
   "source": [
    "\n",
    "ldsc_rg = pd.read_csv(r\"E:\\00_CeSOP\\data\\ldsc_rg_matrix.csv\",index_col=0)\n",
    "traits = pd.read_excel(r\"E:\\00_CeSOP\\data\\49_traits.xlsx\")\n",
    "# 更换性状名字\n",
    "ldsc_rg = ldsc_rg.reset_index()  # 重置索引，将当前索引变成列\n",
    "ldsc_rg = ldsc_rg.merge(traits[['Trait', 'Trait name']], how='left', left_on='index', right_on='Trait')  # 合并 df2 中的新索引\n",
    "ldsc_rg.set_index('Trait name', inplace=True)  # 设置新索引\n",
    "ldsc_rg.drop(['index', 'Trait'], axis=1, inplace=True)  # 删除多余列\n",
    "ldsc_rg.columns = ldsc_rg.index"
   ],
   "id": "efd0c62ab75acebb",
   "outputs": [],
   "execution_count": 230
  },
  {
   "metadata": {
    "ExecuteTime": {
     "end_time": "2024-06-18T13:29:24.888929Z",
     "start_time": "2024-06-18T13:29:24.819893Z"
    }
   },
   "cell_type": "code",
   "source": [
    "# 将相似性矩阵转化成边\n",
    "\n",
    "# 转换为数值类型\n",
    "ldsc_rg = ldsc_rg.astype(float)\n",
    "ldsc_rg_list = []\n",
    "rows, cols = ldsc_rg.shape\n",
    "for i in range(rows):\n",
    "    for j in range(i + 1, cols):\n",
    "        ldsc_rg_list.append(\n",
    "            (ldsc_rg.index[i], ldsc_rg.columns[j], ldsc_rg.iat[i, j]))\n",
    "# 转换为DataFrame并显示\n",
    "ldsc_rg_df = pd.DataFrame(ldsc_rg_list, columns=['Node1', 'Node2', 'value'])\n",
    "ldsc_rg_df.to_csv(r\"E:\\00_CeSOP\\results\\ldsc_rg\\edges.csv\",index = None)\n",
    "pd.DataFrame(ldsc_rg.columns) .to_csv(r\"E:\\00_CeSOP\\results\\ldsc_rg\\nodes.csv\",index = None)"
   ],
   "id": "341c7704856d65c5",
   "outputs": [],
   "execution_count": 231
  },
  {
   "metadata": {
    "ExecuteTime": {
     "end_time": "2024-06-18T13:29:26.900745Z",
     "start_time": "2024-06-18T13:29:24.890374Z"
    }
   },
   "cell_type": "code",
   "source": [
    "import seaborn as sns\n",
    "\n",
    "g = sns.clustermap(ldsc_rg, cmap='vlag_r', figsize=(4, 4), linewidths=0,\n",
    "                   # xticklabels=False, yticklabels=True,\n",
    "                   xticklabels=False, yticklabels=False,\n",
    "                   dendrogram_ratio=(0.001, 0.001),\n",
    "                   # method='average', metric='euclidean',\n",
    "                   method='complete', metric='cosine',\n",
    "                   cbar_pos=(1.01, 0.1, 0.05, 0.8),\n",
    "                   center=0)"
   ],
   "id": "d6bb9cf1a150d403",
   "outputs": [
    {
     "data": {
      "text/plain": [
       "<Figure size 400x400 with 4 Axes>"
      ],
      "image/png": "[encoded data removed]"
     },
     "metadata": {},
     "output_type": "display_data"
    }
   ],
   "execution_count": 232
  },
  {
   "metadata": {},
   "cell_type": "code",
   "outputs": [],
   "execution_count": null,
   "source": "",
   "id": "50b7d963bc57a692"
  },
  {
   "metadata": {},
   "cell_type": "code",
   "outputs": [],
   "execution_count": 207,
   "source": [
    "'''提取聚类结果'''\n",
    "import scipy.cluster.hierarchy as sch\n",
    "from scipy.spatial.distance import pdist, squareform\n",
    "import matplotlib.pyplot as plt\n",
    "from scipy.spatial.distance import cosine\n",
    "\n",
    "# ldsc\n",
    "cosine_distance = pdist(ldsc_rg, metric='cosine')  # Transpose to calculate column distances\n",
    "linkage_matrix = sch.linkage(cosine_distance, method='complete')\n",
    "array = ldsc_rg.to_numpy()\n",
    "cluster_assignments = sch.fcluster(linkage_matrix, t=2, criterion='maxclust')\n",
    "ldsc_rg['Cluster'] = cluster_assignments\n"
   ],
   "id": "fc1726340ccebc0b"
  },
  {
   "metadata": {
    "ExecuteTime": {
     "end_time": "2024-06-18T09:09:50.477001Z",
     "start_time": "2024-06-18T09:09:50.250292Z"
    }
   },
   "cell_type": "code",
   "source": [
    "'''将CeSOP方法与ldsc发现的遗传关联热图组合在一起 '''\n",
    "import scipy.cluster.hierarchy as sch\n",
    "from scipy.spatial.distance import pdist, squareform\n",
    "import matplotlib.pyplot as plt\n",
    "from scipy.spatial.distance import cosine\n",
    "\n",
    "epsilon = 1e-10\n",
    "core = \"core\"\n",
    "traits_name = pd.read_excel(r\"E:\\00_CeSOP\\data\\49_traits.xlsx\")\n",
    "alltraits_significant = pd.DataFrame()\n",
    "traits37 = ldsc_rg.index\n",
    "## 只列出37个性状\n",
    "for trait_name in traits37:\n",
    "    trait = traits_name[traits_name[\"Trait name\"] == trait_name][\"Number\"].values[0]\n",
    "    df = pd.read_csv(\n",
    "        r\"E:\\00_CeSOP\\results\\trait-cells-in-tissues-and-celltypes\\tissues\\%s\\top10_%s_lcczscore.csv\" % (trait, core))\n",
    "    df = df.sort_values(\"tissue\")\n",
    "    df[\"log fisher's pvalue\"] = -np.log10(df[\"fisher's pvalue\"] + + epsilon)\n",
    "    alltraits_significant[trait_name] = df[\"log fisher's pvalue\"]\n",
    "alltraits_significant.index = df[\"tissue\"]\n",
    "alltraits_significant_T = alltraits_significant.T\n",
    "\n",
    "# '''计算每两列(性状）之间的余弦相似度'''\n",
    "# cosine_similarities = pd.DataFrame(index=alltraits_significant.columns, columns=alltraits_significant.columns)\n",
    "# for col1 in alltraits_significant.columns:\n",
    "#     for col2 in alltraits_significant.columns:\n",
    "#         if col1 != col2:\n",
    "#             cosine_similarities.loc[col1, col2] = 1 - cosine(alltraits_significant[col1], alltraits_significant[col2])\n",
    "#         else:\n",
    "#             cosine_similarities.loc[col1, col2] = 1  # 自身与自身的相似度为1\n",
    "# \n",
    "# # 转换为数值类型\n",
    "# cosine_similarities = cosine_similarities.astype(float)\n",
    "# g = sns.clustermap(cosine_similarities, cmap='Blues', \n",
    "#                    figsize=(4, 4), linewidths=0,\n",
    "#                    xticklabels=False, yticklabels=False,\n",
    "#                    dendrogram_ratio=(0.001, 0.001),\n",
    "#                    method='complete', metric='cosine',\n",
    "#                    cbar_pos=(1.01, 0.1, 0.05, 0.8),\n",
    "#                    center=0.6)\n",
    "# cosine_similarities_list = []\n",
    "# rows, cols = cosine_similarities.shape\n",
    "# for i in range(rows):\n",
    "#     for j in range(i + 1, cols):\n",
    "#         rows, cols = cosine_similarities.shape\n",
    "#         cosine_similarities_list.append(\n",
    "#             (cosine_similarities.index[i], cosine_similarities.columns[j], cosine_similarities.iat[i, j]))\n",
    "# # 转换为DataFrame并显示\n",
    "# cosine_similarities_df = pd.DataFrame(cosine_similarities_list, columns=['Node1', 'Node2', 'value'])\n",
    "# cosine_similarities_df.to_csv(r\"E:\\00_CeSOP\\results\\ldsc_rg\\cesop\\tissues\\edges.csv\",index = None)\n",
    "\n",
    "'''提取聚类结果'''\n",
    "\n",
    "# 计算余弦距离矩阵\n",
    "cosine_distance = pdist(alltraits_significant_T, metric='cosine')  # Transpose to calculate column distances\n",
    "linkage_matrix = sch.linkage(cosine_distance, method='complete')\n",
    "array = alltraits_significant_T.to_numpy()\n",
    "cluster_assignments = sch.fcluster(linkage_matrix, t=2, criterion='maxclust')\n",
    "# 添加簇分配结果到 DataFrame\n",
    "alltraits_significant_T['Cluster'] = cluster_assignments\n",
    "\n"
   ],
   "id": "130d957fab642065",
   "outputs": [],
   "execution_count": 218
  },
  {
   "metadata": {
    "ExecuteTime": {
     "end_time": "2024-06-18T09:12:42.841546Z",
     "start_time": "2024-06-18T09:12:42.771824Z"
    }
   },
   "cell_type": "code",
   "source": [
    "'''将ldsc的结果当做label，计算聚类指标'''\n",
    "from sklearn.metrics import adjusted_rand_score\n",
    "ari = adjusted_rand_score(ldsc_rg['Cluster'], alltraits_significant_T['Cluster'])\n",
    "print(f'Adjusted Rand Index: {ari}')\n",
    "\n",
    "from sklearn.metrics import normalized_mutual_info_score\n",
    "nmi = normalized_mutual_info_score(ldsc_rg['Cluster'], alltraits_significant_T['Cluster'])\n",
    "print(f'Normalized Mutual Information: {nmi}')\n",
    "\n",
    "from sklearn.metrics import fowlkes_mallows_score\n",
    "fm_index = fowlkes_mallows_score(ldsc_rg['Cluster'], alltraits_significant_T['Cluster'])\n",
    "print(f'Fowlkes-Mallows Index: {fm_index}')\n"
   ],
   "id": "bf27a2f1ee25fa2c",
   "outputs": [
    {
     "name": "stdout",
     "output_type": "stream",
     "text": [
      "Adjusted Rand Index: 0.018723918295629256\n",
      "Normalized Mutual Information: 0.010737520156627219\n",
      "Fowlkes-Mallows Index: 0.617694709282805\n"
     ]
    }
   ],
   "execution_count": 220
  },
  {
   "metadata": {
    "ExecuteTime": {
     "end_time": "2024-06-18T12:51:56.048401Z",
     "start_time": "2024-06-18T12:51:55.993680Z"
    }
   },
   "cell_type": "code",
   "source": "ldsc_rg['Cluster'].to_csv(r\"E:\\00_CeSOP\\results\\temp\\temp.csv\")",
   "id": "925bb86c7d159d9",
   "outputs": [],
   "execution_count": 225
  },
  {
   "metadata": {
    "ExecuteTime": {
     "end_time": "2024-06-18T12:50:55.401953Z",
     "start_time": "2024-06-18T12:50:51.934152Z"
    }
   },
   "cell_type": "code",
   "source": [
    "epsilon = 1e-10\n",
    "core = \"core\"\n",
    "traits_name = pd.read_excel(r\"E:\\00_CeSOP\\data\\49_traits.xlsx\")\n",
    "alltraits_significant = pd.DataFrame()\n",
    "for trait in range(1, 50):\n",
    "    trait_name = traits_name[traits_name[\"Number\"] == trait][\"Trait name\"].values[0]\n",
    "    # trait_name = traits_name[traits_name[\"Number\"] == trait][\"Trait 名字\"].values[0]\n",
    "    df = pd.read_csv(\n",
    "        r\"E:\\00_CeSOP\\results\\trait-cells-in-tissues-and-celltypes\\tissues\\%s\\top10_%s_lcczscore.csv\" % (trait, core))\n",
    "    df = df.sort_values(\"tissue\")\n",
    "    df[\"log fisher's pvalue\"] = -np.log10(df[\"fisher's pvalue\"] + + epsilon)\n",
    "    alltraits_significant[trait_name] = df[\"log fisher's pvalue\"]\n",
    "alltraits_significant.index = df[\"tissue\"]\n",
    "alltraits_significant_T = alltraits_significant.T\n",
    "\n",
    "'''计算每两列(性状）之间的余弦相似度'''\n",
    "cosine_similarities = pd.DataFrame(index=alltraits_significant.columns, columns=alltraits_significant.columns)\n",
    "for col1 in alltraits_significant.columns:\n",
    "    for col2 in alltraits_significant.columns:\n",
    "        if col1 != col2:\n",
    "            cosine_similarities.loc[col1, col2] = 1 - cosine(alltraits_significant[col1], alltraits_significant[col2])\n",
    "        else:\n",
    "            cosine_similarities.loc[col1, col2] = 1  # 自身与自身的相似度为1\n",
    "# 转换为数值类型\n",
    "cosine_similarities = cosine_similarities.astype(float)\n",
    "\n",
    "g = sns.clustermap(cosine_similarities, cmap='Blues', \n",
    "                   figsize=(4, 4), linewidths=0,\n",
    "                   xticklabels=False, yticklabels=False,\n",
    "                   dendrogram_ratio=(0.001, 0.001),\n",
    "                   # method='average', metric='euclidean',\n",
    "                   # method='complete', metric='euclidean',\n",
    "                   method='complete', metric='cosine',\n",
    "                   cbar_pos=(1.01, 0.1, 0.05, 0.8),\n",
    "                   center=0.5)\n",
    "# g = sns.clustermap(cosine_similarities, cmap='Blues', figsize=(10, 12), linewidths=0,\n",
    "#                    xticklabels=False, yticklabels=True,\n",
    "#                    # method='average', metric='euclidean',\n",
    "#                    method='complete', metric='cosine',\n",
    "#                    center=0.45)\n",
    "\n",
    "cosine_similarities_T = cosine_similarities.T\n",
    "\n",
    "'''提取聚类结果'''\n",
    "# 计算余弦距离矩阵\n",
    "cosine_distance = pdist(cosine_similarities_T, metric='cosine')  # Transpose to calculate column distances\n",
    "# 生成层次聚类\n",
    "linkage_matrix = sch.linkage(cosine_distance, method='complete')\n",
    "# 划分簇，设置簇数为3\n",
    "array = cosine_similarities_T.iloc[:, 0:-1].to_numpy()\n",
    "cluster_assignments = sch.fcluster(linkage_matrix, t=2, criterion='maxclust')\n",
    "# 添加簇分配结果到 DataFrame\n",
    "cosine_similarities_T['Cluster'] = cluster_assignments\n"
   ],
   "id": "e982648453c49ff1",
   "outputs": [
    {
     "data": {
      "text/plain": [
       "<Figure size 400x400 with 4 Axes>"
      ],
      "image/png": "[encoded data removed]"
     },
     "metadata": {},
     "output_type": "display_data"
    }
   ],
   "execution_count": 223
  },
  {
   "metadata": {
    "ExecuteTime": {
     "end_time": "2024-06-18T12:52:13.454230Z",
     "start_time": "2024-06-18T12:52:13.436236Z"
    }
   },
   "cell_type": "code",
   "source": "cosine_similarities_T['Cluster'].to_csv(r\"E:\\00_CeSOP\\results\\temp\\temp1.csv\")",
   "id": "6e918a7755321b30",
   "outputs": [],
   "execution_count": 226
  },
  {
   "metadata": {
    "ExecuteTime": {
     "end_time": "2024-06-18T07:26:46.585919Z",
     "start_time": "2024-06-18T07:26:45.533111Z"
    }
   },
   "cell_type": "code",
   "source": [
    "import numpy as np\n",
    "import pandas as pd\n",
    "import seaborn as sns\n",
    "import matplotlib.pyplot as plt\n",
    "from scipy.cluster.hierarchy import linkage, dendrogram, leaves_list\n",
    "\n",
    "# 层次聚类并根据聚类结果对数据进行排序\n",
    "linkage_matrix = linkage(ldsc_rg, method='average')\n",
    "dendro = dendrogram(linkage_matrix, no_plot=True)\n",
    "ordered_indices = leaves_list(linkage_matrix)\n",
    "\n",
    "# 根据聚类结果排序矩阵\n",
    "ordered_corr_matrix1 = ldsc_rg.iloc[ordered_indices, ordered_indices]\n",
    "ordered_corr_matrix2 = cosine_similarities.iloc[ordered_indices, ordered_indices]\n",
    "\n",
    "# 创建一个包含两个热力图的矩阵\n",
    "mask_upper = np.triu(np.ones_like(ordered_corr_matrix1, dtype=bool))\n",
    "mask_lower = np.tril(np.ones_like(ordered_corr_matrix2, dtype=bool))\n",
    "\n",
    "# 绘制热力图\n",
    "plt.figure(figsize=(6, 4))\n",
    "ax = sns.heatmap(ordered_corr_matrix1, mask=mask_lower, cmap='vlag_r',center = 0)\n",
    "sns.heatmap(ordered_corr_matrix2, mask=mask_upper,  cmap='Blues', ax=ax, center=0.5,alpha = 0.5)\n",
    "# 隐藏 x 和 y 坐标\n",
    "ax.tick_params(left=False, bottom=False, labelleft=False, labelbottom=False)\n",
    "# 调整热力图的显示\n",
    "# ax.set_title('Combined Heatmaps with Hierarchical Clustering')\n",
    "plt.show()\n"
   ],
   "id": "3b13704aa8b1e49b",
   "outputs": [
    {
     "data": {
      "text/plain": [
       "<Figure size 600x400 with 3 Axes>"
      ],
      "image/png": "[encoded data removed]"
     },
     "metadata": {},
     "output_type": "display_data"
    }
   ],
   "execution_count": 154
  },
  {
   "metadata": {
    "ExecuteTime": {
     "end_time": "2024-06-18T07:28:59.101172Z",
     "start_time": "2024-06-18T07:28:57.745406Z"
    }
   },
   "cell_type": "code",
   "source": [
    "'''根据细胞类型特异性对性状进行聚类，并输出聚类结果'''\n",
    "\n",
    "traits_name = pd.read_excel(r\"E:\\00_CeSOP\\data\\49_traits.xlsx\")\n",
    "alltraits_significant = pd.DataFrame()\n",
    "traits37 = ldsc_rg.columns\n",
    "## 只列出37个性状\n",
    "for trait_name in traits37:\n",
    "    trait = traits_name[traits_name[\"Trait name\"] == trait_name][\"Number\"].values[0]\n",
    "    df = pd.read_csv(r\"E:\\00_CeSOP\\results\\trait-cells-in-tissues-and-celltypes\\celltypes\\%s\\top10_%s_lcczscore.csv\"%(trait,core))\n",
    "    df = df.sort_values([\"tissue\",\"celltype\"])  \n",
    "    df[\"log fisher's pvalue\"] = -np.log10(df[\"fisher's pvalue\"] + + epsilon)\n",
    "    alltraits_significant[trait_name] = df[\"log fisher's pvalue\"]\n",
    "alltraits_significant.index = df[\"tissue\"] + \"---\" + df[\"celltype\"]\n",
    "# 处理NaN和inf值\n",
    "alltraits_significant = alltraits_significant.replace([np.inf, -np.inf], np.nan).dropna()\n",
    "# 检查是否有NaN或inf值\n",
    "if alltraits_significant.isnull().values.any():\n",
    "    print(\"Data contains NaN or inf values.\")\n",
    "else:\n",
    "    print(\"No NaN or inf values in the data.\")\n",
    "\n",
    "'''层次聚类'''\n",
    "alltraits_significant_T = alltraits_significant.T\n",
    "x = -np.log10(0.005 + epsilon)\n",
    "# cg = sns.clustermap(alltraits_significant_T, cmap='Greens', \n",
    "#                     yticklabels=True, xticklabels=False,\n",
    "#                     method='weighted', metric='correlation',\n",
    "#                     # method='complete', metric='cosine',\n",
    "#                     cbar_pos=(0.05, 0.87, 0.02, 0.1),\n",
    "#                     cbar_kws={'ticks': [0, x, 10]},\n",
    "#                     center=x)  #行是组织，列是性状\n",
    "\n",
    "'''计算每两列(性状）之间的余弦相似度'''\n",
    "cosine_similarities = pd.DataFrame(index=alltraits_significant.columns, columns=alltraits_significant.columns)\n",
    "for col1 in alltraits_significant.columns:\n",
    "    for col2 in alltraits_significant.columns:\n",
    "        if col1 != col2:\n",
    "            cosine_similarities.loc[col1, col2] = 1 - cosine(alltraits_significant[col1], alltraits_significant[col2])\n",
    "        else:\n",
    "            cosine_similarities.loc[col1, col2] = 1  # 自身与自身的相似度为1\n",
    "\n",
    "# 转换为数值类型\n",
    "cosine_similarities = cosine_similarities.astype(float)\n",
    "g = sns.clustermap(cosine_similarities, cmap='Blues', \n",
    "                   figsize=(4, 4), linewidths=0,\n",
    "                   xticklabels=False, yticklabels=False,\n",
    "                   dendrogram_ratio=(0.001, 0.001),\n",
    "                   method='complete', metric='cosine',\n",
    "                   cbar_pos=(1.01, 0.1, 0.05, 0.8),\n",
    "                   center=0.6)\n",
    "cosine_similarities_list = []\n",
    "rows, cols = cosine_similarities.shape\n",
    "for i in range(rows):\n",
    "    for j in range(i + 1, cols):\n",
    "        rows, cols = cosine_similarities.shape\n",
    "        cosine_similarities_list.append(\n",
    "            (cosine_similarities.index[i], cosine_similarities.columns[j], cosine_similarities.iat[i, j]))\n",
    "# 转换为DataFrame并显示\n",
    "cosine_similarities_df = pd.DataFrame(cosine_similarities_list, columns=['Node1', 'Node2', 'value'])\n",
    "cosine_similarities_df.to_csv(r\"E:\\00_CeSOP\\results\\ldsc_rg\\cesop\\celltypes\\edges.csv\",index = None)"
   ],
   "id": "7a8aaebeb006919a",
   "outputs": [
    {
     "name": "stdout",
     "output_type": "stream",
     "text": [
      "No NaN or inf values in the data.\n"
     ]
    },
    {
     "ename": "PermissionError",
     "evalue": "[Errno 13] Permission denied: 'E:\\\\00_CeSOP\\\\results\\\\ldsc_rg\\\\cesop\\\\celltypes\\\\edges.csv'",
     "output_type": "error",
     "traceback": [
      "\u001B[1;31m---------------------------------------------------------------------------\u001B[0m",
      "\u001B[1;31mPermissionError\u001B[0m                           Traceback (most recent call last)",
      "Cell \u001B[1;32mIn[155], line 60\u001B[0m\n\u001B[0;32m     58\u001B[0m \u001B[38;5;66;03m# 转换为DataFrame并显示\u001B[39;00m\n\u001B[0;32m     59\u001B[0m cosine_similarities_df \u001B[38;5;241m=\u001B[39m pd\u001B[38;5;241m.\u001B[39mDataFrame(cosine_similarities_list, columns\u001B[38;5;241m=\u001B[39m[\u001B[38;5;124m'\u001B[39m\u001B[38;5;124mNode1\u001B[39m\u001B[38;5;124m'\u001B[39m, \u001B[38;5;124m'\u001B[39m\u001B[38;5;124mNode2\u001B[39m\u001B[38;5;124m'\u001B[39m, \u001B[38;5;124m'\u001B[39m\u001B[38;5;124mvalue\u001B[39m\u001B[38;5;124m'\u001B[39m])\n\u001B[1;32m---> 60\u001B[0m \u001B[43mcosine_similarities_df\u001B[49m\u001B[38;5;241;43m.\u001B[39;49m\u001B[43mto_csv\u001B[49m\u001B[43m(\u001B[49m\u001B[38;5;124;43mr\u001B[39;49m\u001B[38;5;124;43m\"\u001B[39;49m\u001B[38;5;124;43mE:\u001B[39;49m\u001B[38;5;124;43m\\\u001B[39;49m\u001B[38;5;124;43m00_CeSOP\u001B[39;49m\u001B[38;5;124;43m\\\u001B[39;49m\u001B[38;5;124;43mresults\u001B[39;49m\u001B[38;5;124;43m\\\u001B[39;49m\u001B[38;5;124;43mldsc_rg\u001B[39;49m\u001B[38;5;124;43m\\\u001B[39;49m\u001B[38;5;124;43mcesop\u001B[39;49m\u001B[38;5;124;43m\\\u001B[39;49m\u001B[38;5;124;43mcelltypes\u001B[39;49m\u001B[38;5;124;43m\\\u001B[39;49m\u001B[38;5;124;43medges.csv\u001B[39;49m\u001B[38;5;124;43m\"\u001B[39;49m\u001B[43m,\u001B[49m\u001B[43mindex\u001B[49m\u001B[43m \u001B[49m\u001B[38;5;241;43m=\u001B[39;49m\u001B[43m \u001B[49m\u001B[38;5;28;43;01mNone\u001B[39;49;00m\u001B[43m)\u001B[49m\n",
      "File \u001B[1;32mD:\\Anaconda\\Anaconda3\\lib\\site-packages\\pandas\\util\\_decorators.py:211\u001B[0m, in \u001B[0;36mdeprecate_kwarg.<locals>._deprecate_kwarg.<locals>.wrapper\u001B[1;34m(*args, **kwargs)\u001B[0m\n\u001B[0;32m    209\u001B[0m     \u001B[38;5;28;01melse\u001B[39;00m:\n\u001B[0;32m    210\u001B[0m         kwargs[new_arg_name] \u001B[38;5;241m=\u001B[39m new_arg_value\n\u001B[1;32m--> 211\u001B[0m \u001B[38;5;28;01mreturn\u001B[39;00m \u001B[43mfunc\u001B[49m\u001B[43m(\u001B[49m\u001B[38;5;241;43m*\u001B[39;49m\u001B[43margs\u001B[49m\u001B[43m,\u001B[49m\u001B[43m \u001B[49m\u001B[38;5;241;43m*\u001B[39;49m\u001B[38;5;241;43m*\u001B[39;49m\u001B[43mkwargs\u001B[49m\u001B[43m)\u001B[49m\n",
      "File \u001B[1;32mD:\\Anaconda\\Anaconda3\\lib\\site-packages\\pandas\\core\\generic.py:3720\u001B[0m, in \u001B[0;36mNDFrame.to_csv\u001B[1;34m(self, path_or_buf, sep, na_rep, float_format, columns, header, index, index_label, mode, encoding, compression, quoting, quotechar, lineterminator, chunksize, date_format, doublequote, escapechar, decimal, errors, storage_options)\u001B[0m\n\u001B[0;32m   3709\u001B[0m df \u001B[38;5;241m=\u001B[39m \u001B[38;5;28mself\u001B[39m \u001B[38;5;28;01mif\u001B[39;00m \u001B[38;5;28misinstance\u001B[39m(\u001B[38;5;28mself\u001B[39m, ABCDataFrame) \u001B[38;5;28;01melse\u001B[39;00m \u001B[38;5;28mself\u001B[39m\u001B[38;5;241m.\u001B[39mto_frame()\n\u001B[0;32m   3711\u001B[0m formatter \u001B[38;5;241m=\u001B[39m DataFrameFormatter(\n\u001B[0;32m   3712\u001B[0m     frame\u001B[38;5;241m=\u001B[39mdf,\n\u001B[0;32m   3713\u001B[0m     header\u001B[38;5;241m=\u001B[39mheader,\n\u001B[1;32m   (...)\u001B[0m\n\u001B[0;32m   3717\u001B[0m     decimal\u001B[38;5;241m=\u001B[39mdecimal,\n\u001B[0;32m   3718\u001B[0m )\n\u001B[1;32m-> 3720\u001B[0m \u001B[38;5;28;01mreturn\u001B[39;00m \u001B[43mDataFrameRenderer\u001B[49m\u001B[43m(\u001B[49m\u001B[43mformatter\u001B[49m\u001B[43m)\u001B[49m\u001B[38;5;241;43m.\u001B[39;49m\u001B[43mto_csv\u001B[49m\u001B[43m(\u001B[49m\n\u001B[0;32m   3721\u001B[0m \u001B[43m    \u001B[49m\u001B[43mpath_or_buf\u001B[49m\u001B[43m,\u001B[49m\n\u001B[0;32m   3722\u001B[0m \u001B[43m    \u001B[49m\u001B[43mlineterminator\u001B[49m\u001B[38;5;241;43m=\u001B[39;49m\u001B[43mlineterminator\u001B[49m\u001B[43m,\u001B[49m\n\u001B[0;32m   3723\u001B[0m \u001B[43m    \u001B[49m\u001B[43msep\u001B[49m\u001B[38;5;241;43m=\u001B[39;49m\u001B[43msep\u001B[49m\u001B[43m,\u001B[49m\n\u001B[0;32m   3724\u001B[0m \u001B[43m    \u001B[49m\u001B[43mencoding\u001B[49m\u001B[38;5;241;43m=\u001B[39;49m\u001B[43mencoding\u001B[49m\u001B[43m,\u001B[49m\n\u001B[0;32m   3725\u001B[0m \u001B[43m    \u001B[49m\u001B[43merrors\u001B[49m\u001B[38;5;241;43m=\u001B[39;49m\u001B[43merrors\u001B[49m\u001B[43m,\u001B[49m\n\u001B[0;32m   3726\u001B[0m \u001B[43m    \u001B[49m\u001B[43mcompression\u001B[49m\u001B[38;5;241;43m=\u001B[39;49m\u001B[43mcompression\u001B[49m\u001B[43m,\u001B[49m\n\u001B[0;32m   3727\u001B[0m \u001B[43m    \u001B[49m\u001B[43mquoting\u001B[49m\u001B[38;5;241;43m=\u001B[39;49m\u001B[43mquoting\u001B[49m\u001B[43m,\u001B[49m\n\u001B[0;32m   3728\u001B[0m \u001B[43m    \u001B[49m\u001B[43mcolumns\u001B[49m\u001B[38;5;241;43m=\u001B[39;49m\u001B[43mcolumns\u001B[49m\u001B[43m,\u001B[49m\n\u001B[0;32m   3729\u001B[0m \u001B[43m    \u001B[49m\u001B[43mindex_label\u001B[49m\u001B[38;5;241;43m=\u001B[39;49m\u001B[43mindex_label\u001B[49m\u001B[43m,\u001B[49m\n\u001B[0;32m   3730\u001B[0m \u001B[43m    \u001B[49m\u001B[43mmode\u001B[49m\u001B[38;5;241;43m=\u001B[39;49m\u001B[43mmode\u001B[49m\u001B[43m,\u001B[49m\n\u001B[0;32m   3731\u001B[0m \u001B[43m    \u001B[49m\u001B[43mchunksize\u001B[49m\u001B[38;5;241;43m=\u001B[39;49m\u001B[43mchunksize\u001B[49m\u001B[43m,\u001B[49m\n\u001B[0;32m   3732\u001B[0m \u001B[43m    \u001B[49m\u001B[43mquotechar\u001B[49m\u001B[38;5;241;43m=\u001B[39;49m\u001B[43mquotechar\u001B[49m\u001B[43m,\u001B[49m\n\u001B[0;32m   3733\u001B[0m \u001B[43m    \u001B[49m\u001B[43mdate_format\u001B[49m\u001B[38;5;241;43m=\u001B[39;49m\u001B[43mdate_format\u001B[49m\u001B[43m,\u001B[49m\n\u001B[0;32m   3734\u001B[0m \u001B[43m    \u001B[49m\u001B[43mdoublequote\u001B[49m\u001B[38;5;241;43m=\u001B[39;49m\u001B[43mdoublequote\u001B[49m\u001B[43m,\u001B[49m\n\u001B[0;32m   3735\u001B[0m \u001B[43m    \u001B[49m\u001B[43mescapechar\u001B[49m\u001B[38;5;241;43m=\u001B[39;49m\u001B[43mescapechar\u001B[49m\u001B[43m,\u001B[49m\n\u001B[0;32m   3736\u001B[0m \u001B[43m    \u001B[49m\u001B[43mstorage_options\u001B[49m\u001B[38;5;241;43m=\u001B[39;49m\u001B[43mstorage_options\u001B[49m\u001B[43m,\u001B[49m\n\u001B[0;32m   3737\u001B[0m \u001B[43m\u001B[49m\u001B[43m)\u001B[49m\n",
      "File \u001B[1;32mD:\\Anaconda\\Anaconda3\\lib\\site-packages\\pandas\\util\\_decorators.py:211\u001B[0m, in \u001B[0;36mdeprecate_kwarg.<locals>._deprecate_kwarg.<locals>.wrapper\u001B[1;34m(*args, **kwargs)\u001B[0m\n\u001B[0;32m    209\u001B[0m     \u001B[38;5;28;01melse\u001B[39;00m:\n\u001B[0;32m    210\u001B[0m         kwargs[new_arg_name] \u001B[38;5;241m=\u001B[39m new_arg_value\n\u001B[1;32m--> 211\u001B[0m \u001B[38;5;28;01mreturn\u001B[39;00m \u001B[43mfunc\u001B[49m\u001B[43m(\u001B[49m\u001B[38;5;241;43m*\u001B[39;49m\u001B[43margs\u001B[49m\u001B[43m,\u001B[49m\u001B[43m \u001B[49m\u001B[38;5;241;43m*\u001B[39;49m\u001B[38;5;241;43m*\u001B[39;49m\u001B[43mkwargs\u001B[49m\u001B[43m)\u001B[49m\n",
      "File \u001B[1;32mD:\\Anaconda\\Anaconda3\\lib\\site-packages\\pandas\\io\\formats\\format.py:1189\u001B[0m, in \u001B[0;36mDataFrameRenderer.to_csv\u001B[1;34m(self, path_or_buf, encoding, sep, columns, index_label, mode, compression, quoting, quotechar, lineterminator, chunksize, date_format, doublequote, escapechar, errors, storage_options)\u001B[0m\n\u001B[0;32m   1168\u001B[0m     created_buffer \u001B[38;5;241m=\u001B[39m \u001B[38;5;28;01mFalse\u001B[39;00m\n\u001B[0;32m   1170\u001B[0m csv_formatter \u001B[38;5;241m=\u001B[39m CSVFormatter(\n\u001B[0;32m   1171\u001B[0m     path_or_buf\u001B[38;5;241m=\u001B[39mpath_or_buf,\n\u001B[0;32m   1172\u001B[0m     lineterminator\u001B[38;5;241m=\u001B[39mlineterminator,\n\u001B[1;32m   (...)\u001B[0m\n\u001B[0;32m   1187\u001B[0m     formatter\u001B[38;5;241m=\u001B[39m\u001B[38;5;28mself\u001B[39m\u001B[38;5;241m.\u001B[39mfmt,\n\u001B[0;32m   1188\u001B[0m )\n\u001B[1;32m-> 1189\u001B[0m \u001B[43mcsv_formatter\u001B[49m\u001B[38;5;241;43m.\u001B[39;49m\u001B[43msave\u001B[49m\u001B[43m(\u001B[49m\u001B[43m)\u001B[49m\n\u001B[0;32m   1191\u001B[0m \u001B[38;5;28;01mif\u001B[39;00m created_buffer:\n\u001B[0;32m   1192\u001B[0m     \u001B[38;5;28;01massert\u001B[39;00m \u001B[38;5;28misinstance\u001B[39m(path_or_buf, StringIO)\n",
      "File \u001B[1;32mD:\\Anaconda\\Anaconda3\\lib\\site-packages\\pandas\\io\\formats\\csvs.py:241\u001B[0m, in \u001B[0;36mCSVFormatter.save\u001B[1;34m(self)\u001B[0m\n\u001B[0;32m    237\u001B[0m \u001B[38;5;124;03m\"\"\"\u001B[39;00m\n\u001B[0;32m    238\u001B[0m \u001B[38;5;124;03mCreate the writer & save.\u001B[39;00m\n\u001B[0;32m    239\u001B[0m \u001B[38;5;124;03m\"\"\"\u001B[39;00m\n\u001B[0;32m    240\u001B[0m \u001B[38;5;66;03m# apply compression and byte/text conversion\u001B[39;00m\n\u001B[1;32m--> 241\u001B[0m \u001B[38;5;28;01mwith\u001B[39;00m \u001B[43mget_handle\u001B[49m\u001B[43m(\u001B[49m\n\u001B[0;32m    242\u001B[0m \u001B[43m    \u001B[49m\u001B[38;5;28;43mself\u001B[39;49m\u001B[38;5;241;43m.\u001B[39;49m\u001B[43mfilepath_or_buffer\u001B[49m\u001B[43m,\u001B[49m\n\u001B[0;32m    243\u001B[0m \u001B[43m    \u001B[49m\u001B[38;5;28;43mself\u001B[39;49m\u001B[38;5;241;43m.\u001B[39;49m\u001B[43mmode\u001B[49m\u001B[43m,\u001B[49m\n\u001B[0;32m    244\u001B[0m \u001B[43m    \u001B[49m\u001B[43mencoding\u001B[49m\u001B[38;5;241;43m=\u001B[39;49m\u001B[38;5;28;43mself\u001B[39;49m\u001B[38;5;241;43m.\u001B[39;49m\u001B[43mencoding\u001B[49m\u001B[43m,\u001B[49m\n\u001B[0;32m    245\u001B[0m \u001B[43m    \u001B[49m\u001B[43merrors\u001B[49m\u001B[38;5;241;43m=\u001B[39;49m\u001B[38;5;28;43mself\u001B[39;49m\u001B[38;5;241;43m.\u001B[39;49m\u001B[43merrors\u001B[49m\u001B[43m,\u001B[49m\n\u001B[0;32m    246\u001B[0m \u001B[43m    \u001B[49m\u001B[43mcompression\u001B[49m\u001B[38;5;241;43m=\u001B[39;49m\u001B[38;5;28;43mself\u001B[39;49m\u001B[38;5;241;43m.\u001B[39;49m\u001B[43mcompression\u001B[49m\u001B[43m,\u001B[49m\n\u001B[0;32m    247\u001B[0m \u001B[43m    \u001B[49m\u001B[43mstorage_options\u001B[49m\u001B[38;5;241;43m=\u001B[39;49m\u001B[38;5;28;43mself\u001B[39;49m\u001B[38;5;241;43m.\u001B[39;49m\u001B[43mstorage_options\u001B[49m\u001B[43m,\u001B[49m\n\u001B[0;32m    248\u001B[0m \u001B[43m\u001B[49m\u001B[43m)\u001B[49m \u001B[38;5;28;01mas\u001B[39;00m handles:\n\u001B[0;32m    249\u001B[0m \n\u001B[0;32m    250\u001B[0m     \u001B[38;5;66;03m# Note: self.encoding is irrelevant here\u001B[39;00m\n\u001B[0;32m    251\u001B[0m     \u001B[38;5;28mself\u001B[39m\u001B[38;5;241m.\u001B[39mwriter \u001B[38;5;241m=\u001B[39m csvlib\u001B[38;5;241m.\u001B[39mwriter(\n\u001B[0;32m    252\u001B[0m         handles\u001B[38;5;241m.\u001B[39mhandle,\n\u001B[0;32m    253\u001B[0m         lineterminator\u001B[38;5;241m=\u001B[39m\u001B[38;5;28mself\u001B[39m\u001B[38;5;241m.\u001B[39mlineterminator,\n\u001B[1;32m   (...)\u001B[0m\n\u001B[0;32m    258\u001B[0m         quotechar\u001B[38;5;241m=\u001B[39m\u001B[38;5;28mself\u001B[39m\u001B[38;5;241m.\u001B[39mquotechar,\n\u001B[0;32m    259\u001B[0m     )\n\u001B[0;32m    261\u001B[0m     \u001B[38;5;28mself\u001B[39m\u001B[38;5;241m.\u001B[39m_save()\n",
      "File \u001B[1;32mD:\\Anaconda\\Anaconda3\\lib\\site-packages\\pandas\\io\\common.py:856\u001B[0m, in \u001B[0;36mget_handle\u001B[1;34m(path_or_buf, mode, encoding, compression, memory_map, is_text, errors, storage_options)\u001B[0m\n\u001B[0;32m    851\u001B[0m \u001B[38;5;28;01melif\u001B[39;00m \u001B[38;5;28misinstance\u001B[39m(handle, \u001B[38;5;28mstr\u001B[39m):\n\u001B[0;32m    852\u001B[0m     \u001B[38;5;66;03m# Check whether the filename is to be opened in binary mode.\u001B[39;00m\n\u001B[0;32m    853\u001B[0m     \u001B[38;5;66;03m# Binary mode does not support 'encoding' and 'newline'.\u001B[39;00m\n\u001B[0;32m    854\u001B[0m     \u001B[38;5;28;01mif\u001B[39;00m ioargs\u001B[38;5;241m.\u001B[39mencoding \u001B[38;5;129;01mand\u001B[39;00m \u001B[38;5;124m\"\u001B[39m\u001B[38;5;124mb\u001B[39m\u001B[38;5;124m\"\u001B[39m \u001B[38;5;129;01mnot\u001B[39;00m \u001B[38;5;129;01min\u001B[39;00m ioargs\u001B[38;5;241m.\u001B[39mmode:\n\u001B[0;32m    855\u001B[0m         \u001B[38;5;66;03m# Encoding\u001B[39;00m\n\u001B[1;32m--> 856\u001B[0m         handle \u001B[38;5;241m=\u001B[39m \u001B[38;5;28;43mopen\u001B[39;49m\u001B[43m(\u001B[49m\n\u001B[0;32m    857\u001B[0m \u001B[43m            \u001B[49m\u001B[43mhandle\u001B[49m\u001B[43m,\u001B[49m\n\u001B[0;32m    858\u001B[0m \u001B[43m            \u001B[49m\u001B[43mioargs\u001B[49m\u001B[38;5;241;43m.\u001B[39;49m\u001B[43mmode\u001B[49m\u001B[43m,\u001B[49m\n\u001B[0;32m    859\u001B[0m \u001B[43m            \u001B[49m\u001B[43mencoding\u001B[49m\u001B[38;5;241;43m=\u001B[39;49m\u001B[43mioargs\u001B[49m\u001B[38;5;241;43m.\u001B[39;49m\u001B[43mencoding\u001B[49m\u001B[43m,\u001B[49m\n\u001B[0;32m    860\u001B[0m \u001B[43m            \u001B[49m\u001B[43merrors\u001B[49m\u001B[38;5;241;43m=\u001B[39;49m\u001B[43merrors\u001B[49m\u001B[43m,\u001B[49m\n\u001B[0;32m    861\u001B[0m \u001B[43m            \u001B[49m\u001B[43mnewline\u001B[49m\u001B[38;5;241;43m=\u001B[39;49m\u001B[38;5;124;43m\"\u001B[39;49m\u001B[38;5;124;43m\"\u001B[39;49m\u001B[43m,\u001B[49m\n\u001B[0;32m    862\u001B[0m \u001B[43m        \u001B[49m\u001B[43m)\u001B[49m\n\u001B[0;32m    863\u001B[0m     \u001B[38;5;28;01melse\u001B[39;00m:\n\u001B[0;32m    864\u001B[0m         \u001B[38;5;66;03m# Binary mode\u001B[39;00m\n\u001B[0;32m    865\u001B[0m         handle \u001B[38;5;241m=\u001B[39m \u001B[38;5;28mopen\u001B[39m(handle, ioargs\u001B[38;5;241m.\u001B[39mmode)\n",
      "\u001B[1;31mPermissionError\u001B[0m: [Errno 13] Permission denied: 'E:\\\\00_CeSOP\\\\results\\\\ldsc_rg\\\\cesop\\\\celltypes\\\\edges.csv'"
     ]
    },
    {
     "data": {
      "text/plain": [
       "<Figure size 400x400 with 4 Axes>"
      ],
      "image/png": "[encoded data removed]"
     },
     "metadata": {},
     "output_type": "display_data"
    }
   ],
   "execution_count": 155
  },
  {
   "metadata": {
    "ExecuteTime": {
     "end_time": "2024-06-30T00:27:45.860185Z",
     "start_time": "2024-06-30T00:27:45.822632Z"
    }
   },
   "cell_type": "code",
   "source": [
    "import numpy as np\n",
    "import pandas as pd\n",
    "import seaborn as sns\n",
    "import matplotlib.pyplot as plt\n",
    "from scipy.cluster.hierarchy import linkage, dendrogram, leaves_list\n",
    "\n",
    "# 层次聚类并根据聚类结果对数据进行排序\n",
    "linkage_matrix = linkage(ldsc_rg, method='average')\n",
    "dendro = dendrogram(linkage_matrix, no_plot=True)\n",
    "ordered_indices = leaves_list(linkage_matrix)\n",
    "\n",
    "# 根据聚类结果排序矩阵\n",
    "ordered_corr_matrix1 = ldsc_rg.iloc[ordered_indices, ordered_indices]\n",
    "ordered_corr_matrix2 = cosine_similarities.iloc[ordered_indices, ordered_indices]\n",
    "\n",
    "# 创建一个包含两个热力图的矩阵\n",
    "mask_upper = np.triu(np.ones_like(ordered_corr_matrix1, dtype=bool))\n",
    "mask_lower = np.tril(np.ones_like(ordered_corr_matrix2, dtype=bool))\n",
    "\n",
    "# 绘制热力图\n",
    "plt.figure(figsize=(6, 4))\n",
    "ax = sns.heatmap(ordered_corr_matrix1, mask=mask_lower, cmap='vlag_r',center = 0)\n",
    "sns.heatmap(ordered_corr_matrix2, mask=mask_upper,  cmap='Blues', ax=ax, center=0.5,alpha = 0.5)\n",
    "# 隐藏 x 和 y 坐标\n",
    "ax.tick_params(left=False, bottom=False, labelleft=False, labelbottom=False)\n",
    "# 调整热力图的显示\n",
    "# ax.set_title('Combined Heatmaps with Hierarchical Clustering')\n",
    "plt.show()\n"
   ],
   "id": "4c7af3f60811099",
   "outputs": [
    {
     "ename": "NameError",
     "evalue": "name 'ldsc_rg' is not defined",
     "output_type": "error",
     "traceback": [
      "\u001B[1;31m---------------------------------------------------------------------------\u001B[0m",
      "\u001B[1;31mNameError\u001B[0m                                 Traceback (most recent call last)",
      "Cell \u001B[1;32mIn[2], line 8\u001B[0m\n\u001B[0;32m      5\u001B[0m \u001B[38;5;28;01mfrom\u001B[39;00m \u001B[38;5;21;01mscipy\u001B[39;00m\u001B[38;5;21;01m.\u001B[39;00m\u001B[38;5;21;01mcluster\u001B[39;00m\u001B[38;5;21;01m.\u001B[39;00m\u001B[38;5;21;01mhierarchy\u001B[39;00m \u001B[38;5;28;01mimport\u001B[39;00m linkage, dendrogram, leaves_list\n\u001B[0;32m      7\u001B[0m \u001B[38;5;66;03m# 层次聚类并根据聚类结果对数据进行排序\u001B[39;00m\n\u001B[1;32m----> 8\u001B[0m linkage_matrix \u001B[38;5;241m=\u001B[39m linkage(\u001B[43mldsc_rg\u001B[49m, method\u001B[38;5;241m=\u001B[39m\u001B[38;5;124m'\u001B[39m\u001B[38;5;124maverage\u001B[39m\u001B[38;5;124m'\u001B[39m)\n\u001B[0;32m      9\u001B[0m dendro \u001B[38;5;241m=\u001B[39m dendrogram(linkage_matrix, no_plot\u001B[38;5;241m=\u001B[39m\u001B[38;5;28;01mTrue\u001B[39;00m)\n\u001B[0;32m     10\u001B[0m ordered_indices \u001B[38;5;241m=\u001B[39m leaves_list(linkage_matrix)\n",
      "\u001B[1;31mNameError\u001B[0m: name 'ldsc_rg' is not defined"
     ]
    }
   ],
   "execution_count": 2
  },
  {
   "metadata": {
    "ExecuteTime": {
     "end_time": "2024-06-30T00:43:56.064493Z",
     "start_time": "2024-06-30T00:43:56.051777Z"
    }
   },
   "cell_type": "code",
   "source": [
    "import numpy as np\n",
    "import pandas as pd\n",
    "import seaborn as sns\n",
    "import matplotlib.pyplot as plt\n",
    "from scipy import stats"
   ],
   "id": "4497facecf038599",
   "outputs": [],
   "execution_count": 9
  },
  {
   "metadata": {
    "ExecuteTime": {
     "end_time": "2024-06-30T00:27:55.756201Z",
     "start_time": "2024-06-30T00:27:55.606970Z"
    }
   },
   "cell_type": "code",
   "source": [
    "'''将CeSOP方法与ldsc发现的性状遗传关联做散点图 '''\n",
    "ct_traits = pd.read_csv(r\"E:\\00_CeSOP\\results\\ldsc_rg\\cesop\\celltypes\\edges.csv\")[[\"Node1\",\"Node2\",\"value\"]]\n",
    "t_traits = pd.read_csv(r\"E:\\00_CeSOP\\results\\ldsc_rg\\cesop\\tissues\\edges.csv\")[[\"Node1\",\"Node2\",\"value\"]]\n",
    "ldsc_traits = pd.read_csv(r\"E:\\00_CeSOP\\results\\ldsc_rg\\ldsc\\edges.csv\")[[\"Node1\",\"Node2\",\"value\"]]\n",
    "\n",
    "ct_traits = ct_traits.sort_values([\"Node1\",\"Node2\"]).reset_index()\n",
    "t_traits = t_traits.sort_values([\"Node1\",\"Node2\"]).reset_index()\n",
    "ldsc_traits = ldsc_traits.sort_values([\"Node1\",\"Node2\"]).reset_index()\n",
    "\n",
    "df = pd.concat([ct_traits, t_traits,ldsc_traits], axis = 1, ignore_index=True)\n",
    "df_results = df.iloc[:,[1,2,3,7,11]]\n",
    "df_results.columns = [\"Node1\",\"Node2\",\"Corr_tissues\",\"Corr_celltypes\",\"Ldsc_rg\"]"
   ],
   "id": "6251fd9dbaf3a9dc",
   "outputs": [],
   "execution_count": 4
  },
  {
   "metadata": {
    "ExecuteTime": {
     "end_time": "2024-06-30T00:27:57.865862Z",
     "start_time": "2024-06-30T00:27:57.847319Z"
    }
   },
   "cell_type": "code",
   "source": [
    "print(df_results[\"Ldsc_rg\"].mean())\n",
    "print(df_results[\"Ldsc_rg\"].std())\n",
    "\n",
    "print(df_results[\"Corr_tissues\"].mean())\n",
    "print(df_results[\"Corr_tissues\"].std())\n",
    "\n",
    "print(df_results[\"Corr_celltypes\"].mean())\n",
    "print(df_results[\"Corr_celltypes\"].std())"
   ],
   "id": "e049ea1b8a0b6941",
   "outputs": [
    {
     "name": "stdout",
     "output_type": "stream",
     "text": [
      "0.041373573573573574\n",
      "0.15803513093253824\n",
      "0.3699397015540541\n",
      "0.14894145838875597\n",
      "0.4463906628201554\n",
      "0.18121338736232803\n"
     ]
    }
   ],
   "execution_count": 5
  },
  {
   "metadata": {
    "ExecuteTime": {
     "end_time": "2024-06-30T00:28:27.400192Z",
     "start_time": "2024-06-30T00:28:27.168844Z"
    }
   },
   "cell_type": "code",
   "source": [
    "# 计算均值\n",
    "mean_x = df_results[\"Corr_tissues\"].mean()\n",
    "mean_y = df_results[\"Ldsc_rg\"].mean()\n",
    "\n",
    "fig = plt.figure(figsize = (4,4))\n",
    "plt.scatter(df_results[\"Corr_tissues\"],df_results[\"Ldsc_rg\"],s = 20,alpha = 0.7)\n",
    "# 添加 x 方向的均值虚线\n",
    "plt.axvline(x=mean_x, color='grey', linestyle='--', linewidth=1,alpha=0.5)\n",
    "# 添加 y 方向的均值虚线\n",
    "plt.axhline(y=mean_y, color='grey', linestyle='--', linewidth=1,alpha=0.5)\n",
    "\n",
    "plt.xlabel(\"Corr_tissues\")\n",
    "plt.ylabel(\"LDSC_rg\")\n",
    "plt.grid(False)\n",
    "\n",
    "from sklearn.metrics.pairwise import cosine_similarity\n",
    "cosine_sim = cosine_similarity(df_results[\"Corr_tissues\"].values.reshape(1, -1), df_results[\"Ldsc_rg\"].values.reshape(1, -1))[0, 0]\n",
    "print(\"\\n余弦相似度:\")\n",
    "print(cosine_sim)"
   ],
   "id": "f2063edf9ddb1be1",
   "outputs": [
    {
     "name": "stdout",
     "output_type": "stream",
     "text": [
      "\n",
      "余弦相似度:\n",
      "0.2869085148637152\n"
     ]
    },
    {
     "data": {
      "text/plain": [
       "<Figure size 400x400 with 1 Axes>"
      ],
      "image/png": "[encoded data removed]"
     },
     "metadata": {},
     "output_type": "display_data"
    }
   ],
   "execution_count": 7
  },
  {
   "metadata": {
    "ExecuteTime": {
     "end_time": "2024-06-30T00:58:42.071343Z",
     "start_time": "2024-06-30T00:58:41.886143Z"
    }
   },
   "cell_type": "code",
   "source": [
    "'''只画出LDSC高遗传关联的散点'''\n",
    "df_results_filtered = df_results[df_results[\"Ldsc_rg\"]>0.4]\n",
    "x = df_results_filtered[\"Corr_tissues\"]\n",
    "y = df_results_filtered[\"Ldsc_rg\"]\n",
    "\n",
    "# 计算线性回归\n",
    "slope1, intercept1, r_value1, p_value1, std_err1 = stats.linregress(df_results_filtered[\"Corr_tissues\"], df_results_filtered[\"Ldsc_rg\"])\n",
    "line1 = slope1 * df_results_filtered[\"Corr_tissues\"] + intercept1\n",
    "\n",
    "fig = plt.figure(figsize = (2,2),dpi = 150)\n",
    "plt.scatter(x,y,s = 20,alpha = 0.5)\n",
    "plt.plot(df_results_filtered[\"Corr_tissues\"], line1, color='grey')\n",
    "plt.xlabel(\"Corr_tissues\")\n",
    "plt.ylabel(\"LDSC_rg\")\n",
    "plt.grid(False)\n",
    "\n",
    "from sklearn.metrics.pairwise import cosine_similarity\n",
    "cosine_sim = cosine_similarity(df_results_filtered[\"Corr_tissues\"].values.reshape(1, -1), df_results_filtered[\"Ldsc_rg\"].values.reshape(1, -1))[0, 0]\n",
    "print(\"\\n余弦相似度:\")\n",
    "print(cosine_sim)"
   ],
   "id": "efa4daf8d87c780f",
   "outputs": [
    {
     "name": "stdout",
     "output_type": "stream",
     "text": [
      "\n",
      "余弦相似度:\n",
      "0.9422278679033211\n"
     ]
    },
    {
     "data": {
      "text/plain": [
       "<Figure size 300x300 with 1 Axes>"
      ],
      "image/png": "[encoded data removed]"
     },
     "metadata": {},
     "output_type": "display_data"
    }
   ],
   "execution_count": 20
  },
  {
   "metadata": {
    "ExecuteTime": {
     "end_time": "2024-06-18T08:08:01.197799Z",
     "start_time": "2024-06-18T08:08:00.979179Z"
    }
   },
   "cell_type": "code",
   "source": [
    "# 计算均值\n",
    "mean_x = df_results[\"Corr_celltypes\"].mean()\n",
    "mean_y = df_results[\"Ldsc_rg\"].mean()\n",
    "\n",
    "fig = plt.figure(figsize = (6,6))\n",
    "plt.scatter(df_results[\"Corr_celltypes\"],df_results[\"Ldsc_rg\"],s = 20,alpha = 0.7)\n",
    "# 添加 x 方向的均值虚线\n",
    "plt.axvline(x=mean_x, color='grey', linestyle='--', linewidth=1,alpha=0.5)\n",
    "# 添加 y 方向的均值虚线\n",
    "plt.axhline(y=mean_y, color='grey', linestyle='--', linewidth=1,alpha=0.5)\n",
    "plt.xlabel(\"Corr_celltypes\")\n",
    "plt.ylabel(\"LDSC_rg\")\n",
    "plt.grid(False)\n",
    "\n",
    "from sklearn.metrics.pairwise import cosine_similarity\n",
    "cosine_sim = cosine_similarity(df_results[\"Corr_celltypes\"].values.reshape(1, -1), df_results[\"Ldsc_rg\"].values.reshape(1, -1))[0, 0]\n",
    "print(\"\\n余弦相似度:\")\n",
    "print(cosine_sim)"
   ],
   "id": "c61ec9042d19ade7",
   "outputs": [
    {
     "name": "stdout",
     "output_type": "stream",
     "text": [
      "\n",
      "余弦相似度:\n",
      "0.2761308092918349\n"
     ]
    },
    {
     "data": {
      "text/plain": [
       "<Figure size 600x600 with 1 Axes>"
      ],
      "image/png": "[encoded data removed]"
     },
     "metadata": {},
     "output_type": "display_data"
    }
   ],
   "execution_count": 186
  },
  {
   "metadata": {
    "ExecuteTime": {
     "end_time": "2024-06-30T01:02:58.356830Z",
     "start_time": "2024-06-30T01:02:58.198365Z"
    }
   },
   "cell_type": "code",
   "source": [
    "'''只画出LDSC高遗传关联的散点'''\n",
    "df_results_filtered = df_results[df_results[\"Ldsc_rg\"]>0.4]\n",
    "x = df_results_filtered[\"Corr_celltypes\"]\n",
    "y = df_results_filtered[\"Ldsc_rg\"]\n",
    "\n",
    "# 计算线性回归\n",
    "slope1, intercept1, r_value1, p_value1, std_err1 = stats.linregress(df_results_filtered[\"Corr_celltypes\"], df_results_filtered[\"Ldsc_rg\"])\n",
    "line1 = slope1 * df_results_filtered[\"Corr_celltypes\"] + intercept1\n",
    "\n",
    "fig = plt.figure(figsize = (2,2),dpi = 150)\n",
    "plt.scatter(x,y,s = 20,alpha = 0.5)\n",
    "plt.plot(df_results_filtered[\"Corr_celltypes\"], line1, color='grey')\n",
    "plt.xlabel(\"Corr_celltypes\")\n",
    "plt.ylabel(\"LDSC_rg\")\n",
    "plt.grid(False)\n",
    "\n",
    "from sklearn.metrics.pairwise import cosine_similarity\n",
    "cosine_sim = cosine_similarity(df_results_filtered[\"Corr_celltypes\"].values.reshape(1, -1), df_results_filtered[\"Ldsc_rg\"].values.reshape(1, -1))[0, 0]\n",
    "print(\"\\n余弦相似度:\")\n",
    "print(cosine_sim)"
   ],
   "id": "52e87c8196741a91",
   "outputs": [
    {
     "name": "stdout",
     "output_type": "stream",
     "text": [
      "\n",
      "余弦相似度:\n",
      "0.9640522570501311\n"
     ]
    },
    {
     "data": {
      "text/plain": [
       "<Figure size 300x300 with 1 Axes>"
      ],
      "image/png": "[encoded data removed]"
     },
     "metadata": {},
     "output_type": "display_data"
    }
   ],
   "execution_count": 22
  },
  {
   "metadata": {
    "ExecuteTime": {
     "end_time": "2024-06-18T08:43:45.533270Z",
     "start_time": "2024-06-18T08:43:45.457774Z"
    }
   },
   "cell_type": "code",
   "source": [
    "import plotly.express as px\n",
    "import pandas as pd\n",
    "df_results['label'] = df_results['Node1'] + ', ' + df_results['Node2']\n",
    "# 创建交互式散点图\n",
    "fig = px.scatter(df_results, x=\"Corr_tissues\", y='Ldsc_rg',  hover_data={'Ldsc_rg': False, 'Corr_tissues': False, 'label': True})\n",
    "# 更新布局以显示标签\n",
    "fig.update_traces(textposition='top center')\n",
    "# 显示图形\n",
    "fig.show()"
   ],
   "id": "4c644743af0237fa",
   "outputs": [
    {
     "data": {
      "application/vnd.plotly.v1+json": {
       "data": [
        {
         "customdata": [
          [
           "#Children, Age of Menarche"
          ],
          [
           "#Children, BMI"
          ],
          [
           "#Children, Balding Type 1"
          ],
          [
           "#Children, Cardiovascular disease"
          ],
          [
           "#Children, High Light Scatter Retic. Count"
          ],
          [
           "#Children, High cholesterol"
          ],
          [
           "#Children, Hypothyroidism Self Rep"
          ],
          [
           "#Children, Lymphocyte Count"
          ],
          [
           "#Children, Mean Corpuscular Hemoglobin"
          ],
          [
           "#Children, Mean Platelet Volume"
          ],
          [
           "#Children, Neuroticism"
          ],
          [
           "#Children, Respiratory Ent"
          ],
          [
           "#Children, Tanning"
          ],
          [
           "#Children, Type 2 diabetes"
          ],
          [
           "Age of Menarche, High Light Scatter Retic. Count"
          ],
          [
           "Age of Menarche, Mean Platelet Volume"
          ],
          [
           "Allergy Eczema Diagnosed, #Children"
          ],
          [
           "Allergy Eczema Diagnosed, Age of Menarche"
          ],
          [
           "Allergy Eczema Diagnosed, Asthma Diagnosed"
          ],
          [
           "Allergy Eczema Diagnosed, BMI"
          ],
          [
           "Allergy Eczema Diagnosed, Balding Type 1"
          ],
          [
           "Allergy Eczema Diagnosed, Cardiovascular disease"
          ],
          [
           "Allergy Eczema Diagnosed, Eosinophil Count"
          ],
          [
           "Allergy Eczema Diagnosed, FEV1\\FVC Ratio"
          ],
          [
           "Allergy Eczema Diagnosed, High Light Scatter Retic. Count"
          ],
          [
           "Allergy Eczema Diagnosed, High cholesterol"
          ],
          [
           "Allergy Eczema Diagnosed, Hypothyroidism Self Rep"
          ],
          [
           "Allergy Eczema Diagnosed, Lymphocyte Count"
          ],
          [
           "Allergy Eczema Diagnosed, Mean Corpuscular Hemoglobin"
          ],
          [
           "Allergy Eczema Diagnosed, Mean Platelet Volume"
          ],
          [
           "Allergy Eczema Diagnosed, Neuroticism"
          ],
          [
           "Allergy Eczema Diagnosed, Red Blood Cell Count"
          ],
          [
           "Allergy Eczema Diagnosed, Respiratory Ent"
          ],
          [
           "Allergy Eczema Diagnosed, Systolic Blood Pressure"
          ],
          [
           "Allergy Eczema Diagnosed, Tanning"
          ],
          [
           "Allergy Eczema Diagnosed, Thyroid Any Self Rep"
          ],
          [
           "Allergy Eczema Diagnosed, Type 2 diabetes"
          ],
          [
           "Asthma Diagnosed, #Children"
          ],
          [
           "Asthma Diagnosed, Age of Menarche"
          ],
          [
           "Asthma Diagnosed, BMI"
          ],
          [
           "Asthma Diagnosed, Balding Type 1"
          ],
          [
           "Asthma Diagnosed, Cardiovascular disease"
          ],
          [
           "Asthma Diagnosed, Eosinophil Count"
          ],
          [
           "Asthma Diagnosed, FEV1\\FVC Ratio"
          ],
          [
           "Asthma Diagnosed, High Light Scatter Retic. Count"
          ],
          [
           "Asthma Diagnosed, High cholesterol"
          ],
          [
           "Asthma Diagnosed, Hypothyroidism Self Rep"
          ],
          [
           "Asthma Diagnosed, Lymphocyte Count"
          ],
          [
           "Asthma Diagnosed, Mean Corpuscular Hemoglobin"
          ],
          [
           "Asthma Diagnosed, Mean Platelet Volume"
          ],
          [
           "Asthma Diagnosed, Neuroticism"
          ],
          [
           "Asthma Diagnosed, Red Blood Cell Count"
          ],
          [
           "Asthma Diagnosed, Respiratory Ent"
          ],
          [
           "Asthma Diagnosed, Tanning"
          ],
          [
           "Asthma Diagnosed, Thyroid Any Self Rep"
          ],
          [
           "Asthma Diagnosed, Type 2 diabetes"
          ],
          [
           "Autoimmune disease, #Children"
          ],
          [
           "Autoimmune disease, Age of Menarche"
          ],
          [
           "Autoimmune disease, Allergy Eczema Diagnosed"
          ],
          [
           "Autoimmune disease, Asthma Diagnosed"
          ],
          [
           "Autoimmune disease, BMI"
          ],
          [
           "Autoimmune disease, Balding Type 1"
          ],
          [
           "Autoimmune disease, Cardiovascular disease"
          ],
          [
           "Autoimmune disease, Edu College"
          ],
          [
           "Autoimmune disease, Eosinophil Count"
          ],
          [
           "Autoimmune disease, FEV1\\FVC Ratio"
          ],
          [
           "Autoimmune disease, High Light Scatter Retic. Count"
          ],
          [
           "Autoimmune disease, High cholesterol"
          ],
          [
           "Autoimmune disease, Hypothyroidism Self Rep"
          ],
          [
           "Autoimmune disease, Lymphocyte Count"
          ],
          [
           "Autoimmune disease, Mean Corpuscular Hemoglobin"
          ],
          [
           "Autoimmune disease, Mean Platelet Volume"
          ],
          [
           "Autoimmune disease, Neuroticism"
          ],
          [
           "Autoimmune disease, Red Blood Cell Count"
          ],
          [
           "Autoimmune disease, Respiratory Ent"
          ],
          [
           "Autoimmune disease, Systolic Blood Pressure"
          ],
          [
           "Autoimmune disease, Tanning"
          ],
          [
           "Autoimmune disease, Thyroid Any Self Rep"
          ],
          [
           "Autoimmune disease, Type 2 diabetes"
          ],
          [
           "Autoimmune disease, White Blood Count"
          ],
          [
           "BMI, Age of Menarche"
          ],
          [
           "BMI, High Light Scatter Retic. Count"
          ],
          [
           "BMI, Mean Platelet Volume"
          ],
          [
           "Balding Type 1, Age of Menarche"
          ],
          [
           "Balding Type 1, BMI"
          ],
          [
           "Balding Type 1, Cardiovascular disease"
          ],
          [
           "Balding Type 1, High Light Scatter Retic. Count"
          ],
          [
           "Balding Type 1, High cholesterol"
          ],
          [
           "Balding Type 1, Hypothyroidism Self Rep"
          ],
          [
           "Balding Type 1, Lymphocyte Count"
          ],
          [
           "Balding Type 1, Mean Platelet Volume"
          ],
          [
           "Balding Type 1, Neuroticism"
          ],
          [
           "Balding Type 1, Respiratory Ent"
          ],
          [
           "Balding Type 1, Tanning"
          ],
          [
           "Balding Type 1, Type 2 diabetes"
          ],
          [
           "Bone Mineral Density, #Children"
          ],
          [
           "Bone Mineral Density, Age of Menarche"
          ],
          [
           "Bone Mineral Density, Allergy Eczema Diagnosed"
          ],
          [
           "Bone Mineral Density, Asthma Diagnosed"
          ],
          [
           "Bone Mineral Density, Autoimmune disease"
          ],
          [
           "Bone Mineral Density, BMI"
          ],
          [
           "Bone Mineral Density, Balding Type 1"
          ],
          [
           "Bone Mineral Density, Cardiovascular disease"
          ],
          [
           "Bone Mineral Density, Chronotype (morning person)"
          ],
          [
           "Bone Mineral Density, Dermatology"
          ],
          [
           "Bone Mineral Density, Diastolic blood pressure"
          ],
          [
           "Bone Mineral Density, Edu College"
          ],
          [
           "Bone Mineral Density, Eosinophil Count"
          ],
          [
           "Bone Mineral Density, FEV1\\FVC Ratio"
          ],
          [
           "Bone Mineral Density, Forced Vital Capacity"
          ],
          [
           "Bone Mineral Density, Hair Color"
          ],
          [
           "Bone Mineral Density, Height"
          ],
          [
           "Bone Mineral Density, High Light Scatter Retic. Count"
          ],
          [
           "Bone Mineral Density, High cholesterol"
          ],
          [
           "Bone Mineral Density, Hypothyroidism Self Rep"
          ],
          [
           "Bone Mineral Density, Lymphocyte Count"
          ],
          [
           "Bone Mineral Density, Mean Corpuscular Hemoglobin"
          ],
          [
           "Bone Mineral Density, Mean Platelet Volume"
          ],
          [
           "Bone Mineral Density, Neuroticism"
          ],
          [
           "Bone Mineral Density, Red Blood Cell Count"
          ],
          [
           "Bone Mineral Density, Red Blood Cell Dist. Width"
          ],
          [
           "Bone Mineral Density, Respiratory Ent"
          ],
          [
           "Bone Mineral Density, Smoking Status"
          ],
          [
           "Bone Mineral Density, Systolic Blood Pressure"
          ],
          [
           "Bone Mineral Density, Tanning"
          ],
          [
           "Bone Mineral Density, Thyroid Any Self Rep"
          ],
          [
           "Bone Mineral Density, Type 2 diabetes"
          ],
          [
           "Bone Mineral Density, Waist-Hip Ratio"
          ],
          [
           "Bone Mineral Density, White Blood Count"
          ],
          [
           "Cardiovascular disease, Age of Menarche"
          ],
          [
           "Cardiovascular disease, BMI"
          ],
          [
           "Cardiovascular disease, High Light Scatter Retic. Count"
          ],
          [
           "Cardiovascular disease, Mean Platelet Volume"
          ],
          [
           "Cardiovascular disease, Neuroticism"
          ],
          [
           "Chronotype (morning person), #Children"
          ],
          [
           "Chronotype (morning person), Age of Menarche"
          ],
          [
           "Chronotype (morning person), Allergy Eczema Diagnosed"
          ],
          [
           "Chronotype (morning person), Asthma Diagnosed"
          ],
          [
           "Chronotype (morning person), Autoimmune disease"
          ],
          [
           "Chronotype (morning person), BMI"
          ],
          [
           "Chronotype (morning person), Balding Type 1"
          ],
          [
           "Chronotype (morning person), Cardiovascular disease"
          ],
          [
           "Chronotype (morning person), Dermatology"
          ],
          [
           "Chronotype (morning person), Diastolic blood pressure"
          ],
          [
           "Chronotype (morning person), Edu College"
          ],
          [
           "Chronotype (morning person), Eosinophil Count"
          ],
          [
           "Chronotype (morning person), FEV1\\FVC Ratio"
          ],
          [
           "Chronotype (morning person), Height"
          ],
          [
           "Chronotype (morning person), High Light Scatter Retic. Count"
          ],
          [
           "Chronotype (morning person), High cholesterol"
          ],
          [
           "Chronotype (morning person), Hypothyroidism Self Rep"
          ],
          [
           "Chronotype (morning person), Lymphocyte Count"
          ],
          [
           "Chronotype (morning person), Mean Corpuscular Hemoglobin"
          ],
          [
           "Chronotype (morning person), Mean Platelet Volume"
          ],
          [
           "Chronotype (morning person), Neuroticism"
          ],
          [
           "Chronotype (morning person), Red Blood Cell Count"
          ],
          [
           "Chronotype (morning person), Red Blood Cell Dist. Width"
          ],
          [
           "Chronotype (morning person), Respiratory Ent"
          ],
          [
           "Chronotype (morning person), Systolic Blood Pressure"
          ],
          [
           "Chronotype (morning person), Tanning"
          ],
          [
           "Chronotype (morning person), Thyroid Any Self Rep"
          ],
          [
           "Chronotype (morning person), Type 2 diabetes"
          ],
          [
           "Chronotype (morning person), White Blood Count"
          ],
          [
           "Dermatology, #Children"
          ],
          [
           "Dermatology, Age of Menarche"
          ],
          [
           "Dermatology, Allergy Eczema Diagnosed"
          ],
          [
           "Dermatology, Asthma Diagnosed"
          ],
          [
           "Dermatology, Autoimmune disease"
          ],
          [
           "Dermatology, BMI"
          ],
          [
           "Dermatology, Balding Type 1"
          ],
          [
           "Dermatology, Cardiovascular disease"
          ],
          [
           "Dermatology, Diastolic blood pressure"
          ],
          [
           "Dermatology, Edu College"
          ],
          [
           "Dermatology, Eosinophil Count"
          ],
          [
           "Dermatology, FEV1\\FVC Ratio"
          ],
          [
           "Dermatology, Height"
          ],
          [
           "Dermatology, High Light Scatter Retic. Count"
          ],
          [
           "Dermatology, High cholesterol"
          ],
          [
           "Dermatology, Hypothyroidism Self Rep"
          ],
          [
           "Dermatology, Lymphocyte Count"
          ],
          [
           "Dermatology, Mean Corpuscular Hemoglobin"
          ],
          [
           "Dermatology, Mean Platelet Volume"
          ],
          [
           "Dermatology, Neuroticism"
          ],
          [
           "Dermatology, Red Blood Cell Count"
          ],
          [
           "Dermatology, Red Blood Cell Dist. Width"
          ],
          [
           "Dermatology, Respiratory Ent"
          ],
          [
           "Dermatology, Systolic Blood Pressure"
          ],
          [
           "Dermatology, Tanning"
          ],
          [
           "Dermatology, Thyroid Any Self Rep"
          ],
          [
           "Dermatology, Type 2 diabetes"
          ],
          [
           "Dermatology, White Blood Count"
          ],
          [
           "Diastolic blood pressure, #Children"
          ],
          [
           "Diastolic blood pressure, Age of Menarche"
          ],
          [
           "Diastolic blood pressure, Allergy Eczema Diagnosed"
          ],
          [
           "Diastolic blood pressure, Asthma Diagnosed"
          ],
          [
           "Diastolic blood pressure, Autoimmune disease"
          ],
          [
           "Diastolic blood pressure, BMI"
          ],
          [
           "Diastolic blood pressure, Balding Type 1"
          ],
          [
           "Diastolic blood pressure, Cardiovascular disease"
          ],
          [
           "Diastolic blood pressure, Edu College"
          ],
          [
           "Diastolic blood pressure, Eosinophil Count"
          ],
          [
           "Diastolic blood pressure, FEV1\\FVC Ratio"
          ],
          [
           "Diastolic blood pressure, Height"
          ],
          [
           "Diastolic blood pressure, High Light Scatter Retic. Count"
          ],
          [
           "Diastolic blood pressure, High cholesterol"
          ],
          [
           "Diastolic blood pressure, Hypothyroidism Self Rep"
          ],
          [
           "Diastolic blood pressure, Lymphocyte Count"
          ],
          [
           "Diastolic blood pressure, Mean Corpuscular Hemoglobin"
          ],
          [
           "Diastolic blood pressure, Mean Platelet Volume"
          ],
          [
           "Diastolic blood pressure, Neuroticism"
          ],
          [
           "Diastolic blood pressure, Red Blood Cell Count"
          ],
          [
           "Diastolic blood pressure, Red Blood Cell Dist. Width"
          ],
          [
           "Diastolic blood pressure, Respiratory Ent"
          ],
          [
           "Diastolic blood pressure, Systolic Blood Pressure"
          ],
          [
           "Diastolic blood pressure, Tanning"
          ],
          [
           "Diastolic blood pressure, Thyroid Any Self Rep"
          ],
          [
           "Diastolic blood pressure, Type 2 diabetes"
          ],
          [
           "Diastolic blood pressure, White Blood Count"
          ],
          [
           "Edu College, #Children"
          ],
          [
           "Edu College, Age of Menarche"
          ],
          [
           "Edu College, Allergy Eczema Diagnosed"
          ],
          [
           "Edu College, Asthma Diagnosed"
          ],
          [
           "Edu College, BMI"
          ],
          [
           "Edu College, Balding Type 1"
          ],
          [
           "Edu College, Cardiovascular disease"
          ],
          [
           "Edu College, Eosinophil Count"
          ],
          [
           "Edu College, FEV1\\FVC Ratio"
          ],
          [
           "Edu College, High Light Scatter Retic. Count"
          ],
          [
           "Edu College, High cholesterol"
          ],
          [
           "Edu College, Hypothyroidism Self Rep"
          ],
          [
           "Edu College, Lymphocyte Count"
          ],
          [
           "Edu College, Mean Corpuscular Hemoglobin"
          ],
          [
           "Edu College, Mean Platelet Volume"
          ],
          [
           "Edu College, Neuroticism"
          ],
          [
           "Edu College, Red Blood Cell Count"
          ],
          [
           "Edu College, Respiratory Ent"
          ],
          [
           "Edu College, Systolic Blood Pressure"
          ],
          [
           "Edu College, Tanning"
          ],
          [
           "Edu College, Thyroid Any Self Rep"
          ],
          [
           "Edu College, Type 2 diabetes"
          ],
          [
           "Edu College, White Blood Count"
          ],
          [
           "Eosinophil Count, #Children"
          ],
          [
           "Eosinophil Count, Age of Menarche"
          ],
          [
           "Eosinophil Count, BMI"
          ],
          [
           "Eosinophil Count, Balding Type 1"
          ],
          [
           "Eosinophil Count, Cardiovascular disease"
          ],
          [
           "Eosinophil Count, FEV1\\FVC Ratio"
          ],
          [
           "Eosinophil Count, High Light Scatter Retic. Count"
          ],
          [
           "Eosinophil Count, High cholesterol"
          ],
          [
           "Eosinophil Count, Hypothyroidism Self Rep"
          ],
          [
           "Eosinophil Count, Lymphocyte Count"
          ],
          [
           "Eosinophil Count, Mean Corpuscular Hemoglobin"
          ],
          [
           "Eosinophil Count, Mean Platelet Volume"
          ],
          [
           "Eosinophil Count, Neuroticism"
          ],
          [
           "Eosinophil Count, Red Blood Cell Count"
          ],
          [
           "Eosinophil Count, Respiratory Ent"
          ],
          [
           "Eosinophil Count, Tanning"
          ],
          [
           "Eosinophil Count, Thyroid Any Self Rep"
          ],
          [
           "Eosinophil Count, Type 2 diabetes"
          ],
          [
           "FEV1\\FVC Ratio, #Children"
          ],
          [
           "FEV1\\FVC Ratio, Age of Menarche"
          ],
          [
           "FEV1\\FVC Ratio, BMI"
          ],
          [
           "FEV1\\FVC Ratio, Balding Type 1"
          ],
          [
           "FEV1\\FVC Ratio, Cardiovascular disease"
          ],
          [
           "FEV1\\FVC Ratio, High Light Scatter Retic. Count"
          ],
          [
           "FEV1\\FVC Ratio, High cholesterol"
          ],
          [
           "FEV1\\FVC Ratio, Hypothyroidism Self Rep"
          ],
          [
           "FEV1\\FVC Ratio, Lymphocyte Count"
          ],
          [
           "FEV1\\FVC Ratio, Mean Corpuscular Hemoglobin"
          ],
          [
           "FEV1\\FVC Ratio, Mean Platelet Volume"
          ],
          [
           "FEV1\\FVC Ratio, Neuroticism"
          ],
          [
           "FEV1\\FVC Ratio, Respiratory Ent"
          ],
          [
           "FEV1\\FVC Ratio, Tanning"
          ],
          [
           "FEV1\\FVC Ratio, Thyroid Any Self Rep"
          ],
          [
           "FEV1\\FVC Ratio, Type 2 diabetes"
          ],
          [
           "Forced Vital Capacity, #Children"
          ],
          [
           "Forced Vital Capacity, Age of Menarche"
          ],
          [
           "Forced Vital Capacity, Allergy Eczema Diagnosed"
          ],
          [
           "Forced Vital Capacity, Asthma Diagnosed"
          ],
          [
           "Forced Vital Capacity, Autoimmune disease"
          ],
          [
           "Forced Vital Capacity, BMI"
          ],
          [
           "Forced Vital Capacity, Balding Type 1"
          ],
          [
           "Forced Vital Capacity, Cardiovascular disease"
          ],
          [
           "Forced Vital Capacity, Chronotype (morning person)"
          ],
          [
           "Forced Vital Capacity, Dermatology"
          ],
          [
           "Forced Vital Capacity, Diastolic blood pressure"
          ],
          [
           "Forced Vital Capacity, Edu College"
          ],
          [
           "Forced Vital Capacity, Eosinophil Count"
          ],
          [
           "Forced Vital Capacity, FEV1\\FVC Ratio"
          ],
          [
           "Forced Vital Capacity, Height"
          ],
          [
           "Forced Vital Capacity, High Light Scatter Retic. Count"
          ],
          [
           "Forced Vital Capacity, High cholesterol"
          ],
          [
           "Forced Vital Capacity, Hypothyroidism Self Rep"
          ],
          [
           "Forced Vital Capacity, Lymphocyte Count"
          ],
          [
           "Forced Vital Capacity, Mean Corpuscular Hemoglobin"
          ],
          [
           "Forced Vital Capacity, Mean Platelet Volume"
          ],
          [
           "Forced Vital Capacity, Neuroticism"
          ],
          [
           "Forced Vital Capacity, Red Blood Cell Count"
          ],
          [
           "Forced Vital Capacity, Red Blood Cell Dist. Width"
          ],
          [
           "Forced Vital Capacity, Respiratory Ent"
          ],
          [
           "Forced Vital Capacity, Smoking Status"
          ],
          [
           "Forced Vital Capacity, Systolic Blood Pressure"
          ],
          [
           "Forced Vital Capacity, Tanning"
          ],
          [
           "Forced Vital Capacity, Thyroid Any Self Rep"
          ],
          [
           "Forced Vital Capacity, Type 2 diabetes"
          ],
          [
           "Forced Vital Capacity, White Blood Count"
          ],
          [
           "Hair Color, #Children"
          ],
          [
           "Hair Color, Age of Menarche"
          ],
          [
           "Hair Color, Allergy Eczema Diagnosed"
          ],
          [
           "Hair Color, Asthma Diagnosed"
          ],
          [
           "Hair Color, Autoimmune disease"
          ],
          [
           "Hair Color, BMI"
          ],
          [
           "Hair Color, Balding Type 1"
          ],
          [
           "Hair Color, Cardiovascular disease"
          ],
          [
           "Hair Color, Chronotype (morning person)"
          ],
          [
           "Hair Color, Dermatology"
          ],
          [
           "Hair Color, Diastolic blood pressure"
          ],
          [
           "Hair Color, Edu College"
          ],
          [
           "Hair Color, Eosinophil Count"
          ],
          [
           "Hair Color, FEV1\\FVC Ratio"
          ],
          [
           "Hair Color, Forced Vital Capacity"
          ],
          [
           "Hair Color, Height"
          ],
          [
           "Hair Color, High Light Scatter Retic. Count"
          ],
          [
           "Hair Color, High cholesterol"
          ],
          [
           "Hair Color, Hypothyroidism Self Rep"
          ],
          [
           "Hair Color, Lymphocyte Count"
          ],
          [
           "Hair Color, Mean Corpuscular Hemoglobin"
          ],
          [
           "Hair Color, Mean Platelet Volume"
          ],
          [
           "Hair Color, Neuroticism"
          ],
          [
           "Hair Color, Red Blood Cell Count"
          ],
          [
           "Hair Color, Red Blood Cell Dist. Width"
          ],
          [
           "Hair Color, Respiratory Ent"
          ],
          [
           "Hair Color, Smoking Status"
          ],
          [
           "Hair Color, Systolic Blood Pressure"
          ],
          [
           "Hair Color, Tanning"
          ],
          [
           "Hair Color, Thyroid Any Self Rep"
          ],
          [
           "Hair Color, Type 2 diabetes"
          ],
          [
           "Hair Color, Waist-Hip Ratio"
          ],
          [
           "Hair Color, White Blood Count"
          ],
          [
           "Height, #Children"
          ],
          [
           "Height, Age of Menarche"
          ],
          [
           "Height, Allergy Eczema Diagnosed"
          ],
          [
           "Height, Asthma Diagnosed"
          ],
          [
           "Height, Autoimmune disease"
          ],
          [
           "Height, BMI"
          ],
          [
           "Height, Balding Type 1"
          ],
          [
           "Height, Cardiovascular disease"
          ],
          [
           "Height, Edu College"
          ],
          [
           "Height, Eosinophil Count"
          ],
          [
           "Height, FEV1\\FVC Ratio"
          ],
          [
           "Height, High Light Scatter Retic. Count"
          ],
          [
           "Height, High cholesterol"
          ],
          [
           "Height, Hypothyroidism Self Rep"
          ],
          [
           "Height, Lymphocyte Count"
          ],
          [
           "Height, Mean Corpuscular Hemoglobin"
          ],
          [
           "Height, Mean Platelet Volume"
          ],
          [
           "Height, Neuroticism"
          ],
          [
           "Height, Red Blood Cell Count"
          ],
          [
           "Height, Respiratory Ent"
          ],
          [
           "Height, Systolic Blood Pressure"
          ],
          [
           "Height, Tanning"
          ],
          [
           "Height, Thyroid Any Self Rep"
          ],
          [
           "Height, Type 2 diabetes"
          ],
          [
           "Height, White Blood Count"
          ],
          [
           "High Light Scatter Retic. Count, Mean Platelet Volume"
          ],
          [
           "High cholesterol, Age of Menarche"
          ],
          [
           "High cholesterol, BMI"
          ],
          [
           "High cholesterol, Cardiovascular disease"
          ],
          [
           "High cholesterol, High Light Scatter Retic. Count"
          ],
          [
           "High cholesterol, Mean Platelet Volume"
          ],
          [
           "High cholesterol, Neuroticism"
          ],
          [
           "Hypothyroidism Self Rep, Age of Menarche"
          ],
          [
           "Hypothyroidism Self Rep, BMI"
          ],
          [
           "Hypothyroidism Self Rep, Cardiovascular disease"
          ],
          [
           "Hypothyroidism Self Rep, High Light Scatter Retic. Count"
          ],
          [
           "Hypothyroidism Self Rep, High cholesterol"
          ],
          [
           "Hypothyroidism Self Rep, Mean Platelet Volume"
          ],
          [
           "Hypothyroidism Self Rep, Neuroticism"
          ],
          [
           "Lymphocyte Count, Age of Menarche"
          ],
          [
           "Lymphocyte Count, BMI"
          ],
          [
           "Lymphocyte Count, Cardiovascular disease"
          ],
          [
           "Lymphocyte Count, High Light Scatter Retic. Count"
          ],
          [
           "Lymphocyte Count, High cholesterol"
          ],
          [
           "Lymphocyte Count, Hypothyroidism Self Rep"
          ],
          [
           "Lymphocyte Count, Mean Platelet Volume"
          ],
          [
           "Lymphocyte Count, Neuroticism"
          ],
          [
           "Lymphocyte Count, Respiratory Ent"
          ],
          [
           "Lymphocyte Count, Tanning"
          ],
          [
           "Mean Corpuscular Hemoglobin, Age of Menarche"
          ],
          [
           "Mean Corpuscular Hemoglobin, BMI"
          ],
          [
           "Mean Corpuscular Hemoglobin, Balding Type 1"
          ],
          [
           "Mean Corpuscular Hemoglobin, Cardiovascular disease"
          ],
          [
           "Mean Corpuscular Hemoglobin, High Light Scatter Retic. Count"
          ],
          [
           "Mean Corpuscular Hemoglobin, High cholesterol"
          ],
          [
           "Mean Corpuscular Hemoglobin, Hypothyroidism Self Rep"
          ],
          [
           "Mean Corpuscular Hemoglobin, Lymphocyte Count"
          ],
          [
           "Mean Corpuscular Hemoglobin, Mean Platelet Volume"
          ],
          [
           "Mean Corpuscular Hemoglobin, Neuroticism"
          ],
          [
           "Mean Corpuscular Hemoglobin, Respiratory Ent"
          ],
          [
           "Mean Corpuscular Hemoglobin, Tanning"
          ],
          [
           "Mean Corpuscular Hemoglobin, Type 2 diabetes"
          ],
          [
           "Monocyte Count, #Children"
          ],
          [
           "Monocyte Count, Age of Menarche"
          ],
          [
           "Monocyte Count, Allergy Eczema Diagnosed"
          ],
          [
           "Monocyte Count, Asthma Diagnosed"
          ],
          [
           "Monocyte Count, Autoimmune disease"
          ],
          [
           "Monocyte Count, BMI"
          ],
          [
           "Monocyte Count, Balding Type 1"
          ],
          [
           "Monocyte Count, Bone Mineral Density"
          ],
          [
           "Monocyte Count, Cardiovascular disease"
          ],
          [
           "Monocyte Count, Chronotype (morning person)"
          ],
          [
           "Monocyte Count, Dermatology"
          ],
          [
           "Monocyte Count, Diastolic blood pressure"
          ],
          [
           "Monocyte Count, Edu College"
          ],
          [
           "Monocyte Count, Eosinophil Count"
          ],
          [
           "Monocyte Count, FEV1\\FVC Ratio"
          ],
          [
           "Monocyte Count, Forced Vital Capacity"
          ],
          [
           "Monocyte Count, Hair Color"
          ],
          [
           "Monocyte Count, Height"
          ],
          [
           "Monocyte Count, High Light Scatter Retic. Count"
          ],
          [
           "Monocyte Count, High cholesterol"
          ],
          [
           "Monocyte Count, Hypothyroidism Self Rep"
          ],
          [
           "Monocyte Count, Lymphocyte Count"
          ],
          [
           "Monocyte Count, Mean Corpuscular Hemoglobin"
          ],
          [
           "Monocyte Count, Mean Platelet Volume"
          ],
          [
           "Monocyte Count, Neuroticism"
          ],
          [
           "Monocyte Count, Red Blood Cell Count"
          ],
          [
           "Monocyte Count, Red Blood Cell Dist. Width"
          ],
          [
           "Monocyte Count, Respiratory Ent"
          ],
          [
           "Monocyte Count, Smoking Status"
          ],
          [
           "Monocyte Count, Systolic Blood Pressure"
          ],
          [
           "Monocyte Count, Tanning"
          ],
          [
           "Monocyte Count, Thyroid Any Self Rep"
          ],
          [
           "Monocyte Count, Type 2 diabetes"
          ],
          [
           "Monocyte Count, Waist-Hip Ratio"
          ],
          [
           "Monocyte Count, White Blood Count"
          ],
          [
           "Neuroticism, Age of Menarche"
          ],
          [
           "Neuroticism, BMI"
          ],
          [
           "Neuroticism, High Light Scatter Retic. Count"
          ],
          [
           "Neuroticism, Mean Platelet Volume"
          ],
          [
           "Platelet Count, #Children"
          ],
          [
           "Platelet Count, Age of Menarche"
          ],
          [
           "Platelet Count, Allergy Eczema Diagnosed"
          ],
          [
           "Platelet Count, Asthma Diagnosed"
          ],
          [
           "Platelet Count, Autoimmune disease"
          ],
          [
           "Platelet Count, BMI"
          ],
          [
           "Platelet Count, Balding Type 1"
          ],
          [
           "Platelet Count, Bone Mineral Density"
          ],
          [
           "Platelet Count, Cardiovascular disease"
          ],
          [
           "Platelet Count, Chronotype (morning person)"
          ],
          [
           "Platelet Count, Dermatology"
          ],
          [
           "Platelet Count, Diastolic blood pressure"
          ],
          [
           "Platelet Count, Edu College"
          ],
          [
           "Platelet Count, Eosinophil Count"
          ],
          [
           "Platelet Count, FEV1\\FVC Ratio"
          ],
          [
           "Platelet Count, Forced Vital Capacity"
          ],
          [
           "Platelet Count, Hair Color"
          ],
          [
           "Platelet Count, Height"
          ],
          [
           "Platelet Count, High Light Scatter Retic. Count"
          ],
          [
           "Platelet Count, High cholesterol"
          ],
          [
           "Platelet Count, Hypothyroidism Self Rep"
          ],
          [
           "Platelet Count, Lymphocyte Count"
          ],
          [
           "Platelet Count, Mean Corpuscular Hemoglobin"
          ],
          [
           "Platelet Count, Mean Platelet Volume"
          ],
          [
           "Platelet Count, Monocyte Count"
          ],
          [
           "Platelet Count, Neuroticism"
          ],
          [
           "Platelet Count, Red Blood Cell Count"
          ],
          [
           "Platelet Count, Red Blood Cell Dist. Width"
          ],
          [
           "Platelet Count, Respiratory Ent"
          ],
          [
           "Platelet Count, Smoking Status"
          ],
          [
           "Platelet Count, Systolic Blood Pressure"
          ],
          [
           "Platelet Count, Tanning"
          ],
          [
           "Platelet Count, Thyroid Any Self Rep"
          ],
          [
           "Platelet Count, Type 2 diabetes"
          ],
          [
           "Platelet Count, Waist-Hip Ratio"
          ],
          [
           "Platelet Count, White Blood Count"
          ],
          [
           "Red Blood Cell Count, #Children"
          ],
          [
           "Red Blood Cell Count, Age of Menarche"
          ],
          [
           "Red Blood Cell Count, BMI"
          ],
          [
           "Red Blood Cell Count, Balding Type 1"
          ],
          [
           "Red Blood Cell Count, Cardiovascular disease"
          ],
          [
           "Red Blood Cell Count, FEV1\\FVC Ratio"
          ],
          [
           "Red Blood Cell Count, High Light Scatter Retic. Count"
          ],
          [
           "Red Blood Cell Count, High cholesterol"
          ],
          [
           "Red Blood Cell Count, Hypothyroidism Self Rep"
          ],
          [
           "Red Blood Cell Count, Lymphocyte Count"
          ],
          [
           "Red Blood Cell Count, Mean Corpuscular Hemoglobin"
          ],
          [
           "Red Blood Cell Count, Mean Platelet Volume"
          ],
          [
           "Red Blood Cell Count, Neuroticism"
          ],
          [
           "Red Blood Cell Count, Respiratory Ent"
          ],
          [
           "Red Blood Cell Count, Tanning"
          ],
          [
           "Red Blood Cell Count, Thyroid Any Self Rep"
          ],
          [
           "Red Blood Cell Count, Type 2 diabetes"
          ],
          [
           "Red Blood Cell Dist. Width, #Children"
          ],
          [
           "Red Blood Cell Dist. Width, Age of Menarche"
          ],
          [
           "Red Blood Cell Dist. Width, Allergy Eczema Diagnosed"
          ],
          [
           "Red Blood Cell Dist. Width, Asthma Diagnosed"
          ],
          [
           "Red Blood Cell Dist. Width, Autoimmune disease"
          ],
          [
           "Red Blood Cell Dist. Width, BMI"
          ],
          [
           "Red Blood Cell Dist. Width, Balding Type 1"
          ],
          [
           "Red Blood Cell Dist. Width, Cardiovascular disease"
          ],
          [
           "Red Blood Cell Dist. Width, Edu College"
          ],
          [
           "Red Blood Cell Dist. Width, Eosinophil Count"
          ],
          [
           "Red Blood Cell Dist. Width, FEV1\\FVC Ratio"
          ],
          [
           "Red Blood Cell Dist. Width, Height"
          ],
          [
           "Red Blood Cell Dist. Width, High Light Scatter Retic. Count"
          ],
          [
           "Red Blood Cell Dist. Width, High cholesterol"
          ],
          [
           "Red Blood Cell Dist. Width, Hypothyroidism Self Rep"
          ],
          [
           "Red Blood Cell Dist. Width, Lymphocyte Count"
          ],
          [
           "Red Blood Cell Dist. Width, Mean Corpuscular Hemoglobin"
          ],
          [
           "Red Blood Cell Dist. Width, Mean Platelet Volume"
          ],
          [
           "Red Blood Cell Dist. Width, Neuroticism"
          ],
          [
           "Red Blood Cell Dist. Width, Red Blood Cell Count"
          ],
          [
           "Red Blood Cell Dist. Width, Respiratory Ent"
          ],
          [
           "Red Blood Cell Dist. Width, Systolic Blood Pressure"
          ],
          [
           "Red Blood Cell Dist. Width, Tanning"
          ],
          [
           "Red Blood Cell Dist. Width, Thyroid Any Self Rep"
          ],
          [
           "Red Blood Cell Dist. Width, Type 2 diabetes"
          ],
          [
           "Red Blood Cell Dist. Width, White Blood Count"
          ],
          [
           "Respiratory Ent, Age of Menarche"
          ],
          [
           "Respiratory Ent, BMI"
          ],
          [
           "Respiratory Ent, Cardiovascular disease"
          ],
          [
           "Respiratory Ent, High Light Scatter Retic. Count"
          ],
          [
           "Respiratory Ent, High cholesterol"
          ],
          [
           "Respiratory Ent, Hypothyroidism Self Rep"
          ],
          [
           "Respiratory Ent, Mean Platelet Volume"
          ],
          [
           "Respiratory Ent, Neuroticism"
          ],
          [
           "Smoking Status, #Children"
          ],
          [
           "Smoking Status, Age of Menarche"
          ],
          [
           "Smoking Status, Allergy Eczema Diagnosed"
          ],
          [
           "Smoking Status, Asthma Diagnosed"
          ],
          [
           "Smoking Status, Autoimmune disease"
          ],
          [
           "Smoking Status, BMI"
          ],
          [
           "Smoking Status, Balding Type 1"
          ],
          [
           "Smoking Status, Cardiovascular disease"
          ],
          [
           "Smoking Status, Chronotype (morning person)"
          ],
          [
           "Smoking Status, Dermatology"
          ],
          [
           "Smoking Status, Diastolic blood pressure"
          ],
          [
           "Smoking Status, Edu College"
          ],
          [
           "Smoking Status, Eosinophil Count"
          ],
          [
           "Smoking Status, FEV1\\FVC Ratio"
          ],
          [
           "Smoking Status, Height"
          ],
          [
           "Smoking Status, High Light Scatter Retic. Count"
          ],
          [
           "Smoking Status, High cholesterol"
          ],
          [
           "Smoking Status, Hypothyroidism Self Rep"
          ],
          [
           "Smoking Status, Lymphocyte Count"
          ],
          [
           "Smoking Status, Mean Corpuscular Hemoglobin"
          ],
          [
           "Smoking Status, Mean Platelet Volume"
          ],
          [
           "Smoking Status, Neuroticism"
          ],
          [
           "Smoking Status, Red Blood Cell Count"
          ],
          [
           "Smoking Status, Red Blood Cell Dist. Width"
          ],
          [
           "Smoking Status, Respiratory Ent"
          ],
          [
           "Smoking Status, Systolic Blood Pressure"
          ],
          [
           "Smoking Status, Tanning"
          ],
          [
           "Smoking Status, Thyroid Any Self Rep"
          ],
          [
           "Smoking Status, Type 2 diabetes"
          ],
          [
           "Smoking Status, White Blood Count"
          ],
          [
           "Systolic Blood Pressure, #Children"
          ],
          [
           "Systolic Blood Pressure, Age of Menarche"
          ],
          [
           "Systolic Blood Pressure, Asthma Diagnosed"
          ],
          [
           "Systolic Blood Pressure, BMI"
          ],
          [
           "Systolic Blood Pressure, Balding Type 1"
          ],
          [
           "Systolic Blood Pressure, Cardiovascular disease"
          ],
          [
           "Systolic Blood Pressure, Eosinophil Count"
          ],
          [
           "Systolic Blood Pressure, FEV1\\FVC Ratio"
          ],
          [
           "Systolic Blood Pressure, High Light Scatter Retic. Count"
          ],
          [
           "Systolic Blood Pressure, High cholesterol"
          ],
          [
           "Systolic Blood Pressure, Hypothyroidism Self Rep"
          ],
          [
           "Systolic Blood Pressure, Lymphocyte Count"
          ],
          [
           "Systolic Blood Pressure, Mean Corpuscular Hemoglobin"
          ],
          [
           "Systolic Blood Pressure, Mean Platelet Volume"
          ],
          [
           "Systolic Blood Pressure, Neuroticism"
          ],
          [
           "Systolic Blood Pressure, Red Blood Cell Count"
          ],
          [
           "Systolic Blood Pressure, Respiratory Ent"
          ],
          [
           "Systolic Blood Pressure, Tanning"
          ],
          [
           "Systolic Blood Pressure, Thyroid Any Self Rep"
          ],
          [
           "Systolic Blood Pressure, Type 2 diabetes"
          ],
          [
           "Tanning, Age of Menarche"
          ],
          [
           "Tanning, BMI"
          ],
          [
           "Tanning, Cardiovascular disease"
          ],
          [
           "Tanning, High Light Scatter Retic. Count"
          ],
          [
           "Tanning, High cholesterol"
          ],
          [
           "Tanning, Hypothyroidism Self Rep"
          ],
          [
           "Tanning, Mean Platelet Volume"
          ],
          [
           "Tanning, Neuroticism"
          ],
          [
           "Tanning, Respiratory Ent"
          ],
          [
           "Thyroid Any Self Rep, #Children"
          ],
          [
           "Thyroid Any Self Rep, Age of Menarche"
          ],
          [
           "Thyroid Any Self Rep, BMI"
          ],
          [
           "Thyroid Any Self Rep, Balding Type 1"
          ],
          [
           "Thyroid Any Self Rep, Cardiovascular disease"
          ],
          [
           "Thyroid Any Self Rep, High Light Scatter Retic. Count"
          ],
          [
           "Thyroid Any Self Rep, High cholesterol"
          ],
          [
           "Thyroid Any Self Rep, Hypothyroidism Self Rep"
          ],
          [
           "Thyroid Any Self Rep, Lymphocyte Count"
          ],
          [
           "Thyroid Any Self Rep, Mean Corpuscular Hemoglobin"
          ],
          [
           "Thyroid Any Self Rep, Mean Platelet Volume"
          ],
          [
           "Thyroid Any Self Rep, Neuroticism"
          ],
          [
           "Thyroid Any Self Rep, Respiratory Ent"
          ],
          [
           "Thyroid Any Self Rep, Tanning"
          ],
          [
           "Thyroid Any Self Rep, Type 2 diabetes"
          ],
          [
           "Type 2 diabetes, Age of Menarche"
          ],
          [
           "Type 2 diabetes, BMI"
          ],
          [
           "Type 2 diabetes, Cardiovascular disease"
          ],
          [
           "Type 2 diabetes, High Light Scatter Retic. Count"
          ],
          [
           "Type 2 diabetes, High cholesterol"
          ],
          [
           "Type 2 diabetes, Hypothyroidism Self Rep"
          ],
          [
           "Type 2 diabetes, Lymphocyte Count"
          ],
          [
           "Type 2 diabetes, Mean Platelet Volume"
          ],
          [
           "Type 2 diabetes, Neuroticism"
          ],
          [
           "Type 2 diabetes, Respiratory Ent"
          ],
          [
           "Type 2 diabetes, Tanning"
          ],
          [
           "Waist-Hip Ratio, #Children"
          ],
          [
           "Waist-Hip Ratio, Age of Menarche"
          ],
          [
           "Waist-Hip Ratio, Allergy Eczema Diagnosed"
          ],
          [
           "Waist-Hip Ratio, Asthma Diagnosed"
          ],
          [
           "Waist-Hip Ratio, Autoimmune disease"
          ],
          [
           "Waist-Hip Ratio, BMI"
          ],
          [
           "Waist-Hip Ratio, Balding Type 1"
          ],
          [
           "Waist-Hip Ratio, Cardiovascular disease"
          ],
          [
           "Waist-Hip Ratio, Chronotype (morning person)"
          ],
          [
           "Waist-Hip Ratio, Dermatology"
          ],
          [
           "Waist-Hip Ratio, Diastolic blood pressure"
          ],
          [
           "Waist-Hip Ratio, Edu College"
          ],
          [
           "Waist-Hip Ratio, Eosinophil Count"
          ],
          [
           "Waist-Hip Ratio, FEV1\\FVC Ratio"
          ],
          [
           "Waist-Hip Ratio, Forced Vital Capacity"
          ],
          [
           "Waist-Hip Ratio, Height"
          ],
          [
           "Waist-Hip Ratio, High Light Scatter Retic. Count"
          ],
          [
           "Waist-Hip Ratio, High cholesterol"
          ],
          [
           "Waist-Hip Ratio, Hypothyroidism Self Rep"
          ],
          [
           "Waist-Hip Ratio, Lymphocyte Count"
          ],
          [
           "Waist-Hip Ratio, Mean Corpuscular Hemoglobin"
          ],
          [
           "Waist-Hip Ratio, Mean Platelet Volume"
          ],
          [
           "Waist-Hip Ratio, Neuroticism"
          ],
          [
           "Waist-Hip Ratio, Red Blood Cell Count"
          ],
          [
           "Waist-Hip Ratio, Red Blood Cell Dist. Width"
          ],
          [
           "Waist-Hip Ratio, Respiratory Ent"
          ],
          [
           "Waist-Hip Ratio, Smoking Status"
          ],
          [
           "Waist-Hip Ratio, Systolic Blood Pressure"
          ],
          [
           "Waist-Hip Ratio, Tanning"
          ],
          [
           "Waist-Hip Ratio, Thyroid Any Self Rep"
          ],
          [
           "Waist-Hip Ratio, Type 2 diabetes"
          ],
          [
           "Waist-Hip Ratio, White Blood Count"
          ],
          [
           "White Blood Count, #Children"
          ],
          [
           "White Blood Count, Age of Menarche"
          ],
          [
           "White Blood Count, Allergy Eczema Diagnosed"
          ],
          [
           "White Blood Count, Asthma Diagnosed"
          ],
          [
           "White Blood Count, BMI"
          ],
          [
           "White Blood Count, Balding Type 1"
          ],
          [
           "White Blood Count, Cardiovascular disease"
          ],
          [
           "White Blood Count, Eosinophil Count"
          ],
          [
           "White Blood Count, FEV1\\FVC Ratio"
          ],
          [
           "White Blood Count, High Light Scatter Retic. Count"
          ],
          [
           "White Blood Count, High cholesterol"
          ],
          [
           "White Blood Count, Hypothyroidism Self Rep"
          ],
          [
           "White Blood Count, Lymphocyte Count"
          ],
          [
           "White Blood Count, Mean Corpuscular Hemoglobin"
          ],
          [
           "White Blood Count, Mean Platelet Volume"
          ],
          [
           "White Blood Count, Neuroticism"
          ],
          [
           "White Blood Count, Red Blood Cell Count"
          ],
          [
           "White Blood Count, Respiratory Ent"
          ],
          [
           "White Blood Count, Systolic Blood Pressure"
          ],
          [
           "White Blood Count, Tanning"
          ],
          [
           "White Blood Count, Thyroid Any Self Rep"
          ],
          [
           "White Blood Count, Type 2 diabetes"
          ]
         ],
         "hovertemplate": "label=%{customdata[0]}<extra></extra>",
         "legendgroup": "",
         "marker": {
          "color": "#636efa",
          "symbol": "circle"
         },
         "mode": "markers",
         "name": "",
         "orientation": "v",
         "showlegend": false,
         "x": [
          0.627174346,
          0.29684967,
          0.313549871,
          0.365092666,
          0.452282995,
          0.191286906,
          0.145963134,
          0.407419196,
          0.413491739,
          0.480367381,
          0.167162955,
          0.430578486,
          0.452736865,
          0.259500416,
          0.519009342,
          0.397124043,
          0.41481548,
          0.410054696,
          0.864743863,
          0.365486034,
          0.42112709,
          0.701705627,
          0.365869806,
          0.269090719,
          0.332032744,
          0.292908218,
          0.073418444,
          0.761132721,
          0.651674276,
          0.454870931,
          0.261215417,
          0.433326221,
          0.380341466,
          0.669834664,
          0.509568704,
          0.24965513,
          0.221303219,
          0.576921441,
          0.495249832,
          0.314926071,
          0.401963472,
          0.641805403,
          0.352752331,
          0.268114246,
          0.378513213,
          0.30646959,
          0.084569754,
          0.781590911,
          0.679843882,
          0.529213521,
          0.258139617,
          0.451690463,
          0.435657228,
          0.556893677,
          0.305238787,
          0.25216383,
          0.526856211,
          0.380996222,
          0.415355417,
          0.428764971,
          0.453592653,
          0.465134358,
          0.328661511,
          0.513598963,
          0.57111234,
          0.347129461,
          0.459618908,
          0.244611224,
          0.360393054,
          0.454274143,
          0.346497408,
          0.411190961,
          0.299201018,
          0.357103135,
          0.466769626,
          0.294865016,
          0.347040808,
          0.552741223,
          0.285930079,
          0.349902236,
          0.137893976,
          0.286578797,
          0.266438896,
          0.143501271,
          0.553869129,
          0.338632307,
          0.13291877,
          0.210735882,
          0.549164024,
          0.293206192,
          0.207958922,
          0.394835444,
          0.372076601,
          0.227284631,
          0.240904192,
          0.546911364,
          0.550825226,
          0.479401515,
          0.485650135,
          0.433930997,
          0.232441701,
          0.170265975,
          0.393529135,
          0.269278626,
          0.407282078,
          0.229665399,
          0.170946579,
          0.205728744,
          0.20464653,
          0.292374692,
          0.169735795,
          0.380655744,
          0.387351008,
          0.080540483,
          0.063573811,
          0.382007819,
          0.510419515,
          0.52363381,
          0.112457414,
          0.539794269,
          0.370106506,
          0.367666198,
          0.372624293,
          0.416368716,
          0.242011096,
          0.181062378,
          0.225239887,
          0.285363668,
          0.273616088,
          0.426669383,
          0.460678015,
          0.484605705,
          0.457021117,
          0.241723805,
          0.175753463,
          0.056171166,
          0.416372243,
          0.339972146,
          0.210613321,
          0.567076622,
          0.299457198,
          0.486447927,
          0.433136051,
          0.302426131,
          0.225414386,
          0.220975419,
          0.359892623,
          0.095338419,
          0.215171074,
          0.136052005,
          0.182532993,
          0.251744261,
          0.275900426,
          0.371274163,
          0.172935488,
          0.200857894,
          0.204677433,
          0.146257745,
          0.464530304,
          0.170445934,
          0.175123338,
          0.286337532,
          0.505983616,
          0.325592012,
          0.272382122,
          0.59177261,
          0.502839587,
          0.472045134,
          0.363051949,
          0.36730082,
          0.411812469,
          0.328205374,
          0.287943541,
          0.33467268,
          0.27854515,
          0.237135279,
          0.406385745,
          0.316680614,
          0.103297755,
          0.51023603,
          0.386769269,
          0.475675374,
          0.176212346,
          0.331621189,
          0.335033059,
          0.269886491,
          0.46203655,
          0.328593566,
          0.195812895,
          0.23978652,
          0.52385784,
          0.288207183,
          0.282508158,
          0.383349142,
          0.363542446,
          0.316064293,
          0.323241746,
          0.381402692,
          0.427181309,
          0.350666314,
          0.398219448,
          0.346337157,
          0.407120783,
          0.345721973,
          0.310992433,
          0.468171245,
          0.439625586,
          0.356771748,
          0.308171777,
          0.546428208,
          0.414060613,
          0.239734192,
          0.395915743,
          0.449110287,
          0.354169363,
          0.526420186,
          0.260272834,
          0.322644019,
          0.329937578,
          0.178908985,
          0.239707531,
          0.266766506,
          0.459316793,
          0.544466037,
          0.194163196,
          0.641970843,
          0.349173073,
          0.327217752,
          0.36822331,
          0.445655084,
          0.329954853,
          0.242652106,
          0.349330747,
          0.240290749,
          0.237700523,
          0.303011272,
          0.222592374,
          0.244970131,
          0.539325575,
          0.327681215,
          0.33713609,
          0.344908967,
          0.205896842,
          0.459426781,
          0.760673887,
          0.279153181,
          0.339764294,
          0.234685144,
          0.204836398,
          0.547652577,
          0.375900901,
          0.400013609,
          0.269960413,
          0.375449039,
          0.206162926,
          0.468023105,
          0.197059924,
          0.689423649,
          0.24531721,
          0.170050419,
          0.340868391,
          0.421457652,
          0.266297684,
          0.395074153,
          0.491292617,
          0.487030301,
          0.268505189,
          0.42668577,
          0.277530507,
          0.391588893,
          0.316278246,
          0.321802644,
          0.389042996,
          0.355807255,
          0.340671034,
          0.241696889,
          0.189772131,
          0.513710684,
          0.410948153,
          0.36764269,
          0.47271924,
          0.574877678,
          0.60871098,
          0.450123487,
          0.40357999,
          0.44933218,
          0.297598928,
          0.580520527,
          0.339077932,
          0.239925081,
          0.270792413,
          0.153507955,
          0.410611562,
          0.378353855,
          0.451751723,
          0.302880397,
          0.363180405,
          0.286577476,
          0.139079673,
          0.38240675,
          0.275331166,
          0.578645598,
          0.208041283,
          0.496148263,
          0.246880642,
          0.501248153,
          0.283469481,
          0.187686113,
          0.218210516,
          0.198785629,
          0.36535235,
          0.38136107,
          0.530978476,
          0.261257079,
          0.375273218,
          0.234930181,
          0.538382017,
          0.461299912,
          0.540216052,
          0.289317067,
          0.570284431,
          0.124873405,
          0.224101009,
          0.158275049,
          0.622165671,
          0.159203434,
          0.170156005,
          0.221899154,
          0.514729321,
          0.155005251,
          0.107486935,
          0.476478639,
          0.24405596,
          0.228730778,
          0.218823297,
          0.623004047,
          0.280254105,
          0.130167614,
          0.28098697,
          0.50379939,
          0.658747013,
          0.533054242,
          0.621017614,
          0.425369539,
          0.229985772,
          0.169528681,
          0.555644047,
          0.306007642,
          0.308741007,
          0.444882977,
          0.531741161,
          0.41046747,
          0.130252694,
          0.720715011,
          0.604949768,
          0.407861344,
          0.25998264,
          0.589122179,
          0.404915704,
          0.501285157,
          0.628554287,
          0.370337405,
          0.270792137,
          0.392979815,
          0.691754345,
          0.346889251,
          0.202692463,
          0.283356625,
          0.476604619,
          0.336145505,
          0.25839589,
          0.086448604,
          0.269772607,
          0.09909896,
          0.108837769,
          0.143452743,
          0.088686547,
          0.596301716,
          0.496625738,
          0.293719185,
          0.63499394,
          0.545353235,
          0.515227147,
          0.073108113,
          0.547035462,
          0.291589211,
          0.381334069,
          0.631759175,
          0.398845249,
          0.32551171,
          0.294899055,
          0.569707309,
          0.347607576,
          0.207879922,
          0.125334458,
          0.705152554,
          0.404142978,
          0.290215733,
          0.416218585,
          0.47717773,
          0.167215755,
          0.361214016,
          0.28903284,
          0.771357984,
          0.702239511,
          0.364893265,
          0.32498785,
          0.386282093,
          0.441795969,
          0.616127095,
          0.363647746,
          0.504944279,
          0.351168046,
          0.215026609,
          0.457463198,
          0.185818908,
          0.639548735,
          0.259349921,
          0.409389924,
          0.220276913,
          0.195597569,
          0.142569749,
          0.611528137,
          0.654775438,
          0.372979265,
          0.255764364,
          0.358621801,
          0.257667108,
          0.42701355,
          0.283972001,
          0.609470323,
          0.330195683,
          0.309536263,
          0.218037096,
          0.412603272,
          0.567857992,
          0.228872453,
          0.237342325,
          0.158611678,
          0.112616631,
          0.596115961,
          0.484299777,
          0.754037579,
          0.811774094,
          0.414521694,
          0.315247575,
          0.398487338,
          0.49570692,
          0.5771462,
          0.262053548,
          0.403615518,
          0.355783226,
          0.276073414,
          0.436173878,
          0.266174517,
          0.421420607,
          0.199680778,
          0.58126331,
          0.410465079,
          0.278586592,
          0.113799773,
          0.712165499,
          0.702026344,
          0.53885237,
          0.684476107,
          0.264993623,
          0.473318604,
          0.399106963,
          0.452503043,
          0.327264598,
          0.486468639,
          0.524612216,
          0.356831703,
          0.233639293,
          0.510555164,
          0.527478648,
          0.475602587,
          0.562183041,
          0.317598745,
          0.194440678,
          0.549256305,
          0.349274149,
          0.600479559,
          0.498979825,
          0.077026709,
          0.509787046,
          0.426995387,
          0.507259882,
          0.205811034,
          0.292018141,
          0.46344265,
          0.269791714,
          0.387125487,
          0.393975452,
          0.41159921,
          0.309126717,
          0.369133359,
          0.28399623,
          0.285289599,
          0.110742928,
          0.284038727,
          0.243216489,
          0.118814975,
          0.346705623,
          0.420172519,
          0.567282971,
          0.462899054,
          0.068218974,
          0.410932654,
          0.331295089,
          0.508028699,
          0.148785072,
          0.610098034,
          0.196488087,
          0.301651544,
          0.552210699,
          0.208716737,
          0.373473182,
          0.31545365,
          0.379558633,
          0.239733934,
          0.28010745,
          0.251559939,
          0.21950692,
          0.462538124,
          0.188612159,
          0.553398174,
          0.400966334,
          0.525100856,
          0.377070085,
          0.412863782,
          0.468646484,
          0.369140479,
          0.309197893,
          0.362809859,
          0.173823468,
          0.364522709,
          0.29886391,
          0.294016184,
          0.340013152,
          0.340316002,
          0.454904099,
          0.413548745,
          0.35546198,
          0.214906441,
          0.480119554,
          0.373015876,
          0.262245752,
          0.340929996,
          0.398599814,
          0.338892668,
          0.358370296,
          0.278889739,
          0.451586474,
          0.37992088,
          0.318796586,
          0.269320651,
          0.344368382,
          0.361734157,
          0.584402735,
          0.366664159,
          0.319531543,
          0.745430134,
          0.281171927,
          0.272134636,
          0.373110411,
          0.246926542,
          0.117852338,
          0.536533562,
          0.575773019,
          0.497606966,
          0.202040562,
          0.49295406,
          0.167987109,
          0.36665032,
          0.258949216,
          0.283648682,
          0.55696576,
          0.266504064,
          0.478757147,
          0.503290814,
          0.447393955,
          0.11501394,
          0.378204378,
          0.337943075,
          0.329472586,
          0.367691057,
          0.278773902,
          0.415229319,
          0.643398656,
          0.306999019,
          0.301254028,
          0.253500633,
          0.790206076,
          0.296582238,
          0.269710287,
          0.247599496,
          0.560072933,
          0.537659109,
          0.360164328,
          0.327552771,
          0.314869576,
          0.301505884,
          0.248215009,
          0.347507799,
          0.443929016,
          0.195671948,
          0.245276458,
          0.301857624,
          0.187566491,
          0.233694419,
          0.299158539,
          0.367163849,
          0.509379708,
          0.550104887,
          0.572137924,
          0.405937246,
          0.254470463,
          0.195975126,
          0.59482834,
          0.148126902,
          0.37107616,
          0.488682156,
          0.324098903,
          0.285298785,
          0.448319626,
          0.289806898,
          0.763012715,
          0.634717224,
          0.50961649,
          0.110947923,
          0.778587528,
          0.56460146,
          0.496116249,
          0.308818396,
          0.605288434,
          0.431530481,
          0.319678903,
          0.456050465,
          0.557687623,
          0.625036199,
          0.339262573,
          0.29741815,
          0.545463686,
          0.308009831,
          0.273982978,
          0.64301217,
          0.608331178,
          0.378049022,
          0.389296432,
          0.650041859,
          0.364265179,
          0.405773946,
          0.468251966,
          0.440730367,
          0.087194535,
          0.611921982,
          0.454680032,
          0.575955887,
          0.205050726,
          0.419308098,
          0.223992806,
          0.589584469,
          0.41833705,
          0.239998028,
          0.324075954
         ],
         "xaxis": "x",
         "y": [
          0.0494,
          0.1725,
          0.0853,
          0.0593,
          0.1022,
          0.0927,
          0.0788,
          0.0735,
          -0.0098,
          0.0261,
          0.0086,
          0.1591,
          0.1146,
          0.076,
          -0.1441,
          -0.002,
          -0.0698,
          0.0033,
          0.6977,
          -0.0729,
          0.0044,
          -0.038,
          0.2937,
          -0.0848,
          -0.0523,
          -0.0354,
          0.0241,
          -0.0847,
          -0.0067,
          -0.0302,
          0.0409,
          -0.0342,
          0.6713,
          -0.0218,
          -0.0451,
          0.0204,
          -0.0183,
          0.1282,
          -0.0451,
          0.1557,
          0.0246,
          0.1034,
          0.4326,
          -0.3229,
          0.0556,
          0.0581,
          0.0598,
          0.0432,
          -0.0211,
          0.0109,
          0.0936,
          0.0043,
          0.9892,
          0.0435,
          0.0513,
          0.1201,
          0.0966,
          -0.0775,
          0.1446,
          0.1554,
          0.1625,
          0.0138,
          0.172,
          -0.1337,
          0.1683,
          0.0233,
          0.1408,
          0.153,
          0.9127,
          0.039,
          -0.0022,
          0.048,
          0.2073,
          0.0176,
          0.1995,
          0.0019,
          -0.0359,
          0.9377,
          0.2183,
          0.0735,
          -0.3087,
          0.4204,
          0.0521,
          0.0723,
          0.0138,
          -0.019,
          -4.0E-4,
          0.001,
          0.0058,
          0.0023,
          -6.0E-4,
          -0.03,
          0.0219,
          -0.0194,
          -0.0259,
          -0.0079,
          -0.07,
          0.0063,
          0.0156,
          -0.0257,
          0.0291,
          -0.0922,
          0.0013,
          0.0233,
          -0.0159,
          -0.0024,
          0.0535,
          0.0144,
          0.0252,
          0.0578,
          0.0047,
          -0.1116,
          0.0774,
          -0.0015,
          -0.0045,
          0.0122,
          -0.0039,
          -0.0033,
          -0.0539,
          0.0454,
          -0.0241,
          0.001,
          -0.0349,
          0.004,
          -0.0039,
          -0.0087,
          0.0461,
          -0.005,
          -0.0057,
          -0.1722,
          0.3886,
          0.3327,
          0.0225,
          0.1345,
          0.0421,
          -0.0258,
          -0.0635,
          -0.0109,
          -0.0673,
          0.0099,
          -0.0216,
          0.0287,
          -0.032,
          0.0019,
          -0.0742,
          -0.0068,
          0.0113,
          -0.0233,
          0.0125,
          0.0271,
          -0.0387,
          9.0E-4,
          -0.0402,
          -0.0337,
          -0.0212,
          0.0474,
          0.008,
          -0.0266,
          0.0136,
          0.0415,
          -0.0429,
          0.0364,
          0.03,
          -0.0708,
          -0.0982,
          0.5466,
          0.3955,
          0.3228,
          0.0227,
          0.0469,
          -0.0534,
          -0.0985,
          0.1787,
          0.1847,
          -0.0669,
          0.0318,
          0.0354,
          -0.055,
          0.1223,
          -0.0733,
          -0.0491,
          -0.0171,
          0.1038,
          -0.0084,
          0.0413,
          0.3819,
          -0.083,
          -0.1292,
          0.1334,
          0.0561,
          -0.0317,
          -0.0506,
          0.002,
          -0.0236,
          0.0037,
          0.0155,
          -0.0631,
          -3.0E-4,
          0.7344,
          -0.0772,
          0.0209,
          -0.0306,
          -0.0515,
          0.0908,
          0.3341,
          0.041,
          0.0188,
          -0.018,
          0.014,
          0.011,
          0.1352,
          -0.0114,
          0.0065,
          0.7703,
          -0.0338,
          0.0492,
          0.1083,
          0.1007,
          -0.2998,
          -0.0468,
          0.1944,
          -0.0585,
          -0.2919,
          -0.0151,
          -0.2581,
          -0.0604,
          -0.0134,
          -0.2052,
          -0.2449,
          -0.1013,
          -0.148,
          0.0032,
          -0.0195,
          -0.1777,
          -0.0852,
          -0.109,
          -0.0901,
          -0.1276,
          -0.0989,
          -0.2331,
          -0.2291,
          0.0281,
          -0.0514,
          0.1247,
          0.004,
          0.0901,
          -0.044,
          0.0738,
          0.0658,
          0.1531,
          0.2587,
          -0.0801,
          0.0103,
          -0.0072,
          0.0761,
          0.4218,
          0.0222,
          0.1537,
          0.1128,
          0.0183,
          -0.0225,
          0.1522,
          -0.0192,
          0.038,
          0.0551,
          0.0737,
          0.0307,
          0.0508,
          -0.0394,
          0.0603,
          -0.0422,
          -0.3208,
          -0.0232,
          0.0292,
          0.087,
          -0.005,
          0.065,
          -0.0201,
          -0.15,
          -0.0711,
          -0.1576,
          -0.0166,
          -0.119,
          -0.041,
          -0.0561,
          -0.0038,
          0.0912,
          -0.0773,
          -0.0864,
          -0.0897,
          -0.1494,
          -0.0921,
          -0.0318,
          -0.0889,
          0.0711,
          -0.0381,
          -0.0127,
          -0.0366,
          -0.0299,
          -0.1751,
          -0.0163,
          -0.0443,
          0.0126,
          -0.0303,
          -0.237,
          -0.1111,
          0.0092,
          0.042,
          0.0291,
          0.0499,
          -2.0E-4,
          0.0038,
          -0.0173,
          -0.004,
          0.0094,
          0.0104,
          0.0069,
          -0.0506,
          0.0166,
          -0.0185,
          0.0165,
          -0.0594,
          -0.0149,
          0.009,
          -0.0213,
          0.0282,
          -0.0097,
          -0.0167,
          0.006,
          -0.0018,
          0.0148,
          0.0406,
          0.0541,
          -0.0123,
          -0.3993,
          -0.0217,
          -0.0081,
          0.0182,
          0.023,
          -0.0468,
          0.1226,
          -0.0079,
          -0.0595,
          -0.0086,
          -0.1207,
          0.0552,
          -0.1225,
          0.1655,
          -0.0449,
          -0.0283,
          -0.0838,
          -0.172,
          0.0103,
          -0.1308,
          -0.0066,
          0.0407,
          -0.0514,
          -0.0373,
          -0.0556,
          -0.0834,
          0.0318,
          0.0127,
          -0.0446,
          -0.1562,
          -0.0093,
          -0.1219,
          0.307,
          0.7079,
          0.3382,
          -9.0E-4,
          0.1209,
          -0.0584,
          0.1537,
          0.1478,
          0.1401,
          0.1556,
          0.041,
          0.1232,
          -0.0614,
          0.2084,
          0.1789,
          0.194,
          0.1952,
          0.0463,
          -6.0E-4,
          0.0136,
          0.0635,
          0.0071,
          0.0365,
          -0.0934,
          -0.0128,
          -0.0713,
          -0.0113,
          -0.0634,
          0.0328,
          -0.0166,
          -0.0486,
          0.0249,
          -0.0183,
          0.0943,
          -0.0996,
          0.0563,
          -0.011,
          -0.0499,
          0.051,
          0.04,
          0.1319,
          0.0053,
          0.0054,
          0.1564,
          0.0106,
          -8.0E-4,
          0.0881,
          -0.1149,
          0.2431,
          0.0105,
          -0.0662,
          -0.0364,
          -0.1048,
          0.1218,
          0.1196,
          0.0401,
          0.3845,
          -0.0189,
          0.0384,
          0.0296,
          0.1171,
          0.0436,
          0.0582,
          0.0983,
          0.0941,
          0.0267,
          0.0467,
          0.1475,
          0.0855,
          0.5781,
          -0.0146,
          0.0135,
          0.055,
          -0.014,
          0.0139,
          0.0094,
          -0.0067,
          0.0401,
          -0.0311,
          0.012,
          0.0238,
          -0.0138,
          0.0896,
          0.0248,
          -0.0223,
          0.0451,
          -0.0687,
          0.1288,
          -0.0055,
          -0.0134,
          0.0137,
          -0.1321,
          0.0279,
          0.1212,
          -0.0328,
          0.2186,
          -0.028,
          -0.5872,
          0.2001,
          0.0169,
          -0.0487,
          -0.0387,
          0.0433,
          0.0327,
          0.0758,
          0.0031,
          -0.0278,
          0.0407,
          0.0985,
          0.2772,
          0.029,
          -0.0528,
          0.1166,
          -0.0037,
          0.1279,
          0.0196,
          0.2027,
          0.1049,
          0.0079,
          0.072,
          -0.6388,
          0.0358,
          -0.0198,
          -0.0075,
          -0.0539,
          0.0125,
          0.1702,
          0.0571,
          -0.0442,
          -0.0146,
          0.0512,
          0.085,
          0.1739,
          0.0148,
          0.0842,
          -0.0711,
          0.0564,
          0.03,
          0.0059,
          -0.0045,
          0.1318,
          0.0387,
          0.0359,
          -0.3486,
          0.0944,
          -0.0026,
          0.1616,
          0.064,
          -0.0277,
          -0.0221,
          0.0471,
          0.0679,
          0.0726,
          -0.0504,
          0.1794,
          0.1266,
          0.0668,
          0.0844,
          0.0835,
          0.009,
          0.1408,
          0.2682,
          0.0211,
          -0.1358,
          0.1031,
          0.1328,
          0.2498,
          0.0175,
          0.149,
          -0.1385,
          0.0188,
          -0.0394,
          -0.3863,
          0.0706,
          0.0027,
          -0.0385,
          0.1391,
          0.1466,
          0.0822,
          0.1805,
          0.0852,
          0.0198,
          0.1674,
          -0.0774,
          0.0653,
          0.1616,
          -0.0624,
          0.1736,
          0.0847,
          0.2137,
          0.1715,
          -0.0722,
          -0.0271,
          -0.0037,
          -0.0718,
          -0.0149,
          0.7488,
          -0.0117,
          -0.0257,
          0.0732,
          0.3679,
          0.0159,
          0.0494,
          -0.0367,
          0.0163,
          0.0015,
          0.0791,
          -0.0065,
          -0.0317,
          0.0209,
          0.1623,
          0.005,
          0.0057,
          -0.0368,
          0.0046,
          -0.02,
          0.0019,
          -0.0145,
          -0.0355,
          0.0551,
          0.0681,
          -0.0503,
          0.1523,
          0.0124,
          0.1583,
          0.141,
          0.1533,
          0.9964,
          0.041,
          0.024,
          0.0364,
          0.1341,
          0.0774,
          0.0095,
          0.1869,
          -0.209,
          0.5729,
          0.4902,
          0.4558,
          0.4828,
          0.1769,
          0.2427,
          0.0057,
          0.0722,
          0.1488,
          -0.0366,
          0.0437,
          0.0161,
          -0.007,
          0.0496,
          0.0494,
          -0.0714,
          0.0252,
          0.1915,
          -8.0E-4,
          -0.0547,
          0.0948,
          -0.1211,
          0.0717,
          0.0381,
          -0.1588,
          0.0162,
          0.2436,
          0.3091,
          0.0168,
          0.1481,
          -0.012,
          -0.056,
          0.1033,
          0.1035,
          -0.0687,
          0.0565,
          0.1379,
          0.0952,
          -0.0262,
          0.0188,
          0.3059,
          0.1506,
          0.0694,
          -0.0512,
          -0.0478,
          0.1418,
          0.2406,
          0.0103,
          0.2441,
          0.3366,
          0.0083,
          0.2484,
          0.2048,
          0.0523,
          0.6847,
          -0.1059,
          0.0251,
          0.0556,
          0.1966,
          0.1556,
          0.1417,
          0.0033,
          0.0567,
          0.2834
         ],
         "yaxis": "y",
         "type": "scatter",
         "textposition": "top center"
        }
       ],
       "layout": {
        "template": {
         "data": {
          "histogram2dcontour": [
           {
            "type": "histogram2dcontour",
            "colorbar": {
             "outlinewidth": 0,
             "ticks": ""
            },
            "colorscale": [
             [
              0.0,
              "#0d0887"
             ],
             [
              0.1111111111111111,
              "#46039f"
             ],
             [
              0.2222222222222222,
              "#7201a8"
             ],
             [
              0.3333333333333333,
              "#9c179e"
             ],
             [
              0.4444444444444444,
              "#bd3786"
             ],
             [
              0.5555555555555556,
              "#d8576b"
             ],
             [
              0.6666666666666666,
              "#ed7953"
             ],
             [
              0.7777777777777778,
              "#fb9f3a"
             ],
             [
              0.8888888888888888,
              "#fdca26"
             ],
             [
              1.0,
              "#f0f921"
             ]
            ]
           }
          ],
          "choropleth": [
           {
            "type": "choropleth",
            "colorbar": {
             "outlinewidth": 0,
             "ticks": ""
            }
           }
          ],
          "histogram2d": [
           {
            "type": "histogram2d",
            "colorbar": {
             "outlinewidth": 0,
             "ticks": ""
            },
            "colorscale": [
             [
              0.0,
              "#0d0887"
             ],
             [
              0.1111111111111111,
              "#46039f"
             ],
             [
              0.2222222222222222,
              "#7201a8"
             ],
             [
              0.3333333333333333,
              "#9c179e"
             ],
             [
              0.4444444444444444,
              "#bd3786"
             ],
             [
              0.5555555555555556,
              "#d8576b"
             ],
             [
              0.6666666666666666,
              "#ed7953"
             ],
             [
              0.7777777777777778,
              "#fb9f3a"
             ],
             [
              0.8888888888888888,
              "#fdca26"
             ],
             [
              1.0,
              "#f0f921"
             ]
            ]
           }
          ],
          "heatmap": [
           {
            "type": "heatmap",
            "colorbar": {
             "outlinewidth": 0,
             "ticks": ""
            },
            "colorscale": [
             [
              0.0,
              "#0d0887"
             ],
             [
              0.1111111111111111,
              "#46039f"
             ],
             [
              0.2222222222222222,
              "#7201a8"
             ],
             [
              0.3333333333333333,
              "#9c179e"
             ],
             [
              0.4444444444444444,
              "#bd3786"
             ],
             [
              0.5555555555555556,
              "#d8576b"
             ],
             [
              0.6666666666666666,
              "#ed7953"
             ],
             [
              0.7777777777777778,
              "#fb9f3a"
             ],
             [
              0.8888888888888888,
              "#fdca26"
             ],
             [
              1.0,
              "#f0f921"
             ]
            ]
           }
          ],
          "heatmapgl": [
           {
            "type": "heatmapgl",
            "colorbar": {
             "outlinewidth": 0,
             "ticks": ""
            },
            "colorscale": [
             [
              0.0,
              "#0d0887"
             ],
             [
              0.1111111111111111,
              "#46039f"
             ],
             [
              0.2222222222222222,
              "#7201a8"
             ],
             [
              0.3333333333333333,
              "#9c179e"
             ],
             [
              0.4444444444444444,
              "#bd3786"
             ],
             [
              0.5555555555555556,
              "#d8576b"
             ],
             [
              0.6666666666666666,
              "#ed7953"
             ],
             [
              0.7777777777777778,
              "#fb9f3a"
             ],
             [
              0.8888888888888888,
              "#fdca26"
             ],
             [
              1.0,
              "#f0f921"
             ]
            ]
           }
          ],
          "contourcarpet": [
           {
            "type": "contourcarpet",
            "colorbar": {
             "outlinewidth": 0,
             "ticks": ""
            }
           }
          ],
          "contour": [
           {
            "type": "contour",
            "colorbar": {
             "outlinewidth": 0,
             "ticks": ""
            },
            "colorscale": [
             [
              0.0,
              "#0d0887"
             ],
             [
              0.1111111111111111,
              "#46039f"
             ],
             [
              0.2222222222222222,
              "#7201a8"
             ],
             [
              0.3333333333333333,
              "#9c179e"
             ],
             [
              0.4444444444444444,
              "#bd3786"
             ],
             [
              0.5555555555555556,
              "#d8576b"
             ],
             [
              0.6666666666666666,
              "#ed7953"
             ],
             [
              0.7777777777777778,
              "#fb9f3a"
             ],
             [
              0.8888888888888888,
              "#fdca26"
             ],
             [
              1.0,
              "#f0f921"
             ]
            ]
           }
          ],
          "surface": [
           {
            "type": "surface",
            "colorbar": {
             "outlinewidth": 0,
             "ticks": ""
            },
            "colorscale": [
             [
              0.0,
              "#0d0887"
             ],
             [
              0.1111111111111111,
              "#46039f"
             ],
             [
              0.2222222222222222,
              "#7201a8"
             ],
             [
              0.3333333333333333,
              "#9c179e"
             ],
             [
              0.4444444444444444,
              "#bd3786"
             ],
             [
              0.5555555555555556,
              "#d8576b"
             ],
             [
              0.6666666666666666,
              "#ed7953"
             ],
             [
              0.7777777777777778,
              "#fb9f3a"
             ],
             [
              0.8888888888888888,
              "#fdca26"
             ],
             [
              1.0,
              "#f0f921"
             ]
            ]
           }
          ],
          "mesh3d": [
           {
            "type": "mesh3d",
            "colorbar": {
             "outlinewidth": 0,
             "ticks": ""
            }
           }
          ],
          "scatter": [
           {
            "fillpattern": {
             "fillmode": "overlay",
             "size": 10,
             "solidity": 0.2
            },
            "type": "scatter"
           }
          ],
          "parcoords": [
           {
            "type": "parcoords",
            "line": {
             "colorbar": {
              "outlinewidth": 0,
              "ticks": ""
             }
            }
           }
          ],
          "scatterpolargl": [
           {
            "type": "scatterpolargl",
            "marker": {
             "colorbar": {
              "outlinewidth": 0,
              "ticks": ""
             }
            }
           }
          ],
          "bar": [
           {
            "error_x": {
             "color": "#2a3f5f"
            },
            "error_y": {
             "color": "#2a3f5f"
            },
            "marker": {
             "line": {
              "color": "#E5ECF6",
              "width": 0.5
             },
             "pattern": {
              "fillmode": "overlay",
              "size": 10,
              "solidity": 0.2
             }
            },
            "type": "bar"
           }
          ],
          "scattergeo": [
           {
            "type": "scattergeo",
            "marker": {
             "colorbar": {
              "outlinewidth": 0,
              "ticks": ""
             }
            }
           }
          ],
          "scatterpolar": [
           {
            "type": "scatterpolar",
            "marker": {
             "colorbar": {
              "outlinewidth": 0,
              "ticks": ""
             }
            }
           }
          ],
          "histogram": [
           {
            "marker": {
             "pattern": {
              "fillmode": "overlay",
              "size": 10,
              "solidity": 0.2
             }
            },
            "type": "histogram"
           }
          ],
          "scattergl": [
           {
            "type": "scattergl",
            "marker": {
             "colorbar": {
              "outlinewidth": 0,
              "ticks": ""
             }
            }
           }
          ],
          "scatter3d": [
           {
            "type": "scatter3d",
            "line": {
             "colorbar": {
              "outlinewidth": 0,
              "ticks": ""
             }
            },
            "marker": {
             "colorbar": {
              "outlinewidth": 0,
              "ticks": ""
             }
            }
           }
          ],
          "scattermapbox": [
           {
            "type": "scattermapbox",
            "marker": {
             "colorbar": {
              "outlinewidth": 0,
              "ticks": ""
             }
            }
           }
          ],
          "scatterternary": [
           {
            "type": "scatterternary",
            "marker": {
             "colorbar": {
              "outlinewidth": 0,
              "ticks": ""
             }
            }
           }
          ],
          "scattercarpet": [
           {
            "type": "scattercarpet",
            "marker": {
             "colorbar": {
              "outlinewidth": 0,
              "ticks": ""
             }
            }
           }
          ],
          "carpet": [
           {
            "aaxis": {
             "endlinecolor": "#2a3f5f",
             "gridcolor": "white",
             "linecolor": "white",
             "minorgridcolor": "white",
             "startlinecolor": "#2a3f5f"
            },
            "baxis": {
             "endlinecolor": "#2a3f5f",
             "gridcolor": "white",
             "linecolor": "white",
             "minorgridcolor": "white",
             "startlinecolor": "#2a3f5f"
            },
            "type": "carpet"
           }
          ],
          "table": [
           {
            "cells": {
             "fill": {
              "color": "#EBF0F8"
             },
             "line": {
              "color": "white"
             }
            },
            "header": {
             "fill": {
              "color": "#C8D4E3"
             },
             "line": {
              "color": "white"
             }
            },
            "type": "table"
           }
          ],
          "barpolar": [
           {
            "marker": {
             "line": {
              "color": "#E5ECF6",
              "width": 0.5
             },
             "pattern": {
              "fillmode": "overlay",
              "size": 10,
              "solidity": 0.2
             }
            },
            "type": "barpolar"
           }
          ],
          "pie": [
           {
            "automargin": true,
            "type": "pie"
           }
          ]
         },
         "layout": {
          "autotypenumbers": "strict",
          "colorway": [
           "#636efa",
           "#EF553B",
           "#00cc96",
           "#ab63fa",
           "#FFA15A",
           "#19d3f3",
           "#FF6692",
           "#B6E880",
           "#FF97FF",
           "#FECB52"
          ],
          "font": {
           "color": "#2a3f5f"
          },
          "hovermode": "closest",
          "hoverlabel": {
           "align": "left"
          },
          "paper_bgcolor": "white",
          "plot_bgcolor": "#E5ECF6",
          "polar": {
           "bgcolor": "#E5ECF6",
           "angularaxis": {
            "gridcolor": "white",
            "linecolor": "white",
            "ticks": ""
           },
           "radialaxis": {
            "gridcolor": "white",
            "linecolor": "white",
            "ticks": ""
           }
          },
          "ternary": {
           "bgcolor": "#E5ECF6",
           "aaxis": {
            "gridcolor": "white",
            "linecolor": "white",
            "ticks": ""
           },
           "baxis": {
            "gridcolor": "white",
            "linecolor": "white",
            "ticks": ""
           },
           "caxis": {
            "gridcolor": "white",
            "linecolor": "white",
            "ticks": ""
           }
          },
          "coloraxis": {
           "colorbar": {
            "outlinewidth": 0,
            "ticks": ""
           }
          },
          "colorscale": {
           "sequential": [
            [
             0.0,
             "#0d0887"
            ],
            [
             0.1111111111111111,
             "#46039f"
            ],
            [
             0.2222222222222222,
             "#7201a8"
            ],
            [
             0.3333333333333333,
             "#9c179e"
            ],
            [
             0.4444444444444444,
             "#bd3786"
            ],
            [
             0.5555555555555556,
             "#d8576b"
            ],
            [
             0.6666666666666666,
             "#ed7953"
            ],
            [
             0.7777777777777778,
             "#fb9f3a"
            ],
            [
             0.8888888888888888,
             "#fdca26"
            ],
            [
             1.0,
             "#f0f921"
            ]
           ],
           "sequentialminus": [
            [
             0.0,
             "#0d0887"
            ],
            [
             0.1111111111111111,
             "#46039f"
            ],
            [
             0.2222222222222222,
             "#7201a8"
            ],
            [
             0.3333333333333333,
             "#9c179e"
            ],
            [
             0.4444444444444444,
             "#bd3786"
            ],
            [
             0.5555555555555556,
             "#d8576b"
            ],
            [
             0.6666666666666666,
             "#ed7953"
            ],
            [
             0.7777777777777778,
             "#fb9f3a"
            ],
            [
             0.8888888888888888,
             "#fdca26"
            ],
            [
             1.0,
             "#f0f921"
            ]
           ],
           "diverging": [
            [
             0,
             "#8e0152"
            ],
            [
             0.1,
             "#c51b7d"
            ],
            [
             0.2,
             "#de77ae"
            ],
            [
             0.3,
             "#f1b6da"
            ],
            [
             0.4,
             "#fde0ef"
            ],
            [
             0.5,
             "#f7f7f7"
            ],
            [
             0.6,
             "#e6f5d0"
            ],
            [
             0.7,
             "#b8e186"
            ],
            [
             0.8,
             "#7fbc41"
            ],
            [
             0.9,
             "#4d9221"
            ],
            [
             1,
             "#276419"
            ]
           ]
          },
          "xaxis": {
           "gridcolor": "white",
           "linecolor": "white",
           "ticks": "",
           "title": {
            "standoff": 15
           },
           "zerolinecolor": "white",
           "automargin": true,
           "zerolinewidth": 2
          },
          "yaxis": {
           "gridcolor": "white",
           "linecolor": "white",
           "ticks": "",
           "title": {
            "standoff": 15
           },
           "zerolinecolor": "white",
           "automargin": true,
           "zerolinewidth": 2
          },
          "scene": {
           "xaxis": {
            "backgroundcolor": "#E5ECF6",
            "gridcolor": "white",
            "linecolor": "white",
            "showbackground": true,
            "ticks": "",
            "zerolinecolor": "white",
            "gridwidth": 2
           },
           "yaxis": {
            "backgroundcolor": "#E5ECF6",
            "gridcolor": "white",
            "linecolor": "white",
            "showbackground": true,
            "ticks": "",
            "zerolinecolor": "white",
            "gridwidth": 2
           },
           "zaxis": {
            "backgroundcolor": "#E5ECF6",
            "gridcolor": "white",
            "linecolor": "white",
            "showbackground": true,
            "ticks": "",
            "zerolinecolor": "white",
            "gridwidth": 2
           }
          },
          "shapedefaults": {
           "line": {
            "color": "#2a3f5f"
           }
          },
          "annotationdefaults": {
           "arrowcolor": "#2a3f5f",
           "arrowhead": 0,
           "arrowwidth": 1
          },
          "geo": {
           "bgcolor": "white",
           "landcolor": "#E5ECF6",
           "subunitcolor": "white",
           "showland": true,
           "showlakes": true,
           "lakecolor": "white"
          },
          "title": {
           "x": 0.05
          },
          "mapbox": {
           "style": "light"
          }
         }
        },
        "xaxis": {
         "anchor": "y",
         "domain": [
          0.0,
          1.0
         ],
         "title": {
          "text": "Corr_tissues"
         }
        },
        "yaxis": {
         "anchor": "x",
         "domain": [
          0.0,
          1.0
         ],
         "title": {
          "text": "Ldsc_rg"
         }
        },
        "legend": {
         "tracegroupgap": 0
        },
        "margin": {
         "t": 60
        }
       },
       "config": {
        "plotlyServerURL": "https://plot.ly"
       }
      },
      "text/html": [
       "<div>                            <div id=\"4fb2d1dc-2dc7-4163-b4c6-81556e7446c7\" class=\"plotly-graph-div\" style=\"height:525px; width:100%;\"></div>            <script type=\"text/javascript\">                require([\"plotly\"], function(Plotly) {                    window.PLOTLYENV=window.PLOTLYENV || {};                                    if (document.getElementById(\"4fb2d1dc-2dc7-4163-b4c6-81556e7446c7\")) {                    Plotly.newPlot(                        \"4fb2d1dc-2dc7-4163-b4c6-81556e7446c7\",                        [{\"customdata\":[[\"#Children, Age of Menarche\"],[\"#Children, BMI\"],[\"#Children, Balding Type 1\"],[\"#Children, Cardiovascular disease\"],[\"#Children, High Light Scatter Retic. Count\"],[\"#Children, High cholesterol\"],[\"#Children, Hypothyroidism Self Rep\"],[\"#Children, Lymphocyte Count\"],[\"#Children, Mean Corpuscular Hemoglobin\"],[\"#Children, Mean Platelet Volume\"],[\"#Children, Neuroticism\"],[\"#Children, Respiratory Ent\"],[\"#Children, Tanning\"],[\"#Children, Type 2 diabetes\"],[\"Age of Menarche, High Light Scatter Retic. Count\"],[\"Age of Menarche, Mean Platelet Volume\"],[\"Allergy Eczema Diagnosed, #Children\"],[\"Allergy Eczema Diagnosed, Age of Menarche\"],[\"Allergy Eczema Diagnosed, Asthma Diagnosed\"],[\"Allergy Eczema Diagnosed, BMI\"],[\"Allergy Eczema Diagnosed, Balding Type 1\"],[\"Allergy Eczema Diagnosed, Cardiovascular disease\"],[\"Allergy Eczema Diagnosed, Eosinophil Count\"],[\"Allergy Eczema Diagnosed, FEV1\\\\FVC Ratio\"],[\"Allergy Eczema Diagnosed, High Light Scatter Retic. Count\"],[\"Allergy Eczema Diagnosed, High cholesterol\"],[\"Allergy Eczema Diagnosed, Hypothyroidism Self Rep\"],[\"Allergy Eczema Diagnosed, Lymphocyte Count\"],[\"Allergy Eczema Diagnosed, Mean Corpuscular Hemoglobin\"],[\"Allergy Eczema Diagnosed, Mean Platelet Volume\"],[\"Allergy Eczema Diagnosed, Neuroticism\"],[\"Allergy Eczema Diagnosed, Red Blood Cell Count\"],[\"Allergy Eczema Diagnosed, Respiratory Ent\"],[\"Allergy Eczema Diagnosed, Systolic Blood Pressure\"],[\"Allergy Eczema Diagnosed, Tanning\"],[\"Allergy Eczema Diagnosed, Thyroid Any Self Rep\"],[\"Allergy Eczema Diagnosed, Type 2 diabetes\"],[\"Asthma Diagnosed, #Children\"],[\"Asthma Diagnosed, Age of Menarche\"],[\"Asthma Diagnosed, BMI\"],[\"Asthma Diagnosed, Balding Type 1\"],[\"Asthma Diagnosed, Cardiovascular disease\"],[\"Asthma Diagnosed, Eosinophil Count\"],[\"Asthma Diagnosed, FEV1\\\\FVC Ratio\"],[\"Asthma Diagnosed, High Light Scatter Retic. Count\"],[\"Asthma Diagnosed, High cholesterol\"],[\"Asthma Diagnosed, Hypothyroidism Self Rep\"],[\"Asthma Diagnosed, Lymphocyte Count\"],[\"Asthma Diagnosed, Mean Corpuscular Hemoglobin\"],[\"Asthma Diagnosed, Mean Platelet Volume\"],[\"Asthma Diagnosed, Neuroticism\"],[\"Asthma Diagnosed, Red Blood Cell Count\"],[\"Asthma Diagnosed, Respiratory Ent\"],[\"Asthma Diagnosed, Tanning\"],[\"Asthma Diagnosed, Thyroid Any Self Rep\"],[\"Asthma Diagnosed, Type 2 diabetes\"],[\"Autoimmune disease, #Children\"],[\"Autoimmune disease, Age of Menarche\"],[\"Autoimmune disease, Allergy Eczema Diagnosed\"],[\"Autoimmune disease, Asthma Diagnosed\"],[\"Autoimmune disease, BMI\"],[\"Autoimmune disease, Balding Type 1\"],[\"Autoimmune disease, Cardiovascular disease\"],[\"Autoimmune disease, Edu College\"],[\"Autoimmune disease, Eosinophil Count\"],[\"Autoimmune disease, FEV1\\\\FVC Ratio\"],[\"Autoimmune disease, High Light Scatter Retic. Count\"],[\"Autoimmune disease, High cholesterol\"],[\"Autoimmune disease, Hypothyroidism Self Rep\"],[\"Autoimmune disease, Lymphocyte Count\"],[\"Autoimmune disease, Mean Corpuscular Hemoglobin\"],[\"Autoimmune disease, Mean Platelet Volume\"],[\"Autoimmune disease, Neuroticism\"],[\"Autoimmune disease, Red Blood Cell Count\"],[\"Autoimmune disease, Respiratory Ent\"],[\"Autoimmune disease, Systolic Blood Pressure\"],[\"Autoimmune disease, Tanning\"],[\"Autoimmune disease, Thyroid Any Self Rep\"],[\"Autoimmune disease, Type 2 diabetes\"],[\"Autoimmune disease, White Blood Count\"],[\"BMI, Age of Menarche\"],[\"BMI, High Light Scatter Retic. Count\"],[\"BMI, Mean Platelet Volume\"],[\"Balding Type 1, Age of Menarche\"],[\"Balding Type 1, BMI\"],[\"Balding Type 1, Cardiovascular disease\"],[\"Balding Type 1, High Light Scatter Retic. Count\"],[\"Balding Type 1, High cholesterol\"],[\"Balding Type 1, Hypothyroidism Self Rep\"],[\"Balding Type 1, Lymphocyte Count\"],[\"Balding Type 1, Mean Platelet Volume\"],[\"Balding Type 1, Neuroticism\"],[\"Balding Type 1, Respiratory Ent\"],[\"Balding Type 1, Tanning\"],[\"Balding Type 1, Type 2 diabetes\"],[\"Bone Mineral Density, #Children\"],[\"Bone Mineral Density, Age of Menarche\"],[\"Bone Mineral Density, Allergy Eczema Diagnosed\"],[\"Bone Mineral Density, Asthma Diagnosed\"],[\"Bone Mineral Density, Autoimmune disease\"],[\"Bone Mineral Density, BMI\"],[\"Bone Mineral Density, Balding Type 1\"],[\"Bone Mineral Density, Cardiovascular disease\"],[\"Bone Mineral Density, Chronotype (morning person)\"],[\"Bone Mineral Density, Dermatology\"],[\"Bone Mineral Density, Diastolic blood pressure\"],[\"Bone Mineral Density, Edu College\"],[\"Bone Mineral Density, Eosinophil Count\"],[\"Bone Mineral Density, FEV1\\\\FVC Ratio\"],[\"Bone Mineral Density, Forced Vital Capacity\"],[\"Bone Mineral Density, Hair Color\"],[\"Bone Mineral Density, Height\"],[\"Bone Mineral Density, High Light Scatter Retic. Count\"],[\"Bone Mineral Density, High cholesterol\"],[\"Bone Mineral Density, Hypothyroidism Self Rep\"],[\"Bone Mineral Density, Lymphocyte Count\"],[\"Bone Mineral Density, Mean Corpuscular Hemoglobin\"],[\"Bone Mineral Density, Mean Platelet Volume\"],[\"Bone Mineral Density, Neuroticism\"],[\"Bone Mineral Density, Red Blood Cell Count\"],[\"Bone Mineral Density, Red Blood Cell Dist. Width\"],[\"Bone Mineral Density, Respiratory Ent\"],[\"Bone Mineral Density, Smoking Status\"],[\"Bone Mineral Density, Systolic Blood Pressure\"],[\"Bone Mineral Density, Tanning\"],[\"Bone Mineral Density, Thyroid Any Self Rep\"],[\"Bone Mineral Density, Type 2 diabetes\"],[\"Bone Mineral Density, Waist-Hip Ratio\"],[\"Bone Mineral Density, White Blood Count\"],[\"Cardiovascular disease, Age of Menarche\"],[\"Cardiovascular disease, BMI\"],[\"Cardiovascular disease, High Light Scatter Retic. Count\"],[\"Cardiovascular disease, Mean Platelet Volume\"],[\"Cardiovascular disease, Neuroticism\"],[\"Chronotype (morning person), #Children\"],[\"Chronotype (morning person), Age of Menarche\"],[\"Chronotype (morning person), Allergy Eczema Diagnosed\"],[\"Chronotype (morning person), Asthma Diagnosed\"],[\"Chronotype (morning person), Autoimmune disease\"],[\"Chronotype (morning person), BMI\"],[\"Chronotype (morning person), Balding Type 1\"],[\"Chronotype (morning person), Cardiovascular disease\"],[\"Chronotype (morning person), Dermatology\"],[\"Chronotype (morning person), Diastolic blood pressure\"],[\"Chronotype (morning person), Edu College\"],[\"Chronotype (morning person), Eosinophil Count\"],[\"Chronotype (morning person), FEV1\\\\FVC Ratio\"],[\"Chronotype (morning person), Height\"],[\"Chronotype (morning person), High Light Scatter Retic. Count\"],[\"Chronotype (morning person), High cholesterol\"],[\"Chronotype (morning person), Hypothyroidism Self Rep\"],[\"Chronotype (morning person), Lymphocyte Count\"],[\"Chronotype (morning person), Mean Corpuscular Hemoglobin\"],[\"Chronotype (morning person), Mean Platelet Volume\"],[\"Chronotype (morning person), Neuroticism\"],[\"Chronotype (morning person), Red Blood Cell Count\"],[\"Chronotype (morning person), Red Blood Cell Dist. Width\"],[\"Chronotype (morning person), Respiratory Ent\"],[\"Chronotype (morning person), Systolic Blood Pressure\"],[\"Chronotype (morning person), Tanning\"],[\"Chronotype (morning person), Thyroid Any Self Rep\"],[\"Chronotype (morning person), Type 2 diabetes\"],[\"Chronotype (morning person), White Blood Count\"],[\"Dermatology, #Children\"],[\"Dermatology, Age of Menarche\"],[\"Dermatology, Allergy Eczema Diagnosed\"],[\"Dermatology, Asthma Diagnosed\"],[\"Dermatology, Autoimmune disease\"],[\"Dermatology, BMI\"],[\"Dermatology, Balding Type 1\"],[\"Dermatology, Cardiovascular disease\"],[\"Dermatology, Diastolic blood pressure\"],[\"Dermatology, Edu College\"],[\"Dermatology, Eosinophil Count\"],[\"Dermatology, FEV1\\\\FVC Ratio\"],[\"Dermatology, Height\"],[\"Dermatology, High Light Scatter Retic. Count\"],[\"Dermatology, High cholesterol\"],[\"Dermatology, Hypothyroidism Self Rep\"],[\"Dermatology, Lymphocyte Count\"],[\"Dermatology, Mean Corpuscular Hemoglobin\"],[\"Dermatology, Mean Platelet Volume\"],[\"Dermatology, Neuroticism\"],[\"Dermatology, Red Blood Cell Count\"],[\"Dermatology, Red Blood Cell Dist. Width\"],[\"Dermatology, Respiratory Ent\"],[\"Dermatology, Systolic Blood Pressure\"],[\"Dermatology, Tanning\"],[\"Dermatology, Thyroid Any Self Rep\"],[\"Dermatology, Type 2 diabetes\"],[\"Dermatology, White Blood Count\"],[\"Diastolic blood pressure, #Children\"],[\"Diastolic blood pressure, Age of Menarche\"],[\"Diastolic blood pressure, Allergy Eczema Diagnosed\"],[\"Diastolic blood pressure, Asthma Diagnosed\"],[\"Diastolic blood pressure, Autoimmune disease\"],[\"Diastolic blood pressure, BMI\"],[\"Diastolic blood pressure, Balding Type 1\"],[\"Diastolic blood pressure, Cardiovascular disease\"],[\"Diastolic blood pressure, Edu College\"],[\"Diastolic blood pressure, Eosinophil Count\"],[\"Diastolic blood pressure, FEV1\\\\FVC Ratio\"],[\"Diastolic blood pressure, Height\"],[\"Diastolic blood pressure, High Light Scatter Retic. Count\"],[\"Diastolic blood pressure, High cholesterol\"],[\"Diastolic blood pressure, Hypothyroidism Self Rep\"],[\"Diastolic blood pressure, Lymphocyte Count\"],[\"Diastolic blood pressure, Mean Corpuscular Hemoglobin\"],[\"Diastolic blood pressure, Mean Platelet Volume\"],[\"Diastolic blood pressure, Neuroticism\"],[\"Diastolic blood pressure, Red Blood Cell Count\"],[\"Diastolic blood pressure, Red Blood Cell Dist. Width\"],[\"Diastolic blood pressure, Respiratory Ent\"],[\"Diastolic blood pressure, Systolic Blood Pressure\"],[\"Diastolic blood pressure, Tanning\"],[\"Diastolic blood pressure, Thyroid Any Self Rep\"],[\"Diastolic blood pressure, Type 2 diabetes\"],[\"Diastolic blood pressure, White Blood Count\"],[\"Edu College, #Children\"],[\"Edu College, Age of Menarche\"],[\"Edu College, Allergy Eczema Diagnosed\"],[\"Edu College, Asthma Diagnosed\"],[\"Edu College, BMI\"],[\"Edu College, Balding Type 1\"],[\"Edu College, Cardiovascular disease\"],[\"Edu College, Eosinophil Count\"],[\"Edu College, FEV1\\\\FVC Ratio\"],[\"Edu College, High Light Scatter Retic. Count\"],[\"Edu College, High cholesterol\"],[\"Edu College, Hypothyroidism Self Rep\"],[\"Edu College, Lymphocyte Count\"],[\"Edu College, Mean Corpuscular Hemoglobin\"],[\"Edu College, Mean Platelet Volume\"],[\"Edu College, Neuroticism\"],[\"Edu College, Red Blood Cell Count\"],[\"Edu College, Respiratory Ent\"],[\"Edu College, Systolic Blood Pressure\"],[\"Edu College, Tanning\"],[\"Edu College, Thyroid Any Self Rep\"],[\"Edu College, Type 2 diabetes\"],[\"Edu College, White Blood Count\"],[\"Eosinophil Count, #Children\"],[\"Eosinophil Count, Age of Menarche\"],[\"Eosinophil Count, BMI\"],[\"Eosinophil Count, Balding Type 1\"],[\"Eosinophil Count, Cardiovascular disease\"],[\"Eosinophil Count, FEV1\\\\FVC Ratio\"],[\"Eosinophil Count, High Light Scatter Retic. Count\"],[\"Eosinophil Count, High cholesterol\"],[\"Eosinophil Count, Hypothyroidism Self Rep\"],[\"Eosinophil Count, Lymphocyte Count\"],[\"Eosinophil Count, Mean Corpuscular Hemoglobin\"],[\"Eosinophil Count, Mean Platelet Volume\"],[\"Eosinophil Count, Neuroticism\"],[\"Eosinophil Count, Red Blood Cell Count\"],[\"Eosinophil Count, Respiratory Ent\"],[\"Eosinophil Count, Tanning\"],[\"Eosinophil Count, Thyroid Any Self Rep\"],[\"Eosinophil Count, Type 2 diabetes\"],[\"FEV1\\\\FVC Ratio, #Children\"],[\"FEV1\\\\FVC Ratio, Age of Menarche\"],[\"FEV1\\\\FVC Ratio, BMI\"],[\"FEV1\\\\FVC Ratio, Balding Type 1\"],[\"FEV1\\\\FVC Ratio, Cardiovascular disease\"],[\"FEV1\\\\FVC Ratio, High Light Scatter Retic. Count\"],[\"FEV1\\\\FVC Ratio, High cholesterol\"],[\"FEV1\\\\FVC Ratio, Hypothyroidism Self Rep\"],[\"FEV1\\\\FVC Ratio, Lymphocyte Count\"],[\"FEV1\\\\FVC Ratio, Mean Corpuscular Hemoglobin\"],[\"FEV1\\\\FVC Ratio, Mean Platelet Volume\"],[\"FEV1\\\\FVC Ratio, Neuroticism\"],[\"FEV1\\\\FVC Ratio, Respiratory Ent\"],[\"FEV1\\\\FVC Ratio, Tanning\"],[\"FEV1\\\\FVC Ratio, Thyroid Any Self Rep\"],[\"FEV1\\\\FVC Ratio, Type 2 diabetes\"],[\"Forced Vital Capacity, #Children\"],[\"Forced Vital Capacity, Age of Menarche\"],[\"Forced Vital Capacity, Allergy Eczema Diagnosed\"],[\"Forced Vital Capacity, Asthma Diagnosed\"],[\"Forced Vital Capacity, Autoimmune disease\"],[\"Forced Vital Capacity, BMI\"],[\"Forced Vital Capacity, Balding Type 1\"],[\"Forced Vital Capacity, Cardiovascular disease\"],[\"Forced Vital Capacity, Chronotype (morning person)\"],[\"Forced Vital Capacity, Dermatology\"],[\"Forced Vital Capacity, Diastolic blood pressure\"],[\"Forced Vital Capacity, Edu College\"],[\"Forced Vital Capacity, Eosinophil Count\"],[\"Forced Vital Capacity, FEV1\\\\FVC Ratio\"],[\"Forced Vital Capacity, Height\"],[\"Forced Vital Capacity, High Light Scatter Retic. Count\"],[\"Forced Vital Capacity, High cholesterol\"],[\"Forced Vital Capacity, Hypothyroidism Self Rep\"],[\"Forced Vital Capacity, Lymphocyte Count\"],[\"Forced Vital Capacity, Mean Corpuscular Hemoglobin\"],[\"Forced Vital Capacity, Mean Platelet Volume\"],[\"Forced Vital Capacity, Neuroticism\"],[\"Forced Vital Capacity, Red Blood Cell Count\"],[\"Forced Vital Capacity, Red Blood Cell Dist. Width\"],[\"Forced Vital Capacity, Respiratory Ent\"],[\"Forced Vital Capacity, Smoking Status\"],[\"Forced Vital Capacity, Systolic Blood Pressure\"],[\"Forced Vital Capacity, Tanning\"],[\"Forced Vital Capacity, Thyroid Any Self Rep\"],[\"Forced Vital Capacity, Type 2 diabetes\"],[\"Forced Vital Capacity, White Blood Count\"],[\"Hair Color, #Children\"],[\"Hair Color, Age of Menarche\"],[\"Hair Color, Allergy Eczema Diagnosed\"],[\"Hair Color, Asthma Diagnosed\"],[\"Hair Color, Autoimmune disease\"],[\"Hair Color, BMI\"],[\"Hair Color, Balding Type 1\"],[\"Hair Color, Cardiovascular disease\"],[\"Hair Color, Chronotype (morning person)\"],[\"Hair Color, Dermatology\"],[\"Hair Color, Diastolic blood pressure\"],[\"Hair Color, Edu College\"],[\"Hair Color, Eosinophil Count\"],[\"Hair Color, FEV1\\\\FVC Ratio\"],[\"Hair Color, Forced Vital Capacity\"],[\"Hair Color, Height\"],[\"Hair Color, High Light Scatter Retic. Count\"],[\"Hair Color, High cholesterol\"],[\"Hair Color, Hypothyroidism Self Rep\"],[\"Hair Color, Lymphocyte Count\"],[\"Hair Color, Mean Corpuscular Hemoglobin\"],[\"Hair Color, Mean Platelet Volume\"],[\"Hair Color, Neuroticism\"],[\"Hair Color, Red Blood Cell Count\"],[\"Hair Color, Red Blood Cell Dist. Width\"],[\"Hair Color, Respiratory Ent\"],[\"Hair Color, Smoking Status\"],[\"Hair Color, Systolic Blood Pressure\"],[\"Hair Color, Tanning\"],[\"Hair Color, Thyroid Any Self Rep\"],[\"Hair Color, Type 2 diabetes\"],[\"Hair Color, Waist-Hip Ratio\"],[\"Hair Color, White Blood Count\"],[\"Height, #Children\"],[\"Height, Age of Menarche\"],[\"Height, Allergy Eczema Diagnosed\"],[\"Height, Asthma Diagnosed\"],[\"Height, Autoimmune disease\"],[\"Height, BMI\"],[\"Height, Balding Type 1\"],[\"Height, Cardiovascular disease\"],[\"Height, Edu College\"],[\"Height, Eosinophil Count\"],[\"Height, FEV1\\\\FVC Ratio\"],[\"Height, High Light Scatter Retic. Count\"],[\"Height, High cholesterol\"],[\"Height, Hypothyroidism Self Rep\"],[\"Height, Lymphocyte Count\"],[\"Height, Mean Corpuscular Hemoglobin\"],[\"Height, Mean Platelet Volume\"],[\"Height, Neuroticism\"],[\"Height, Red Blood Cell Count\"],[\"Height, Respiratory Ent\"],[\"Height, Systolic Blood Pressure\"],[\"Height, Tanning\"],[\"Height, Thyroid Any Self Rep\"],[\"Height, Type 2 diabetes\"],[\"Height, White Blood Count\"],[\"High Light Scatter Retic. Count, Mean Platelet Volume\"],[\"High cholesterol, Age of Menarche\"],[\"High cholesterol, BMI\"],[\"High cholesterol, Cardiovascular disease\"],[\"High cholesterol, High Light Scatter Retic. Count\"],[\"High cholesterol, Mean Platelet Volume\"],[\"High cholesterol, Neuroticism\"],[\"Hypothyroidism Self Rep, Age of Menarche\"],[\"Hypothyroidism Self Rep, BMI\"],[\"Hypothyroidism Self Rep, Cardiovascular disease\"],[\"Hypothyroidism Self Rep, High Light Scatter Retic. Count\"],[\"Hypothyroidism Self Rep, High cholesterol\"],[\"Hypothyroidism Self Rep, Mean Platelet Volume\"],[\"Hypothyroidism Self Rep, Neuroticism\"],[\"Lymphocyte Count, Age of Menarche\"],[\"Lymphocyte Count, BMI\"],[\"Lymphocyte Count, Cardiovascular disease\"],[\"Lymphocyte Count, High Light Scatter Retic. Count\"],[\"Lymphocyte Count, High cholesterol\"],[\"Lymphocyte Count, Hypothyroidism Self Rep\"],[\"Lymphocyte Count, Mean Platelet Volume\"],[\"Lymphocyte Count, Neuroticism\"],[\"Lymphocyte Count, Respiratory Ent\"],[\"Lymphocyte Count, Tanning\"],[\"Mean Corpuscular Hemoglobin, Age of Menarche\"],[\"Mean Corpuscular Hemoglobin, BMI\"],[\"Mean Corpuscular Hemoglobin, Balding Type 1\"],[\"Mean Corpuscular Hemoglobin, Cardiovascular disease\"],[\"Mean Corpuscular Hemoglobin, High Light Scatter Retic. Count\"],[\"Mean Corpuscular Hemoglobin, High cholesterol\"],[\"Mean Corpuscular Hemoglobin, Hypothyroidism Self Rep\"],[\"Mean Corpuscular Hemoglobin, Lymphocyte Count\"],[\"Mean Corpuscular Hemoglobin, Mean Platelet Volume\"],[\"Mean Corpuscular Hemoglobin, Neuroticism\"],[\"Mean Corpuscular Hemoglobin, Respiratory Ent\"],[\"Mean Corpuscular Hemoglobin, Tanning\"],[\"Mean Corpuscular Hemoglobin, Type 2 diabetes\"],[\"Monocyte Count, #Children\"],[\"Monocyte Count, Age of Menarche\"],[\"Monocyte Count, Allergy Eczema Diagnosed\"],[\"Monocyte Count, Asthma Diagnosed\"],[\"Monocyte Count, Autoimmune disease\"],[\"Monocyte Count, BMI\"],[\"Monocyte Count, Balding Type 1\"],[\"Monocyte Count, Bone Mineral Density\"],[\"Monocyte Count, Cardiovascular disease\"],[\"Monocyte Count, Chronotype (morning person)\"],[\"Monocyte Count, Dermatology\"],[\"Monocyte Count, Diastolic blood pressure\"],[\"Monocyte Count, Edu College\"],[\"Monocyte Count, Eosinophil Count\"],[\"Monocyte Count, FEV1\\\\FVC Ratio\"],[\"Monocyte Count, Forced Vital Capacity\"],[\"Monocyte Count, Hair Color\"],[\"Monocyte Count, Height\"],[\"Monocyte Count, High Light Scatter Retic. Count\"],[\"Monocyte Count, High cholesterol\"],[\"Monocyte Count, Hypothyroidism Self Rep\"],[\"Monocyte Count, Lymphocyte Count\"],[\"Monocyte Count, Mean Corpuscular Hemoglobin\"],[\"Monocyte Count, Mean Platelet Volume\"],[\"Monocyte Count, Neuroticism\"],[\"Monocyte Count, Red Blood Cell Count\"],[\"Monocyte Count, Red Blood Cell Dist. Width\"],[\"Monocyte Count, Respiratory Ent\"],[\"Monocyte Count, Smoking Status\"],[\"Monocyte Count, Systolic Blood Pressure\"],[\"Monocyte Count, Tanning\"],[\"Monocyte Count, Thyroid Any Self Rep\"],[\"Monocyte Count, Type 2 diabetes\"],[\"Monocyte Count, Waist-Hip Ratio\"],[\"Monocyte Count, White Blood Count\"],[\"Neuroticism, Age of Menarche\"],[\"Neuroticism, BMI\"],[\"Neuroticism, High Light Scatter Retic. Count\"],[\"Neuroticism, Mean Platelet Volume\"],[\"Platelet Count, #Children\"],[\"Platelet Count, Age of Menarche\"],[\"Platelet Count, Allergy Eczema Diagnosed\"],[\"Platelet Count, Asthma Diagnosed\"],[\"Platelet Count, Autoimmune disease\"],[\"Platelet Count, BMI\"],[\"Platelet Count, Balding Type 1\"],[\"Platelet Count, Bone Mineral Density\"],[\"Platelet Count, Cardiovascular disease\"],[\"Platelet Count, Chronotype (morning person)\"],[\"Platelet Count, Dermatology\"],[\"Platelet Count, Diastolic blood pressure\"],[\"Platelet Count, Edu College\"],[\"Platelet Count, Eosinophil Count\"],[\"Platelet Count, FEV1\\\\FVC Ratio\"],[\"Platelet Count, Forced Vital Capacity\"],[\"Platelet Count, Hair Color\"],[\"Platelet Count, Height\"],[\"Platelet Count, High Light Scatter Retic. Count\"],[\"Platelet Count, High cholesterol\"],[\"Platelet Count, Hypothyroidism Self Rep\"],[\"Platelet Count, Lymphocyte Count\"],[\"Platelet Count, Mean Corpuscular Hemoglobin\"],[\"Platelet Count, Mean Platelet Volume\"],[\"Platelet Count, Monocyte Count\"],[\"Platelet Count, Neuroticism\"],[\"Platelet Count, Red Blood Cell Count\"],[\"Platelet Count, Red Blood Cell Dist. Width\"],[\"Platelet Count, Respiratory Ent\"],[\"Platelet Count, Smoking Status\"],[\"Platelet Count, Systolic Blood Pressure\"],[\"Platelet Count, Tanning\"],[\"Platelet Count, Thyroid Any Self Rep\"],[\"Platelet Count, Type 2 diabetes\"],[\"Platelet Count, Waist-Hip Ratio\"],[\"Platelet Count, White Blood Count\"],[\"Red Blood Cell Count, #Children\"],[\"Red Blood Cell Count, Age of Menarche\"],[\"Red Blood Cell Count, BMI\"],[\"Red Blood Cell Count, Balding Type 1\"],[\"Red Blood Cell Count, Cardiovascular disease\"],[\"Red Blood Cell Count, FEV1\\\\FVC Ratio\"],[\"Red Blood Cell Count, High Light Scatter Retic. Count\"],[\"Red Blood Cell Count, High cholesterol\"],[\"Red Blood Cell Count, Hypothyroidism Self Rep\"],[\"Red Blood Cell Count, Lymphocyte Count\"],[\"Red Blood Cell Count, Mean Corpuscular Hemoglobin\"],[\"Red Blood Cell Count, Mean Platelet Volume\"],[\"Red Blood Cell Count, Neuroticism\"],[\"Red Blood Cell Count, Respiratory Ent\"],[\"Red Blood Cell Count, Tanning\"],[\"Red Blood Cell Count, Thyroid Any Self Rep\"],[\"Red Blood Cell Count, Type 2 diabetes\"],[\"Red Blood Cell Dist. Width, #Children\"],[\"Red Blood Cell Dist. Width, Age of Menarche\"],[\"Red Blood Cell Dist. Width, Allergy Eczema Diagnosed\"],[\"Red Blood Cell Dist. Width, Asthma Diagnosed\"],[\"Red Blood Cell Dist. Width, Autoimmune disease\"],[\"Red Blood Cell Dist. Width, BMI\"],[\"Red Blood Cell Dist. Width, Balding Type 1\"],[\"Red Blood Cell Dist. Width, Cardiovascular disease\"],[\"Red Blood Cell Dist. Width, Edu College\"],[\"Red Blood Cell Dist. Width, Eosinophil Count\"],[\"Red Blood Cell Dist. Width, FEV1\\\\FVC Ratio\"],[\"Red Blood Cell Dist. Width, Height\"],[\"Red Blood Cell Dist. Width, High Light Scatter Retic. Count\"],[\"Red Blood Cell Dist. Width, High cholesterol\"],[\"Red Blood Cell Dist. Width, Hypothyroidism Self Rep\"],[\"Red Blood Cell Dist. Width, Lymphocyte Count\"],[\"Red Blood Cell Dist. Width, Mean Corpuscular Hemoglobin\"],[\"Red Blood Cell Dist. Width, Mean Platelet Volume\"],[\"Red Blood Cell Dist. Width, Neuroticism\"],[\"Red Blood Cell Dist. Width, Red Blood Cell Count\"],[\"Red Blood Cell Dist. Width, Respiratory Ent\"],[\"Red Blood Cell Dist. Width, Systolic Blood Pressure\"],[\"Red Blood Cell Dist. Width, Tanning\"],[\"Red Blood Cell Dist. Width, Thyroid Any Self Rep\"],[\"Red Blood Cell Dist. Width, Type 2 diabetes\"],[\"Red Blood Cell Dist. Width, White Blood Count\"],[\"Respiratory Ent, Age of Menarche\"],[\"Respiratory Ent, BMI\"],[\"Respiratory Ent, Cardiovascular disease\"],[\"Respiratory Ent, High Light Scatter Retic. Count\"],[\"Respiratory Ent, High cholesterol\"],[\"Respiratory Ent, Hypothyroidism Self Rep\"],[\"Respiratory Ent, Mean Platelet Volume\"],[\"Respiratory Ent, Neuroticism\"],[\"Smoking Status, #Children\"],[\"Smoking Status, Age of Menarche\"],[\"Smoking Status, Allergy Eczema Diagnosed\"],[\"Smoking Status, Asthma Diagnosed\"],[\"Smoking Status, Autoimmune disease\"],[\"Smoking Status, BMI\"],[\"Smoking Status, Balding Type 1\"],[\"Smoking Status, Cardiovascular disease\"],[\"Smoking Status, Chronotype (morning person)\"],[\"Smoking Status, Dermatology\"],[\"Smoking Status, Diastolic blood pressure\"],[\"Smoking Status, Edu College\"],[\"Smoking Status, Eosinophil Count\"],[\"Smoking Status, FEV1\\\\FVC Ratio\"],[\"Smoking Status, Height\"],[\"Smoking Status, High Light Scatter Retic. Count\"],[\"Smoking Status, High cholesterol\"],[\"Smoking Status, Hypothyroidism Self Rep\"],[\"Smoking Status, Lymphocyte Count\"],[\"Smoking Status, Mean Corpuscular Hemoglobin\"],[\"Smoking Status, Mean Platelet Volume\"],[\"Smoking Status, Neuroticism\"],[\"Smoking Status, Red Blood Cell Count\"],[\"Smoking Status, Red Blood Cell Dist. Width\"],[\"Smoking Status, Respiratory Ent\"],[\"Smoking Status, Systolic Blood Pressure\"],[\"Smoking Status, Tanning\"],[\"Smoking Status, Thyroid Any Self Rep\"],[\"Smoking Status, Type 2 diabetes\"],[\"Smoking Status, White Blood Count\"],[\"Systolic Blood Pressure, #Children\"],[\"Systolic Blood Pressure, Age of Menarche\"],[\"Systolic Blood Pressure, Asthma Diagnosed\"],[\"Systolic Blood Pressure, BMI\"],[\"Systolic Blood Pressure, Balding Type 1\"],[\"Systolic Blood Pressure, Cardiovascular disease\"],[\"Systolic Blood Pressure, Eosinophil Count\"],[\"Systolic Blood Pressure, FEV1\\\\FVC Ratio\"],[\"Systolic Blood Pressure, High Light Scatter Retic. Count\"],[\"Systolic Blood Pressure, High cholesterol\"],[\"Systolic Blood Pressure, Hypothyroidism Self Rep\"],[\"Systolic Blood Pressure, Lymphocyte Count\"],[\"Systolic Blood Pressure, Mean Corpuscular Hemoglobin\"],[\"Systolic Blood Pressure, Mean Platelet Volume\"],[\"Systolic Blood Pressure, Neuroticism\"],[\"Systolic Blood Pressure, Red Blood Cell Count\"],[\"Systolic Blood Pressure, Respiratory Ent\"],[\"Systolic Blood Pressure, Tanning\"],[\"Systolic Blood Pressure, Thyroid Any Self Rep\"],[\"Systolic Blood Pressure, Type 2 diabetes\"],[\"Tanning, Age of Menarche\"],[\"Tanning, BMI\"],[\"Tanning, Cardiovascular disease\"],[\"Tanning, High Light Scatter Retic. Count\"],[\"Tanning, High cholesterol\"],[\"Tanning, Hypothyroidism Self Rep\"],[\"Tanning, Mean Platelet Volume\"],[\"Tanning, Neuroticism\"],[\"Tanning, Respiratory Ent\"],[\"Thyroid Any Self Rep, #Children\"],[\"Thyroid Any Self Rep, Age of Menarche\"],[\"Thyroid Any Self Rep, BMI\"],[\"Thyroid Any Self Rep, Balding Type 1\"],[\"Thyroid Any Self Rep, Cardiovascular disease\"],[\"Thyroid Any Self Rep, High Light Scatter Retic. Count\"],[\"Thyroid Any Self Rep, High cholesterol\"],[\"Thyroid Any Self Rep, Hypothyroidism Self Rep\"],[\"Thyroid Any Self Rep, Lymphocyte Count\"],[\"Thyroid Any Self Rep, Mean Corpuscular Hemoglobin\"],[\"Thyroid Any Self Rep, Mean Platelet Volume\"],[\"Thyroid Any Self Rep, Neuroticism\"],[\"Thyroid Any Self Rep, Respiratory Ent\"],[\"Thyroid Any Self Rep, Tanning\"],[\"Thyroid Any Self Rep, Type 2 diabetes\"],[\"Type 2 diabetes, Age of Menarche\"],[\"Type 2 diabetes, BMI\"],[\"Type 2 diabetes, Cardiovascular disease\"],[\"Type 2 diabetes, High Light Scatter Retic. Count\"],[\"Type 2 diabetes, High cholesterol\"],[\"Type 2 diabetes, Hypothyroidism Self Rep\"],[\"Type 2 diabetes, Lymphocyte Count\"],[\"Type 2 diabetes, Mean Platelet Volume\"],[\"Type 2 diabetes, Neuroticism\"],[\"Type 2 diabetes, Respiratory Ent\"],[\"Type 2 diabetes, Tanning\"],[\"Waist-Hip Ratio, #Children\"],[\"Waist-Hip Ratio, Age of Menarche\"],[\"Waist-Hip Ratio, Allergy Eczema Diagnosed\"],[\"Waist-Hip Ratio, Asthma Diagnosed\"],[\"Waist-Hip Ratio, Autoimmune disease\"],[\"Waist-Hip Ratio, BMI\"],[\"Waist-Hip Ratio, Balding Type 1\"],[\"Waist-Hip Ratio, Cardiovascular disease\"],[\"Waist-Hip Ratio, Chronotype (morning person)\"],[\"Waist-Hip Ratio, Dermatology\"],[\"Waist-Hip Ratio, Diastolic blood pressure\"],[\"Waist-Hip Ratio, Edu College\"],[\"Waist-Hip Ratio, Eosinophil Count\"],[\"Waist-Hip Ratio, FEV1\\\\FVC Ratio\"],[\"Waist-Hip Ratio, Forced Vital Capacity\"],[\"Waist-Hip Ratio, Height\"],[\"Waist-Hip Ratio, High Light Scatter Retic. Count\"],[\"Waist-Hip Ratio, High cholesterol\"],[\"Waist-Hip Ratio, Hypothyroidism Self Rep\"],[\"Waist-Hip Ratio, Lymphocyte Count\"],[\"Waist-Hip Ratio, Mean Corpuscular Hemoglobin\"],[\"Waist-Hip Ratio, Mean Platelet Volume\"],[\"Waist-Hip Ratio, Neuroticism\"],[\"Waist-Hip Ratio, Red Blood Cell Count\"],[\"Waist-Hip Ratio, Red Blood Cell Dist. Width\"],[\"Waist-Hip Ratio, Respiratory Ent\"],[\"Waist-Hip Ratio, Smoking Status\"],[\"Waist-Hip Ratio, Systolic Blood Pressure\"],[\"Waist-Hip Ratio, Tanning\"],[\"Waist-Hip Ratio, Thyroid Any Self Rep\"],[\"Waist-Hip Ratio, Type 2 diabetes\"],[\"Waist-Hip Ratio, White Blood Count\"],[\"White Blood Count, #Children\"],[\"White Blood Count, Age of Menarche\"],[\"White Blood Count, Allergy Eczema Diagnosed\"],[\"White Blood Count, Asthma Diagnosed\"],[\"White Blood Count, BMI\"],[\"White Blood Count, Balding Type 1\"],[\"White Blood Count, Cardiovascular disease\"],[\"White Blood Count, Eosinophil Count\"],[\"White Blood Count, FEV1\\\\FVC Ratio\"],[\"White Blood Count, High Light Scatter Retic. Count\"],[\"White Blood Count, High cholesterol\"],[\"White Blood Count, Hypothyroidism Self Rep\"],[\"White Blood Count, Lymphocyte Count\"],[\"White Blood Count, Mean Corpuscular Hemoglobin\"],[\"White Blood Count, Mean Platelet Volume\"],[\"White Blood Count, Neuroticism\"],[\"White Blood Count, Red Blood Cell Count\"],[\"White Blood Count, Respiratory Ent\"],[\"White Blood Count, Systolic Blood Pressure\"],[\"White Blood Count, Tanning\"],[\"White Blood Count, Thyroid Any Self Rep\"],[\"White Blood Count, Type 2 diabetes\"]],\"hovertemplate\":\"label=%{customdata[0]}<extra></extra>\",\"legendgroup\":\"\",\"marker\":{\"color\":\"#636efa\",\"symbol\":\"circle\"},\"mode\":\"markers\",\"name\":\"\",\"orientation\":\"v\",\"showlegend\":false,\"x\":[0.627174346,0.29684967,0.313549871,0.365092666,0.452282995,0.191286906,0.145963134,0.407419196,0.413491739,0.480367381,0.167162955,0.430578486,0.452736865,0.259500416,0.519009342,0.397124043,0.41481548,0.410054696,0.864743863,0.365486034,0.42112709,0.701705627,0.365869806,0.269090719,0.332032744,0.292908218,0.073418444,0.761132721,0.651674276,0.454870931,0.261215417,0.433326221,0.380341466,0.669834664,0.509568704,0.24965513,0.221303219,0.576921441,0.495249832,0.314926071,0.401963472,0.641805403,0.352752331,0.268114246,0.378513213,0.30646959,0.084569754,0.781590911,0.679843882,0.529213521,0.258139617,0.451690463,0.435657228,0.556893677,0.305238787,0.25216383,0.526856211,0.380996222,0.415355417,0.428764971,0.453592653,0.465134358,0.328661511,0.513598963,0.57111234,0.347129461,0.459618908,0.244611224,0.360393054,0.454274143,0.346497408,0.411190961,0.299201018,0.357103135,0.466769626,0.294865016,0.347040808,0.552741223,0.285930079,0.349902236,0.137893976,0.286578797,0.266438896,0.143501271,0.553869129,0.338632307,0.13291877,0.210735882,0.549164024,0.293206192,0.207958922,0.394835444,0.372076601,0.227284631,0.240904192,0.546911364,0.550825226,0.479401515,0.485650135,0.433930997,0.232441701,0.170265975,0.393529135,0.269278626,0.407282078,0.229665399,0.170946579,0.205728744,0.20464653,0.292374692,0.169735795,0.380655744,0.387351008,0.080540483,0.063573811,0.382007819,0.510419515,0.52363381,0.112457414,0.539794269,0.370106506,0.367666198,0.372624293,0.416368716,0.242011096,0.181062378,0.225239887,0.285363668,0.273616088,0.426669383,0.460678015,0.484605705,0.457021117,0.241723805,0.175753463,0.056171166,0.416372243,0.339972146,0.210613321,0.567076622,0.299457198,0.486447927,0.433136051,0.302426131,0.225414386,0.220975419,0.359892623,0.095338419,0.215171074,0.136052005,0.182532993,0.251744261,0.275900426,0.371274163,0.172935488,0.200857894,0.204677433,0.146257745,0.464530304,0.170445934,0.175123338,0.286337532,0.505983616,0.325592012,0.272382122,0.59177261,0.502839587,0.472045134,0.363051949,0.36730082,0.411812469,0.328205374,0.287943541,0.33467268,0.27854515,0.237135279,0.406385745,0.316680614,0.103297755,0.51023603,0.386769269,0.475675374,0.176212346,0.331621189,0.335033059,0.269886491,0.46203655,0.328593566,0.195812895,0.23978652,0.52385784,0.288207183,0.282508158,0.383349142,0.363542446,0.316064293,0.323241746,0.381402692,0.427181309,0.350666314,0.398219448,0.346337157,0.407120783,0.345721973,0.310992433,0.468171245,0.439625586,0.356771748,0.308171777,0.546428208,0.414060613,0.239734192,0.395915743,0.449110287,0.354169363,0.526420186,0.260272834,0.322644019,0.329937578,0.178908985,0.239707531,0.266766506,0.459316793,0.544466037,0.194163196,0.641970843,0.349173073,0.327217752,0.36822331,0.445655084,0.329954853,0.242652106,0.349330747,0.240290749,0.237700523,0.303011272,0.222592374,0.244970131,0.539325575,0.327681215,0.33713609,0.344908967,0.205896842,0.459426781,0.760673887,0.279153181,0.339764294,0.234685144,0.204836398,0.547652577,0.375900901,0.400013609,0.269960413,0.375449039,0.206162926,0.468023105,0.197059924,0.689423649,0.24531721,0.170050419,0.340868391,0.421457652,0.266297684,0.395074153,0.491292617,0.487030301,0.268505189,0.42668577,0.277530507,0.391588893,0.316278246,0.321802644,0.389042996,0.355807255,0.340671034,0.241696889,0.189772131,0.513710684,0.410948153,0.36764269,0.47271924,0.574877678,0.60871098,0.450123487,0.40357999,0.44933218,0.297598928,0.580520527,0.339077932,0.239925081,0.270792413,0.153507955,0.410611562,0.378353855,0.451751723,0.302880397,0.363180405,0.286577476,0.139079673,0.38240675,0.275331166,0.578645598,0.208041283,0.496148263,0.246880642,0.501248153,0.283469481,0.187686113,0.218210516,0.198785629,0.36535235,0.38136107,0.530978476,0.261257079,0.375273218,0.234930181,0.538382017,0.461299912,0.540216052,0.289317067,0.570284431,0.124873405,0.224101009,0.158275049,0.622165671,0.159203434,0.170156005,0.221899154,0.514729321,0.155005251,0.107486935,0.476478639,0.24405596,0.228730778,0.218823297,0.623004047,0.280254105,0.130167614,0.28098697,0.50379939,0.658747013,0.533054242,0.621017614,0.425369539,0.229985772,0.169528681,0.555644047,0.306007642,0.308741007,0.444882977,0.531741161,0.41046747,0.130252694,0.720715011,0.604949768,0.407861344,0.25998264,0.589122179,0.404915704,0.501285157,0.628554287,0.370337405,0.270792137,0.392979815,0.691754345,0.346889251,0.202692463,0.283356625,0.476604619,0.336145505,0.25839589,0.086448604,0.269772607,0.09909896,0.108837769,0.143452743,0.088686547,0.596301716,0.496625738,0.293719185,0.63499394,0.545353235,0.515227147,0.073108113,0.547035462,0.291589211,0.381334069,0.631759175,0.398845249,0.32551171,0.294899055,0.569707309,0.347607576,0.207879922,0.125334458,0.705152554,0.404142978,0.290215733,0.416218585,0.47717773,0.167215755,0.361214016,0.28903284,0.771357984,0.702239511,0.364893265,0.32498785,0.386282093,0.441795969,0.616127095,0.363647746,0.504944279,0.351168046,0.215026609,0.457463198,0.185818908,0.639548735,0.259349921,0.409389924,0.220276913,0.195597569,0.142569749,0.611528137,0.654775438,0.372979265,0.255764364,0.358621801,0.257667108,0.42701355,0.283972001,0.609470323,0.330195683,0.309536263,0.218037096,0.412603272,0.567857992,0.228872453,0.237342325,0.158611678,0.112616631,0.596115961,0.484299777,0.754037579,0.811774094,0.414521694,0.315247575,0.398487338,0.49570692,0.5771462,0.262053548,0.403615518,0.355783226,0.276073414,0.436173878,0.266174517,0.421420607,0.199680778,0.58126331,0.410465079,0.278586592,0.113799773,0.712165499,0.702026344,0.53885237,0.684476107,0.264993623,0.473318604,0.399106963,0.452503043,0.327264598,0.486468639,0.524612216,0.356831703,0.233639293,0.510555164,0.527478648,0.475602587,0.562183041,0.317598745,0.194440678,0.549256305,0.349274149,0.600479559,0.498979825,0.077026709,0.509787046,0.426995387,0.507259882,0.205811034,0.292018141,0.46344265,0.269791714,0.387125487,0.393975452,0.41159921,0.309126717,0.369133359,0.28399623,0.285289599,0.110742928,0.284038727,0.243216489,0.118814975,0.346705623,0.420172519,0.567282971,0.462899054,0.068218974,0.410932654,0.331295089,0.508028699,0.148785072,0.610098034,0.196488087,0.301651544,0.552210699,0.208716737,0.373473182,0.31545365,0.379558633,0.239733934,0.28010745,0.251559939,0.21950692,0.462538124,0.188612159,0.553398174,0.400966334,0.525100856,0.377070085,0.412863782,0.468646484,0.369140479,0.309197893,0.362809859,0.173823468,0.364522709,0.29886391,0.294016184,0.340013152,0.340316002,0.454904099,0.413548745,0.35546198,0.214906441,0.480119554,0.373015876,0.262245752,0.340929996,0.398599814,0.338892668,0.358370296,0.278889739,0.451586474,0.37992088,0.318796586,0.269320651,0.344368382,0.361734157,0.584402735,0.366664159,0.319531543,0.745430134,0.281171927,0.272134636,0.373110411,0.246926542,0.117852338,0.536533562,0.575773019,0.497606966,0.202040562,0.49295406,0.167987109,0.36665032,0.258949216,0.283648682,0.55696576,0.266504064,0.478757147,0.503290814,0.447393955,0.11501394,0.378204378,0.337943075,0.329472586,0.367691057,0.278773902,0.415229319,0.643398656,0.306999019,0.301254028,0.253500633,0.790206076,0.296582238,0.269710287,0.247599496,0.560072933,0.537659109,0.360164328,0.327552771,0.314869576,0.301505884,0.248215009,0.347507799,0.443929016,0.195671948,0.245276458,0.301857624,0.187566491,0.233694419,0.299158539,0.367163849,0.509379708,0.550104887,0.572137924,0.405937246,0.254470463,0.195975126,0.59482834,0.148126902,0.37107616,0.488682156,0.324098903,0.285298785,0.448319626,0.289806898,0.763012715,0.634717224,0.50961649,0.110947923,0.778587528,0.56460146,0.496116249,0.308818396,0.605288434,0.431530481,0.319678903,0.456050465,0.557687623,0.625036199,0.339262573,0.29741815,0.545463686,0.308009831,0.273982978,0.64301217,0.608331178,0.378049022,0.389296432,0.650041859,0.364265179,0.405773946,0.468251966,0.440730367,0.087194535,0.611921982,0.454680032,0.575955887,0.205050726,0.419308098,0.223992806,0.589584469,0.41833705,0.239998028,0.324075954],\"xaxis\":\"x\",\"y\":[0.0494,0.1725,0.0853,0.0593,0.1022,0.0927,0.0788,0.0735,-0.0098,0.0261,0.0086,0.1591,0.1146,0.076,-0.1441,-0.002,-0.0698,0.0033,0.6977,-0.0729,0.0044,-0.038,0.2937,-0.0848,-0.0523,-0.0354,0.0241,-0.0847,-0.0067,-0.0302,0.0409,-0.0342,0.6713,-0.0218,-0.0451,0.0204,-0.0183,0.1282,-0.0451,0.1557,0.0246,0.1034,0.4326,-0.3229,0.0556,0.0581,0.0598,0.0432,-0.0211,0.0109,0.0936,0.0043,0.9892,0.0435,0.0513,0.1201,0.0966,-0.0775,0.1446,0.1554,0.1625,0.0138,0.172,-0.1337,0.1683,0.0233,0.1408,0.153,0.9127,0.039,-0.0022,0.048,0.2073,0.0176,0.1995,0.0019,-0.0359,0.9377,0.2183,0.0735,-0.3087,0.4204,0.0521,0.0723,0.0138,-0.019,-0.0004,0.001,0.0058,0.0023,-0.0006,-0.03,0.0219,-0.0194,-0.0259,-0.0079,-0.07,0.0063,0.0156,-0.0257,0.0291,-0.0922,0.0013,0.0233,-0.0159,-0.0024,0.0535,0.0144,0.0252,0.0578,0.0047,-0.1116,0.0774,-0.0015,-0.0045,0.0122,-0.0039,-0.0033,-0.0539,0.0454,-0.0241,0.001,-0.0349,0.004,-0.0039,-0.0087,0.0461,-0.005,-0.0057,-0.1722,0.3886,0.3327,0.0225,0.1345,0.0421,-0.0258,-0.0635,-0.0109,-0.0673,0.0099,-0.0216,0.0287,-0.032,0.0019,-0.0742,-0.0068,0.0113,-0.0233,0.0125,0.0271,-0.0387,0.0009,-0.0402,-0.0337,-0.0212,0.0474,0.008,-0.0266,0.0136,0.0415,-0.0429,0.0364,0.03,-0.0708,-0.0982,0.5466,0.3955,0.3228,0.0227,0.0469,-0.0534,-0.0985,0.1787,0.1847,-0.0669,0.0318,0.0354,-0.055,0.1223,-0.0733,-0.0491,-0.0171,0.1038,-0.0084,0.0413,0.3819,-0.083,-0.1292,0.1334,0.0561,-0.0317,-0.0506,0.002,-0.0236,0.0037,0.0155,-0.0631,-0.0003,0.7344,-0.0772,0.0209,-0.0306,-0.0515,0.0908,0.3341,0.041,0.0188,-0.018,0.014,0.011,0.1352,-0.0114,0.0065,0.7703,-0.0338,0.0492,0.1083,0.1007,-0.2998,-0.0468,0.1944,-0.0585,-0.2919,-0.0151,-0.2581,-0.0604,-0.0134,-0.2052,-0.2449,-0.1013,-0.148,0.0032,-0.0195,-0.1777,-0.0852,-0.109,-0.0901,-0.1276,-0.0989,-0.2331,-0.2291,0.0281,-0.0514,0.1247,0.004,0.0901,-0.044,0.0738,0.0658,0.1531,0.2587,-0.0801,0.0103,-0.0072,0.0761,0.4218,0.0222,0.1537,0.1128,0.0183,-0.0225,0.1522,-0.0192,0.038,0.0551,0.0737,0.0307,0.0508,-0.0394,0.0603,-0.0422,-0.3208,-0.0232,0.0292,0.087,-0.005,0.065,-0.0201,-0.15,-0.0711,-0.1576,-0.0166,-0.119,-0.041,-0.0561,-0.0038,0.0912,-0.0773,-0.0864,-0.0897,-0.1494,-0.0921,-0.0318,-0.0889,0.0711,-0.0381,-0.0127,-0.0366,-0.0299,-0.1751,-0.0163,-0.0443,0.0126,-0.0303,-0.237,-0.1111,0.0092,0.042,0.0291,0.0499,-0.0002,0.0038,-0.0173,-0.004,0.0094,0.0104,0.0069,-0.0506,0.0166,-0.0185,0.0165,-0.0594,-0.0149,0.009,-0.0213,0.0282,-0.0097,-0.0167,0.006,-0.0018,0.0148,0.0406,0.0541,-0.0123,-0.3993,-0.0217,-0.0081,0.0182,0.023,-0.0468,0.1226,-0.0079,-0.0595,-0.0086,-0.1207,0.0552,-0.1225,0.1655,-0.0449,-0.0283,-0.0838,-0.172,0.0103,-0.1308,-0.0066,0.0407,-0.0514,-0.0373,-0.0556,-0.0834,0.0318,0.0127,-0.0446,-0.1562,-0.0093,-0.1219,0.307,0.7079,0.3382,-0.0009,0.1209,-0.0584,0.1537,0.1478,0.1401,0.1556,0.041,0.1232,-0.0614,0.2084,0.1789,0.194,0.1952,0.0463,-0.0006,0.0136,0.0635,0.0071,0.0365,-0.0934,-0.0128,-0.0713,-0.0113,-0.0634,0.0328,-0.0166,-0.0486,0.0249,-0.0183,0.0943,-0.0996,0.0563,-0.011,-0.0499,0.051,0.04,0.1319,0.0053,0.0054,0.1564,0.0106,-0.0008,0.0881,-0.1149,0.2431,0.0105,-0.0662,-0.0364,-0.1048,0.1218,0.1196,0.0401,0.3845,-0.0189,0.0384,0.0296,0.1171,0.0436,0.0582,0.0983,0.0941,0.0267,0.0467,0.1475,0.0855,0.5781,-0.0146,0.0135,0.055,-0.014,0.0139,0.0094,-0.0067,0.0401,-0.0311,0.012,0.0238,-0.0138,0.0896,0.0248,-0.0223,0.0451,-0.0687,0.1288,-0.0055,-0.0134,0.0137,-0.1321,0.0279,0.1212,-0.0328,0.2186,-0.028,-0.5872,0.2001,0.0169,-0.0487,-0.0387,0.0433,0.0327,0.0758,0.0031,-0.0278,0.0407,0.0985,0.2772,0.029,-0.0528,0.1166,-0.0037,0.1279,0.0196,0.2027,0.1049,0.0079,0.072,-0.6388,0.0358,-0.0198,-0.0075,-0.0539,0.0125,0.1702,0.0571,-0.0442,-0.0146,0.0512,0.085,0.1739,0.0148,0.0842,-0.0711,0.0564,0.03,0.0059,-0.0045,0.1318,0.0387,0.0359,-0.3486,0.0944,-0.0026,0.1616,0.064,-0.0277,-0.0221,0.0471,0.0679,0.0726,-0.0504,0.1794,0.1266,0.0668,0.0844,0.0835,0.009,0.1408,0.2682,0.0211,-0.1358,0.1031,0.1328,0.2498,0.0175,0.149,-0.1385,0.0188,-0.0394,-0.3863,0.0706,0.0027,-0.0385,0.1391,0.1466,0.0822,0.1805,0.0852,0.0198,0.1674,-0.0774,0.0653,0.1616,-0.0624,0.1736,0.0847,0.2137,0.1715,-0.0722,-0.0271,-0.0037,-0.0718,-0.0149,0.7488,-0.0117,-0.0257,0.0732,0.3679,0.0159,0.0494,-0.0367,0.0163,0.0015,0.0791,-0.0065,-0.0317,0.0209,0.1623,0.005,0.0057,-0.0368,0.0046,-0.02,0.0019,-0.0145,-0.0355,0.0551,0.0681,-0.0503,0.1523,0.0124,0.1583,0.141,0.1533,0.9964,0.041,0.024,0.0364,0.1341,0.0774,0.0095,0.1869,-0.209,0.5729,0.4902,0.4558,0.4828,0.1769,0.2427,0.0057,0.0722,0.1488,-0.0366,0.0437,0.0161,-0.007,0.0496,0.0494,-0.0714,0.0252,0.1915,-0.0008,-0.0547,0.0948,-0.1211,0.0717,0.0381,-0.1588,0.0162,0.2436,0.3091,0.0168,0.1481,-0.012,-0.056,0.1033,0.1035,-0.0687,0.0565,0.1379,0.0952,-0.0262,0.0188,0.3059,0.1506,0.0694,-0.0512,-0.0478,0.1418,0.2406,0.0103,0.2441,0.3366,0.0083,0.2484,0.2048,0.0523,0.6847,-0.1059,0.0251,0.0556,0.1966,0.1556,0.1417,0.0033,0.0567,0.2834],\"yaxis\":\"y\",\"type\":\"scatter\",\"textposition\":\"top center\"}],                        {\"template\":{\"data\":{\"histogram2dcontour\":[{\"type\":\"histogram2dcontour\",\"colorbar\":{\"outlinewidth\":0,\"ticks\":\"\"},\"colorscale\":[[0.0,\"#0d0887\"],[0.1111111111111111,\"#46039f\"],[0.2222222222222222,\"#7201a8\"],[0.3333333333333333,\"#9c179e\"],[0.4444444444444444,\"#bd3786\"],[0.5555555555555556,\"#d8576b\"],[0.6666666666666666,\"#ed7953\"],[0.7777777777777778,\"#fb9f3a\"],[0.8888888888888888,\"#fdca26\"],[1.0,\"#f0f921\"]]}],\"choropleth\":[{\"type\":\"choropleth\",\"colorbar\":{\"outlinewidth\":0,\"ticks\":\"\"}}],\"histogram2d\":[{\"type\":\"histogram2d\",\"colorbar\":{\"outlinewidth\":0,\"ticks\":\"\"},\"colorscale\":[[0.0,\"#0d0887\"],[0.1111111111111111,\"#46039f\"],[0.2222222222222222,\"#7201a8\"],[0.3333333333333333,\"#9c179e\"],[0.4444444444444444,\"#bd3786\"],[0.5555555555555556,\"#d8576b\"],[0.6666666666666666,\"#ed7953\"],[0.7777777777777778,\"#fb9f3a\"],[0.8888888888888888,\"#fdca26\"],[1.0,\"#f0f921\"]]}],\"heatmap\":[{\"type\":\"heatmap\",\"colorbar\":{\"outlinewidth\":0,\"ticks\":\"\"},\"colorscale\":[[0.0,\"#0d0887\"],[0.1111111111111111,\"#46039f\"],[0.2222222222222222,\"#7201a8\"],[0.3333333333333333,\"#9c179e\"],[0.4444444444444444,\"#bd3786\"],[0.5555555555555556,\"#d8576b\"],[0.6666666666666666,\"#ed7953\"],[0.7777777777777778,\"#fb9f3a\"],[0.8888888888888888,\"#fdca26\"],[1.0,\"#f0f921\"]]}],\"heatmapgl\":[{\"type\":\"heatmapgl\",\"colorbar\":{\"outlinewidth\":0,\"ticks\":\"\"},\"colorscale\":[[0.0,\"#0d0887\"],[0.1111111111111111,\"#46039f\"],[0.2222222222222222,\"#7201a8\"],[0.3333333333333333,\"#9c179e\"],[0.4444444444444444,\"#bd3786\"],[0.5555555555555556,\"#d8576b\"],[0.6666666666666666,\"#ed7953\"],[0.7777777777777778,\"#fb9f3a\"],[0.8888888888888888,\"#fdca26\"],[1.0,\"#f0f921\"]]}],\"contourcarpet\":[{\"type\":\"contourcarpet\",\"colorbar\":{\"outlinewidth\":0,\"ticks\":\"\"}}],\"contour\":[{\"type\":\"contour\",\"colorbar\":{\"outlinewidth\":0,\"ticks\":\"\"},\"colorscale\":[[0.0,\"#0d0887\"],[0.1111111111111111,\"#46039f\"],[0.2222222222222222,\"#7201a8\"],[0.3333333333333333,\"#9c179e\"],[0.4444444444444444,\"#bd3786\"],[0.5555555555555556,\"#d8576b\"],[0.6666666666666666,\"#ed7953\"],[0.7777777777777778,\"#fb9f3a\"],[0.8888888888888888,\"#fdca26\"],[1.0,\"#f0f921\"]]}],\"surface\":[{\"type\":\"surface\",\"colorbar\":{\"outlinewidth\":0,\"ticks\":\"\"},\"colorscale\":[[0.0,\"#0d0887\"],[0.1111111111111111,\"#46039f\"],[0.2222222222222222,\"#7201a8\"],[0.3333333333333333,\"#9c179e\"],[0.4444444444444444,\"#bd3786\"],[0.5555555555555556,\"#d8576b\"],[0.6666666666666666,\"#ed7953\"],[0.7777777777777778,\"#fb9f3a\"],[0.8888888888888888,\"#fdca26\"],[1.0,\"#f0f921\"]]}],\"mesh3d\":[{\"type\":\"mesh3d\",\"colorbar\":{\"outlinewidth\":0,\"ticks\":\"\"}}],\"scatter\":[{\"fillpattern\":{\"fillmode\":\"overlay\",\"size\":10,\"solidity\":0.2},\"type\":\"scatter\"}],\"parcoords\":[{\"type\":\"parcoords\",\"line\":{\"colorbar\":{\"outlinewidth\":0,\"ticks\":\"\"}}}],\"scatterpolargl\":[{\"type\":\"scatterpolargl\",\"marker\":{\"colorbar\":{\"outlinewidth\":0,\"ticks\":\"\"}}}],\"bar\":[{\"error_x\":{\"color\":\"#2a3f5f\"},\"error_y\":{\"color\":\"#2a3f5f\"},\"marker\":{\"line\":{\"color\":\"#E5ECF6\",\"width\":0.5},\"pattern\":{\"fillmode\":\"overlay\",\"size\":10,\"solidity\":0.2}},\"type\":\"bar\"}],\"scattergeo\":[{\"type\":\"scattergeo\",\"marker\":{\"colorbar\":{\"outlinewidth\":0,\"ticks\":\"\"}}}],\"scatterpolar\":[{\"type\":\"scatterpolar\",\"marker\":{\"colorbar\":{\"outlinewidth\":0,\"ticks\":\"\"}}}],\"histogram\":[{\"marker\":{\"pattern\":{\"fillmode\":\"overlay\",\"size\":10,\"solidity\":0.2}},\"type\":\"histogram\"}],\"scattergl\":[{\"type\":\"scattergl\",\"marker\":{\"colorbar\":{\"outlinewidth\":0,\"ticks\":\"\"}}}],\"scatter3d\":[{\"type\":\"scatter3d\",\"line\":{\"colorbar\":{\"outlinewidth\":0,\"ticks\":\"\"}},\"marker\":{\"colorbar\":{\"outlinewidth\":0,\"ticks\":\"\"}}}],\"scattermapbox\":[{\"type\":\"scattermapbox\",\"marker\":{\"colorbar\":{\"outlinewidth\":0,\"ticks\":\"\"}}}],\"scatterternary\":[{\"type\":\"scatterternary\",\"marker\":{\"colorbar\":{\"outlinewidth\":0,\"ticks\":\"\"}}}],\"scattercarpet\":[{\"type\":\"scattercarpet\",\"marker\":{\"colorbar\":{\"outlinewidth\":0,\"ticks\":\"\"}}}],\"carpet\":[{\"aaxis\":{\"endlinecolor\":\"#2a3f5f\",\"gridcolor\":\"white\",\"linecolor\":\"white\",\"minorgridcolor\":\"white\",\"startlinecolor\":\"#2a3f5f\"},\"baxis\":{\"endlinecolor\":\"#2a3f5f\",\"gridcolor\":\"white\",\"linecolor\":\"white\",\"minorgridcolor\":\"white\",\"startlinecolor\":\"#2a3f5f\"},\"type\":\"carpet\"}],\"table\":[{\"cells\":{\"fill\":{\"color\":\"#EBF0F8\"},\"line\":{\"color\":\"white\"}},\"header\":{\"fill\":{\"color\":\"#C8D4E3\"},\"line\":{\"color\":\"white\"}},\"type\":\"table\"}],\"barpolar\":[{\"marker\":{\"line\":{\"color\":\"#E5ECF6\",\"width\":0.5},\"pattern\":{\"fillmode\":\"overlay\",\"size\":10,\"solidity\":0.2}},\"type\":\"barpolar\"}],\"pie\":[{\"automargin\":true,\"type\":\"pie\"}]},\"layout\":{\"autotypenumbers\":\"strict\",\"colorway\":[\"#636efa\",\"#EF553B\",\"#00cc96\",\"#ab63fa\",\"#FFA15A\",\"#19d3f3\",\"#FF6692\",\"#B6E880\",\"#FF97FF\",\"#FECB52\"],\"font\":{\"color\":\"#2a3f5f\"},\"hovermode\":\"closest\",\"hoverlabel\":{\"align\":\"left\"},\"paper_bgcolor\":\"white\",\"plot_bgcolor\":\"#E5ECF6\",\"polar\":{\"bgcolor\":\"#E5ECF6\",\"angularaxis\":{\"gridcolor\":\"white\",\"linecolor\":\"white\",\"ticks\":\"\"},\"radialaxis\":{\"gridcolor\":\"white\",\"linecolor\":\"white\",\"ticks\":\"\"}},\"ternary\":{\"bgcolor\":\"#E5ECF6\",\"aaxis\":{\"gridcolor\":\"white\",\"linecolor\":\"white\",\"ticks\":\"\"},\"baxis\":{\"gridcolor\":\"white\",\"linecolor\":\"white\",\"ticks\":\"\"},\"caxis\":{\"gridcolor\":\"white\",\"linecolor\":\"white\",\"ticks\":\"\"}},\"coloraxis\":{\"colorbar\":{\"outlinewidth\":0,\"ticks\":\"\"}},\"colorscale\":{\"sequential\":[[0.0,\"#0d0887\"],[0.1111111111111111,\"#46039f\"],[0.2222222222222222,\"#7201a8\"],[0.3333333333333333,\"#9c179e\"],[0.4444444444444444,\"#bd3786\"],[0.5555555555555556,\"#d8576b\"],[0.6666666666666666,\"#ed7953\"],[0.7777777777777778,\"#fb9f3a\"],[0.8888888888888888,\"#fdca26\"],[1.0,\"#f0f921\"]],\"sequentialminus\":[[0.0,\"#0d0887\"],[0.1111111111111111,\"#46039f\"],[0.2222222222222222,\"#7201a8\"],[0.3333333333333333,\"#9c179e\"],[0.4444444444444444,\"#bd3786\"],[0.5555555555555556,\"#d8576b\"],[0.6666666666666666,\"#ed7953\"],[0.7777777777777778,\"#fb9f3a\"],[0.8888888888888888,\"#fdca26\"],[1.0,\"#f0f921\"]],\"diverging\":[[0,\"#8e0152\"],[0.1,\"#c51b7d\"],[0.2,\"#de77ae\"],[0.3,\"#f1b6da\"],[0.4,\"#fde0ef\"],[0.5,\"#f7f7f7\"],[0.6,\"#e6f5d0\"],[0.7,\"#b8e186\"],[0.8,\"#7fbc41\"],[0.9,\"#4d9221\"],[1,\"#276419\"]]},\"xaxis\":{\"gridcolor\":\"white\",\"linecolor\":\"white\",\"ticks\":\"\",\"title\":{\"standoff\":15},\"zerolinecolor\":\"white\",\"automargin\":true,\"zerolinewidth\":2},\"yaxis\":{\"gridcolor\":\"white\",\"linecolor\":\"white\",\"ticks\":\"\",\"title\":{\"standoff\":15},\"zerolinecolor\":\"white\",\"automargin\":true,\"zerolinewidth\":2},\"scene\":{\"xaxis\":{\"backgroundcolor\":\"#E5ECF6\",\"gridcolor\":\"white\",\"linecolor\":\"white\",\"showbackground\":true,\"ticks\":\"\",\"zerolinecolor\":\"white\",\"gridwidth\":2},\"yaxis\":{\"backgroundcolor\":\"#E5ECF6\",\"gridcolor\":\"white\",\"linecolor\":\"white\",\"showbackground\":true,\"ticks\":\"\",\"zerolinecolor\":\"white\",\"gridwidth\":2},\"zaxis\":{\"backgroundcolor\":\"#E5ECF6\",\"gridcolor\":\"white\",\"linecolor\":\"white\",\"showbackground\":true,\"ticks\":\"\",\"zerolinecolor\":\"white\",\"gridwidth\":2}},\"shapedefaults\":{\"line\":{\"color\":\"#2a3f5f\"}},\"annotationdefaults\":{\"arrowcolor\":\"#2a3f5f\",\"arrowhead\":0,\"arrowwidth\":1},\"geo\":{\"bgcolor\":\"white\",\"landcolor\":\"#E5ECF6\",\"subunitcolor\":\"white\",\"showland\":true,\"showlakes\":true,\"lakecolor\":\"white\"},\"title\":{\"x\":0.05},\"mapbox\":{\"style\":\"light\"}}},\"xaxis\":{\"anchor\":\"y\",\"domain\":[0.0,1.0],\"title\":{\"text\":\"Corr_tissues\"}},\"yaxis\":{\"anchor\":\"x\",\"domain\":[0.0,1.0],\"title\":{\"text\":\"Ldsc_rg\"}},\"legend\":{\"tracegroupgap\":0},\"margin\":{\"t\":60}},                        {\"responsive\": true}                    ).then(function(){\n",
       "                            \n",
       "var gd = document.getElementById('4fb2d1dc-2dc7-4163-b4c6-81556e7446c7');\n",
       "var x = new MutationObserver(function (mutations, observer) {{\n",
       "        var display = window.getComputedStyle(gd).display;\n",
       "        if (!display || display === 'none') {{\n",
       "            console.log([gd, 'removed!']);\n",
       "            Plotly.purge(gd);\n",
       "            observer.disconnect();\n",
       "        }}\n",
       "}});\n",
       "\n",
       "// Listen for the removal of the full notebook cells\n",
       "var notebookContainer = gd.closest('#notebook-container');\n",
       "if (notebookContainer) {{\n",
       "    x.observe(notebookContainer, {childList: true});\n",
       "}}\n",
       "\n",
       "// Listen for the clearing of the current output cell\n",
       "var outputEl = gd.closest('.output');\n",
       "if (outputEl) {{\n",
       "    x.observe(outputEl, {childList: true});\n",
       "}}\n",
       "\n",
       "                        })                };                });            </script>        </div>"
      ]
     },
     "metadata": {},
     "output_type": "display_data"
    }
   ],
   "execution_count": 199
  },
  {
   "metadata": {
    "ExecuteTime": {
     "end_time": "2024-06-18T08:32:20.892499Z",
     "start_time": "2024-06-18T08:32:20.830159Z"
    }
   },
   "cell_type": "code",
   "source": [
    "import plotly.express as px\n",
    "import pandas as pd\n",
    "df_results['label'] = df_results['Node1'] + ', ' + df_results['Node2']\n",
    "# 创建交互式散点图\n",
    "fig = px.scatter(df_results, x=\"Corr_celltypes\", y='Ldsc_rg',  hover_data={'Ldsc_rg': False, 'Corr_celltypes': False, 'label': True})\n",
    "# 更新布局以显示标签\n",
    "fig.update_traces(textposition='top center')\n",
    "# 显示图形\n",
    "fig.show()"
   ],
   "id": "381bd7bb1b9f5d48",
   "outputs": [
    {
     "data": {
      "application/vnd.plotly.v1+json": {
       "data": [
        {
         "customdata": [
          [
           "#Children, Age of Menarche"
          ],
          [
           "#Children, BMI"
          ],
          [
           "#Children, Balding Type 1"
          ],
          [
           "#Children, Cardiovascular disease"
          ],
          [
           "#Children, High Light Scatter Retic. Count"
          ],
          [
           "#Children, High cholesterol"
          ],
          [
           "#Children, Hypothyroidism Self Rep"
          ],
          [
           "#Children, Lymphocyte Count"
          ],
          [
           "#Children, Mean Corpuscular Hemoglobin"
          ],
          [
           "#Children, Mean Platelet Volume"
          ],
          [
           "#Children, Neuroticism"
          ],
          [
           "#Children, Respiratory Ent"
          ],
          [
           "#Children, Tanning"
          ],
          [
           "#Children, Type 2 diabetes"
          ],
          [
           "Age of Menarche, High Light Scatter Retic. Count"
          ],
          [
           "Age of Menarche, Mean Platelet Volume"
          ],
          [
           "Allergy Eczema Diagnosed, #Children"
          ],
          [
           "Allergy Eczema Diagnosed, Age of Menarche"
          ],
          [
           "Allergy Eczema Diagnosed, Asthma Diagnosed"
          ],
          [
           "Allergy Eczema Diagnosed, BMI"
          ],
          [
           "Allergy Eczema Diagnosed, Balding Type 1"
          ],
          [
           "Allergy Eczema Diagnosed, Cardiovascular disease"
          ],
          [
           "Allergy Eczema Diagnosed, Eosinophil Count"
          ],
          [
           "Allergy Eczema Diagnosed, FEV1\\FVC Ratio"
          ],
          [
           "Allergy Eczema Diagnosed, High Light Scatter Retic. Count"
          ],
          [
           "Allergy Eczema Diagnosed, High cholesterol"
          ],
          [
           "Allergy Eczema Diagnosed, Hypothyroidism Self Rep"
          ],
          [
           "Allergy Eczema Diagnosed, Lymphocyte Count"
          ],
          [
           "Allergy Eczema Diagnosed, Mean Corpuscular Hemoglobin"
          ],
          [
           "Allergy Eczema Diagnosed, Mean Platelet Volume"
          ],
          [
           "Allergy Eczema Diagnosed, Neuroticism"
          ],
          [
           "Allergy Eczema Diagnosed, Red Blood Cell Count"
          ],
          [
           "Allergy Eczema Diagnosed, Respiratory Ent"
          ],
          [
           "Allergy Eczema Diagnosed, Systolic Blood Pressure"
          ],
          [
           "Allergy Eczema Diagnosed, Tanning"
          ],
          [
           "Allergy Eczema Diagnosed, Thyroid Any Self Rep"
          ],
          [
           "Allergy Eczema Diagnosed, Type 2 diabetes"
          ],
          [
           "Asthma Diagnosed, #Children"
          ],
          [
           "Asthma Diagnosed, Age of Menarche"
          ],
          [
           "Asthma Diagnosed, BMI"
          ],
          [
           "Asthma Diagnosed, Balding Type 1"
          ],
          [
           "Asthma Diagnosed, Cardiovascular disease"
          ],
          [
           "Asthma Diagnosed, Eosinophil Count"
          ],
          [
           "Asthma Diagnosed, FEV1\\FVC Ratio"
          ],
          [
           "Asthma Diagnosed, High Light Scatter Retic. Count"
          ],
          [
           "Asthma Diagnosed, High cholesterol"
          ],
          [
           "Asthma Diagnosed, Hypothyroidism Self Rep"
          ],
          [
           "Asthma Diagnosed, Lymphocyte Count"
          ],
          [
           "Asthma Diagnosed, Mean Corpuscular Hemoglobin"
          ],
          [
           "Asthma Diagnosed, Mean Platelet Volume"
          ],
          [
           "Asthma Diagnosed, Neuroticism"
          ],
          [
           "Asthma Diagnosed, Red Blood Cell Count"
          ],
          [
           "Asthma Diagnosed, Respiratory Ent"
          ],
          [
           "Asthma Diagnosed, Tanning"
          ],
          [
           "Asthma Diagnosed, Thyroid Any Self Rep"
          ],
          [
           "Asthma Diagnosed, Type 2 diabetes"
          ],
          [
           "Autoimmune disease, #Children"
          ],
          [
           "Autoimmune disease, Age of Menarche"
          ],
          [
           "Autoimmune disease, Allergy Eczema Diagnosed"
          ],
          [
           "Autoimmune disease, Asthma Diagnosed"
          ],
          [
           "Autoimmune disease, BMI"
          ],
          [
           "Autoimmune disease, Balding Type 1"
          ],
          [
           "Autoimmune disease, Cardiovascular disease"
          ],
          [
           "Autoimmune disease, Edu College"
          ],
          [
           "Autoimmune disease, Eosinophil Count"
          ],
          [
           "Autoimmune disease, FEV1\\FVC Ratio"
          ],
          [
           "Autoimmune disease, High Light Scatter Retic. Count"
          ],
          [
           "Autoimmune disease, High cholesterol"
          ],
          [
           "Autoimmune disease, Hypothyroidism Self Rep"
          ],
          [
           "Autoimmune disease, Lymphocyte Count"
          ],
          [
           "Autoimmune disease, Mean Corpuscular Hemoglobin"
          ],
          [
           "Autoimmune disease, Mean Platelet Volume"
          ],
          [
           "Autoimmune disease, Neuroticism"
          ],
          [
           "Autoimmune disease, Red Blood Cell Count"
          ],
          [
           "Autoimmune disease, Respiratory Ent"
          ],
          [
           "Autoimmune disease, Systolic Blood Pressure"
          ],
          [
           "Autoimmune disease, Tanning"
          ],
          [
           "Autoimmune disease, Thyroid Any Self Rep"
          ],
          [
           "Autoimmune disease, Type 2 diabetes"
          ],
          [
           "Autoimmune disease, White Blood Count"
          ],
          [
           "BMI, Age of Menarche"
          ],
          [
           "BMI, High Light Scatter Retic. Count"
          ],
          [
           "BMI, Mean Platelet Volume"
          ],
          [
           "Balding Type 1, Age of Menarche"
          ],
          [
           "Balding Type 1, BMI"
          ],
          [
           "Balding Type 1, Cardiovascular disease"
          ],
          [
           "Balding Type 1, High Light Scatter Retic. Count"
          ],
          [
           "Balding Type 1, High cholesterol"
          ],
          [
           "Balding Type 1, Hypothyroidism Self Rep"
          ],
          [
           "Balding Type 1, Lymphocyte Count"
          ],
          [
           "Balding Type 1, Mean Platelet Volume"
          ],
          [
           "Balding Type 1, Neuroticism"
          ],
          [
           "Balding Type 1, Respiratory Ent"
          ],
          [
           "Balding Type 1, Tanning"
          ],
          [
           "Balding Type 1, Type 2 diabetes"
          ],
          [
           "Bone Mineral Density, #Children"
          ],
          [
           "Bone Mineral Density, Age of Menarche"
          ],
          [
           "Bone Mineral Density, Allergy Eczema Diagnosed"
          ],
          [
           "Bone Mineral Density, Asthma Diagnosed"
          ],
          [
           "Bone Mineral Density, Autoimmune disease"
          ],
          [
           "Bone Mineral Density, BMI"
          ],
          [
           "Bone Mineral Density, Balding Type 1"
          ],
          [
           "Bone Mineral Density, Cardiovascular disease"
          ],
          [
           "Bone Mineral Density, Chronotype (morning person)"
          ],
          [
           "Bone Mineral Density, Dermatology"
          ],
          [
           "Bone Mineral Density, Diastolic blood pressure"
          ],
          [
           "Bone Mineral Density, Edu College"
          ],
          [
           "Bone Mineral Density, Eosinophil Count"
          ],
          [
           "Bone Mineral Density, FEV1\\FVC Ratio"
          ],
          [
           "Bone Mineral Density, Forced Vital Capacity"
          ],
          [
           "Bone Mineral Density, Hair Color"
          ],
          [
           "Bone Mineral Density, Height"
          ],
          [
           "Bone Mineral Density, High Light Scatter Retic. Count"
          ],
          [
           "Bone Mineral Density, High cholesterol"
          ],
          [
           "Bone Mineral Density, Hypothyroidism Self Rep"
          ],
          [
           "Bone Mineral Density, Lymphocyte Count"
          ],
          [
           "Bone Mineral Density, Mean Corpuscular Hemoglobin"
          ],
          [
           "Bone Mineral Density, Mean Platelet Volume"
          ],
          [
           "Bone Mineral Density, Neuroticism"
          ],
          [
           "Bone Mineral Density, Red Blood Cell Count"
          ],
          [
           "Bone Mineral Density, Red Blood Cell Dist. Width"
          ],
          [
           "Bone Mineral Density, Respiratory Ent"
          ],
          [
           "Bone Mineral Density, Smoking Status"
          ],
          [
           "Bone Mineral Density, Systolic Blood Pressure"
          ],
          [
           "Bone Mineral Density, Tanning"
          ],
          [
           "Bone Mineral Density, Thyroid Any Self Rep"
          ],
          [
           "Bone Mineral Density, Type 2 diabetes"
          ],
          [
           "Bone Mineral Density, Waist-Hip Ratio"
          ],
          [
           "Bone Mineral Density, White Blood Count"
          ],
          [
           "Cardiovascular disease, Age of Menarche"
          ],
          [
           "Cardiovascular disease, BMI"
          ],
          [
           "Cardiovascular disease, High Light Scatter Retic. Count"
          ],
          [
           "Cardiovascular disease, Mean Platelet Volume"
          ],
          [
           "Cardiovascular disease, Neuroticism"
          ],
          [
           "Chronotype (morning person), #Children"
          ],
          [
           "Chronotype (morning person), Age of Menarche"
          ],
          [
           "Chronotype (morning person), Allergy Eczema Diagnosed"
          ],
          [
           "Chronotype (morning person), Asthma Diagnosed"
          ],
          [
           "Chronotype (morning person), Autoimmune disease"
          ],
          [
           "Chronotype (morning person), BMI"
          ],
          [
           "Chronotype (morning person), Balding Type 1"
          ],
          [
           "Chronotype (morning person), Cardiovascular disease"
          ],
          [
           "Chronotype (morning person), Dermatology"
          ],
          [
           "Chronotype (morning person), Diastolic blood pressure"
          ],
          [
           "Chronotype (morning person), Edu College"
          ],
          [
           "Chronotype (morning person), Eosinophil Count"
          ],
          [
           "Chronotype (morning person), FEV1\\FVC Ratio"
          ],
          [
           "Chronotype (morning person), Height"
          ],
          [
           "Chronotype (morning person), High Light Scatter Retic. Count"
          ],
          [
           "Chronotype (morning person), High cholesterol"
          ],
          [
           "Chronotype (morning person), Hypothyroidism Self Rep"
          ],
          [
           "Chronotype (morning person), Lymphocyte Count"
          ],
          [
           "Chronotype (morning person), Mean Corpuscular Hemoglobin"
          ],
          [
           "Chronotype (morning person), Mean Platelet Volume"
          ],
          [
           "Chronotype (morning person), Neuroticism"
          ],
          [
           "Chronotype (morning person), Red Blood Cell Count"
          ],
          [
           "Chronotype (morning person), Red Blood Cell Dist. Width"
          ],
          [
           "Chronotype (morning person), Respiratory Ent"
          ],
          [
           "Chronotype (morning person), Systolic Blood Pressure"
          ],
          [
           "Chronotype (morning person), Tanning"
          ],
          [
           "Chronotype (morning person), Thyroid Any Self Rep"
          ],
          [
           "Chronotype (morning person), Type 2 diabetes"
          ],
          [
           "Chronotype (morning person), White Blood Count"
          ],
          [
           "Dermatology, #Children"
          ],
          [
           "Dermatology, Age of Menarche"
          ],
          [
           "Dermatology, Allergy Eczema Diagnosed"
          ],
          [
           "Dermatology, Asthma Diagnosed"
          ],
          [
           "Dermatology, Autoimmune disease"
          ],
          [
           "Dermatology, BMI"
          ],
          [
           "Dermatology, Balding Type 1"
          ],
          [
           "Dermatology, Cardiovascular disease"
          ],
          [
           "Dermatology, Diastolic blood pressure"
          ],
          [
           "Dermatology, Edu College"
          ],
          [
           "Dermatology, Eosinophil Count"
          ],
          [
           "Dermatology, FEV1\\FVC Ratio"
          ],
          [
           "Dermatology, Height"
          ],
          [
           "Dermatology, High Light Scatter Retic. Count"
          ],
          [
           "Dermatology, High cholesterol"
          ],
          [
           "Dermatology, Hypothyroidism Self Rep"
          ],
          [
           "Dermatology, Lymphocyte Count"
          ],
          [
           "Dermatology, Mean Corpuscular Hemoglobin"
          ],
          [
           "Dermatology, Mean Platelet Volume"
          ],
          [
           "Dermatology, Neuroticism"
          ],
          [
           "Dermatology, Red Blood Cell Count"
          ],
          [
           "Dermatology, Red Blood Cell Dist. Width"
          ],
          [
           "Dermatology, Respiratory Ent"
          ],
          [
           "Dermatology, Systolic Blood Pressure"
          ],
          [
           "Dermatology, Tanning"
          ],
          [
           "Dermatology, Thyroid Any Self Rep"
          ],
          [
           "Dermatology, Type 2 diabetes"
          ],
          [
           "Dermatology, White Blood Count"
          ],
          [
           "Diastolic blood pressure, #Children"
          ],
          [
           "Diastolic blood pressure, Age of Menarche"
          ],
          [
           "Diastolic blood pressure, Allergy Eczema Diagnosed"
          ],
          [
           "Diastolic blood pressure, Asthma Diagnosed"
          ],
          [
           "Diastolic blood pressure, Autoimmune disease"
          ],
          [
           "Diastolic blood pressure, BMI"
          ],
          [
           "Diastolic blood pressure, Balding Type 1"
          ],
          [
           "Diastolic blood pressure, Cardiovascular disease"
          ],
          [
           "Diastolic blood pressure, Edu College"
          ],
          [
           "Diastolic blood pressure, Eosinophil Count"
          ],
          [
           "Diastolic blood pressure, FEV1\\FVC Ratio"
          ],
          [
           "Diastolic blood pressure, Height"
          ],
          [
           "Diastolic blood pressure, High Light Scatter Retic. Count"
          ],
          [
           "Diastolic blood pressure, High cholesterol"
          ],
          [
           "Diastolic blood pressure, Hypothyroidism Self Rep"
          ],
          [
           "Diastolic blood pressure, Lymphocyte Count"
          ],
          [
           "Diastolic blood pressure, Mean Corpuscular Hemoglobin"
          ],
          [
           "Diastolic blood pressure, Mean Platelet Volume"
          ],
          [
           "Diastolic blood pressure, Neuroticism"
          ],
          [
           "Diastolic blood pressure, Red Blood Cell Count"
          ],
          [
           "Diastolic blood pressure, Red Blood Cell Dist. Width"
          ],
          [
           "Diastolic blood pressure, Respiratory Ent"
          ],
          [
           "Diastolic blood pressure, Systolic Blood Pressure"
          ],
          [
           "Diastolic blood pressure, Tanning"
          ],
          [
           "Diastolic blood pressure, Thyroid Any Self Rep"
          ],
          [
           "Diastolic blood pressure, Type 2 diabetes"
          ],
          [
           "Diastolic blood pressure, White Blood Count"
          ],
          [
           "Edu College, #Children"
          ],
          [
           "Edu College, Age of Menarche"
          ],
          [
           "Edu College, Allergy Eczema Diagnosed"
          ],
          [
           "Edu College, Asthma Diagnosed"
          ],
          [
           "Edu College, BMI"
          ],
          [
           "Edu College, Balding Type 1"
          ],
          [
           "Edu College, Cardiovascular disease"
          ],
          [
           "Edu College, Eosinophil Count"
          ],
          [
           "Edu College, FEV1\\FVC Ratio"
          ],
          [
           "Edu College, High Light Scatter Retic. Count"
          ],
          [
           "Edu College, High cholesterol"
          ],
          [
           "Edu College, Hypothyroidism Self Rep"
          ],
          [
           "Edu College, Lymphocyte Count"
          ],
          [
           "Edu College, Mean Corpuscular Hemoglobin"
          ],
          [
           "Edu College, Mean Platelet Volume"
          ],
          [
           "Edu College, Neuroticism"
          ],
          [
           "Edu College, Red Blood Cell Count"
          ],
          [
           "Edu College, Respiratory Ent"
          ],
          [
           "Edu College, Systolic Blood Pressure"
          ],
          [
           "Edu College, Tanning"
          ],
          [
           "Edu College, Thyroid Any Self Rep"
          ],
          [
           "Edu College, Type 2 diabetes"
          ],
          [
           "Edu College, White Blood Count"
          ],
          [
           "Eosinophil Count, #Children"
          ],
          [
           "Eosinophil Count, Age of Menarche"
          ],
          [
           "Eosinophil Count, BMI"
          ],
          [
           "Eosinophil Count, Balding Type 1"
          ],
          [
           "Eosinophil Count, Cardiovascular disease"
          ],
          [
           "Eosinophil Count, FEV1\\FVC Ratio"
          ],
          [
           "Eosinophil Count, High Light Scatter Retic. Count"
          ],
          [
           "Eosinophil Count, High cholesterol"
          ],
          [
           "Eosinophil Count, Hypothyroidism Self Rep"
          ],
          [
           "Eosinophil Count, Lymphocyte Count"
          ],
          [
           "Eosinophil Count, Mean Corpuscular Hemoglobin"
          ],
          [
           "Eosinophil Count, Mean Platelet Volume"
          ],
          [
           "Eosinophil Count, Neuroticism"
          ],
          [
           "Eosinophil Count, Red Blood Cell Count"
          ],
          [
           "Eosinophil Count, Respiratory Ent"
          ],
          [
           "Eosinophil Count, Tanning"
          ],
          [
           "Eosinophil Count, Thyroid Any Self Rep"
          ],
          [
           "Eosinophil Count, Type 2 diabetes"
          ],
          [
           "FEV1\\FVC Ratio, #Children"
          ],
          [
           "FEV1\\FVC Ratio, Age of Menarche"
          ],
          [
           "FEV1\\FVC Ratio, BMI"
          ],
          [
           "FEV1\\FVC Ratio, Balding Type 1"
          ],
          [
           "FEV1\\FVC Ratio, Cardiovascular disease"
          ],
          [
           "FEV1\\FVC Ratio, High Light Scatter Retic. Count"
          ],
          [
           "FEV1\\FVC Ratio, High cholesterol"
          ],
          [
           "FEV1\\FVC Ratio, Hypothyroidism Self Rep"
          ],
          [
           "FEV1\\FVC Ratio, Lymphocyte Count"
          ],
          [
           "FEV1\\FVC Ratio, Mean Corpuscular Hemoglobin"
          ],
          [
           "FEV1\\FVC Ratio, Mean Platelet Volume"
          ],
          [
           "FEV1\\FVC Ratio, Neuroticism"
          ],
          [
           "FEV1\\FVC Ratio, Respiratory Ent"
          ],
          [
           "FEV1\\FVC Ratio, Tanning"
          ],
          [
           "FEV1\\FVC Ratio, Thyroid Any Self Rep"
          ],
          [
           "FEV1\\FVC Ratio, Type 2 diabetes"
          ],
          [
           "Forced Vital Capacity, #Children"
          ],
          [
           "Forced Vital Capacity, Age of Menarche"
          ],
          [
           "Forced Vital Capacity, Allergy Eczema Diagnosed"
          ],
          [
           "Forced Vital Capacity, Asthma Diagnosed"
          ],
          [
           "Forced Vital Capacity, Autoimmune disease"
          ],
          [
           "Forced Vital Capacity, BMI"
          ],
          [
           "Forced Vital Capacity, Balding Type 1"
          ],
          [
           "Forced Vital Capacity, Cardiovascular disease"
          ],
          [
           "Forced Vital Capacity, Chronotype (morning person)"
          ],
          [
           "Forced Vital Capacity, Dermatology"
          ],
          [
           "Forced Vital Capacity, Diastolic blood pressure"
          ],
          [
           "Forced Vital Capacity, Edu College"
          ],
          [
           "Forced Vital Capacity, Eosinophil Count"
          ],
          [
           "Forced Vital Capacity, FEV1\\FVC Ratio"
          ],
          [
           "Forced Vital Capacity, Height"
          ],
          [
           "Forced Vital Capacity, High Light Scatter Retic. Count"
          ],
          [
           "Forced Vital Capacity, High cholesterol"
          ],
          [
           "Forced Vital Capacity, Hypothyroidism Self Rep"
          ],
          [
           "Forced Vital Capacity, Lymphocyte Count"
          ],
          [
           "Forced Vital Capacity, Mean Corpuscular Hemoglobin"
          ],
          [
           "Forced Vital Capacity, Mean Platelet Volume"
          ],
          [
           "Forced Vital Capacity, Neuroticism"
          ],
          [
           "Forced Vital Capacity, Red Blood Cell Count"
          ],
          [
           "Forced Vital Capacity, Red Blood Cell Dist. Width"
          ],
          [
           "Forced Vital Capacity, Respiratory Ent"
          ],
          [
           "Forced Vital Capacity, Smoking Status"
          ],
          [
           "Forced Vital Capacity, Systolic Blood Pressure"
          ],
          [
           "Forced Vital Capacity, Tanning"
          ],
          [
           "Forced Vital Capacity, Thyroid Any Self Rep"
          ],
          [
           "Forced Vital Capacity, Type 2 diabetes"
          ],
          [
           "Forced Vital Capacity, White Blood Count"
          ],
          [
           "Hair Color, #Children"
          ],
          [
           "Hair Color, Age of Menarche"
          ],
          [
           "Hair Color, Allergy Eczema Diagnosed"
          ],
          [
           "Hair Color, Asthma Diagnosed"
          ],
          [
           "Hair Color, Autoimmune disease"
          ],
          [
           "Hair Color, BMI"
          ],
          [
           "Hair Color, Balding Type 1"
          ],
          [
           "Hair Color, Cardiovascular disease"
          ],
          [
           "Hair Color, Chronotype (morning person)"
          ],
          [
           "Hair Color, Dermatology"
          ],
          [
           "Hair Color, Diastolic blood pressure"
          ],
          [
           "Hair Color, Edu College"
          ],
          [
           "Hair Color, Eosinophil Count"
          ],
          [
           "Hair Color, FEV1\\FVC Ratio"
          ],
          [
           "Hair Color, Forced Vital Capacity"
          ],
          [
           "Hair Color, Height"
          ],
          [
           "Hair Color, High Light Scatter Retic. Count"
          ],
          [
           "Hair Color, High cholesterol"
          ],
          [
           "Hair Color, Hypothyroidism Self Rep"
          ],
          [
           "Hair Color, Lymphocyte Count"
          ],
          [
           "Hair Color, Mean Corpuscular Hemoglobin"
          ],
          [
           "Hair Color, Mean Platelet Volume"
          ],
          [
           "Hair Color, Neuroticism"
          ],
          [
           "Hair Color, Red Blood Cell Count"
          ],
          [
           "Hair Color, Red Blood Cell Dist. Width"
          ],
          [
           "Hair Color, Respiratory Ent"
          ],
          [
           "Hair Color, Smoking Status"
          ],
          [
           "Hair Color, Systolic Blood Pressure"
          ],
          [
           "Hair Color, Tanning"
          ],
          [
           "Hair Color, Thyroid Any Self Rep"
          ],
          [
           "Hair Color, Type 2 diabetes"
          ],
          [
           "Hair Color, Waist-Hip Ratio"
          ],
          [
           "Hair Color, White Blood Count"
          ],
          [
           "Height, #Children"
          ],
          [
           "Height, Age of Menarche"
          ],
          [
           "Height, Allergy Eczema Diagnosed"
          ],
          [
           "Height, Asthma Diagnosed"
          ],
          [
           "Height, Autoimmune disease"
          ],
          [
           "Height, BMI"
          ],
          [
           "Height, Balding Type 1"
          ],
          [
           "Height, Cardiovascular disease"
          ],
          [
           "Height, Edu College"
          ],
          [
           "Height, Eosinophil Count"
          ],
          [
           "Height, FEV1\\FVC Ratio"
          ],
          [
           "Height, High Light Scatter Retic. Count"
          ],
          [
           "Height, High cholesterol"
          ],
          [
           "Height, Hypothyroidism Self Rep"
          ],
          [
           "Height, Lymphocyte Count"
          ],
          [
           "Height, Mean Corpuscular Hemoglobin"
          ],
          [
           "Height, Mean Platelet Volume"
          ],
          [
           "Height, Neuroticism"
          ],
          [
           "Height, Red Blood Cell Count"
          ],
          [
           "Height, Respiratory Ent"
          ],
          [
           "Height, Systolic Blood Pressure"
          ],
          [
           "Height, Tanning"
          ],
          [
           "Height, Thyroid Any Self Rep"
          ],
          [
           "Height, Type 2 diabetes"
          ],
          [
           "Height, White Blood Count"
          ],
          [
           "High Light Scatter Retic. Count, Mean Platelet Volume"
          ],
          [
           "High cholesterol, Age of Menarche"
          ],
          [
           "High cholesterol, BMI"
          ],
          [
           "High cholesterol, Cardiovascular disease"
          ],
          [
           "High cholesterol, High Light Scatter Retic. Count"
          ],
          [
           "High cholesterol, Mean Platelet Volume"
          ],
          [
           "High cholesterol, Neuroticism"
          ],
          [
           "Hypothyroidism Self Rep, Age of Menarche"
          ],
          [
           "Hypothyroidism Self Rep, BMI"
          ],
          [
           "Hypothyroidism Self Rep, Cardiovascular disease"
          ],
          [
           "Hypothyroidism Self Rep, High Light Scatter Retic. Count"
          ],
          [
           "Hypothyroidism Self Rep, High cholesterol"
          ],
          [
           "Hypothyroidism Self Rep, Mean Platelet Volume"
          ],
          [
           "Hypothyroidism Self Rep, Neuroticism"
          ],
          [
           "Lymphocyte Count, Age of Menarche"
          ],
          [
           "Lymphocyte Count, BMI"
          ],
          [
           "Lymphocyte Count, Cardiovascular disease"
          ],
          [
           "Lymphocyte Count, High Light Scatter Retic. Count"
          ],
          [
           "Lymphocyte Count, High cholesterol"
          ],
          [
           "Lymphocyte Count, Hypothyroidism Self Rep"
          ],
          [
           "Lymphocyte Count, Mean Platelet Volume"
          ],
          [
           "Lymphocyte Count, Neuroticism"
          ],
          [
           "Lymphocyte Count, Respiratory Ent"
          ],
          [
           "Lymphocyte Count, Tanning"
          ],
          [
           "Mean Corpuscular Hemoglobin, Age of Menarche"
          ],
          [
           "Mean Corpuscular Hemoglobin, BMI"
          ],
          [
           "Mean Corpuscular Hemoglobin, Balding Type 1"
          ],
          [
           "Mean Corpuscular Hemoglobin, Cardiovascular disease"
          ],
          [
           "Mean Corpuscular Hemoglobin, High Light Scatter Retic. Count"
          ],
          [
           "Mean Corpuscular Hemoglobin, High cholesterol"
          ],
          [
           "Mean Corpuscular Hemoglobin, Hypothyroidism Self Rep"
          ],
          [
           "Mean Corpuscular Hemoglobin, Lymphocyte Count"
          ],
          [
           "Mean Corpuscular Hemoglobin, Mean Platelet Volume"
          ],
          [
           "Mean Corpuscular Hemoglobin, Neuroticism"
          ],
          [
           "Mean Corpuscular Hemoglobin, Respiratory Ent"
          ],
          [
           "Mean Corpuscular Hemoglobin, Tanning"
          ],
          [
           "Mean Corpuscular Hemoglobin, Type 2 diabetes"
          ],
          [
           "Monocyte Count, #Children"
          ],
          [
           "Monocyte Count, Age of Menarche"
          ],
          [
           "Monocyte Count, Allergy Eczema Diagnosed"
          ],
          [
           "Monocyte Count, Asthma Diagnosed"
          ],
          [
           "Monocyte Count, Autoimmune disease"
          ],
          [
           "Monocyte Count, BMI"
          ],
          [
           "Monocyte Count, Balding Type 1"
          ],
          [
           "Monocyte Count, Bone Mineral Density"
          ],
          [
           "Monocyte Count, Cardiovascular disease"
          ],
          [
           "Monocyte Count, Chronotype (morning person)"
          ],
          [
           "Monocyte Count, Dermatology"
          ],
          [
           "Monocyte Count, Diastolic blood pressure"
          ],
          [
           "Monocyte Count, Edu College"
          ],
          [
           "Monocyte Count, Eosinophil Count"
          ],
          [
           "Monocyte Count, FEV1\\FVC Ratio"
          ],
          [
           "Monocyte Count, Forced Vital Capacity"
          ],
          [
           "Monocyte Count, Hair Color"
          ],
          [
           "Monocyte Count, Height"
          ],
          [
           "Monocyte Count, High Light Scatter Retic. Count"
          ],
          [
           "Monocyte Count, High cholesterol"
          ],
          [
           "Monocyte Count, Hypothyroidism Self Rep"
          ],
          [
           "Monocyte Count, Lymphocyte Count"
          ],
          [
           "Monocyte Count, Mean Corpuscular Hemoglobin"
          ],
          [
           "Monocyte Count, Mean Platelet Volume"
          ],
          [
           "Monocyte Count, Neuroticism"
          ],
          [
           "Monocyte Count, Red Blood Cell Count"
          ],
          [
           "Monocyte Count, Red Blood Cell Dist. Width"
          ],
          [
           "Monocyte Count, Respiratory Ent"
          ],
          [
           "Monocyte Count, Smoking Status"
          ],
          [
           "Monocyte Count, Systolic Blood Pressure"
          ],
          [
           "Monocyte Count, Tanning"
          ],
          [
           "Monocyte Count, Thyroid Any Self Rep"
          ],
          [
           "Monocyte Count, Type 2 diabetes"
          ],
          [
           "Monocyte Count, Waist-Hip Ratio"
          ],
          [
           "Monocyte Count, White Blood Count"
          ],
          [
           "Neuroticism, Age of Menarche"
          ],
          [
           "Neuroticism, BMI"
          ],
          [
           "Neuroticism, High Light Scatter Retic. Count"
          ],
          [
           "Neuroticism, Mean Platelet Volume"
          ],
          [
           "Platelet Count, #Children"
          ],
          [
           "Platelet Count, Age of Menarche"
          ],
          [
           "Platelet Count, Allergy Eczema Diagnosed"
          ],
          [
           "Platelet Count, Asthma Diagnosed"
          ],
          [
           "Platelet Count, Autoimmune disease"
          ],
          [
           "Platelet Count, BMI"
          ],
          [
           "Platelet Count, Balding Type 1"
          ],
          [
           "Platelet Count, Bone Mineral Density"
          ],
          [
           "Platelet Count, Cardiovascular disease"
          ],
          [
           "Platelet Count, Chronotype (morning person)"
          ],
          [
           "Platelet Count, Dermatology"
          ],
          [
           "Platelet Count, Diastolic blood pressure"
          ],
          [
           "Platelet Count, Edu College"
          ],
          [
           "Platelet Count, Eosinophil Count"
          ],
          [
           "Platelet Count, FEV1\\FVC Ratio"
          ],
          [
           "Platelet Count, Forced Vital Capacity"
          ],
          [
           "Platelet Count, Hair Color"
          ],
          [
           "Platelet Count, Height"
          ],
          [
           "Platelet Count, High Light Scatter Retic. Count"
          ],
          [
           "Platelet Count, High cholesterol"
          ],
          [
           "Platelet Count, Hypothyroidism Self Rep"
          ],
          [
           "Platelet Count, Lymphocyte Count"
          ],
          [
           "Platelet Count, Mean Corpuscular Hemoglobin"
          ],
          [
           "Platelet Count, Mean Platelet Volume"
          ],
          [
           "Platelet Count, Monocyte Count"
          ],
          [
           "Platelet Count, Neuroticism"
          ],
          [
           "Platelet Count, Red Blood Cell Count"
          ],
          [
           "Platelet Count, Red Blood Cell Dist. Width"
          ],
          [
           "Platelet Count, Respiratory Ent"
          ],
          [
           "Platelet Count, Smoking Status"
          ],
          [
           "Platelet Count, Systolic Blood Pressure"
          ],
          [
           "Platelet Count, Tanning"
          ],
          [
           "Platelet Count, Thyroid Any Self Rep"
          ],
          [
           "Platelet Count, Type 2 diabetes"
          ],
          [
           "Platelet Count, Waist-Hip Ratio"
          ],
          [
           "Platelet Count, White Blood Count"
          ],
          [
           "Red Blood Cell Count, #Children"
          ],
          [
           "Red Blood Cell Count, Age of Menarche"
          ],
          [
           "Red Blood Cell Count, BMI"
          ],
          [
           "Red Blood Cell Count, Balding Type 1"
          ],
          [
           "Red Blood Cell Count, Cardiovascular disease"
          ],
          [
           "Red Blood Cell Count, FEV1\\FVC Ratio"
          ],
          [
           "Red Blood Cell Count, High Light Scatter Retic. Count"
          ],
          [
           "Red Blood Cell Count, High cholesterol"
          ],
          [
           "Red Blood Cell Count, Hypothyroidism Self Rep"
          ],
          [
           "Red Blood Cell Count, Lymphocyte Count"
          ],
          [
           "Red Blood Cell Count, Mean Corpuscular Hemoglobin"
          ],
          [
           "Red Blood Cell Count, Mean Platelet Volume"
          ],
          [
           "Red Blood Cell Count, Neuroticism"
          ],
          [
           "Red Blood Cell Count, Respiratory Ent"
          ],
          [
           "Red Blood Cell Count, Tanning"
          ],
          [
           "Red Blood Cell Count, Thyroid Any Self Rep"
          ],
          [
           "Red Blood Cell Count, Type 2 diabetes"
          ],
          [
           "Red Blood Cell Dist. Width, #Children"
          ],
          [
           "Red Blood Cell Dist. Width, Age of Menarche"
          ],
          [
           "Red Blood Cell Dist. Width, Allergy Eczema Diagnosed"
          ],
          [
           "Red Blood Cell Dist. Width, Asthma Diagnosed"
          ],
          [
           "Red Blood Cell Dist. Width, Autoimmune disease"
          ],
          [
           "Red Blood Cell Dist. Width, BMI"
          ],
          [
           "Red Blood Cell Dist. Width, Balding Type 1"
          ],
          [
           "Red Blood Cell Dist. Width, Cardiovascular disease"
          ],
          [
           "Red Blood Cell Dist. Width, Edu College"
          ],
          [
           "Red Blood Cell Dist. Width, Eosinophil Count"
          ],
          [
           "Red Blood Cell Dist. Width, FEV1\\FVC Ratio"
          ],
          [
           "Red Blood Cell Dist. Width, Height"
          ],
          [
           "Red Blood Cell Dist. Width, High Light Scatter Retic. Count"
          ],
          [
           "Red Blood Cell Dist. Width, High cholesterol"
          ],
          [
           "Red Blood Cell Dist. Width, Hypothyroidism Self Rep"
          ],
          [
           "Red Blood Cell Dist. Width, Lymphocyte Count"
          ],
          [
           "Red Blood Cell Dist. Width, Mean Corpuscular Hemoglobin"
          ],
          [
           "Red Blood Cell Dist. Width, Mean Platelet Volume"
          ],
          [
           "Red Blood Cell Dist. Width, Neuroticism"
          ],
          [
           "Red Blood Cell Dist. Width, Red Blood Cell Count"
          ],
          [
           "Red Blood Cell Dist. Width, Respiratory Ent"
          ],
          [
           "Red Blood Cell Dist. Width, Systolic Blood Pressure"
          ],
          [
           "Red Blood Cell Dist. Width, Tanning"
          ],
          [
           "Red Blood Cell Dist. Width, Thyroid Any Self Rep"
          ],
          [
           "Red Blood Cell Dist. Width, Type 2 diabetes"
          ],
          [
           "Red Blood Cell Dist. Width, White Blood Count"
          ],
          [
           "Respiratory Ent, Age of Menarche"
          ],
          [
           "Respiratory Ent, BMI"
          ],
          [
           "Respiratory Ent, Cardiovascular disease"
          ],
          [
           "Respiratory Ent, High Light Scatter Retic. Count"
          ],
          [
           "Respiratory Ent, High cholesterol"
          ],
          [
           "Respiratory Ent, Hypothyroidism Self Rep"
          ],
          [
           "Respiratory Ent, Mean Platelet Volume"
          ],
          [
           "Respiratory Ent, Neuroticism"
          ],
          [
           "Smoking Status, #Children"
          ],
          [
           "Smoking Status, Age of Menarche"
          ],
          [
           "Smoking Status, Allergy Eczema Diagnosed"
          ],
          [
           "Smoking Status, Asthma Diagnosed"
          ],
          [
           "Smoking Status, Autoimmune disease"
          ],
          [
           "Smoking Status, BMI"
          ],
          [
           "Smoking Status, Balding Type 1"
          ],
          [
           "Smoking Status, Cardiovascular disease"
          ],
          [
           "Smoking Status, Chronotype (morning person)"
          ],
          [
           "Smoking Status, Dermatology"
          ],
          [
           "Smoking Status, Diastolic blood pressure"
          ],
          [
           "Smoking Status, Edu College"
          ],
          [
           "Smoking Status, Eosinophil Count"
          ],
          [
           "Smoking Status, FEV1\\FVC Ratio"
          ],
          [
           "Smoking Status, Height"
          ],
          [
           "Smoking Status, High Light Scatter Retic. Count"
          ],
          [
           "Smoking Status, High cholesterol"
          ],
          [
           "Smoking Status, Hypothyroidism Self Rep"
          ],
          [
           "Smoking Status, Lymphocyte Count"
          ],
          [
           "Smoking Status, Mean Corpuscular Hemoglobin"
          ],
          [
           "Smoking Status, Mean Platelet Volume"
          ],
          [
           "Smoking Status, Neuroticism"
          ],
          [
           "Smoking Status, Red Blood Cell Count"
          ],
          [
           "Smoking Status, Red Blood Cell Dist. Width"
          ],
          [
           "Smoking Status, Respiratory Ent"
          ],
          [
           "Smoking Status, Systolic Blood Pressure"
          ],
          [
           "Smoking Status, Tanning"
          ],
          [
           "Smoking Status, Thyroid Any Self Rep"
          ],
          [
           "Smoking Status, Type 2 diabetes"
          ],
          [
           "Smoking Status, White Blood Count"
          ],
          [
           "Systolic Blood Pressure, #Children"
          ],
          [
           "Systolic Blood Pressure, Age of Menarche"
          ],
          [
           "Systolic Blood Pressure, Asthma Diagnosed"
          ],
          [
           "Systolic Blood Pressure, BMI"
          ],
          [
           "Systolic Blood Pressure, Balding Type 1"
          ],
          [
           "Systolic Blood Pressure, Cardiovascular disease"
          ],
          [
           "Systolic Blood Pressure, Eosinophil Count"
          ],
          [
           "Systolic Blood Pressure, FEV1\\FVC Ratio"
          ],
          [
           "Systolic Blood Pressure, High Light Scatter Retic. Count"
          ],
          [
           "Systolic Blood Pressure, High cholesterol"
          ],
          [
           "Systolic Blood Pressure, Hypothyroidism Self Rep"
          ],
          [
           "Systolic Blood Pressure, Lymphocyte Count"
          ],
          [
           "Systolic Blood Pressure, Mean Corpuscular Hemoglobin"
          ],
          [
           "Systolic Blood Pressure, Mean Platelet Volume"
          ],
          [
           "Systolic Blood Pressure, Neuroticism"
          ],
          [
           "Systolic Blood Pressure, Red Blood Cell Count"
          ],
          [
           "Systolic Blood Pressure, Respiratory Ent"
          ],
          [
           "Systolic Blood Pressure, Tanning"
          ],
          [
           "Systolic Blood Pressure, Thyroid Any Self Rep"
          ],
          [
           "Systolic Blood Pressure, Type 2 diabetes"
          ],
          [
           "Tanning, Age of Menarche"
          ],
          [
           "Tanning, BMI"
          ],
          [
           "Tanning, Cardiovascular disease"
          ],
          [
           "Tanning, High Light Scatter Retic. Count"
          ],
          [
           "Tanning, High cholesterol"
          ],
          [
           "Tanning, Hypothyroidism Self Rep"
          ],
          [
           "Tanning, Mean Platelet Volume"
          ],
          [
           "Tanning, Neuroticism"
          ],
          [
           "Tanning, Respiratory Ent"
          ],
          [
           "Thyroid Any Self Rep, #Children"
          ],
          [
           "Thyroid Any Self Rep, Age of Menarche"
          ],
          [
           "Thyroid Any Self Rep, BMI"
          ],
          [
           "Thyroid Any Self Rep, Balding Type 1"
          ],
          [
           "Thyroid Any Self Rep, Cardiovascular disease"
          ],
          [
           "Thyroid Any Self Rep, High Light Scatter Retic. Count"
          ],
          [
           "Thyroid Any Self Rep, High cholesterol"
          ],
          [
           "Thyroid Any Self Rep, Hypothyroidism Self Rep"
          ],
          [
           "Thyroid Any Self Rep, Lymphocyte Count"
          ],
          [
           "Thyroid Any Self Rep, Mean Corpuscular Hemoglobin"
          ],
          [
           "Thyroid Any Self Rep, Mean Platelet Volume"
          ],
          [
           "Thyroid Any Self Rep, Neuroticism"
          ],
          [
           "Thyroid Any Self Rep, Respiratory Ent"
          ],
          [
           "Thyroid Any Self Rep, Tanning"
          ],
          [
           "Thyroid Any Self Rep, Type 2 diabetes"
          ],
          [
           "Type 2 diabetes, Age of Menarche"
          ],
          [
           "Type 2 diabetes, BMI"
          ],
          [
           "Type 2 diabetes, Cardiovascular disease"
          ],
          [
           "Type 2 diabetes, High Light Scatter Retic. Count"
          ],
          [
           "Type 2 diabetes, High cholesterol"
          ],
          [
           "Type 2 diabetes, Hypothyroidism Self Rep"
          ],
          [
           "Type 2 diabetes, Lymphocyte Count"
          ],
          [
           "Type 2 diabetes, Mean Platelet Volume"
          ],
          [
           "Type 2 diabetes, Neuroticism"
          ],
          [
           "Type 2 diabetes, Respiratory Ent"
          ],
          [
           "Type 2 diabetes, Tanning"
          ],
          [
           "Waist-Hip Ratio, #Children"
          ],
          [
           "Waist-Hip Ratio, Age of Menarche"
          ],
          [
           "Waist-Hip Ratio, Allergy Eczema Diagnosed"
          ],
          [
           "Waist-Hip Ratio, Asthma Diagnosed"
          ],
          [
           "Waist-Hip Ratio, Autoimmune disease"
          ],
          [
           "Waist-Hip Ratio, BMI"
          ],
          [
           "Waist-Hip Ratio, Balding Type 1"
          ],
          [
           "Waist-Hip Ratio, Cardiovascular disease"
          ],
          [
           "Waist-Hip Ratio, Chronotype (morning person)"
          ],
          [
           "Waist-Hip Ratio, Dermatology"
          ],
          [
           "Waist-Hip Ratio, Diastolic blood pressure"
          ],
          [
           "Waist-Hip Ratio, Edu College"
          ],
          [
           "Waist-Hip Ratio, Eosinophil Count"
          ],
          [
           "Waist-Hip Ratio, FEV1\\FVC Ratio"
          ],
          [
           "Waist-Hip Ratio, Forced Vital Capacity"
          ],
          [
           "Waist-Hip Ratio, Height"
          ],
          [
           "Waist-Hip Ratio, High Light Scatter Retic. Count"
          ],
          [
           "Waist-Hip Ratio, High cholesterol"
          ],
          [
           "Waist-Hip Ratio, Hypothyroidism Self Rep"
          ],
          [
           "Waist-Hip Ratio, Lymphocyte Count"
          ],
          [
           "Waist-Hip Ratio, Mean Corpuscular Hemoglobin"
          ],
          [
           "Waist-Hip Ratio, Mean Platelet Volume"
          ],
          [
           "Waist-Hip Ratio, Neuroticism"
          ],
          [
           "Waist-Hip Ratio, Red Blood Cell Count"
          ],
          [
           "Waist-Hip Ratio, Red Blood Cell Dist. Width"
          ],
          [
           "Waist-Hip Ratio, Respiratory Ent"
          ],
          [
           "Waist-Hip Ratio, Smoking Status"
          ],
          [
           "Waist-Hip Ratio, Systolic Blood Pressure"
          ],
          [
           "Waist-Hip Ratio, Tanning"
          ],
          [
           "Waist-Hip Ratio, Thyroid Any Self Rep"
          ],
          [
           "Waist-Hip Ratio, Type 2 diabetes"
          ],
          [
           "Waist-Hip Ratio, White Blood Count"
          ],
          [
           "White Blood Count, #Children"
          ],
          [
           "White Blood Count, Age of Menarche"
          ],
          [
           "White Blood Count, Allergy Eczema Diagnosed"
          ],
          [
           "White Blood Count, Asthma Diagnosed"
          ],
          [
           "White Blood Count, BMI"
          ],
          [
           "White Blood Count, Balding Type 1"
          ],
          [
           "White Blood Count, Cardiovascular disease"
          ],
          [
           "White Blood Count, Eosinophil Count"
          ],
          [
           "White Blood Count, FEV1\\FVC Ratio"
          ],
          [
           "White Blood Count, High Light Scatter Retic. Count"
          ],
          [
           "White Blood Count, High cholesterol"
          ],
          [
           "White Blood Count, Hypothyroidism Self Rep"
          ],
          [
           "White Blood Count, Lymphocyte Count"
          ],
          [
           "White Blood Count, Mean Corpuscular Hemoglobin"
          ],
          [
           "White Blood Count, Mean Platelet Volume"
          ],
          [
           "White Blood Count, Neuroticism"
          ],
          [
           "White Blood Count, Red Blood Cell Count"
          ],
          [
           "White Blood Count, Respiratory Ent"
          ],
          [
           "White Blood Count, Systolic Blood Pressure"
          ],
          [
           "White Blood Count, Tanning"
          ],
          [
           "White Blood Count, Thyroid Any Self Rep"
          ],
          [
           "White Blood Count, Type 2 diabetes"
          ]
         ],
         "hovertemplate": "label=%{customdata[0]}<extra></extra>",
         "legendgroup": "",
         "marker": {
          "color": "#636efa",
          "symbol": "circle"
         },
         "mode": "markers",
         "name": "",
         "orientation": "v",
         "showlegend": false,
         "x": [
          0.737006582,
          0.067402994,
          0.251456769,
          0.286918803,
          0.595176808,
          0.180563826,
          0.268995402,
          0.607678982,
          0.485335089,
          0.657184458,
          0.437945489,
          0.684373438,
          0.543258888,
          0.479211005,
          0.675872601,
          0.510821647,
          0.569578159,
          0.687806923,
          0.840705469,
          0.249270515,
          0.529012434,
          0.440356628,
          0.608552375,
          0.349284067,
          0.442571061,
          0.352864774,
          0.141849016,
          0.911459167,
          0.739752491,
          0.58917368,
          0.566294499,
          0.624719383,
          0.661145089,
          0.481003015,
          0.699760293,
          0.309004026,
          0.264461736,
          0.80250397,
          0.839396036,
          0.053222115,
          0.342501348,
          0.312407877,
          0.434829966,
          0.239273636,
          0.519076304,
          0.359737417,
          0.11323569,
          0.849701951,
          0.657623335,
          0.574964402,
          0.55668761,
          0.758999929,
          0.669609007,
          0.717665302,
          0.351674759,
          0.36233127,
          0.713696307,
          0.653783257,
          0.57624162,
          0.676597581,
          0.313474037,
          0.467071515,
          0.431739142,
          0.660367148,
          0.49896478,
          0.395443764,
          0.737634344,
          0.293494115,
          0.48213581,
          0.584529977,
          0.455722354,
          0.710324464,
          0.425367603,
          0.711198933,
          0.542859838,
          0.644286415,
          0.440696502,
          0.690331007,
          0.639065489,
          0.339185512,
          0.136388929,
          0.305569656,
          0.324297274,
          0.275080784,
          0.666919407,
          0.282454612,
          0.222511595,
          0.304030956,
          0.573101225,
          0.348270691,
          0.33919415,
          0.6545625,
          0.538974929,
          0.29421444,
          0.277870709,
          0.845511805,
          0.716023341,
          0.545201111,
          0.738613096,
          0.765740625,
          0.062594692,
          0.161430706,
          0.3703448,
          0.177273077,
          0.411882463,
          0.391471317,
          0.437936774,
          0.360205132,
          0.167470286,
          0.308774205,
          0.06716857,
          0.602210974,
          0.638867097,
          0.16280636,
          0.134053537,
          0.616017636,
          0.491566261,
          0.58655917,
          0.299411763,
          0.696868519,
          0.402935625,
          0.56471358,
          0.487631333,
          0.565210608,
          0.381653369,
          0.360863978,
          0.405390692,
          0.625739814,
          0.188092419,
          0.467911863,
          0.421228828,
          0.616538952,
          0.624985149,
          0.155695451,
          0.198080502,
          0.138582497,
          0.36653399,
          0.139200279,
          0.284545836,
          0.583154446,
          0.504957745,
          0.598147197,
          0.597170636,
          0.537375274,
          0.434159909,
          0.512550733,
          0.499419557,
          0.13290779,
          0.369559412,
          0.193178606,
          0.419034653,
          0.19984068,
          0.083791796,
          0.584119151,
          0.452621367,
          0.222024961,
          0.181350936,
          0.207087416,
          0.519448439,
          0.296435494,
          0.338555084,
          0.342031135,
          0.65247374,
          0.354193098,
          0.41073362,
          0.577822832,
          0.478842141,
          0.562046705,
          0.244974063,
          0.504356064,
          0.404851424,
          0.329595432,
          0.400182795,
          0.562322312,
          0.328556442,
          0.262619334,
          0.362390267,
          0.16753235,
          0.234779949,
          0.433845578,
          0.369345828,
          0.543421962,
          0.497172697,
          0.328134124,
          0.318876722,
          0.479904997,
          0.479534221,
          0.46444502,
          0.206485551,
          0.287803411,
          0.485811763,
          0.384361872,
          0.445453548,
          0.383246626,
          0.272422536,
          0.39123233,
          0.504463383,
          0.420442972,
          0.574792504,
          0.582736282,
          0.230612024,
          0.537696441,
          0.48024325,
          0.602154719,
          0.266414577,
          0.433940269,
          0.419000615,
          0.039278715,
          0.361309306,
          0.539564256,
          0.412427756,
          0.351625395,
          0.294017265,
          0.539219898,
          0.382954479,
          0.371649483,
          0.344088628,
          0.373064255,
          0.374479589,
          0.386195861,
          0.429009444,
          0.292479035,
          0.768780868,
          0.588921997,
          0.385123236,
          0.549020331,
          0.651054353,
          0.538473079,
          0.37885413,
          0.668493985,
          0.380740924,
          0.336696464,
          0.500137324,
          0.382486206,
          0.486027136,
          0.518468777,
          0.476984058,
          0.185970371,
          0.593278289,
          0.565725322,
          0.321232936,
          0.34655755,
          0.351631573,
          0.447047888,
          0.445713732,
          0.470743064,
          0.357238521,
          0.376979772,
          0.102797922,
          0.27067087,
          0.433191296,
          0.618361047,
          0.763932303,
          0.19912839,
          0.368399765,
          0.619949819,
          0.275398517,
          0.440143285,
          0.284708749,
          0.241288644,
          0.404162831,
          0.584909145,
          0.519467298,
          0.303016988,
          0.437448362,
          0.385031812,
          0.659065006,
          0.265393482,
          0.172879396,
          0.361601262,
          0.437950512,
          0.373987481,
          0.391964155,
          0.593345838,
          0.435026779,
          0.298688218,
          0.345165936,
          0.404538232,
          0.252826322,
          0.380056688,
          0.610710997,
          0.42779525,
          0.868720444,
          0.777385852,
          0.393350739,
          0.646212511,
          0.487217325,
          0.457894707,
          0.510423318,
          0.40592161,
          0.528359502,
          0.270745367,
          0.453375936,
          0.37027742,
          0.231259066,
          0.580953678,
          0.361510562,
          0.340153123,
          0.213913438,
          0.214740403,
          0.21430689,
          0.645925325,
          0.313236296,
          0.439526151,
          0.481148876,
          0.604955947,
          0.172836194,
          0.061166637,
          0.243434542,
          0.043854172,
          0.205323099,
          0.68365264,
          0.576599987,
          0.495668651,
          0.791411934,
          0.395001525,
          0.560823406,
          0.56861453,
          0.586698818,
          0.663876039,
          0.7582556,
          0.177199119,
          0.261734671,
          0.097263436,
          0.568024513,
          0.090945972,
          0.090165668,
          0.500443072,
          0.368049184,
          0.134350124,
          0.004277816,
          0.362595188,
          0.071498169,
          0.462348683,
          0.084111018,
          0.454477684,
          0.248186369,
          0.085273219,
          0.540737111,
          0.626064481,
          0.843983984,
          0.639156286,
          0.669273348,
          0.657036705,
          0.219274294,
          0.347779265,
          0.540400668,
          0.551558986,
          0.389088617,
          0.450949082,
          0.754409517,
          0.359759634,
          0.347494004,
          0.734262148,
          0.571426314,
          0.539304166,
          0.270452135,
          0.742239657,
          0.463132564,
          0.623060433,
          0.632849258,
          0.557945703,
          0.405630485,
          0.375693396,
          0.692936309,
          0.499964165,
          0.4345372,
          0.284106737,
          0.296037229,
          0.160461182,
          0.460217907,
          0.189102308,
          0.691321313,
          0.244759356,
          0.457454657,
          0.2485701,
          0.329207611,
          0.410854129,
          0.78604995,
          0.118251489,
          0.451492917,
          0.481206253,
          0.452847017,
          0.055417803,
          0.49957977,
          0.512953464,
          0.582120387,
          0.716401225,
          0.6280432,
          0.148960049,
          0.300590244,
          0.26685868,
          0.243894691,
          0.146145206,
          0.089655419,
          0.711058235,
          0.401751488,
          0.271021526,
          0.723304729,
          0.498191298,
          0.171620346,
          0.462666721,
          0.425942153,
          0.741627533,
          0.498864714,
          0.537099479,
          0.291024192,
          0.293546955,
          0.509762709,
          0.626784425,
          0.507217434,
          0.425892098,
          0.348687988,
          0.434004627,
          0.713987111,
          0.231588531,
          0.593096707,
          0.371901212,
          0.492192042,
          0.492611275,
          0.139366451,
          0.194167944,
          0.679600278,
          0.640082706,
          0.770748832,
          0.16738746,
          0.501367974,
          0.408035536,
          0.40402641,
          0.353261023,
          0.539400312,
          0.381741176,
          0.369548801,
          0.334269419,
          0.246896672,
          0.515328738,
          0.456734309,
          0.404860132,
          0.229308022,
          0.185928915,
          0.745874453,
          0.618295113,
          0.851008777,
          0.775044812,
          0.616200639,
          0.254781748,
          0.487778738,
          0.625963904,
          0.359264841,
          0.361868371,
          0.466540767,
          0.563737442,
          0.513303135,
          0.573929052,
          0.371399024,
          0.414175043,
          0.375518252,
          0.596556964,
          0.492824043,
          0.285534473,
          0.280355168,
          0.805666501,
          0.594579731,
          0.614259273,
          0.68643539,
          0.619938168,
          0.701835943,
          0.424234332,
          0.751405281,
          0.664620051,
          0.501681427,
          0.585757121,
          0.464879865,
          0.31353419,
          0.452534977,
          0.489268813,
          0.786703314,
          0.784930273,
          0.228880452,
          0.323304403,
          0.393257627,
          0.340736976,
          0.72708714,
          0.524308061,
          0.270286156,
          0.668419077,
          0.394134748,
          0.682938691,
          0.378953422,
          0.468111349,
          0.665169584,
          0.467251654,
          0.662189487,
          0.508063348,
          0.73830827,
          0.461576579,
          0.567462144,
          0.459737529,
          0.102790048,
          0.06294718,
          0.347640866,
          0.159228402,
          0.313969312,
          0.299247319,
          0.517221512,
          0.59645773,
          0.403107884,
          0.156834798,
          0.526759282,
          0.37288192,
          0.518656754,
          0.290816979,
          0.649555379,
          0.293726268,
          0.580045073,
          0.796775464,
          0.32165514,
          0.527153349,
          0.343191415,
          0.586214258,
          0.31013716,
          0.147524261,
          0.217429942,
          0.216000234,
          0.234248098,
          0.441004345,
          0.554057665,
          0.474956169,
          0.712760867,
          0.776118098,
          0.773079814,
          0.573423505,
          0.159111015,
          0.415221338,
          0.236158303,
          0.18838655,
          0.572903522,
          0.38618424,
          0.396463513,
          0.301893993,
          0.408877589,
          0.573273992,
          0.502739485,
          0.505197971,
          0.215295698,
          0.782730536,
          0.533340975,
          0.322143398,
          0.658564537,
          0.548590267,
          0.47120068,
          0.528304682,
          0.384804279,
          0.697138317,
          0.292856917,
          0.239133015,
          0.496979027,
          0.577207766,
          0.628435765,
          0.505816533,
          0.352978614,
          0.337542901,
          0.688092532,
          0.515928821,
          0.480131368,
          0.827264615,
          0.383944927,
          0.305818703,
          0.448765002,
          0.208300008,
          0.804514531,
          0.257891201,
          0.767176235,
          0.307561603,
          0.561176352,
          0.516275351,
          0.632375249,
          0.810836944,
          0.118707572,
          0.366800119,
          0.533470659,
          0.530361839,
          0.153401991,
          0.413396133,
          0.595042029,
          0.453145724,
          0.523697447,
          0.390221617,
          0.464557584,
          0.439456551,
          0.359564768,
          0.669623836,
          0.183702258,
          0.809886463,
          0.230605441,
          0.271778178,
          0.572205941,
          0.338250812,
          0.396335583,
          0.329396172,
          0.52232326,
          0.520274127,
          0.53776024,
          0.480835531,
          0.536191124,
          0.635446088,
          0.464392955,
          0.29096599,
          0.551420842,
          0.322202248,
          0.294000895,
          0.435918309,
          0.612748445,
          0.77161886,
          0.48740858,
          0.675326413,
          0.70961946,
          0.13343692,
          0.195934312,
          0.453568158,
          0.190899489,
          0.391342878,
          0.507467672,
          0.425388747,
          0.123002031,
          0.463587618,
          0.381693651,
          0.738570727,
          0.824075369,
          0.43890035,
          0.314135138,
          0.606350602,
          0.214194472,
          0.484530578,
          0.407090247,
          0.682856655,
          0.525992606,
          0.262532483,
          0.70579901,
          0.668342244,
          0.629822839,
          0.49232546,
          0.501747881,
          0.431016728,
          0.28896295,
          0.422981254,
          0.580091777,
          0.440163328,
          0.382364428,
          0.459526654,
          0.61776562,
          0.517940704,
          0.503110166,
          0.424788691,
          0.566842351,
          0.233748384,
          0.49874843,
          0.220788608,
          0.635858775,
          0.370727195,
          0.452713114,
          0.309790997,
          0.604820512,
          0.483261325,
          0.320762743,
          0.407672394
         ],
         "xaxis": "x",
         "y": [
          0.0494,
          0.1725,
          0.0853,
          0.0593,
          0.1022,
          0.0927,
          0.0788,
          0.0735,
          -0.0098,
          0.0261,
          0.0086,
          0.1591,
          0.1146,
          0.076,
          -0.1441,
          -0.002,
          -0.0698,
          0.0033,
          0.6977,
          -0.0729,
          0.0044,
          -0.038,
          0.2937,
          -0.0848,
          -0.0523,
          -0.0354,
          0.0241,
          -0.0847,
          -0.0067,
          -0.0302,
          0.0409,
          -0.0342,
          0.6713,
          -0.0218,
          -0.0451,
          0.0204,
          -0.0183,
          0.1282,
          -0.0451,
          0.1557,
          0.0246,
          0.1034,
          0.4326,
          -0.3229,
          0.0556,
          0.0581,
          0.0598,
          0.0432,
          -0.0211,
          0.0109,
          0.0936,
          0.0043,
          0.9892,
          0.0435,
          0.0513,
          0.1201,
          0.0966,
          -0.0775,
          0.1446,
          0.1554,
          0.1625,
          0.0138,
          0.172,
          -0.1337,
          0.1683,
          0.0233,
          0.1408,
          0.153,
          0.9127,
          0.039,
          -0.0022,
          0.048,
          0.2073,
          0.0176,
          0.1995,
          0.0019,
          -0.0359,
          0.9377,
          0.2183,
          0.0735,
          -0.3087,
          0.4204,
          0.0521,
          0.0723,
          0.0138,
          -0.019,
          -4.0E-4,
          0.001,
          0.0058,
          0.0023,
          -6.0E-4,
          -0.03,
          0.0219,
          -0.0194,
          -0.0259,
          -0.0079,
          -0.07,
          0.0063,
          0.0156,
          -0.0257,
          0.0291,
          -0.0922,
          0.0013,
          0.0233,
          -0.0159,
          -0.0024,
          0.0535,
          0.0144,
          0.0252,
          0.0578,
          0.0047,
          -0.1116,
          0.0774,
          -0.0015,
          -0.0045,
          0.0122,
          -0.0039,
          -0.0033,
          -0.0539,
          0.0454,
          -0.0241,
          0.001,
          -0.0349,
          0.004,
          -0.0039,
          -0.0087,
          0.0461,
          -0.005,
          -0.0057,
          -0.1722,
          0.3886,
          0.3327,
          0.0225,
          0.1345,
          0.0421,
          -0.0258,
          -0.0635,
          -0.0109,
          -0.0673,
          0.0099,
          -0.0216,
          0.0287,
          -0.032,
          0.0019,
          -0.0742,
          -0.0068,
          0.0113,
          -0.0233,
          0.0125,
          0.0271,
          -0.0387,
          9.0E-4,
          -0.0402,
          -0.0337,
          -0.0212,
          0.0474,
          0.008,
          -0.0266,
          0.0136,
          0.0415,
          -0.0429,
          0.0364,
          0.03,
          -0.0708,
          -0.0982,
          0.5466,
          0.3955,
          0.3228,
          0.0227,
          0.0469,
          -0.0534,
          -0.0985,
          0.1787,
          0.1847,
          -0.0669,
          0.0318,
          0.0354,
          -0.055,
          0.1223,
          -0.0733,
          -0.0491,
          -0.0171,
          0.1038,
          -0.0084,
          0.0413,
          0.3819,
          -0.083,
          -0.1292,
          0.1334,
          0.0561,
          -0.0317,
          -0.0506,
          0.002,
          -0.0236,
          0.0037,
          0.0155,
          -0.0631,
          -3.0E-4,
          0.7344,
          -0.0772,
          0.0209,
          -0.0306,
          -0.0515,
          0.0908,
          0.3341,
          0.041,
          0.0188,
          -0.018,
          0.014,
          0.011,
          0.1352,
          -0.0114,
          0.0065,
          0.7703,
          -0.0338,
          0.0492,
          0.1083,
          0.1007,
          -0.2998,
          -0.0468,
          0.1944,
          -0.0585,
          -0.2919,
          -0.0151,
          -0.2581,
          -0.0604,
          -0.0134,
          -0.2052,
          -0.2449,
          -0.1013,
          -0.148,
          0.0032,
          -0.0195,
          -0.1777,
          -0.0852,
          -0.109,
          -0.0901,
          -0.1276,
          -0.0989,
          -0.2331,
          -0.2291,
          0.0281,
          -0.0514,
          0.1247,
          0.004,
          0.0901,
          -0.044,
          0.0738,
          0.0658,
          0.1531,
          0.2587,
          -0.0801,
          0.0103,
          -0.0072,
          0.0761,
          0.4218,
          0.0222,
          0.1537,
          0.1128,
          0.0183,
          -0.0225,
          0.1522,
          -0.0192,
          0.038,
          0.0551,
          0.0737,
          0.0307,
          0.0508,
          -0.0394,
          0.0603,
          -0.0422,
          -0.3208,
          -0.0232,
          0.0292,
          0.087,
          -0.005,
          0.065,
          -0.0201,
          -0.15,
          -0.0711,
          -0.1576,
          -0.0166,
          -0.119,
          -0.041,
          -0.0561,
          -0.0038,
          0.0912,
          -0.0773,
          -0.0864,
          -0.0897,
          -0.1494,
          -0.0921,
          -0.0318,
          -0.0889,
          0.0711,
          -0.0381,
          -0.0127,
          -0.0366,
          -0.0299,
          -0.1751,
          -0.0163,
          -0.0443,
          0.0126,
          -0.0303,
          -0.237,
          -0.1111,
          0.0092,
          0.042,
          0.0291,
          0.0499,
          -2.0E-4,
          0.0038,
          -0.0173,
          -0.004,
          0.0094,
          0.0104,
          0.0069,
          -0.0506,
          0.0166,
          -0.0185,
          0.0165,
          -0.0594,
          -0.0149,
          0.009,
          -0.0213,
          0.0282,
          -0.0097,
          -0.0167,
          0.006,
          -0.0018,
          0.0148,
          0.0406,
          0.0541,
          -0.0123,
          -0.3993,
          -0.0217,
          -0.0081,
          0.0182,
          0.023,
          -0.0468,
          0.1226,
          -0.0079,
          -0.0595,
          -0.0086,
          -0.1207,
          0.0552,
          -0.1225,
          0.1655,
          -0.0449,
          -0.0283,
          -0.0838,
          -0.172,
          0.0103,
          -0.1308,
          -0.0066,
          0.0407,
          -0.0514,
          -0.0373,
          -0.0556,
          -0.0834,
          0.0318,
          0.0127,
          -0.0446,
          -0.1562,
          -0.0093,
          -0.1219,
          0.307,
          0.7079,
          0.3382,
          -9.0E-4,
          0.1209,
          -0.0584,
          0.1537,
          0.1478,
          0.1401,
          0.1556,
          0.041,
          0.1232,
          -0.0614,
          0.2084,
          0.1789,
          0.194,
          0.1952,
          0.0463,
          -6.0E-4,
          0.0136,
          0.0635,
          0.0071,
          0.0365,
          -0.0934,
          -0.0128,
          -0.0713,
          -0.0113,
          -0.0634,
          0.0328,
          -0.0166,
          -0.0486,
          0.0249,
          -0.0183,
          0.0943,
          -0.0996,
          0.0563,
          -0.011,
          -0.0499,
          0.051,
          0.04,
          0.1319,
          0.0053,
          0.0054,
          0.1564,
          0.0106,
          -8.0E-4,
          0.0881,
          -0.1149,
          0.2431,
          0.0105,
          -0.0662,
          -0.0364,
          -0.1048,
          0.1218,
          0.1196,
          0.0401,
          0.3845,
          -0.0189,
          0.0384,
          0.0296,
          0.1171,
          0.0436,
          0.0582,
          0.0983,
          0.0941,
          0.0267,
          0.0467,
          0.1475,
          0.0855,
          0.5781,
          -0.0146,
          0.0135,
          0.055,
          -0.014,
          0.0139,
          0.0094,
          -0.0067,
          0.0401,
          -0.0311,
          0.012,
          0.0238,
          -0.0138,
          0.0896,
          0.0248,
          -0.0223,
          0.0451,
          -0.0687,
          0.1288,
          -0.0055,
          -0.0134,
          0.0137,
          -0.1321,
          0.0279,
          0.1212,
          -0.0328,
          0.2186,
          -0.028,
          -0.5872,
          0.2001,
          0.0169,
          -0.0487,
          -0.0387,
          0.0433,
          0.0327,
          0.0758,
          0.0031,
          -0.0278,
          0.0407,
          0.0985,
          0.2772,
          0.029,
          -0.0528,
          0.1166,
          -0.0037,
          0.1279,
          0.0196,
          0.2027,
          0.1049,
          0.0079,
          0.072,
          -0.6388,
          0.0358,
          -0.0198,
          -0.0075,
          -0.0539,
          0.0125,
          0.1702,
          0.0571,
          -0.0442,
          -0.0146,
          0.0512,
          0.085,
          0.1739,
          0.0148,
          0.0842,
          -0.0711,
          0.0564,
          0.03,
          0.0059,
          -0.0045,
          0.1318,
          0.0387,
          0.0359,
          -0.3486,
          0.0944,
          -0.0026,
          0.1616,
          0.064,
          -0.0277,
          -0.0221,
          0.0471,
          0.0679,
          0.0726,
          -0.0504,
          0.1794,
          0.1266,
          0.0668,
          0.0844,
          0.0835,
          0.009,
          0.1408,
          0.2682,
          0.0211,
          -0.1358,
          0.1031,
          0.1328,
          0.2498,
          0.0175,
          0.149,
          -0.1385,
          0.0188,
          -0.0394,
          -0.3863,
          0.0706,
          0.0027,
          -0.0385,
          0.1391,
          0.1466,
          0.0822,
          0.1805,
          0.0852,
          0.0198,
          0.1674,
          -0.0774,
          0.0653,
          0.1616,
          -0.0624,
          0.1736,
          0.0847,
          0.2137,
          0.1715,
          -0.0722,
          -0.0271,
          -0.0037,
          -0.0718,
          -0.0149,
          0.7488,
          -0.0117,
          -0.0257,
          0.0732,
          0.3679,
          0.0159,
          0.0494,
          -0.0367,
          0.0163,
          0.0015,
          0.0791,
          -0.0065,
          -0.0317,
          0.0209,
          0.1623,
          0.005,
          0.0057,
          -0.0368,
          0.0046,
          -0.02,
          0.0019,
          -0.0145,
          -0.0355,
          0.0551,
          0.0681,
          -0.0503,
          0.1523,
          0.0124,
          0.1583,
          0.141,
          0.1533,
          0.9964,
          0.041,
          0.024,
          0.0364,
          0.1341,
          0.0774,
          0.0095,
          0.1869,
          -0.209,
          0.5729,
          0.4902,
          0.4558,
          0.4828,
          0.1769,
          0.2427,
          0.0057,
          0.0722,
          0.1488,
          -0.0366,
          0.0437,
          0.0161,
          -0.007,
          0.0496,
          0.0494,
          -0.0714,
          0.0252,
          0.1915,
          -8.0E-4,
          -0.0547,
          0.0948,
          -0.1211,
          0.0717,
          0.0381,
          -0.1588,
          0.0162,
          0.2436,
          0.3091,
          0.0168,
          0.1481,
          -0.012,
          -0.056,
          0.1033,
          0.1035,
          -0.0687,
          0.0565,
          0.1379,
          0.0952,
          -0.0262,
          0.0188,
          0.3059,
          0.1506,
          0.0694,
          -0.0512,
          -0.0478,
          0.1418,
          0.2406,
          0.0103,
          0.2441,
          0.3366,
          0.0083,
          0.2484,
          0.2048,
          0.0523,
          0.6847,
          -0.1059,
          0.0251,
          0.0556,
          0.1966,
          0.1556,
          0.1417,
          0.0033,
          0.0567,
          0.2834
         ],
         "yaxis": "y",
         "type": "scatter",
         "textposition": "top center"
        }
       ],
       "layout": {
        "template": {
         "data": {
          "histogram2dcontour": [
           {
            "type": "histogram2dcontour",
            "colorbar": {
             "outlinewidth": 0,
             "ticks": ""
            },
            "colorscale": [
             [
              0.0,
              "#0d0887"
             ],
             [
              0.1111111111111111,
              "#46039f"
             ],
             [
              0.2222222222222222,
              "#7201a8"
             ],
             [
              0.3333333333333333,
              "#9c179e"
             ],
             [
              0.4444444444444444,
              "#bd3786"
             ],
             [
              0.5555555555555556,
              "#d8576b"
             ],
             [
              0.6666666666666666,
              "#ed7953"
             ],
             [
              0.7777777777777778,
              "#fb9f3a"
             ],
             [
              0.8888888888888888,
              "#fdca26"
             ],
             [
              1.0,
              "#f0f921"
             ]
            ]
           }
          ],
          "choropleth": [
           {
            "type": "choropleth",
            "colorbar": {
             "outlinewidth": 0,
             "ticks": ""
            }
           }
          ],
          "histogram2d": [
           {
            "type": "histogram2d",
            "colorbar": {
             "outlinewidth": 0,
             "ticks": ""
            },
            "colorscale": [
             [
              0.0,
              "#0d0887"
             ],
             [
              0.1111111111111111,
              "#46039f"
             ],
             [
              0.2222222222222222,
              "#7201a8"
             ],
             [
              0.3333333333333333,
              "#9c179e"
             ],
             [
              0.4444444444444444,
              "#bd3786"
             ],
             [
              0.5555555555555556,
              "#d8576b"
             ],
             [
              0.6666666666666666,
              "#ed7953"
             ],
             [
              0.7777777777777778,
              "#fb9f3a"
             ],
             [
              0.8888888888888888,
              "#fdca26"
             ],
             [
              1.0,
              "#f0f921"
             ]
            ]
           }
          ],
          "heatmap": [
           {
            "type": "heatmap",
            "colorbar": {
             "outlinewidth": 0,
             "ticks": ""
            },
            "colorscale": [
             [
              0.0,
              "#0d0887"
             ],
             [
              0.1111111111111111,
              "#46039f"
             ],
             [
              0.2222222222222222,
              "#7201a8"
             ],
             [
              0.3333333333333333,
              "#9c179e"
             ],
             [
              0.4444444444444444,
              "#bd3786"
             ],
             [
              0.5555555555555556,
              "#d8576b"
             ],
             [
              0.6666666666666666,
              "#ed7953"
             ],
             [
              0.7777777777777778,
              "#fb9f3a"
             ],
             [
              0.8888888888888888,
              "#fdca26"
             ],
             [
              1.0,
              "#f0f921"
             ]
            ]
           }
          ],
          "heatmapgl": [
           {
            "type": "heatmapgl",
            "colorbar": {
             "outlinewidth": 0,
             "ticks": ""
            },
            "colorscale": [
             [
              0.0,
              "#0d0887"
             ],
             [
              0.1111111111111111,
              "#46039f"
             ],
             [
              0.2222222222222222,
              "#7201a8"
             ],
             [
              0.3333333333333333,
              "#9c179e"
             ],
             [
              0.4444444444444444,
              "#bd3786"
             ],
             [
              0.5555555555555556,
              "#d8576b"
             ],
             [
              0.6666666666666666,
              "#ed7953"
             ],
             [
              0.7777777777777778,
              "#fb9f3a"
             ],
             [
              0.8888888888888888,
              "#fdca26"
             ],
             [
              1.0,
              "#f0f921"
             ]
            ]
           }
          ],
          "contourcarpet": [
           {
            "type": "contourcarpet",
            "colorbar": {
             "outlinewidth": 0,
             "ticks": ""
            }
           }
          ],
          "contour": [
           {
            "type": "contour",
            "colorbar": {
             "outlinewidth": 0,
             "ticks": ""
            },
            "colorscale": [
             [
              0.0,
              "#0d0887"
             ],
             [
              0.1111111111111111,
              "#46039f"
             ],
             [
              0.2222222222222222,
              "#7201a8"
             ],
             [
              0.3333333333333333,
              "#9c179e"
             ],
             [
              0.4444444444444444,
              "#bd3786"
             ],
             [
              0.5555555555555556,
              "#d8576b"
             ],
             [
              0.6666666666666666,
              "#ed7953"
             ],
             [
              0.7777777777777778,
              "#fb9f3a"
             ],
             [
              0.8888888888888888,
              "#fdca26"
             ],
             [
              1.0,
              "#f0f921"
             ]
            ]
           }
          ],
          "surface": [
           {
            "type": "surface",
            "colorbar": {
             "outlinewidth": 0,
             "ticks": ""
            },
            "colorscale": [
             [
              0.0,
              "#0d0887"
             ],
             [
              0.1111111111111111,
              "#46039f"
             ],
             [
              0.2222222222222222,
              "#7201a8"
             ],
             [
              0.3333333333333333,
              "#9c179e"
             ],
             [
              0.4444444444444444,
              "#bd3786"
             ],
             [
              0.5555555555555556,
              "#d8576b"
             ],
             [
              0.6666666666666666,
              "#ed7953"
             ],
             [
              0.7777777777777778,
              "#fb9f3a"
             ],
             [
              0.8888888888888888,
              "#fdca26"
             ],
             [
              1.0,
              "#f0f921"
             ]
            ]
           }
          ],
          "mesh3d": [
           {
            "type": "mesh3d",
            "colorbar": {
             "outlinewidth": 0,
             "ticks": ""
            }
           }
          ],
          "scatter": [
           {
            "fillpattern": {
             "fillmode": "overlay",
             "size": 10,
             "solidity": 0.2
            },
            "type": "scatter"
           }
          ],
          "parcoords": [
           {
            "type": "parcoords",
            "line": {
             "colorbar": {
              "outlinewidth": 0,
              "ticks": ""
             }
            }
           }
          ],
          "scatterpolargl": [
           {
            "type": "scatterpolargl",
            "marker": {
             "colorbar": {
              "outlinewidth": 0,
              "ticks": ""
             }
            }
           }
          ],
          "bar": [
           {
            "error_x": {
             "color": "#2a3f5f"
            },
            "error_y": {
             "color": "#2a3f5f"
            },
            "marker": {
             "line": {
              "color": "#E5ECF6",
              "width": 0.5
             },
             "pattern": {
              "fillmode": "overlay",
              "size": 10,
              "solidity": 0.2
             }
            },
            "type": "bar"
           }
          ],
          "scattergeo": [
           {
            "type": "scattergeo",
            "marker": {
             "colorbar": {
              "outlinewidth": 0,
              "ticks": ""
             }
            }
           }
          ],
          "scatterpolar": [
           {
            "type": "scatterpolar",
            "marker": {
             "colorbar": {
              "outlinewidth": 0,
              "ticks": ""
             }
            }
           }
          ],
          "histogram": [
           {
            "marker": {
             "pattern": {
              "fillmode": "overlay",
              "size": 10,
              "solidity": 0.2
             }
            },
            "type": "histogram"
           }
          ],
          "scattergl": [
           {
            "type": "scattergl",
            "marker": {
             "colorbar": {
              "outlinewidth": 0,
              "ticks": ""
             }
            }
           }
          ],
          "scatter3d": [
           {
            "type": "scatter3d",
            "line": {
             "colorbar": {
              "outlinewidth": 0,
              "ticks": ""
             }
            },
            "marker": {
             "colorbar": {
              "outlinewidth": 0,
              "ticks": ""
             }
            }
           }
          ],
          "scattermapbox": [
           {
            "type": "scattermapbox",
            "marker": {
             "colorbar": {
              "outlinewidth": 0,
              "ticks": ""
             }
            }
           }
          ],
          "scatterternary": [
           {
            "type": "scatterternary",
            "marker": {
             "colorbar": {
              "outlinewidth": 0,
              "ticks": ""
             }
            }
           }
          ],
          "scattercarpet": [
           {
            "type": "scattercarpet",
            "marker": {
             "colorbar": {
              "outlinewidth": 0,
              "ticks": ""
             }
            }
           }
          ],
          "carpet": [
           {
            "aaxis": {
             "endlinecolor": "#2a3f5f",
             "gridcolor": "white",
             "linecolor": "white",
             "minorgridcolor": "white",
             "startlinecolor": "#2a3f5f"
            },
            "baxis": {
             "endlinecolor": "#2a3f5f",
             "gridcolor": "white",
             "linecolor": "white",
             "minorgridcolor": "white",
             "startlinecolor": "#2a3f5f"
            },
            "type": "carpet"
           }
          ],
          "table": [
           {
            "cells": {
             "fill": {
              "color": "#EBF0F8"
             },
             "line": {
              "color": "white"
             }
            },
            "header": {
             "fill": {
              "color": "#C8D4E3"
             },
             "line": {
              "color": "white"
             }
            },
            "type": "table"
           }
          ],
          "barpolar": [
           {
            "marker": {
             "line": {
              "color": "#E5ECF6",
              "width": 0.5
             },
             "pattern": {
              "fillmode": "overlay",
              "size": 10,
              "solidity": 0.2
             }
            },
            "type": "barpolar"
           }
          ],
          "pie": [
           {
            "automargin": true,
            "type": "pie"
           }
          ]
         },
         "layout": {
          "autotypenumbers": "strict",
          "colorway": [
           "#636efa",
           "#EF553B",
           "#00cc96",
           "#ab63fa",
           "#FFA15A",
           "#19d3f3",
           "#FF6692",
           "#B6E880",
           "#FF97FF",
           "#FECB52"
          ],
          "font": {
           "color": "#2a3f5f"
          },
          "hovermode": "closest",
          "hoverlabel": {
           "align": "left"
          },
          "paper_bgcolor": "white",
          "plot_bgcolor": "#E5ECF6",
          "polar": {
           "bgcolor": "#E5ECF6",
           "angularaxis": {
            "gridcolor": "white",
            "linecolor": "white",
            "ticks": ""
           },
           "radialaxis": {
            "gridcolor": "white",
            "linecolor": "white",
            "ticks": ""
           }
          },
          "ternary": {
           "bgcolor": "#E5ECF6",
           "aaxis": {
            "gridcolor": "white",
            "linecolor": "white",
            "ticks": ""
           },
           "baxis": {
            "gridcolor": "white",
            "linecolor": "white",
            "ticks": ""
           },
           "caxis": {
            "gridcolor": "white",
            "linecolor": "white",
            "ticks": ""
           }
          },
          "coloraxis": {
           "colorbar": {
            "outlinewidth": 0,
            "ticks": ""
           }
          },
          "colorscale": {
           "sequential": [
            [
             0.0,
             "#0d0887"
            ],
            [
             0.1111111111111111,
             "#46039f"
            ],
            [
             0.2222222222222222,
             "#7201a8"
            ],
            [
             0.3333333333333333,
             "#9c179e"
            ],
            [
             0.4444444444444444,
             "#bd3786"
            ],
            [
             0.5555555555555556,
             "#d8576b"
            ],
            [
             0.6666666666666666,
             "#ed7953"
            ],
            [
             0.7777777777777778,
             "#fb9f3a"
            ],
            [
             0.8888888888888888,
             "#fdca26"
            ],
            [
             1.0,
             "#f0f921"
            ]
           ],
           "sequentialminus": [
            [
             0.0,
             "#0d0887"
            ],
            [
             0.1111111111111111,
             "#46039f"
            ],
            [
             0.2222222222222222,
             "#7201a8"
            ],
            [
             0.3333333333333333,
             "#9c179e"
            ],
            [
             0.4444444444444444,
             "#bd3786"
            ],
            [
             0.5555555555555556,
             "#d8576b"
            ],
            [
             0.6666666666666666,
             "#ed7953"
            ],
            [
             0.7777777777777778,
             "#fb9f3a"
            ],
            [
             0.8888888888888888,
             "#fdca26"
            ],
            [
             1.0,
             "#f0f921"
            ]
           ],
           "diverging": [
            [
             0,
             "#8e0152"
            ],
            [
             0.1,
             "#c51b7d"
            ],
            [
             0.2,
             "#de77ae"
            ],
            [
             0.3,
             "#f1b6da"
            ],
            [
             0.4,
             "#fde0ef"
            ],
            [
             0.5,
             "#f7f7f7"
            ],
            [
             0.6,
             "#e6f5d0"
            ],
            [
             0.7,
             "#b8e186"
            ],
            [
             0.8,
             "#7fbc41"
            ],
            [
             0.9,
             "#4d9221"
            ],
            [
             1,
             "#276419"
            ]
           ]
          },
          "xaxis": {
           "gridcolor": "white",
           "linecolor": "white",
           "ticks": "",
           "title": {
            "standoff": 15
           },
           "zerolinecolor": "white",
           "automargin": true,
           "zerolinewidth": 2
          },
          "yaxis": {
           "gridcolor": "white",
           "linecolor": "white",
           "ticks": "",
           "title": {
            "standoff": 15
           },
           "zerolinecolor": "white",
           "automargin": true,
           "zerolinewidth": 2
          },
          "scene": {
           "xaxis": {
            "backgroundcolor": "#E5ECF6",
            "gridcolor": "white",
            "linecolor": "white",
            "showbackground": true,
            "ticks": "",
            "zerolinecolor": "white",
            "gridwidth": 2
           },
           "yaxis": {
            "backgroundcolor": "#E5ECF6",
            "gridcolor": "white",
            "linecolor": "white",
            "showbackground": true,
            "ticks": "",
            "zerolinecolor": "white",
            "gridwidth": 2
           },
           "zaxis": {
            "backgroundcolor": "#E5ECF6",
            "gridcolor": "white",
            "linecolor": "white",
            "showbackground": true,
            "ticks": "",
            "zerolinecolor": "white",
            "gridwidth": 2
           }
          },
          "shapedefaults": {
           "line": {
            "color": "#2a3f5f"
           }
          },
          "annotationdefaults": {
           "arrowcolor": "#2a3f5f",
           "arrowhead": 0,
           "arrowwidth": 1
          },
          "geo": {
           "bgcolor": "white",
           "landcolor": "#E5ECF6",
           "subunitcolor": "white",
           "showland": true,
           "showlakes": true,
           "lakecolor": "white"
          },
          "title": {
           "x": 0.05
          },
          "mapbox": {
           "style": "light"
          }
         }
        },
        "xaxis": {
         "anchor": "y",
         "domain": [
          0.0,
          1.0
         ],
         "title": {
          "text": "Corr_celltypes"
         }
        },
        "yaxis": {
         "anchor": "x",
         "domain": [
          0.0,
          1.0
         ],
         "title": {
          "text": "Ldsc_rg"
         }
        },
        "legend": {
         "tracegroupgap": 0
        },
        "margin": {
         "t": 60
        }
       },
       "config": {
        "plotlyServerURL": "https://plot.ly"
       }
      },
      "text/html": [
       "<div>                            <div id=\"f9e24917-94c3-42f4-b6e9-ffdd644c1640\" class=\"plotly-graph-div\" style=\"height:525px; width:100%;\"></div>            <script type=\"text/javascript\">                require([\"plotly\"], function(Plotly) {                    window.PLOTLYENV=window.PLOTLYENV || {};                                    if (document.getElementById(\"f9e24917-94c3-42f4-b6e9-ffdd644c1640\")) {                    Plotly.newPlot(                        \"f9e24917-94c3-42f4-b6e9-ffdd644c1640\",                        [{\"customdata\":[[\"#Children, Age of Menarche\"],[\"#Children, BMI\"],[\"#Children, Balding Type 1\"],[\"#Children, Cardiovascular disease\"],[\"#Children, High Light Scatter Retic. Count\"],[\"#Children, High cholesterol\"],[\"#Children, Hypothyroidism Self Rep\"],[\"#Children, Lymphocyte Count\"],[\"#Children, Mean Corpuscular Hemoglobin\"],[\"#Children, Mean Platelet Volume\"],[\"#Children, Neuroticism\"],[\"#Children, Respiratory Ent\"],[\"#Children, Tanning\"],[\"#Children, Type 2 diabetes\"],[\"Age of Menarche, High Light Scatter Retic. Count\"],[\"Age of Menarche, Mean Platelet Volume\"],[\"Allergy Eczema Diagnosed, #Children\"],[\"Allergy Eczema Diagnosed, Age of Menarche\"],[\"Allergy Eczema Diagnosed, Asthma Diagnosed\"],[\"Allergy Eczema Diagnosed, BMI\"],[\"Allergy Eczema Diagnosed, Balding Type 1\"],[\"Allergy Eczema Diagnosed, Cardiovascular disease\"],[\"Allergy Eczema Diagnosed, Eosinophil Count\"],[\"Allergy Eczema Diagnosed, FEV1\\\\FVC Ratio\"],[\"Allergy Eczema Diagnosed, High Light Scatter Retic. Count\"],[\"Allergy Eczema Diagnosed, High cholesterol\"],[\"Allergy Eczema Diagnosed, Hypothyroidism Self Rep\"],[\"Allergy Eczema Diagnosed, Lymphocyte Count\"],[\"Allergy Eczema Diagnosed, Mean Corpuscular Hemoglobin\"],[\"Allergy Eczema Diagnosed, Mean Platelet Volume\"],[\"Allergy Eczema Diagnosed, Neuroticism\"],[\"Allergy Eczema Diagnosed, Red Blood Cell Count\"],[\"Allergy Eczema Diagnosed, Respiratory Ent\"],[\"Allergy Eczema Diagnosed, Systolic Blood Pressure\"],[\"Allergy Eczema Diagnosed, Tanning\"],[\"Allergy Eczema Diagnosed, Thyroid Any Self Rep\"],[\"Allergy Eczema Diagnosed, Type 2 diabetes\"],[\"Asthma Diagnosed, #Children\"],[\"Asthma Diagnosed, Age of Menarche\"],[\"Asthma Diagnosed, BMI\"],[\"Asthma Diagnosed, Balding Type 1\"],[\"Asthma Diagnosed, Cardiovascular disease\"],[\"Asthma Diagnosed, Eosinophil Count\"],[\"Asthma Diagnosed, FEV1\\\\FVC Ratio\"],[\"Asthma Diagnosed, High Light Scatter Retic. Count\"],[\"Asthma Diagnosed, High cholesterol\"],[\"Asthma Diagnosed, Hypothyroidism Self Rep\"],[\"Asthma Diagnosed, Lymphocyte Count\"],[\"Asthma Diagnosed, Mean Corpuscular Hemoglobin\"],[\"Asthma Diagnosed, Mean Platelet Volume\"],[\"Asthma Diagnosed, Neuroticism\"],[\"Asthma Diagnosed, Red Blood Cell Count\"],[\"Asthma Diagnosed, Respiratory Ent\"],[\"Asthma Diagnosed, Tanning\"],[\"Asthma Diagnosed, Thyroid Any Self Rep\"],[\"Asthma Diagnosed, Type 2 diabetes\"],[\"Autoimmune disease, #Children\"],[\"Autoimmune disease, Age of Menarche\"],[\"Autoimmune disease, Allergy Eczema Diagnosed\"],[\"Autoimmune disease, Asthma Diagnosed\"],[\"Autoimmune disease, BMI\"],[\"Autoimmune disease, Balding Type 1\"],[\"Autoimmune disease, Cardiovascular disease\"],[\"Autoimmune disease, Edu College\"],[\"Autoimmune disease, Eosinophil Count\"],[\"Autoimmune disease, FEV1\\\\FVC Ratio\"],[\"Autoimmune disease, High Light Scatter Retic. Count\"],[\"Autoimmune disease, High cholesterol\"],[\"Autoimmune disease, Hypothyroidism Self Rep\"],[\"Autoimmune disease, Lymphocyte Count\"],[\"Autoimmune disease, Mean Corpuscular Hemoglobin\"],[\"Autoimmune disease, Mean Platelet Volume\"],[\"Autoimmune disease, Neuroticism\"],[\"Autoimmune disease, Red Blood Cell Count\"],[\"Autoimmune disease, Respiratory Ent\"],[\"Autoimmune disease, Systolic Blood Pressure\"],[\"Autoimmune disease, Tanning\"],[\"Autoimmune disease, Thyroid Any Self Rep\"],[\"Autoimmune disease, Type 2 diabetes\"],[\"Autoimmune disease, White Blood Count\"],[\"BMI, Age of Menarche\"],[\"BMI, High Light Scatter Retic. Count\"],[\"BMI, Mean Platelet Volume\"],[\"Balding Type 1, Age of Menarche\"],[\"Balding Type 1, BMI\"],[\"Balding Type 1, Cardiovascular disease\"],[\"Balding Type 1, High Light Scatter Retic. Count\"],[\"Balding Type 1, High cholesterol\"],[\"Balding Type 1, Hypothyroidism Self Rep\"],[\"Balding Type 1, Lymphocyte Count\"],[\"Balding Type 1, Mean Platelet Volume\"],[\"Balding Type 1, Neuroticism\"],[\"Balding Type 1, Respiratory Ent\"],[\"Balding Type 1, Tanning\"],[\"Balding Type 1, Type 2 diabetes\"],[\"Bone Mineral Density, #Children\"],[\"Bone Mineral Density, Age of Menarche\"],[\"Bone Mineral Density, Allergy Eczema Diagnosed\"],[\"Bone Mineral Density, Asthma Diagnosed\"],[\"Bone Mineral Density, Autoimmune disease\"],[\"Bone Mineral Density, BMI\"],[\"Bone Mineral Density, Balding Type 1\"],[\"Bone Mineral Density, Cardiovascular disease\"],[\"Bone Mineral Density, Chronotype (morning person)\"],[\"Bone Mineral Density, Dermatology\"],[\"Bone Mineral Density, Diastolic blood pressure\"],[\"Bone Mineral Density, Edu College\"],[\"Bone Mineral Density, Eosinophil Count\"],[\"Bone Mineral Density, FEV1\\\\FVC Ratio\"],[\"Bone Mineral Density, Forced Vital Capacity\"],[\"Bone Mineral Density, Hair Color\"],[\"Bone Mineral Density, Height\"],[\"Bone Mineral Density, High Light Scatter Retic. Count\"],[\"Bone Mineral Density, High cholesterol\"],[\"Bone Mineral Density, Hypothyroidism Self Rep\"],[\"Bone Mineral Density, Lymphocyte Count\"],[\"Bone Mineral Density, Mean Corpuscular Hemoglobin\"],[\"Bone Mineral Density, Mean Platelet Volume\"],[\"Bone Mineral Density, Neuroticism\"],[\"Bone Mineral Density, Red Blood Cell Count\"],[\"Bone Mineral Density, Red Blood Cell Dist. Width\"],[\"Bone Mineral Density, Respiratory Ent\"],[\"Bone Mineral Density, Smoking Status\"],[\"Bone Mineral Density, Systolic Blood Pressure\"],[\"Bone Mineral Density, Tanning\"],[\"Bone Mineral Density, Thyroid Any Self Rep\"],[\"Bone Mineral Density, Type 2 diabetes\"],[\"Bone Mineral Density, Waist-Hip Ratio\"],[\"Bone Mineral Density, White Blood Count\"],[\"Cardiovascular disease, Age of Menarche\"],[\"Cardiovascular disease, BMI\"],[\"Cardiovascular disease, High Light Scatter Retic. Count\"],[\"Cardiovascular disease, Mean Platelet Volume\"],[\"Cardiovascular disease, Neuroticism\"],[\"Chronotype (morning person), #Children\"],[\"Chronotype (morning person), Age of Menarche\"],[\"Chronotype (morning person), Allergy Eczema Diagnosed\"],[\"Chronotype (morning person), Asthma Diagnosed\"],[\"Chronotype (morning person), Autoimmune disease\"],[\"Chronotype (morning person), BMI\"],[\"Chronotype (morning person), Balding Type 1\"],[\"Chronotype (morning person), Cardiovascular disease\"],[\"Chronotype (morning person), Dermatology\"],[\"Chronotype (morning person), Diastolic blood pressure\"],[\"Chronotype (morning person), Edu College\"],[\"Chronotype (morning person), Eosinophil Count\"],[\"Chronotype (morning person), FEV1\\\\FVC Ratio\"],[\"Chronotype (morning person), Height\"],[\"Chronotype (morning person), High Light Scatter Retic. Count\"],[\"Chronotype (morning person), High cholesterol\"],[\"Chronotype (morning person), Hypothyroidism Self Rep\"],[\"Chronotype (morning person), Lymphocyte Count\"],[\"Chronotype (morning person), Mean Corpuscular Hemoglobin\"],[\"Chronotype (morning person), Mean Platelet Volume\"],[\"Chronotype (morning person), Neuroticism\"],[\"Chronotype (morning person), Red Blood Cell Count\"],[\"Chronotype (morning person), Red Blood Cell Dist. Width\"],[\"Chronotype (morning person), Respiratory Ent\"],[\"Chronotype (morning person), Systolic Blood Pressure\"],[\"Chronotype (morning person), Tanning\"],[\"Chronotype (morning person), Thyroid Any Self Rep\"],[\"Chronotype (morning person), Type 2 diabetes\"],[\"Chronotype (morning person), White Blood Count\"],[\"Dermatology, #Children\"],[\"Dermatology, Age of Menarche\"],[\"Dermatology, Allergy Eczema Diagnosed\"],[\"Dermatology, Asthma Diagnosed\"],[\"Dermatology, Autoimmune disease\"],[\"Dermatology, BMI\"],[\"Dermatology, Balding Type 1\"],[\"Dermatology, Cardiovascular disease\"],[\"Dermatology, Diastolic blood pressure\"],[\"Dermatology, Edu College\"],[\"Dermatology, Eosinophil Count\"],[\"Dermatology, FEV1\\\\FVC Ratio\"],[\"Dermatology, Height\"],[\"Dermatology, High Light Scatter Retic. Count\"],[\"Dermatology, High cholesterol\"],[\"Dermatology, Hypothyroidism Self Rep\"],[\"Dermatology, Lymphocyte Count\"],[\"Dermatology, Mean Corpuscular Hemoglobin\"],[\"Dermatology, Mean Platelet Volume\"],[\"Dermatology, Neuroticism\"],[\"Dermatology, Red Blood Cell Count\"],[\"Dermatology, Red Blood Cell Dist. Width\"],[\"Dermatology, Respiratory Ent\"],[\"Dermatology, Systolic Blood Pressure\"],[\"Dermatology, Tanning\"],[\"Dermatology, Thyroid Any Self Rep\"],[\"Dermatology, Type 2 diabetes\"],[\"Dermatology, White Blood Count\"],[\"Diastolic blood pressure, #Children\"],[\"Diastolic blood pressure, Age of Menarche\"],[\"Diastolic blood pressure, Allergy Eczema Diagnosed\"],[\"Diastolic blood pressure, Asthma Diagnosed\"],[\"Diastolic blood pressure, Autoimmune disease\"],[\"Diastolic blood pressure, BMI\"],[\"Diastolic blood pressure, Balding Type 1\"],[\"Diastolic blood pressure, Cardiovascular disease\"],[\"Diastolic blood pressure, Edu College\"],[\"Diastolic blood pressure, Eosinophil Count\"],[\"Diastolic blood pressure, FEV1\\\\FVC Ratio\"],[\"Diastolic blood pressure, Height\"],[\"Diastolic blood pressure, High Light Scatter Retic. Count\"],[\"Diastolic blood pressure, High cholesterol\"],[\"Diastolic blood pressure, Hypothyroidism Self Rep\"],[\"Diastolic blood pressure, Lymphocyte Count\"],[\"Diastolic blood pressure, Mean Corpuscular Hemoglobin\"],[\"Diastolic blood pressure, Mean Platelet Volume\"],[\"Diastolic blood pressure, Neuroticism\"],[\"Diastolic blood pressure, Red Blood Cell Count\"],[\"Diastolic blood pressure, Red Blood Cell Dist. Width\"],[\"Diastolic blood pressure, Respiratory Ent\"],[\"Diastolic blood pressure, Systolic Blood Pressure\"],[\"Diastolic blood pressure, Tanning\"],[\"Diastolic blood pressure, Thyroid Any Self Rep\"],[\"Diastolic blood pressure, Type 2 diabetes\"],[\"Diastolic blood pressure, White Blood Count\"],[\"Edu College, #Children\"],[\"Edu College, Age of Menarche\"],[\"Edu College, Allergy Eczema Diagnosed\"],[\"Edu College, Asthma Diagnosed\"],[\"Edu College, BMI\"],[\"Edu College, Balding Type 1\"],[\"Edu College, Cardiovascular disease\"],[\"Edu College, Eosinophil Count\"],[\"Edu College, FEV1\\\\FVC Ratio\"],[\"Edu College, High Light Scatter Retic. Count\"],[\"Edu College, High cholesterol\"],[\"Edu College, Hypothyroidism Self Rep\"],[\"Edu College, Lymphocyte Count\"],[\"Edu College, Mean Corpuscular Hemoglobin\"],[\"Edu College, Mean Platelet Volume\"],[\"Edu College, Neuroticism\"],[\"Edu College, Red Blood Cell Count\"],[\"Edu College, Respiratory Ent\"],[\"Edu College, Systolic Blood Pressure\"],[\"Edu College, Tanning\"],[\"Edu College, Thyroid Any Self Rep\"],[\"Edu College, Type 2 diabetes\"],[\"Edu College, White Blood Count\"],[\"Eosinophil Count, #Children\"],[\"Eosinophil Count, Age of Menarche\"],[\"Eosinophil Count, BMI\"],[\"Eosinophil Count, Balding Type 1\"],[\"Eosinophil Count, Cardiovascular disease\"],[\"Eosinophil Count, FEV1\\\\FVC Ratio\"],[\"Eosinophil Count, High Light Scatter Retic. Count\"],[\"Eosinophil Count, High cholesterol\"],[\"Eosinophil Count, Hypothyroidism Self Rep\"],[\"Eosinophil Count, Lymphocyte Count\"],[\"Eosinophil Count, Mean Corpuscular Hemoglobin\"],[\"Eosinophil Count, Mean Platelet Volume\"],[\"Eosinophil Count, Neuroticism\"],[\"Eosinophil Count, Red Blood Cell Count\"],[\"Eosinophil Count, Respiratory Ent\"],[\"Eosinophil Count, Tanning\"],[\"Eosinophil Count, Thyroid Any Self Rep\"],[\"Eosinophil Count, Type 2 diabetes\"],[\"FEV1\\\\FVC Ratio, #Children\"],[\"FEV1\\\\FVC Ratio, Age of Menarche\"],[\"FEV1\\\\FVC Ratio, BMI\"],[\"FEV1\\\\FVC Ratio, Balding Type 1\"],[\"FEV1\\\\FVC Ratio, Cardiovascular disease\"],[\"FEV1\\\\FVC Ratio, High Light Scatter Retic. Count\"],[\"FEV1\\\\FVC Ratio, High cholesterol\"],[\"FEV1\\\\FVC Ratio, Hypothyroidism Self Rep\"],[\"FEV1\\\\FVC Ratio, Lymphocyte Count\"],[\"FEV1\\\\FVC Ratio, Mean Corpuscular Hemoglobin\"],[\"FEV1\\\\FVC Ratio, Mean Platelet Volume\"],[\"FEV1\\\\FVC Ratio, Neuroticism\"],[\"FEV1\\\\FVC Ratio, Respiratory Ent\"],[\"FEV1\\\\FVC Ratio, Tanning\"],[\"FEV1\\\\FVC Ratio, Thyroid Any Self Rep\"],[\"FEV1\\\\FVC Ratio, Type 2 diabetes\"],[\"Forced Vital Capacity, #Children\"],[\"Forced Vital Capacity, Age of Menarche\"],[\"Forced Vital Capacity, Allergy Eczema Diagnosed\"],[\"Forced Vital Capacity, Asthma Diagnosed\"],[\"Forced Vital Capacity, Autoimmune disease\"],[\"Forced Vital Capacity, BMI\"],[\"Forced Vital Capacity, Balding Type 1\"],[\"Forced Vital Capacity, Cardiovascular disease\"],[\"Forced Vital Capacity, Chronotype (morning person)\"],[\"Forced Vital Capacity, Dermatology\"],[\"Forced Vital Capacity, Diastolic blood pressure\"],[\"Forced Vital Capacity, Edu College\"],[\"Forced Vital Capacity, Eosinophil Count\"],[\"Forced Vital Capacity, FEV1\\\\FVC Ratio\"],[\"Forced Vital Capacity, Height\"],[\"Forced Vital Capacity, High Light Scatter Retic. Count\"],[\"Forced Vital Capacity, High cholesterol\"],[\"Forced Vital Capacity, Hypothyroidism Self Rep\"],[\"Forced Vital Capacity, Lymphocyte Count\"],[\"Forced Vital Capacity, Mean Corpuscular Hemoglobin\"],[\"Forced Vital Capacity, Mean Platelet Volume\"],[\"Forced Vital Capacity, Neuroticism\"],[\"Forced Vital Capacity, Red Blood Cell Count\"],[\"Forced Vital Capacity, Red Blood Cell Dist. Width\"],[\"Forced Vital Capacity, Respiratory Ent\"],[\"Forced Vital Capacity, Smoking Status\"],[\"Forced Vital Capacity, Systolic Blood Pressure\"],[\"Forced Vital Capacity, Tanning\"],[\"Forced Vital Capacity, Thyroid Any Self Rep\"],[\"Forced Vital Capacity, Type 2 diabetes\"],[\"Forced Vital Capacity, White Blood Count\"],[\"Hair Color, #Children\"],[\"Hair Color, Age of Menarche\"],[\"Hair Color, Allergy Eczema Diagnosed\"],[\"Hair Color, Asthma Diagnosed\"],[\"Hair Color, Autoimmune disease\"],[\"Hair Color, BMI\"],[\"Hair Color, Balding Type 1\"],[\"Hair Color, Cardiovascular disease\"],[\"Hair Color, Chronotype (morning person)\"],[\"Hair Color, Dermatology\"],[\"Hair Color, Diastolic blood pressure\"],[\"Hair Color, Edu College\"],[\"Hair Color, Eosinophil Count\"],[\"Hair Color, FEV1\\\\FVC Ratio\"],[\"Hair Color, Forced Vital Capacity\"],[\"Hair Color, Height\"],[\"Hair Color, High Light Scatter Retic. Count\"],[\"Hair Color, High cholesterol\"],[\"Hair Color, Hypothyroidism Self Rep\"],[\"Hair Color, Lymphocyte Count\"],[\"Hair Color, Mean Corpuscular Hemoglobin\"],[\"Hair Color, Mean Platelet Volume\"],[\"Hair Color, Neuroticism\"],[\"Hair Color, Red Blood Cell Count\"],[\"Hair Color, Red Blood Cell Dist. Width\"],[\"Hair Color, Respiratory Ent\"],[\"Hair Color, Smoking Status\"],[\"Hair Color, Systolic Blood Pressure\"],[\"Hair Color, Tanning\"],[\"Hair Color, Thyroid Any Self Rep\"],[\"Hair Color, Type 2 diabetes\"],[\"Hair Color, Waist-Hip Ratio\"],[\"Hair Color, White Blood Count\"],[\"Height, #Children\"],[\"Height, Age of Menarche\"],[\"Height, Allergy Eczema Diagnosed\"],[\"Height, Asthma Diagnosed\"],[\"Height, Autoimmune disease\"],[\"Height, BMI\"],[\"Height, Balding Type 1\"],[\"Height, Cardiovascular disease\"],[\"Height, Edu College\"],[\"Height, Eosinophil Count\"],[\"Height, FEV1\\\\FVC Ratio\"],[\"Height, High Light Scatter Retic. Count\"],[\"Height, High cholesterol\"],[\"Height, Hypothyroidism Self Rep\"],[\"Height, Lymphocyte Count\"],[\"Height, Mean Corpuscular Hemoglobin\"],[\"Height, Mean Platelet Volume\"],[\"Height, Neuroticism\"],[\"Height, Red Blood Cell Count\"],[\"Height, Respiratory Ent\"],[\"Height, Systolic Blood Pressure\"],[\"Height, Tanning\"],[\"Height, Thyroid Any Self Rep\"],[\"Height, Type 2 diabetes\"],[\"Height, White Blood Count\"],[\"High Light Scatter Retic. Count, Mean Platelet Volume\"],[\"High cholesterol, Age of Menarche\"],[\"High cholesterol, BMI\"],[\"High cholesterol, Cardiovascular disease\"],[\"High cholesterol, High Light Scatter Retic. Count\"],[\"High cholesterol, Mean Platelet Volume\"],[\"High cholesterol, Neuroticism\"],[\"Hypothyroidism Self Rep, Age of Menarche\"],[\"Hypothyroidism Self Rep, BMI\"],[\"Hypothyroidism Self Rep, Cardiovascular disease\"],[\"Hypothyroidism Self Rep, High Light Scatter Retic. Count\"],[\"Hypothyroidism Self Rep, High cholesterol\"],[\"Hypothyroidism Self Rep, Mean Platelet Volume\"],[\"Hypothyroidism Self Rep, Neuroticism\"],[\"Lymphocyte Count, Age of Menarche\"],[\"Lymphocyte Count, BMI\"],[\"Lymphocyte Count, Cardiovascular disease\"],[\"Lymphocyte Count, High Light Scatter Retic. Count\"],[\"Lymphocyte Count, High cholesterol\"],[\"Lymphocyte Count, Hypothyroidism Self Rep\"],[\"Lymphocyte Count, Mean Platelet Volume\"],[\"Lymphocyte Count, Neuroticism\"],[\"Lymphocyte Count, Respiratory Ent\"],[\"Lymphocyte Count, Tanning\"],[\"Mean Corpuscular Hemoglobin, Age of Menarche\"],[\"Mean Corpuscular Hemoglobin, BMI\"],[\"Mean Corpuscular Hemoglobin, Balding Type 1\"],[\"Mean Corpuscular Hemoglobin, Cardiovascular disease\"],[\"Mean Corpuscular Hemoglobin, High Light Scatter Retic. Count\"],[\"Mean Corpuscular Hemoglobin, High cholesterol\"],[\"Mean Corpuscular Hemoglobin, Hypothyroidism Self Rep\"],[\"Mean Corpuscular Hemoglobin, Lymphocyte Count\"],[\"Mean Corpuscular Hemoglobin, Mean Platelet Volume\"],[\"Mean Corpuscular Hemoglobin, Neuroticism\"],[\"Mean Corpuscular Hemoglobin, Respiratory Ent\"],[\"Mean Corpuscular Hemoglobin, Tanning\"],[\"Mean Corpuscular Hemoglobin, Type 2 diabetes\"],[\"Monocyte Count, #Children\"],[\"Monocyte Count, Age of Menarche\"],[\"Monocyte Count, Allergy Eczema Diagnosed\"],[\"Monocyte Count, Asthma Diagnosed\"],[\"Monocyte Count, Autoimmune disease\"],[\"Monocyte Count, BMI\"],[\"Monocyte Count, Balding Type 1\"],[\"Monocyte Count, Bone Mineral Density\"],[\"Monocyte Count, Cardiovascular disease\"],[\"Monocyte Count, Chronotype (morning person)\"],[\"Monocyte Count, Dermatology\"],[\"Monocyte Count, Diastolic blood pressure\"],[\"Monocyte Count, Edu College\"],[\"Monocyte Count, Eosinophil Count\"],[\"Monocyte Count, FEV1\\\\FVC Ratio\"],[\"Monocyte Count, Forced Vital Capacity\"],[\"Monocyte Count, Hair Color\"],[\"Monocyte Count, Height\"],[\"Monocyte Count, High Light Scatter Retic. Count\"],[\"Monocyte Count, High cholesterol\"],[\"Monocyte Count, Hypothyroidism Self Rep\"],[\"Monocyte Count, Lymphocyte Count\"],[\"Monocyte Count, Mean Corpuscular Hemoglobin\"],[\"Monocyte Count, Mean Platelet Volume\"],[\"Monocyte Count, Neuroticism\"],[\"Monocyte Count, Red Blood Cell Count\"],[\"Monocyte Count, Red Blood Cell Dist. Width\"],[\"Monocyte Count, Respiratory Ent\"],[\"Monocyte Count, Smoking Status\"],[\"Monocyte Count, Systolic Blood Pressure\"],[\"Monocyte Count, Tanning\"],[\"Monocyte Count, Thyroid Any Self Rep\"],[\"Monocyte Count, Type 2 diabetes\"],[\"Monocyte Count, Waist-Hip Ratio\"],[\"Monocyte Count, White Blood Count\"],[\"Neuroticism, Age of Menarche\"],[\"Neuroticism, BMI\"],[\"Neuroticism, High Light Scatter Retic. Count\"],[\"Neuroticism, Mean Platelet Volume\"],[\"Platelet Count, #Children\"],[\"Platelet Count, Age of Menarche\"],[\"Platelet Count, Allergy Eczema Diagnosed\"],[\"Platelet Count, Asthma Diagnosed\"],[\"Platelet Count, Autoimmune disease\"],[\"Platelet Count, BMI\"],[\"Platelet Count, Balding Type 1\"],[\"Platelet Count, Bone Mineral Density\"],[\"Platelet Count, Cardiovascular disease\"],[\"Platelet Count, Chronotype (morning person)\"],[\"Platelet Count, Dermatology\"],[\"Platelet Count, Diastolic blood pressure\"],[\"Platelet Count, Edu College\"],[\"Platelet Count, Eosinophil Count\"],[\"Platelet Count, FEV1\\\\FVC Ratio\"],[\"Platelet Count, Forced Vital Capacity\"],[\"Platelet Count, Hair Color\"],[\"Platelet Count, Height\"],[\"Platelet Count, High Light Scatter Retic. Count\"],[\"Platelet Count, High cholesterol\"],[\"Platelet Count, Hypothyroidism Self Rep\"],[\"Platelet Count, Lymphocyte Count\"],[\"Platelet Count, Mean Corpuscular Hemoglobin\"],[\"Platelet Count, Mean Platelet Volume\"],[\"Platelet Count, Monocyte Count\"],[\"Platelet Count, Neuroticism\"],[\"Platelet Count, Red Blood Cell Count\"],[\"Platelet Count, Red Blood Cell Dist. Width\"],[\"Platelet Count, Respiratory Ent\"],[\"Platelet Count, Smoking Status\"],[\"Platelet Count, Systolic Blood Pressure\"],[\"Platelet Count, Tanning\"],[\"Platelet Count, Thyroid Any Self Rep\"],[\"Platelet Count, Type 2 diabetes\"],[\"Platelet Count, Waist-Hip Ratio\"],[\"Platelet Count, White Blood Count\"],[\"Red Blood Cell Count, #Children\"],[\"Red Blood Cell Count, Age of Menarche\"],[\"Red Blood Cell Count, BMI\"],[\"Red Blood Cell Count, Balding Type 1\"],[\"Red Blood Cell Count, Cardiovascular disease\"],[\"Red Blood Cell Count, FEV1\\\\FVC Ratio\"],[\"Red Blood Cell Count, High Light Scatter Retic. Count\"],[\"Red Blood Cell Count, High cholesterol\"],[\"Red Blood Cell Count, Hypothyroidism Self Rep\"],[\"Red Blood Cell Count, Lymphocyte Count\"],[\"Red Blood Cell Count, Mean Corpuscular Hemoglobin\"],[\"Red Blood Cell Count, Mean Platelet Volume\"],[\"Red Blood Cell Count, Neuroticism\"],[\"Red Blood Cell Count, Respiratory Ent\"],[\"Red Blood Cell Count, Tanning\"],[\"Red Blood Cell Count, Thyroid Any Self Rep\"],[\"Red Blood Cell Count, Type 2 diabetes\"],[\"Red Blood Cell Dist. Width, #Children\"],[\"Red Blood Cell Dist. Width, Age of Menarche\"],[\"Red Blood Cell Dist. Width, Allergy Eczema Diagnosed\"],[\"Red Blood Cell Dist. Width, Asthma Diagnosed\"],[\"Red Blood Cell Dist. Width, Autoimmune disease\"],[\"Red Blood Cell Dist. Width, BMI\"],[\"Red Blood Cell Dist. Width, Balding Type 1\"],[\"Red Blood Cell Dist. Width, Cardiovascular disease\"],[\"Red Blood Cell Dist. Width, Edu College\"],[\"Red Blood Cell Dist. Width, Eosinophil Count\"],[\"Red Blood Cell Dist. Width, FEV1\\\\FVC Ratio\"],[\"Red Blood Cell Dist. Width, Height\"],[\"Red Blood Cell Dist. Width, High Light Scatter Retic. Count\"],[\"Red Blood Cell Dist. Width, High cholesterol\"],[\"Red Blood Cell Dist. Width, Hypothyroidism Self Rep\"],[\"Red Blood Cell Dist. Width, Lymphocyte Count\"],[\"Red Blood Cell Dist. Width, Mean Corpuscular Hemoglobin\"],[\"Red Blood Cell Dist. Width, Mean Platelet Volume\"],[\"Red Blood Cell Dist. Width, Neuroticism\"],[\"Red Blood Cell Dist. Width, Red Blood Cell Count\"],[\"Red Blood Cell Dist. Width, Respiratory Ent\"],[\"Red Blood Cell Dist. Width, Systolic Blood Pressure\"],[\"Red Blood Cell Dist. Width, Tanning\"],[\"Red Blood Cell Dist. Width, Thyroid Any Self Rep\"],[\"Red Blood Cell Dist. Width, Type 2 diabetes\"],[\"Red Blood Cell Dist. Width, White Blood Count\"],[\"Respiratory Ent, Age of Menarche\"],[\"Respiratory Ent, BMI\"],[\"Respiratory Ent, Cardiovascular disease\"],[\"Respiratory Ent, High Light Scatter Retic. Count\"],[\"Respiratory Ent, High cholesterol\"],[\"Respiratory Ent, Hypothyroidism Self Rep\"],[\"Respiratory Ent, Mean Platelet Volume\"],[\"Respiratory Ent, Neuroticism\"],[\"Smoking Status, #Children\"],[\"Smoking Status, Age of Menarche\"],[\"Smoking Status, Allergy Eczema Diagnosed\"],[\"Smoking Status, Asthma Diagnosed\"],[\"Smoking Status, Autoimmune disease\"],[\"Smoking Status, BMI\"],[\"Smoking Status, Balding Type 1\"],[\"Smoking Status, Cardiovascular disease\"],[\"Smoking Status, Chronotype (morning person)\"],[\"Smoking Status, Dermatology\"],[\"Smoking Status, Diastolic blood pressure\"],[\"Smoking Status, Edu College\"],[\"Smoking Status, Eosinophil Count\"],[\"Smoking Status, FEV1\\\\FVC Ratio\"],[\"Smoking Status, Height\"],[\"Smoking Status, High Light Scatter Retic. Count\"],[\"Smoking Status, High cholesterol\"],[\"Smoking Status, Hypothyroidism Self Rep\"],[\"Smoking Status, Lymphocyte Count\"],[\"Smoking Status, Mean Corpuscular Hemoglobin\"],[\"Smoking Status, Mean Platelet Volume\"],[\"Smoking Status, Neuroticism\"],[\"Smoking Status, Red Blood Cell Count\"],[\"Smoking Status, Red Blood Cell Dist. Width\"],[\"Smoking Status, Respiratory Ent\"],[\"Smoking Status, Systolic Blood Pressure\"],[\"Smoking Status, Tanning\"],[\"Smoking Status, Thyroid Any Self Rep\"],[\"Smoking Status, Type 2 diabetes\"],[\"Smoking Status, White Blood Count\"],[\"Systolic Blood Pressure, #Children\"],[\"Systolic Blood Pressure, Age of Menarche\"],[\"Systolic Blood Pressure, Asthma Diagnosed\"],[\"Systolic Blood Pressure, BMI\"],[\"Systolic Blood Pressure, Balding Type 1\"],[\"Systolic Blood Pressure, Cardiovascular disease\"],[\"Systolic Blood Pressure, Eosinophil Count\"],[\"Systolic Blood Pressure, FEV1\\\\FVC Ratio\"],[\"Systolic Blood Pressure, High Light Scatter Retic. Count\"],[\"Systolic Blood Pressure, High cholesterol\"],[\"Systolic Blood Pressure, Hypothyroidism Self Rep\"],[\"Systolic Blood Pressure, Lymphocyte Count\"],[\"Systolic Blood Pressure, Mean Corpuscular Hemoglobin\"],[\"Systolic Blood Pressure, Mean Platelet Volume\"],[\"Systolic Blood Pressure, Neuroticism\"],[\"Systolic Blood Pressure, Red Blood Cell Count\"],[\"Systolic Blood Pressure, Respiratory Ent\"],[\"Systolic Blood Pressure, Tanning\"],[\"Systolic Blood Pressure, Thyroid Any Self Rep\"],[\"Systolic Blood Pressure, Type 2 diabetes\"],[\"Tanning, Age of Menarche\"],[\"Tanning, BMI\"],[\"Tanning, Cardiovascular disease\"],[\"Tanning, High Light Scatter Retic. Count\"],[\"Tanning, High cholesterol\"],[\"Tanning, Hypothyroidism Self Rep\"],[\"Tanning, Mean Platelet Volume\"],[\"Tanning, Neuroticism\"],[\"Tanning, Respiratory Ent\"],[\"Thyroid Any Self Rep, #Children\"],[\"Thyroid Any Self Rep, Age of Menarche\"],[\"Thyroid Any Self Rep, BMI\"],[\"Thyroid Any Self Rep, Balding Type 1\"],[\"Thyroid Any Self Rep, Cardiovascular disease\"],[\"Thyroid Any Self Rep, High Light Scatter Retic. Count\"],[\"Thyroid Any Self Rep, High cholesterol\"],[\"Thyroid Any Self Rep, Hypothyroidism Self Rep\"],[\"Thyroid Any Self Rep, Lymphocyte Count\"],[\"Thyroid Any Self Rep, Mean Corpuscular Hemoglobin\"],[\"Thyroid Any Self Rep, Mean Platelet Volume\"],[\"Thyroid Any Self Rep, Neuroticism\"],[\"Thyroid Any Self Rep, Respiratory Ent\"],[\"Thyroid Any Self Rep, Tanning\"],[\"Thyroid Any Self Rep, Type 2 diabetes\"],[\"Type 2 diabetes, Age of Menarche\"],[\"Type 2 diabetes, BMI\"],[\"Type 2 diabetes, Cardiovascular disease\"],[\"Type 2 diabetes, High Light Scatter Retic. Count\"],[\"Type 2 diabetes, High cholesterol\"],[\"Type 2 diabetes, Hypothyroidism Self Rep\"],[\"Type 2 diabetes, Lymphocyte Count\"],[\"Type 2 diabetes, Mean Platelet Volume\"],[\"Type 2 diabetes, Neuroticism\"],[\"Type 2 diabetes, Respiratory Ent\"],[\"Type 2 diabetes, Tanning\"],[\"Waist-Hip Ratio, #Children\"],[\"Waist-Hip Ratio, Age of Menarche\"],[\"Waist-Hip Ratio, Allergy Eczema Diagnosed\"],[\"Waist-Hip Ratio, Asthma Diagnosed\"],[\"Waist-Hip Ratio, Autoimmune disease\"],[\"Waist-Hip Ratio, BMI\"],[\"Waist-Hip Ratio, Balding Type 1\"],[\"Waist-Hip Ratio, Cardiovascular disease\"],[\"Waist-Hip Ratio, Chronotype (morning person)\"],[\"Waist-Hip Ratio, Dermatology\"],[\"Waist-Hip Ratio, Diastolic blood pressure\"],[\"Waist-Hip Ratio, Edu College\"],[\"Waist-Hip Ratio, Eosinophil Count\"],[\"Waist-Hip Ratio, FEV1\\\\FVC Ratio\"],[\"Waist-Hip Ratio, Forced Vital Capacity\"],[\"Waist-Hip Ratio, Height\"],[\"Waist-Hip Ratio, High Light Scatter Retic. Count\"],[\"Waist-Hip Ratio, High cholesterol\"],[\"Waist-Hip Ratio, Hypothyroidism Self Rep\"],[\"Waist-Hip Ratio, Lymphocyte Count\"],[\"Waist-Hip Ratio, Mean Corpuscular Hemoglobin\"],[\"Waist-Hip Ratio, Mean Platelet Volume\"],[\"Waist-Hip Ratio, Neuroticism\"],[\"Waist-Hip Ratio, Red Blood Cell Count\"],[\"Waist-Hip Ratio, Red Blood Cell Dist. Width\"],[\"Waist-Hip Ratio, Respiratory Ent\"],[\"Waist-Hip Ratio, Smoking Status\"],[\"Waist-Hip Ratio, Systolic Blood Pressure\"],[\"Waist-Hip Ratio, Tanning\"],[\"Waist-Hip Ratio, Thyroid Any Self Rep\"],[\"Waist-Hip Ratio, Type 2 diabetes\"],[\"Waist-Hip Ratio, White Blood Count\"],[\"White Blood Count, #Children\"],[\"White Blood Count, Age of Menarche\"],[\"White Blood Count, Allergy Eczema Diagnosed\"],[\"White Blood Count, Asthma Diagnosed\"],[\"White Blood Count, BMI\"],[\"White Blood Count, Balding Type 1\"],[\"White Blood Count, Cardiovascular disease\"],[\"White Blood Count, Eosinophil Count\"],[\"White Blood Count, FEV1\\\\FVC Ratio\"],[\"White Blood Count, High Light Scatter Retic. Count\"],[\"White Blood Count, High cholesterol\"],[\"White Blood Count, Hypothyroidism Self Rep\"],[\"White Blood Count, Lymphocyte Count\"],[\"White Blood Count, Mean Corpuscular Hemoglobin\"],[\"White Blood Count, Mean Platelet Volume\"],[\"White Blood Count, Neuroticism\"],[\"White Blood Count, Red Blood Cell Count\"],[\"White Blood Count, Respiratory Ent\"],[\"White Blood Count, Systolic Blood Pressure\"],[\"White Blood Count, Tanning\"],[\"White Blood Count, Thyroid Any Self Rep\"],[\"White Blood Count, Type 2 diabetes\"]],\"hovertemplate\":\"label=%{customdata[0]}<extra></extra>\",\"legendgroup\":\"\",\"marker\":{\"color\":\"#636efa\",\"symbol\":\"circle\"},\"mode\":\"markers\",\"name\":\"\",\"orientation\":\"v\",\"showlegend\":false,\"x\":[0.737006582,0.067402994,0.251456769,0.286918803,0.595176808,0.180563826,0.268995402,0.607678982,0.485335089,0.657184458,0.437945489,0.684373438,0.543258888,0.479211005,0.675872601,0.510821647,0.569578159,0.687806923,0.840705469,0.249270515,0.529012434,0.440356628,0.608552375,0.349284067,0.442571061,0.352864774,0.141849016,0.911459167,0.739752491,0.58917368,0.566294499,0.624719383,0.661145089,0.481003015,0.699760293,0.309004026,0.264461736,0.80250397,0.839396036,0.053222115,0.342501348,0.312407877,0.434829966,0.239273636,0.519076304,0.359737417,0.11323569,0.849701951,0.657623335,0.574964402,0.55668761,0.758999929,0.669609007,0.717665302,0.351674759,0.36233127,0.713696307,0.653783257,0.57624162,0.676597581,0.313474037,0.467071515,0.431739142,0.660367148,0.49896478,0.395443764,0.737634344,0.293494115,0.48213581,0.584529977,0.455722354,0.710324464,0.425367603,0.711198933,0.542859838,0.644286415,0.440696502,0.690331007,0.639065489,0.339185512,0.136388929,0.305569656,0.324297274,0.275080784,0.666919407,0.282454612,0.222511595,0.304030956,0.573101225,0.348270691,0.33919415,0.6545625,0.538974929,0.29421444,0.277870709,0.845511805,0.716023341,0.545201111,0.738613096,0.765740625,0.062594692,0.161430706,0.3703448,0.177273077,0.411882463,0.391471317,0.437936774,0.360205132,0.167470286,0.308774205,0.06716857,0.602210974,0.638867097,0.16280636,0.134053537,0.616017636,0.491566261,0.58655917,0.299411763,0.696868519,0.402935625,0.56471358,0.487631333,0.565210608,0.381653369,0.360863978,0.405390692,0.625739814,0.188092419,0.467911863,0.421228828,0.616538952,0.624985149,0.155695451,0.198080502,0.138582497,0.36653399,0.139200279,0.284545836,0.583154446,0.504957745,0.598147197,0.597170636,0.537375274,0.434159909,0.512550733,0.499419557,0.13290779,0.369559412,0.193178606,0.419034653,0.19984068,0.083791796,0.584119151,0.452621367,0.222024961,0.181350936,0.207087416,0.519448439,0.296435494,0.338555084,0.342031135,0.65247374,0.354193098,0.41073362,0.577822832,0.478842141,0.562046705,0.244974063,0.504356064,0.404851424,0.329595432,0.400182795,0.562322312,0.328556442,0.262619334,0.362390267,0.16753235,0.234779949,0.433845578,0.369345828,0.543421962,0.497172697,0.328134124,0.318876722,0.479904997,0.479534221,0.46444502,0.206485551,0.287803411,0.485811763,0.384361872,0.445453548,0.383246626,0.272422536,0.39123233,0.504463383,0.420442972,0.574792504,0.582736282,0.230612024,0.537696441,0.48024325,0.602154719,0.266414577,0.433940269,0.419000615,0.039278715,0.361309306,0.539564256,0.412427756,0.351625395,0.294017265,0.539219898,0.382954479,0.371649483,0.344088628,0.373064255,0.374479589,0.386195861,0.429009444,0.292479035,0.768780868,0.588921997,0.385123236,0.549020331,0.651054353,0.538473079,0.37885413,0.668493985,0.380740924,0.336696464,0.500137324,0.382486206,0.486027136,0.518468777,0.476984058,0.185970371,0.593278289,0.565725322,0.321232936,0.34655755,0.351631573,0.447047888,0.445713732,0.470743064,0.357238521,0.376979772,0.102797922,0.27067087,0.433191296,0.618361047,0.763932303,0.19912839,0.368399765,0.619949819,0.275398517,0.440143285,0.284708749,0.241288644,0.404162831,0.584909145,0.519467298,0.303016988,0.437448362,0.385031812,0.659065006,0.265393482,0.172879396,0.361601262,0.437950512,0.373987481,0.391964155,0.593345838,0.435026779,0.298688218,0.345165936,0.404538232,0.252826322,0.380056688,0.610710997,0.42779525,0.868720444,0.777385852,0.393350739,0.646212511,0.487217325,0.457894707,0.510423318,0.40592161,0.528359502,0.270745367,0.453375936,0.37027742,0.231259066,0.580953678,0.361510562,0.340153123,0.213913438,0.214740403,0.21430689,0.645925325,0.313236296,0.439526151,0.481148876,0.604955947,0.172836194,0.061166637,0.243434542,0.043854172,0.205323099,0.68365264,0.576599987,0.495668651,0.791411934,0.395001525,0.560823406,0.56861453,0.586698818,0.663876039,0.7582556,0.177199119,0.261734671,0.097263436,0.568024513,0.090945972,0.090165668,0.500443072,0.368049184,0.134350124,0.004277816,0.362595188,0.071498169,0.462348683,0.084111018,0.454477684,0.248186369,0.085273219,0.540737111,0.626064481,0.843983984,0.639156286,0.669273348,0.657036705,0.219274294,0.347779265,0.540400668,0.551558986,0.389088617,0.450949082,0.754409517,0.359759634,0.347494004,0.734262148,0.571426314,0.539304166,0.270452135,0.742239657,0.463132564,0.623060433,0.632849258,0.557945703,0.405630485,0.375693396,0.692936309,0.499964165,0.4345372,0.284106737,0.296037229,0.160461182,0.460217907,0.189102308,0.691321313,0.244759356,0.457454657,0.2485701,0.329207611,0.410854129,0.78604995,0.118251489,0.451492917,0.481206253,0.452847017,0.055417803,0.49957977,0.512953464,0.582120387,0.716401225,0.6280432,0.148960049,0.300590244,0.26685868,0.243894691,0.146145206,0.089655419,0.711058235,0.401751488,0.271021526,0.723304729,0.498191298,0.171620346,0.462666721,0.425942153,0.741627533,0.498864714,0.537099479,0.291024192,0.293546955,0.509762709,0.626784425,0.507217434,0.425892098,0.348687988,0.434004627,0.713987111,0.231588531,0.593096707,0.371901212,0.492192042,0.492611275,0.139366451,0.194167944,0.679600278,0.640082706,0.770748832,0.16738746,0.501367974,0.408035536,0.40402641,0.353261023,0.539400312,0.381741176,0.369548801,0.334269419,0.246896672,0.515328738,0.456734309,0.404860132,0.229308022,0.185928915,0.745874453,0.618295113,0.851008777,0.775044812,0.616200639,0.254781748,0.487778738,0.625963904,0.359264841,0.361868371,0.466540767,0.563737442,0.513303135,0.573929052,0.371399024,0.414175043,0.375518252,0.596556964,0.492824043,0.285534473,0.280355168,0.805666501,0.594579731,0.614259273,0.68643539,0.619938168,0.701835943,0.424234332,0.751405281,0.664620051,0.501681427,0.585757121,0.464879865,0.31353419,0.452534977,0.489268813,0.786703314,0.784930273,0.228880452,0.323304403,0.393257627,0.340736976,0.72708714,0.524308061,0.270286156,0.668419077,0.394134748,0.682938691,0.378953422,0.468111349,0.665169584,0.467251654,0.662189487,0.508063348,0.73830827,0.461576579,0.567462144,0.459737529,0.102790048,0.06294718,0.347640866,0.159228402,0.313969312,0.299247319,0.517221512,0.59645773,0.403107884,0.156834798,0.526759282,0.37288192,0.518656754,0.290816979,0.649555379,0.293726268,0.580045073,0.796775464,0.32165514,0.527153349,0.343191415,0.586214258,0.31013716,0.147524261,0.217429942,0.216000234,0.234248098,0.441004345,0.554057665,0.474956169,0.712760867,0.776118098,0.773079814,0.573423505,0.159111015,0.415221338,0.236158303,0.18838655,0.572903522,0.38618424,0.396463513,0.301893993,0.408877589,0.573273992,0.502739485,0.505197971,0.215295698,0.782730536,0.533340975,0.322143398,0.658564537,0.548590267,0.47120068,0.528304682,0.384804279,0.697138317,0.292856917,0.239133015,0.496979027,0.577207766,0.628435765,0.505816533,0.352978614,0.337542901,0.688092532,0.515928821,0.480131368,0.827264615,0.383944927,0.305818703,0.448765002,0.208300008,0.804514531,0.257891201,0.767176235,0.307561603,0.561176352,0.516275351,0.632375249,0.810836944,0.118707572,0.366800119,0.533470659,0.530361839,0.153401991,0.413396133,0.595042029,0.453145724,0.523697447,0.390221617,0.464557584,0.439456551,0.359564768,0.669623836,0.183702258,0.809886463,0.230605441,0.271778178,0.572205941,0.338250812,0.396335583,0.329396172,0.52232326,0.520274127,0.53776024,0.480835531,0.536191124,0.635446088,0.464392955,0.29096599,0.551420842,0.322202248,0.294000895,0.435918309,0.612748445,0.77161886,0.48740858,0.675326413,0.70961946,0.13343692,0.195934312,0.453568158,0.190899489,0.391342878,0.507467672,0.425388747,0.123002031,0.463587618,0.381693651,0.738570727,0.824075369,0.43890035,0.314135138,0.606350602,0.214194472,0.484530578,0.407090247,0.682856655,0.525992606,0.262532483,0.70579901,0.668342244,0.629822839,0.49232546,0.501747881,0.431016728,0.28896295,0.422981254,0.580091777,0.440163328,0.382364428,0.459526654,0.61776562,0.517940704,0.503110166,0.424788691,0.566842351,0.233748384,0.49874843,0.220788608,0.635858775,0.370727195,0.452713114,0.309790997,0.604820512,0.483261325,0.320762743,0.407672394],\"xaxis\":\"x\",\"y\":[0.0494,0.1725,0.0853,0.0593,0.1022,0.0927,0.0788,0.0735,-0.0098,0.0261,0.0086,0.1591,0.1146,0.076,-0.1441,-0.002,-0.0698,0.0033,0.6977,-0.0729,0.0044,-0.038,0.2937,-0.0848,-0.0523,-0.0354,0.0241,-0.0847,-0.0067,-0.0302,0.0409,-0.0342,0.6713,-0.0218,-0.0451,0.0204,-0.0183,0.1282,-0.0451,0.1557,0.0246,0.1034,0.4326,-0.3229,0.0556,0.0581,0.0598,0.0432,-0.0211,0.0109,0.0936,0.0043,0.9892,0.0435,0.0513,0.1201,0.0966,-0.0775,0.1446,0.1554,0.1625,0.0138,0.172,-0.1337,0.1683,0.0233,0.1408,0.153,0.9127,0.039,-0.0022,0.048,0.2073,0.0176,0.1995,0.0019,-0.0359,0.9377,0.2183,0.0735,-0.3087,0.4204,0.0521,0.0723,0.0138,-0.019,-0.0004,0.001,0.0058,0.0023,-0.0006,-0.03,0.0219,-0.0194,-0.0259,-0.0079,-0.07,0.0063,0.0156,-0.0257,0.0291,-0.0922,0.0013,0.0233,-0.0159,-0.0024,0.0535,0.0144,0.0252,0.0578,0.0047,-0.1116,0.0774,-0.0015,-0.0045,0.0122,-0.0039,-0.0033,-0.0539,0.0454,-0.0241,0.001,-0.0349,0.004,-0.0039,-0.0087,0.0461,-0.005,-0.0057,-0.1722,0.3886,0.3327,0.0225,0.1345,0.0421,-0.0258,-0.0635,-0.0109,-0.0673,0.0099,-0.0216,0.0287,-0.032,0.0019,-0.0742,-0.0068,0.0113,-0.0233,0.0125,0.0271,-0.0387,0.0009,-0.0402,-0.0337,-0.0212,0.0474,0.008,-0.0266,0.0136,0.0415,-0.0429,0.0364,0.03,-0.0708,-0.0982,0.5466,0.3955,0.3228,0.0227,0.0469,-0.0534,-0.0985,0.1787,0.1847,-0.0669,0.0318,0.0354,-0.055,0.1223,-0.0733,-0.0491,-0.0171,0.1038,-0.0084,0.0413,0.3819,-0.083,-0.1292,0.1334,0.0561,-0.0317,-0.0506,0.002,-0.0236,0.0037,0.0155,-0.0631,-0.0003,0.7344,-0.0772,0.0209,-0.0306,-0.0515,0.0908,0.3341,0.041,0.0188,-0.018,0.014,0.011,0.1352,-0.0114,0.0065,0.7703,-0.0338,0.0492,0.1083,0.1007,-0.2998,-0.0468,0.1944,-0.0585,-0.2919,-0.0151,-0.2581,-0.0604,-0.0134,-0.2052,-0.2449,-0.1013,-0.148,0.0032,-0.0195,-0.1777,-0.0852,-0.109,-0.0901,-0.1276,-0.0989,-0.2331,-0.2291,0.0281,-0.0514,0.1247,0.004,0.0901,-0.044,0.0738,0.0658,0.1531,0.2587,-0.0801,0.0103,-0.0072,0.0761,0.4218,0.0222,0.1537,0.1128,0.0183,-0.0225,0.1522,-0.0192,0.038,0.0551,0.0737,0.0307,0.0508,-0.0394,0.0603,-0.0422,-0.3208,-0.0232,0.0292,0.087,-0.005,0.065,-0.0201,-0.15,-0.0711,-0.1576,-0.0166,-0.119,-0.041,-0.0561,-0.0038,0.0912,-0.0773,-0.0864,-0.0897,-0.1494,-0.0921,-0.0318,-0.0889,0.0711,-0.0381,-0.0127,-0.0366,-0.0299,-0.1751,-0.0163,-0.0443,0.0126,-0.0303,-0.237,-0.1111,0.0092,0.042,0.0291,0.0499,-0.0002,0.0038,-0.0173,-0.004,0.0094,0.0104,0.0069,-0.0506,0.0166,-0.0185,0.0165,-0.0594,-0.0149,0.009,-0.0213,0.0282,-0.0097,-0.0167,0.006,-0.0018,0.0148,0.0406,0.0541,-0.0123,-0.3993,-0.0217,-0.0081,0.0182,0.023,-0.0468,0.1226,-0.0079,-0.0595,-0.0086,-0.1207,0.0552,-0.1225,0.1655,-0.0449,-0.0283,-0.0838,-0.172,0.0103,-0.1308,-0.0066,0.0407,-0.0514,-0.0373,-0.0556,-0.0834,0.0318,0.0127,-0.0446,-0.1562,-0.0093,-0.1219,0.307,0.7079,0.3382,-0.0009,0.1209,-0.0584,0.1537,0.1478,0.1401,0.1556,0.041,0.1232,-0.0614,0.2084,0.1789,0.194,0.1952,0.0463,-0.0006,0.0136,0.0635,0.0071,0.0365,-0.0934,-0.0128,-0.0713,-0.0113,-0.0634,0.0328,-0.0166,-0.0486,0.0249,-0.0183,0.0943,-0.0996,0.0563,-0.011,-0.0499,0.051,0.04,0.1319,0.0053,0.0054,0.1564,0.0106,-0.0008,0.0881,-0.1149,0.2431,0.0105,-0.0662,-0.0364,-0.1048,0.1218,0.1196,0.0401,0.3845,-0.0189,0.0384,0.0296,0.1171,0.0436,0.0582,0.0983,0.0941,0.0267,0.0467,0.1475,0.0855,0.5781,-0.0146,0.0135,0.055,-0.014,0.0139,0.0094,-0.0067,0.0401,-0.0311,0.012,0.0238,-0.0138,0.0896,0.0248,-0.0223,0.0451,-0.0687,0.1288,-0.0055,-0.0134,0.0137,-0.1321,0.0279,0.1212,-0.0328,0.2186,-0.028,-0.5872,0.2001,0.0169,-0.0487,-0.0387,0.0433,0.0327,0.0758,0.0031,-0.0278,0.0407,0.0985,0.2772,0.029,-0.0528,0.1166,-0.0037,0.1279,0.0196,0.2027,0.1049,0.0079,0.072,-0.6388,0.0358,-0.0198,-0.0075,-0.0539,0.0125,0.1702,0.0571,-0.0442,-0.0146,0.0512,0.085,0.1739,0.0148,0.0842,-0.0711,0.0564,0.03,0.0059,-0.0045,0.1318,0.0387,0.0359,-0.3486,0.0944,-0.0026,0.1616,0.064,-0.0277,-0.0221,0.0471,0.0679,0.0726,-0.0504,0.1794,0.1266,0.0668,0.0844,0.0835,0.009,0.1408,0.2682,0.0211,-0.1358,0.1031,0.1328,0.2498,0.0175,0.149,-0.1385,0.0188,-0.0394,-0.3863,0.0706,0.0027,-0.0385,0.1391,0.1466,0.0822,0.1805,0.0852,0.0198,0.1674,-0.0774,0.0653,0.1616,-0.0624,0.1736,0.0847,0.2137,0.1715,-0.0722,-0.0271,-0.0037,-0.0718,-0.0149,0.7488,-0.0117,-0.0257,0.0732,0.3679,0.0159,0.0494,-0.0367,0.0163,0.0015,0.0791,-0.0065,-0.0317,0.0209,0.1623,0.005,0.0057,-0.0368,0.0046,-0.02,0.0019,-0.0145,-0.0355,0.0551,0.0681,-0.0503,0.1523,0.0124,0.1583,0.141,0.1533,0.9964,0.041,0.024,0.0364,0.1341,0.0774,0.0095,0.1869,-0.209,0.5729,0.4902,0.4558,0.4828,0.1769,0.2427,0.0057,0.0722,0.1488,-0.0366,0.0437,0.0161,-0.007,0.0496,0.0494,-0.0714,0.0252,0.1915,-0.0008,-0.0547,0.0948,-0.1211,0.0717,0.0381,-0.1588,0.0162,0.2436,0.3091,0.0168,0.1481,-0.012,-0.056,0.1033,0.1035,-0.0687,0.0565,0.1379,0.0952,-0.0262,0.0188,0.3059,0.1506,0.0694,-0.0512,-0.0478,0.1418,0.2406,0.0103,0.2441,0.3366,0.0083,0.2484,0.2048,0.0523,0.6847,-0.1059,0.0251,0.0556,0.1966,0.1556,0.1417,0.0033,0.0567,0.2834],\"yaxis\":\"y\",\"type\":\"scatter\",\"textposition\":\"top center\"}],                        {\"template\":{\"data\":{\"histogram2dcontour\":[{\"type\":\"histogram2dcontour\",\"colorbar\":{\"outlinewidth\":0,\"ticks\":\"\"},\"colorscale\":[[0.0,\"#0d0887\"],[0.1111111111111111,\"#46039f\"],[0.2222222222222222,\"#7201a8\"],[0.3333333333333333,\"#9c179e\"],[0.4444444444444444,\"#bd3786\"],[0.5555555555555556,\"#d8576b\"],[0.6666666666666666,\"#ed7953\"],[0.7777777777777778,\"#fb9f3a\"],[0.8888888888888888,\"#fdca26\"],[1.0,\"#f0f921\"]]}],\"choropleth\":[{\"type\":\"choropleth\",\"colorbar\":{\"outlinewidth\":0,\"ticks\":\"\"}}],\"histogram2d\":[{\"type\":\"histogram2d\",\"colorbar\":{\"outlinewidth\":0,\"ticks\":\"\"},\"colorscale\":[[0.0,\"#0d0887\"],[0.1111111111111111,\"#46039f\"],[0.2222222222222222,\"#7201a8\"],[0.3333333333333333,\"#9c179e\"],[0.4444444444444444,\"#bd3786\"],[0.5555555555555556,\"#d8576b\"],[0.6666666666666666,\"#ed7953\"],[0.7777777777777778,\"#fb9f3a\"],[0.8888888888888888,\"#fdca26\"],[1.0,\"#f0f921\"]]}],\"heatmap\":[{\"type\":\"heatmap\",\"colorbar\":{\"outlinewidth\":0,\"ticks\":\"\"},\"colorscale\":[[0.0,\"#0d0887\"],[0.1111111111111111,\"#46039f\"],[0.2222222222222222,\"#7201a8\"],[0.3333333333333333,\"#9c179e\"],[0.4444444444444444,\"#bd3786\"],[0.5555555555555556,\"#d8576b\"],[0.6666666666666666,\"#ed7953\"],[0.7777777777777778,\"#fb9f3a\"],[0.8888888888888888,\"#fdca26\"],[1.0,\"#f0f921\"]]}],\"heatmapgl\":[{\"type\":\"heatmapgl\",\"colorbar\":{\"outlinewidth\":0,\"ticks\":\"\"},\"colorscale\":[[0.0,\"#0d0887\"],[0.1111111111111111,\"#46039f\"],[0.2222222222222222,\"#7201a8\"],[0.3333333333333333,\"#9c179e\"],[0.4444444444444444,\"#bd3786\"],[0.5555555555555556,\"#d8576b\"],[0.6666666666666666,\"#ed7953\"],[0.7777777777777778,\"#fb9f3a\"],[0.8888888888888888,\"#fdca26\"],[1.0,\"#f0f921\"]]}],\"contourcarpet\":[{\"type\":\"contourcarpet\",\"colorbar\":{\"outlinewidth\":0,\"ticks\":\"\"}}],\"contour\":[{\"type\":\"contour\",\"colorbar\":{\"outlinewidth\":0,\"ticks\":\"\"},\"colorscale\":[[0.0,\"#0d0887\"],[0.1111111111111111,\"#46039f\"],[0.2222222222222222,\"#7201a8\"],[0.3333333333333333,\"#9c179e\"],[0.4444444444444444,\"#bd3786\"],[0.5555555555555556,\"#d8576b\"],[0.6666666666666666,\"#ed7953\"],[0.7777777777777778,\"#fb9f3a\"],[0.8888888888888888,\"#fdca26\"],[1.0,\"#f0f921\"]]}],\"surface\":[{\"type\":\"surface\",\"colorbar\":{\"outlinewidth\":0,\"ticks\":\"\"},\"colorscale\":[[0.0,\"#0d0887\"],[0.1111111111111111,\"#46039f\"],[0.2222222222222222,\"#7201a8\"],[0.3333333333333333,\"#9c179e\"],[0.4444444444444444,\"#bd3786\"],[0.5555555555555556,\"#d8576b\"],[0.6666666666666666,\"#ed7953\"],[0.7777777777777778,\"#fb9f3a\"],[0.8888888888888888,\"#fdca26\"],[1.0,\"#f0f921\"]]}],\"mesh3d\":[{\"type\":\"mesh3d\",\"colorbar\":{\"outlinewidth\":0,\"ticks\":\"\"}}],\"scatter\":[{\"fillpattern\":{\"fillmode\":\"overlay\",\"size\":10,\"solidity\":0.2},\"type\":\"scatter\"}],\"parcoords\":[{\"type\":\"parcoords\",\"line\":{\"colorbar\":{\"outlinewidth\":0,\"ticks\":\"\"}}}],\"scatterpolargl\":[{\"type\":\"scatterpolargl\",\"marker\":{\"colorbar\":{\"outlinewidth\":0,\"ticks\":\"\"}}}],\"bar\":[{\"error_x\":{\"color\":\"#2a3f5f\"},\"error_y\":{\"color\":\"#2a3f5f\"},\"marker\":{\"line\":{\"color\":\"#E5ECF6\",\"width\":0.5},\"pattern\":{\"fillmode\":\"overlay\",\"size\":10,\"solidity\":0.2}},\"type\":\"bar\"}],\"scattergeo\":[{\"type\":\"scattergeo\",\"marker\":{\"colorbar\":{\"outlinewidth\":0,\"ticks\":\"\"}}}],\"scatterpolar\":[{\"type\":\"scatterpolar\",\"marker\":{\"colorbar\":{\"outlinewidth\":0,\"ticks\":\"\"}}}],\"histogram\":[{\"marker\":{\"pattern\":{\"fillmode\":\"overlay\",\"size\":10,\"solidity\":0.2}},\"type\":\"histogram\"}],\"scattergl\":[{\"type\":\"scattergl\",\"marker\":{\"colorbar\":{\"outlinewidth\":0,\"ticks\":\"\"}}}],\"scatter3d\":[{\"type\":\"scatter3d\",\"line\":{\"colorbar\":{\"outlinewidth\":0,\"ticks\":\"\"}},\"marker\":{\"colorbar\":{\"outlinewidth\":0,\"ticks\":\"\"}}}],\"scattermapbox\":[{\"type\":\"scattermapbox\",\"marker\":{\"colorbar\":{\"outlinewidth\":0,\"ticks\":\"\"}}}],\"scatterternary\":[{\"type\":\"scatterternary\",\"marker\":{\"colorbar\":{\"outlinewidth\":0,\"ticks\":\"\"}}}],\"scattercarpet\":[{\"type\":\"scattercarpet\",\"marker\":{\"colorbar\":{\"outlinewidth\":0,\"ticks\":\"\"}}}],\"carpet\":[{\"aaxis\":{\"endlinecolor\":\"#2a3f5f\",\"gridcolor\":\"white\",\"linecolor\":\"white\",\"minorgridcolor\":\"white\",\"startlinecolor\":\"#2a3f5f\"},\"baxis\":{\"endlinecolor\":\"#2a3f5f\",\"gridcolor\":\"white\",\"linecolor\":\"white\",\"minorgridcolor\":\"white\",\"startlinecolor\":\"#2a3f5f\"},\"type\":\"carpet\"}],\"table\":[{\"cells\":{\"fill\":{\"color\":\"#EBF0F8\"},\"line\":{\"color\":\"white\"}},\"header\":{\"fill\":{\"color\":\"#C8D4E3\"},\"line\":{\"color\":\"white\"}},\"type\":\"table\"}],\"barpolar\":[{\"marker\":{\"line\":{\"color\":\"#E5ECF6\",\"width\":0.5},\"pattern\":{\"fillmode\":\"overlay\",\"size\":10,\"solidity\":0.2}},\"type\":\"barpolar\"}],\"pie\":[{\"automargin\":true,\"type\":\"pie\"}]},\"layout\":{\"autotypenumbers\":\"strict\",\"colorway\":[\"#636efa\",\"#EF553B\",\"#00cc96\",\"#ab63fa\",\"#FFA15A\",\"#19d3f3\",\"#FF6692\",\"#B6E880\",\"#FF97FF\",\"#FECB52\"],\"font\":{\"color\":\"#2a3f5f\"},\"hovermode\":\"closest\",\"hoverlabel\":{\"align\":\"left\"},\"paper_bgcolor\":\"white\",\"plot_bgcolor\":\"#E5ECF6\",\"polar\":{\"bgcolor\":\"#E5ECF6\",\"angularaxis\":{\"gridcolor\":\"white\",\"linecolor\":\"white\",\"ticks\":\"\"},\"radialaxis\":{\"gridcolor\":\"white\",\"linecolor\":\"white\",\"ticks\":\"\"}},\"ternary\":{\"bgcolor\":\"#E5ECF6\",\"aaxis\":{\"gridcolor\":\"white\",\"linecolor\":\"white\",\"ticks\":\"\"},\"baxis\":{\"gridcolor\":\"white\",\"linecolor\":\"white\",\"ticks\":\"\"},\"caxis\":{\"gridcolor\":\"white\",\"linecolor\":\"white\",\"ticks\":\"\"}},\"coloraxis\":{\"colorbar\":{\"outlinewidth\":0,\"ticks\":\"\"}},\"colorscale\":{\"sequential\":[[0.0,\"#0d0887\"],[0.1111111111111111,\"#46039f\"],[0.2222222222222222,\"#7201a8\"],[0.3333333333333333,\"#9c179e\"],[0.4444444444444444,\"#bd3786\"],[0.5555555555555556,\"#d8576b\"],[0.6666666666666666,\"#ed7953\"],[0.7777777777777778,\"#fb9f3a\"],[0.8888888888888888,\"#fdca26\"],[1.0,\"#f0f921\"]],\"sequentialminus\":[[0.0,\"#0d0887\"],[0.1111111111111111,\"#46039f\"],[0.2222222222222222,\"#7201a8\"],[0.3333333333333333,\"#9c179e\"],[0.4444444444444444,\"#bd3786\"],[0.5555555555555556,\"#d8576b\"],[0.6666666666666666,\"#ed7953\"],[0.7777777777777778,\"#fb9f3a\"],[0.8888888888888888,\"#fdca26\"],[1.0,\"#f0f921\"]],\"diverging\":[[0,\"#8e0152\"],[0.1,\"#c51b7d\"],[0.2,\"#de77ae\"],[0.3,\"#f1b6da\"],[0.4,\"#fde0ef\"],[0.5,\"#f7f7f7\"],[0.6,\"#e6f5d0\"],[0.7,\"#b8e186\"],[0.8,\"#7fbc41\"],[0.9,\"#4d9221\"],[1,\"#276419\"]]},\"xaxis\":{\"gridcolor\":\"white\",\"linecolor\":\"white\",\"ticks\":\"\",\"title\":{\"standoff\":15},\"zerolinecolor\":\"white\",\"automargin\":true,\"zerolinewidth\":2},\"yaxis\":{\"gridcolor\":\"white\",\"linecolor\":\"white\",\"ticks\":\"\",\"title\":{\"standoff\":15},\"zerolinecolor\":\"white\",\"automargin\":true,\"zerolinewidth\":2},\"scene\":{\"xaxis\":{\"backgroundcolor\":\"#E5ECF6\",\"gridcolor\":\"white\",\"linecolor\":\"white\",\"showbackground\":true,\"ticks\":\"\",\"zerolinecolor\":\"white\",\"gridwidth\":2},\"yaxis\":{\"backgroundcolor\":\"#E5ECF6\",\"gridcolor\":\"white\",\"linecolor\":\"white\",\"showbackground\":true,\"ticks\":\"\",\"zerolinecolor\":\"white\",\"gridwidth\":2},\"zaxis\":{\"backgroundcolor\":\"#E5ECF6\",\"gridcolor\":\"white\",\"linecolor\":\"white\",\"showbackground\":true,\"ticks\":\"\",\"zerolinecolor\":\"white\",\"gridwidth\":2}},\"shapedefaults\":{\"line\":{\"color\":\"#2a3f5f\"}},\"annotationdefaults\":{\"arrowcolor\":\"#2a3f5f\",\"arrowhead\":0,\"arrowwidth\":1},\"geo\":{\"bgcolor\":\"white\",\"landcolor\":\"#E5ECF6\",\"subunitcolor\":\"white\",\"showland\":true,\"showlakes\":true,\"lakecolor\":\"white\"},\"title\":{\"x\":0.05},\"mapbox\":{\"style\":\"light\"}}},\"xaxis\":{\"anchor\":\"y\",\"domain\":[0.0,1.0],\"title\":{\"text\":\"Corr_celltypes\"}},\"yaxis\":{\"anchor\":\"x\",\"domain\":[0.0,1.0],\"title\":{\"text\":\"Ldsc_rg\"}},\"legend\":{\"tracegroupgap\":0},\"margin\":{\"t\":60}},                        {\"responsive\": true}                    ).then(function(){\n",
       "                            \n",
       "var gd = document.getElementById('f9e24917-94c3-42f4-b6e9-ffdd644c1640');\n",
       "var x = new MutationObserver(function (mutations, observer) {{\n",
       "        var display = window.getComputedStyle(gd).display;\n",
       "        if (!display || display === 'none') {{\n",
       "            console.log([gd, 'removed!']);\n",
       "            Plotly.purge(gd);\n",
       "            observer.disconnect();\n",
       "        }}\n",
       "}});\n",
       "\n",
       "// Listen for the removal of the full notebook cells\n",
       "var notebookContainer = gd.closest('#notebook-container');\n",
       "if (notebookContainer) {{\n",
       "    x.observe(notebookContainer, {childList: true});\n",
       "}}\n",
       "\n",
       "// Listen for the clearing of the current output cell\n",
       "var outputEl = gd.closest('.output');\n",
       "if (outputEl) {{\n",
       "    x.observe(outputEl, {childList: true});\n",
       "}}\n",
       "\n",
       "                        })                };                });            </script>        </div>"
      ]
     },
     "metadata": {},
     "output_type": "display_data"
    }
   ],
   "execution_count": 197
  },
  {
   "metadata": {
    "ExecuteTime": {
     "end_time": "2024-06-18T08:03:14.701070Z",
     "start_time": "2024-06-18T08:03:14.594350Z"
    }
   },
   "cell_type": "code",
   "source": [
    "'''三组遗传关联的topk交集'''\n",
    "k = 20\n",
    "top10_df1 = df_results.nlargest(k, 'Ldsc_rg')\n",
    "result_list1 = (top10_df1['Node1'] + \"+\"+ top10_df1['Node2']).tolist()\n",
    "\n",
    "top10_df2 = df_results.nlargest(k, 'Corr_tissues')\n",
    "result_list2 = (top10_df2['Node1'] + \"+\"+ top10_df2['Node2']).tolist()\n",
    "\n",
    "top10_df3 = df_results.nlargest(k, 'Corr_celltypes')\n",
    "result_list3 = (top10_df3['Node1'] + \"+\"+ top10_df3['Node2']).tolist()\n",
    "\n",
    "from matplotlib_venn import venn3\n",
    "\n",
    "# 将列表转换为集合\n",
    "set1 = set(result_list1)\n",
    "set2 = set(result_list2)\n",
    "set3 = set(result_list3)\n",
    "# 创建维恩图\n",
    "venn3([set1, set2, set3], ('Ldsc_rg', 'Corr_tissues', 'Corr_celltypes'))\n",
    "# 显示图形\n",
    "plt.show()"
   ],
   "id": "642a8a2c7f18707",
   "outputs": [
    {
     "data": {
      "text/plain": [
       "<Figure size 640x480 with 1 Axes>"
      ],
      "image/png": "[encoded data removed]"
     },
     "metadata": {},
     "output_type": "display_data"
    }
   ],
   "execution_count": 183
  },
  {
   "metadata": {},
   "cell_type": "code",
   "outputs": [],
   "execution_count": null,
   "source": "",
   "id": "3a3181920721142f"
  }
 ],
 "metadata": {
  "kernelspec": {
   "display_name": "Python 3",
   "language": "python",
   "name": "python3"
  },
  "language_info": {
   "codemirror_mode": {
    "name": "ipython",
    "version": 2
   },
   "file_extension": ".py",
   "mimetype": "text/x-python",
   "name": "python",
   "nbconvert_exporter": "python",
   "pygments_lexer": "ipython2",
   "version": "2.7.6"
  }
 },
 "nbformat": 4,
 "nbformat_minor": 5
}
