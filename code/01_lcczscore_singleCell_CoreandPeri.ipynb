{
 "cells": [
  {
   "cell_type": "markdown",
   "metadata": {
    "collapsed": true,
    "pycharm": {
     "name": "#%% md\n"
    }
   },
   "source": [
    "# 49个性状\n",
    "## 不画每个细胞的lcczsore变化曲线，只统计性状核心、外围基因在单个细胞内的表达情况\n",
    "* lcczscore:  最大连通分支上节点数量的显著性\n",
    "* weighted-lcczscore: 最大连通分支上表达值的显著性\n",
    "* expressmean-lcczscore: 最大连通分支上平均每个基因表达的显著性"
   ]
  },
  {
   "metadata": {},
   "cell_type": "code",
   "outputs": [],
   "execution_count": null,
   "source": ""
  },
  {
   "metadata": {},
   "cell_type": "markdown",
   "source": "备注：在服务器上运行"
  },
  {
   "cell_type": "code",
   "metadata": {
    "pycharm": {
     "name": "#%%\n"
    },
    "jupyter": {
     "is_executing": true
    }
   },
   "source": [
    "import pandas as pd\n",
    "import matplotlib.pyplot as plt\n",
    "import seaborn as sns\n",
    "import networkx as nx\n",
    "import random\n",
    "import numpy as np\n",
    "import scanpy as sc\n",
    "import math\n",
    "import time\n",
    "\n",
    "import warnings\n",
    "# 禁用所有警告\n",
    "warnings.filterwarnings(\"ignore\")"
   ],
   "outputs": [],
   "execution_count": null
  },
  {
   "metadata": {},
   "cell_type": "code",
   "outputs": [],
   "execution_count": null,
   "source": "trait = pd.read_csv(r\"..\\data\\poly_posterior_prior_gene_new\\%s_new.txt\"%(t+1),sep = \"\\t\")"
  },
  {
   "cell_type": "code",
   "execution_count": 2,
   "metadata": {
    "pycharm": {
     "name": "#%%\n"
    }
   },
   "outputs": [],
   "source": [
    "import os\n",
    "def makedir(folder_path):\n",
    "    # 检查文件夹是否已经存在\n",
    "    if not os.path.exists(folder_path):\n",
    "        # 文件夹不存在时创建\n",
    "        os.makedirs(folder_path)\n",
    "        print(f\"文件夹 '{folder_path}' 已创建\")\n",
    "    else:\n",
    "        print(f\"文件夹 '{folder_path}' 已存在，不进行任何处理\")"
   ]
  },
  {
   "cell_type": "code",
   "execution_count": 3,
   "metadata": {
    "pycharm": {
     "name": "#%%\n"
    }
   },
   "outputs": [],
   "source": [
    "'''读取背景网络'''\n",
    "def openPPI(filename):\n",
    "    '''\n",
    "        打开PPI\n",
    "        文件格式 gene1_name gene1_id gene2_name gene2_id\n",
    "        返回值：网络[节点是gene name]\n",
    "    '''\n",
    "    G = nx.Graph()\n",
    "    a=open(filename,\"r\")\n",
    "    next(a)\n",
    "\n",
    "    for i in a:\n",
    "        n=i.strip().split(\"\\t\")\n",
    "        G.add_edge(n[0],n[3])\n",
    "        G.add_node(n[0])\n",
    "        G.add_node(n[3])\n",
    "    a.close()\n",
    "    return G\n",
    "\n",
    "G = openPPI(r\"..\\data\\network(process_id).txt\")"
   ]
  },
  {
   "cell_type": "code",
   "execution_count": 4,
   "metadata": {
    "pycharm": {
     "name": "#%%\n"
    }
   },
   "outputs": [],
   "source": [
    "# 计算最大连通分支\n",
    "def Lcc(G,genename):\n",
    "    '''\n",
    "        输入图网络和一个列表，计算最大连通分支lcc\n",
    "        G：图，这里图中的节点是基因name\n",
    "        genename：用于计算lcc的genename列表\n",
    "    '''\n",
    "\n",
    "    g = nx.subgraph(G,genename)\n",
    "    if len(genename)==0:\n",
    "        largest = 0\n",
    "        l = []\n",
    "        return l,largest\n",
    "    else:\n",
    "        try:\n",
    "            l = max(nx.connected_components(g),key=len)  #如果随机选取的gene没有连通分支的话，会报错，添加判断条件\n",
    "            largest = len(l)     #最大联通分支\n",
    "        except ValueError as e:\n",
    "            l = genename[0]    # 假设genename列表中的第一个基因为最大连通分支\n",
    "            largest = 1        #设置最大联通分支数为1\n",
    "        return list(l),largest"
   ]
  },
  {
   "cell_type": "code",
   "execution_count": 5,
   "metadata": {
    "pycharm": {
     "name": "#%%\n"
    }
   },
   "outputs": [],
   "source": [
    "## 计算一组基因集合的表达值均值\n",
    "def expressValue(genelist,annData_df,cell):\n",
    "    '''\n",
    "    :param genelist: 要计算的gene列表\n",
    "    :param annData_df: 单细胞表达数据的df\n",
    "    :param cell:  第几个细胞\n",
    "    :return:\n",
    "    '''\n",
    "\n",
    "    # cell_expressedvalue = annData_df.loc[annData_df.index[cell],genelist]\n",
    "    cell_expressedvalue = annData_df.loc[cell,genelist]\n",
    "    if len(cell_expressedvalue)==0:\n",
    "        return 0,0\n",
    "    else:\n",
    "        return sum(cell_expressedvalue), sum(cell_expressedvalue)/len(cell_expressedvalue)"
   ]
  },
  {
   "cell_type": "code",
   "execution_count": 6,
   "metadata": {
    "pycharm": {
     "name": "#%%\n"
    }
   },
   "outputs": [],
   "source": [
    "# 计算最大连通分支，并返回最大连通分支上的基因表达值之和、均值\n",
    "def lccExpressedValue(G,genename,annData_df,cell):\n",
    "    '''\n",
    "    :param g: 选定的背景网络\n",
    "    :param genename:\n",
    "    :param annData_df:\n",
    "    :param cell:\n",
    "    :return:\n",
    "    '''\n",
    "\n",
    "    lccgenelist, largest = Lcc(G,genename)\n",
    "    lcc_expresssum,lcc_expressmean = expressValue(lccgenelist,annData_df,cell)\n",
    "    return lcc_expresssum,lcc_expressmean"
   ]
  },
  {
   "cell_type": "code",
   "execution_count": 7,
   "metadata": {
    "pycharm": {
     "name": "#%%\n"
    }
   },
   "outputs": [],
   "source": [
    "def LccExpress_mean(g,genelist,ran,annData_df,cell):\n",
    "    '''\n",
    "    每次从网络G的所有基因中随机选择genelist数量的gene，计算均值和标准差\n",
    "    g:背景网络\n",
    "    genelist：\n",
    "    ran：随机次数\n",
    "    返回：表达值之和、表达值均值的多次随机的均值和标准差\n",
    "    '''\n",
    "\n",
    "    all_genes = g.nodes()  # 背景网络中的gene\n",
    "\n",
    "    #做随机实验\n",
    "    l_list = []         #lcc列表\n",
    "    l1_list = []         #lcc列表\n",
    "    l2_list = []         #lcc列表\n",
    "    for j in range(ran):\n",
    "        black_nodes = random.sample(all_genes,len(genelist))\n",
    "        l,largest_ran = Lcc(g,black_nodes)\n",
    "        lcc_expresssum,lcc_expressmean = lccExpressedValue(g,black_nodes,annData_df,cell)\n",
    "\n",
    "        l_list.append(largest_ran)\n",
    "        l1_list.append(lcc_expresssum)\n",
    "        l2_list.append(lcc_expressmean)\n",
    "\n",
    "    #计算lcczscore\n",
    "    lcc_mean = np.mean(l_list)\n",
    "    lcc_std  = np.std(l_list)\n",
    "\n",
    "    lcc1_mean = np.mean(l1_list)\n",
    "    lcc1_std  = np.std(l1_list)\n",
    "\n",
    "    lcc2_mean = np.mean(l2_list)\n",
    "    lcc2_std  = np.std(l2_list)\n",
    "\n",
    "    return lcc_mean,lcc_std,lcc1_mean,lcc1_std,lcc2_mean,lcc2_std"
   ]
  },
  {
   "cell_type": "code",
   "execution_count": 8,
   "metadata": {
    "pycharm": {
     "name": "#%%\n"
    }
   },
   "outputs": [],
   "source": [
    "# 计算lcczscore\n",
    "def lccZscore(Lcc,lcc_mean,lcc_std):\n",
    "    if lcc_std == 0:\n",
    "        zscore = 0\n",
    "    else:\n",
    "        zscore = (Lcc - lcc_mean)/lcc_std\n",
    "        zscore = round(zscore,6)\n",
    "    return zscore\n"
   ]
  },
  {
   "cell_type": "code",
   "execution_count": 9,
   "metadata": {
    "pycharm": {
     "name": "#%%\n"
    }
   },
   "outputs": [],
   "source": [
    "# 计算某一组基因集合的lccexpresszscore\n",
    "# G：整个背景网络\n",
    "# g：随机选择基因集合的背景\n",
    "def gensetLccExpressZscore(G,g,genelist,ran,annData_df,cell):\n",
    "    l,lcc = Lcc(G,genelist)\n",
    "    lcc_expresssum,lcc_expressmean = lccExpressedValue(G,genelist,annData_df,cell)\n",
    "    lcc_mean,lcc_std,lcc_expresssum_mean,lcc_expresssum_std,lcc_expressmean_mean,lcc_expressmean_std = \\\n",
    "        LccExpress_mean(g,genelist,ran,annData_df,cell)\n",
    "\n",
    "    lcc_zscore = lccZscore(lcc,lcc_mean,lcc_std)\n",
    "    lcc_expresssum_zscore = lccZscore(lcc_expresssum,lcc_expresssum_mean,lcc_expresssum_std)\n",
    "    lcc_expressmean_zscore = lccZscore(lcc_expressmean,lcc_expressmean_mean,lcc_expressmean_mean)\n",
    "\n",
    "    return lcc_zscore,lcc_expresssum_zscore,lcc_expressmean_zscore"
   ]
  },
  {
   "cell_type": "markdown",
   "metadata": {
    "pycharm": {
     "name": "#%% md\n"
    }
   },
   "source": [
    "### 采样策略：等pip采样\n",
    "\n"
   ]
  },
  {
   "cell_type": "code",
   "execution_count": null,
   "metadata": {
    "pycharm": {
     "name": "#%%\n"
    }
   },
   "outputs": [],
   "source": [
    "for t in range(49):\n",
    "    # 读取asthma gwas数据中所有基因\n",
    "    trait = pd.read_csv(r\"..\\data\\poly_posterior_prior_gene_new\\%s_new.txt\"%(t+1),sep = \"\\t\")\n",
    "    trait_coregene = list(pd.read_csv(r\"..\\data\\gene set\\core\\%s.txt\"%(t+1),sep = \"\\t\",header= None)[0])\n",
    "    trait_core = trait[trait[\"gene name\"].isin(trait_coregene)]\n",
    "\n",
    "    trait_perigene = list(pd.read_csv(r\"..\\data\\gene set\\periphery\\%s.txt\"%(t+1),sep = \"\\t\",header= None)[0])\n",
    "    trait_peri = trait[trait[\"gene name\"].isin(trait_perigene)]\n",
    "    \n",
    "    # filenames = os.listdir(r\"E:\\0_单细胞1\\data\\TS_FACS\")\n",
    "    filenames = os.listdir(r\"..\\data\\TS_FACS\")\n",
    "    tissuelist = [f[len(\"TS_\"):-len(\".h5ad\")] for f in filenames]\n",
    "    for tissue in tissuelist:\n",
    "        \n",
    "        # 读取TS FACS单细胞数据\n",
    "        filePath = r\"..\\data\\TS_FACS\\TS_%s.h5ad\"%tissue\n",
    "        annData = sc.read_h5ad(filePath)\n",
    "        # 按照细胞类型进行分组,使用value_counts()方法计算每个分组中的细胞数量 ,按细胞数量逆序排列分组\n",
    "        sorted_groups = pd.DataFrame(annData.obs)[\"cell_ontology_class\"].value_counts().sort_values()\n",
    "        celltypelist = list(sorted_groups.keys())\n",
    "\n",
    "        ## 分别计算核心和外围\n",
    "        for gene in [\"core\",\"peri\"]:\n",
    "            print(\"\\n\",t+1,tissue,gene)\n",
    "            # 细胞有表达的asthma核心、外围基因\n",
    "            if gene == \"core\":\n",
    "                genelist = trait_coregene\n",
    "            elif gene == \"peri\":\n",
    "                genelist = trait_perigene\n",
    "            # 创建结果文件夹\n",
    "            makedir(r\"..\\results\\lcczscore-pip-coreperi-alltraits\\%s\\%s\\%s\"%(gene,t+1,tissue))\n",
    "            logpath = r\"..\\results\\lcczscore-pip-coreperi-alltraits\\%s\\%s\\%s\\log.txt\"%(gene,t+1,tissue)\n",
    "            # 细胞类型\n",
    "            num = 0\n",
    "            for celltype in celltypelist:\n",
    "                num +=1\n",
    "                with open(logpath, 'a') as r:\n",
    "                    r.write(\"\\n第\" + str(num) + \"/\" + str(len(celltypelist)) +\"个细胞类型:\"+ celltype+ \",\"+str(time.strftime(\"%Y-%m-%d %H:%M:%S\", time.localtime()))+\"\\n\")\n",
    "\n",
    "                # 取出 'cd4-positive alpha-beta t cell' 对应的组的数据\n",
    "                subset_annData = annData[annData.obs['cell_ontology_class'] == celltype, :]\n",
    "                subset_annData_df = subset_annData.to_df()\n",
    "                # 有表达的基因\n",
    "                expressedGenes = subset_annData_df.apply(lambda row: subset_annData_df.columns[row.to_numpy().nonzero()[0]].tolist(), axis=1)\n",
    "                celllist = list(expressedGenes.index)\n",
    "                print(celltype,\"细胞类型：\"+str(num)+\"//\"+str(len(celltypelist))+\",细胞数量：\"+str(len(celllist)),str(time.strftime(\"%Y-%m-%d %H:%M:%S\", time.localtime())))\n",
    "\n",
    "                # 计算每个细胞中的结果\n",
    "                count = 0\n",
    "                result_list = []\n",
    "                for cell in celllist:   #cell是细胞名字\n",
    "                    count+=1\n",
    "                    with open(logpath, 'a') as r:\n",
    "                        r.write(\"第\" + str(count) + \"/\" + str(len(celllist)) +\"个细胞:\"+str(time.strftime(\"%Y-%m-%d %H:%M:%S\", time.localtime()))+\"\\n\")\n",
    "\n",
    "                    # 单细胞有表达的网络基因\n",
    "                    singlecell_network_genelist = list(set(expressedGenes[cell]) & set(list(G.nodes())))\n",
    "                    # 构建单细胞子网络\n",
    "                    g = nx.subgraph(G,singlecell_network_genelist)\n",
    "                    core_scnet_genelist = list(set(genelist) & set(singlecell_network_genelist))\n",
    "                    l,lcc = Lcc(G,core_scnet_genelist)\n",
    "                   \n",
    "                    # lcc_expresszscore\n",
    "                    lcczscore,lcc_expresssum_zscore,lcc_expressmean_zscore = \\\n",
    "                        gensetLccExpressZscore(G,g,core_scnet_genelist,10,subset_annData_df,cell)  # 随机50次\n",
    "                    result_list.append([cell,len(core_scnet_genelist),lcc,lcczscore,lcc_expresssum_zscore,lcc_expressmean_zscore])\n",
    "\n",
    "                df_singcell = pd.DataFrame(result_list)\n",
    "                df_singcell.columns = [\"cell\",\"genenum\",\"lcc\",\"lcczscore\",\"lcc_expresssum_zscore\",\"lcc_expressmean_zscore\"]\n",
    "                df_singcell.to_csv(r\"..\\results\\lcczscore-pip-coreperi-alltraits\\%s\\%s\\%s\\%s.csv\"%(gene,t+1,tissue,celltype))\n",
    "                r.close()\n",
    "\n"
   ]
  }
 ],
 "metadata": {
  "kernelspec": {
   "display_name": "PyCharm (0 _单细胞)",
   "language": "python",
   "name": "pycharm-20651879"
  },
  "language_info": {
   "codemirror_mode": {
    "name": "ipython",
    "version": 3
   },
   "file_extension": ".py",
   "mimetype": "text/x-python",
   "name": "python",
   "nbconvert_exporter": "python",
   "pygments_lexer": "ipython3",
   "version": "3.8.5"
  }
 },
 "nbformat": 4,
 "nbformat_minor": 1
}
