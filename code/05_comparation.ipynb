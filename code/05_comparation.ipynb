{
 "cells": [
  {
   "metadata": {},
   "cell_type": "code",
   "outputs": [],
   "execution_count": null,
   "source": [
    "import os\n",
    "import numpy as np\n",
    "import pandas as pd\n",
    "import seaborn as sns\n",
    "import matplotlib.pyplot as plt\n",
    "import scanpy as sc"
   ],
   "id": "ee5181016b678313"
  },
  {
   "metadata": {},
   "cell_type": "code",
   "outputs": [],
   "execution_count": null,
   "source": [
    "DATA_PATH = \"/share/pub/dengcy/GWAS_Multiomics/realgroundtruth/\"\n",
    "H5AD_FILE = os.path.join(DATA_PATH, \"Pagwas_groundtruth_addata.h5ad\")\n",
    "adata = scdrs.util.load_h5ad(H5AD_FILE, flag_filter_data=False, flag_raw_count=False)\n",
    "sc.pp.normalize_total(adata, target_sum=1e4)\n",
    "sc.pp.log1p(adata)\n",
    "#sc.tl.pca(adata, svd_solver=\"arpack\")\n",
    "#sc.pp.neighbors(adata, n_neighbors=10, n_pcs=40)\n",
    "scdrs.preprocess(adata)\n",
    "\n",
    "\n",
    "i='monocytecount'\n",
    "df_gs=pd.read_csv(\"/share/pub/dengcy/GWAS_Multiomics/compare/Hema_test/scDRS/scPagwas.magmatopgenes_scRDS\"+i+\".csv\", index_col=0)\n",
    "df_gs = df_gs.loc[[\"scPagwastop1000\",\"magmatop1000\"],:]\n",
    "df_gs=  df_gs.reset_index().to_csv(\"/share/pub/dengcy/GWAS_Multiomics/compare/Hema_test/scDRS/\"+i+\".geneset.gs\", sep=\"\\t\", index=False)\n",
    "df_gs = scdrs.util.load_gs(\"/share/pub/dengcy/GWAS_Multiomics/compare/Hema_test/scDRS/\"+i+\".geneset.gs\")\n",
    "\n",
    "df_score = scdrs.score_cell(\n",
    "             data=adata,\n",
    "             gene_list=df_gs['magmatop1000'][0],\n",
    "             gene_weight=df_gs['magmatop1000'][1],\n",
    "             ctrl_match_key=\"mean_var\",\n",
    "             n_ctrl=200,\n",
    "             weight_opt=\"vs\",\n",
    "             return_ctrl_raw_score=False,\n",
    "             return_ctrl_norm_score=True,\n",
    "             verbose=False)\n",
    "\n",
    "df_score.to_csv(\"/share/pub/dengcy/GWAS_Multiomics/realgroundtruth/mono.bmmc.1000magma.df_model.csv\", sep=\",\")\n",
    "\n",
    "df_score = scdrs.score_cell(\n",
    "             data=adata,\n",
    "             gene_list=df_gs['scPagwastop1000'][0],\n",
    "             gene_weight=df_gs['scPagwastop1000'][1],\n",
    "             ctrl_match_key=\"mean_var\",\n",
    "             n_ctrl=200,\n",
    "             weight_opt=\"vs\",\n",
    "             return_ctrl_raw_score=False,\n",
    "             return_ctrl_norm_score=True,\n",
    "             verbose=False)\n",
    "\n",
    "df_score.to_csv(\"/share/pub/dengcy/GWAS_Multiomics/realgroundtruth/mono.bmmc.1000scPagwas.df_model.csv\", sep=\",\")"
   ],
   "id": "initial_id"
  }
 ],
 "metadata": {
  "kernelspec": {
   "display_name": "Python 3",
   "language": "python",
   "name": "python3"
  },
  "language_info": {
   "codemirror_mode": {
    "name": "ipython",
    "version": 2
   },
   "file_extension": ".py",
   "mimetype": "text/x-python",
   "name": "python",
   "nbconvert_exporter": "python",
   "pygments_lexer": "ipython2",
   "version": "2.7.6"
  }
 },
 "nbformat": 4,
 "nbformat_minor": 5
}
