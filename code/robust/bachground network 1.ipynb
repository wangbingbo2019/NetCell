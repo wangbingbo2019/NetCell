{
 "cells": [
  {
   "cell_type": "code",
   "id": "initial_id",
   "metadata": {
    "collapsed": true,
    "ExecuteTime": {
     "end_time": "2024-11-30T16:28:06.860241Z",
     "start_time": "2024-11-30T16:27:14.543977Z"
    }
   },
   "source": [
    "import pandas as pd\n",
    "import matplotlib.pyplot as plt\n",
    "import seaborn as sns\n",
    "import networkx as nx\n",
    "import random\n",
    "import numpy as np\n",
    "import scanpy as sc\n",
    "import math\n",
    "import time\n",
    "\n",
    "import warnings\n",
    "# 禁用所有警告\n",
    "warnings.filterwarnings(\"ignore\")"
   ],
   "outputs": [],
   "execution_count": 1
  },
  {
   "metadata": {
    "ExecuteTime": {
     "end_time": "2024-11-30T16:28:06.875860Z",
     "start_time": "2024-11-30T16:28:06.864232Z"
    }
   },
   "cell_type": "code",
   "source": [
    "import os\n",
    "def makedir(folder_path):\n",
    "    # 检查文件夹是否已经存在\n",
    "    if not os.path.exists(folder_path):\n",
    "        # 文件夹不存在时创建\n",
    "        os.makedirs(folder_path)\n",
    "        print(f\"文件夹 '{folder_path}' 已创建\")\n",
    "    else:\n",
    "        print(f\"文件夹 '{folder_path}' 已存在，不进行任何处理\")"
   ],
   "id": "b60e2d4430f1e00f",
   "outputs": [],
   "execution_count": 2
  },
  {
   "metadata": {
    "ExecuteTime": {
     "end_time": "2024-11-30T16:28:09.466552Z",
     "start_time": "2024-11-30T16:28:06.876859Z"
    }
   },
   "cell_type": "code",
   "source": [
    "'''读取背景网络'''\n",
    "def openPPI(filename):\n",
    "    '''\n",
    "        打开PPI\n",
    "        文件格式 gene1_name gene1_id gene2_name gene2_id\n",
    "        返回值：网络[节点是gene name]\n",
    "    '''\n",
    "    G = nx.Graph()\n",
    "    a=open(filename,\"r\")\n",
    "    next(a)\n",
    "\n",
    "    for i in a:\n",
    "        n=i.strip().split(\"\\t\")\n",
    "        G.add_edge(n[0],n[3])\n",
    "        G.add_node(n[0])\n",
    "        G.add_node(n[3])\n",
    "    a.close()\n",
    "    return G\n",
    "\n",
    "G = openPPI(r\"E:\\00_CeSOP\\data\\network(process_id).txt\")"
   ],
   "id": "fd018e6919b3d3d1",
   "outputs": [],
   "execution_count": 3
  },
  {
   "metadata": {
    "ExecuteTime": {
     "end_time": "2024-11-30T16:28:09.482042Z",
     "start_time": "2024-11-30T16:28:09.469057Z"
    }
   },
   "cell_type": "code",
   "source": [
    "# 计算最大连通分支\n",
    "def Lcc(G,genename):\n",
    "    '''\n",
    "        输入图网络和一个列表，计算最大连通分支lcc\n",
    "        G：图，这里图中的节点是基因name\n",
    "        genename：用于计算lcc的genename列表\n",
    "    '''\n",
    "\n",
    "    g = nx.subgraph(G,genename)\n",
    "    if len(genename)==0:\n",
    "        largest = 0\n",
    "        l = []\n",
    "        return l,largest\n",
    "    else:\n",
    "        try:\n",
    "            l = max(nx.connected_components(g),key=len)  #如果随机选取的gene没有连通分支的话，会报错，添加判断条件\n",
    "            largest = len(l)     #最大联通分支\n",
    "        except ValueError as e:\n",
    "            l = genename[0]    # 假设genename列表中的第一个基因为最大连通分支\n",
    "            largest = 1        #设置最大联通分支数为1\n",
    "        return list(l),largest"
   ],
   "id": "c1e846c631de9997",
   "outputs": [],
   "execution_count": 4
  },
  {
   "metadata": {
    "ExecuteTime": {
     "end_time": "2024-11-30T16:28:09.530005Z",
     "start_time": "2024-11-30T16:28:09.484037Z"
    }
   },
   "cell_type": "code",
   "source": [
    "## 计算一组基因集合的表达值均值\n",
    "def expressValue(genelist,annData_df,cell):\n",
    "    '''\n",
    "    :param genelist: 要计算的gene列表\n",
    "    :param annData_df: 单细胞表达数据的df\n",
    "    :param cell:  第几个细胞\n",
    "    :return:\n",
    "    '''\n",
    "\n",
    "    # cell_expressedvalue = annData_df.loc[annData_df.index[cell],genelist]\n",
    "    cell_expressedvalue = annData_df.loc[cell,genelist]\n",
    "    if len(cell_expressedvalue)==0:\n",
    "        return 0,0\n",
    "    else:\n",
    "        return sum(cell_expressedvalue), sum(cell_expressedvalue)/len(cell_expressedvalue)"
   ],
   "id": "b89cf18d76f541e2",
   "outputs": [],
   "execution_count": 5
  },
  {
   "metadata": {
    "ExecuteTime": {
     "end_time": "2024-11-30T16:28:09.545007Z",
     "start_time": "2024-11-30T16:28:09.531508Z"
    }
   },
   "cell_type": "code",
   "source": [
    "# 计算最大连通分支，并返回最大连通分支上的基因表达值之和、均值\n",
    "def lccExpressedValue(G,genename,annData_df,cell):\n",
    "    '''\n",
    "    :param g: 选定的背景网络\n",
    "    :param genename:\n",
    "    :param annData_df:\n",
    "    :param cell:\n",
    "    :return:\n",
    "    '''\n",
    "\n",
    "    lccgenelist, largest = Lcc(G,genename)\n",
    "    lcc_expresssum,lcc_expressmean = expressValue(lccgenelist,annData_df,cell)\n",
    "    return lcc_expresssum,lcc_expressmean"
   ],
   "id": "a09e22f95aff2310",
   "outputs": [],
   "execution_count": 6
  },
  {
   "metadata": {
    "ExecuteTime": {
     "end_time": "2024-11-30T16:28:09.575531Z",
     "start_time": "2024-11-30T16:28:09.547003Z"
    }
   },
   "cell_type": "code",
   "source": [
    "def LccExpress_mean(g,genelist,ran,annData_df,cell):\n",
    "    '''\n",
    "    每次从网络G的所有基因中随机选择genelist数量的gene，计算均值和标准差\n",
    "    g:背景网络\n",
    "    genelist：\n",
    "    ran：随机次数\n",
    "    返回：表达值之和、表达值均值的多次随机的均值和标准差\n",
    "    '''\n",
    "\n",
    "    all_genes = g.nodes()  # 背景网络中的gene\n",
    "\n",
    "    #做随机实验\n",
    "    l_list = []         #lcc列表\n",
    "    l1_list = []         #lcc列表\n",
    "    l2_list = []         #lcc列表\n",
    "    for j in range(ran):\n",
    "        black_nodes = random.sample(all_genes,len(genelist))\n",
    "        l,largest_ran = Lcc(g,black_nodes)\n",
    "        lcc_expresssum,lcc_expressmean = lccExpressedValue(g,black_nodes,annData_df,cell)\n",
    "\n",
    "        l_list.append(largest_ran)\n",
    "        l1_list.append(lcc_expresssum)\n",
    "        l2_list.append(lcc_expressmean)\n",
    "\n",
    "    #计算lcczscore\n",
    "    lcc_mean = np.mean(l_list)\n",
    "    lcc_std  = np.std(l_list)\n",
    "\n",
    "    lcc1_mean = np.mean(l1_list)\n",
    "    lcc1_std  = np.std(l1_list)\n",
    "\n",
    "    lcc2_mean = np.mean(l2_list)\n",
    "    lcc2_std  = np.std(l2_list)\n",
    "\n",
    "    return lcc_mean,lcc_std,lcc1_mean,lcc1_std,lcc2_mean,lcc2_std"
   ],
   "id": "2dd4fff13d498f97",
   "outputs": [],
   "execution_count": 7
  },
  {
   "metadata": {
    "ExecuteTime": {
     "end_time": "2024-11-30T16:28:09.591127Z",
     "start_time": "2024-11-30T16:28:09.576529Z"
    }
   },
   "cell_type": "code",
   "source": [
    "# 计算lcczscore\n",
    "def lccZscore(Lcc,lcc_mean,lcc_std):\n",
    "    if lcc_std == 0:\n",
    "        zscore = 0\n",
    "    else:\n",
    "        zscore = (Lcc - lcc_mean)/lcc_std\n",
    "        zscore = round(zscore,6)\n",
    "    return zscore\n"
   ],
   "id": "700108e009469e2f",
   "outputs": [],
   "execution_count": 8
  },
  {
   "metadata": {
    "ExecuteTime": {
     "end_time": "2024-11-30T16:28:09.606933Z",
     "start_time": "2024-11-30T16:28:09.593122Z"
    }
   },
   "cell_type": "code",
   "source": [
    "# 计算某一组基因集合的lccexpresszscore\n",
    "# G：整个背景网络\n",
    "# g：随机选择基因集合的背景\n",
    "def gensetLccExpressZscore(G,g,genelist,ran,annData_df,cell):\n",
    "    l,lcc = Lcc(G,genelist)\n",
    "    lcc_expresssum,lcc_expressmean = lccExpressedValue(G,genelist,annData_df,cell)\n",
    "    lcc_mean,lcc_std,lcc_expresssum_mean,lcc_expresssum_std,lcc_expressmean_mean,lcc_expressmean_std = \\\n",
    "        LccExpress_mean(g,genelist,ran,annData_df,cell)\n",
    "\n",
    "    lcc_zscore = lccZscore(lcc,lcc_mean,lcc_std)\n",
    "    lcc_expresssum_zscore = lccZscore(lcc_expresssum,lcc_expresssum_mean,lcc_expresssum_std)\n",
    "    lcc_expressmean_zscore = lccZscore(lcc_expressmean,lcc_expressmean_mean,lcc_expressmean_mean)\n",
    "\n",
    "    return lcc_zscore,lcc_expresssum_zscore,lcc_expressmean_zscore"
   ],
   "id": "4ebe1cbdd06079d3",
   "outputs": [],
   "execution_count": 9
  },
  {
   "metadata": {
    "ExecuteTime": {
     "end_time": "2024-12-01T04:04:14.219153Z",
     "start_time": "2024-12-01T04:04:02.115070Z"
    }
   },
   "cell_type": "code",
   "source": [
    "for removal_ratio in range(1,5):  # 设定要删除的比例     \n",
    "    G = openPPI(r\"E:\\00_CeSOP\\data\\network(process_id).txt\")\n",
    "    print(len(G.edges))\n",
    "    # 计算要删除的边数\n",
    "    num_edges_to_remove = int(len(G.edges()) * removal_ratio*0.1)               \n",
    "    # 随机选择要删除的边\n",
    "    edges_to_remove = random.sample(list(G.edges()), num_edges_to_remove)                \n",
    "    # 从图中删除这些边\n",
    "    G.remove_edges_from(edges_to_remove)\n",
    "    print(len(G.edges))\n",
    "    print()\n",
    "    \n",
    "    "
   ],
   "id": "9c0e61b67d547a21",
   "outputs": [
    {
     "name": "stdout",
     "output_type": "stream",
     "text": [
      "314748\n",
      "283274\n",
      "\n",
      "314748\n",
      "251799\n",
      "\n",
      "314748\n",
      "220324\n",
      "\n",
      "314748\n",
      "188849\n",
      "\n"
     ]
    }
   ],
   "execution_count": 12
  },
  {
   "metadata": {
    "ExecuteTime": {
     "end_time": "2024-12-01T04:50:49.552714Z",
     "start_time": "2024-12-01T04:08:27.719535Z"
    }
   },
   "cell_type": "code",
   "source": [
    "t = 28\n",
    "for removal_ratio in range(1,5)[0:1]:  # 设定要删除的比例     \n",
    "    G = openPPI(r\"E:\\00_CeSOP\\data\\network(process_id).txt\")\n",
    "    # 计算要删除的边数\n",
    "    num_edges_to_remove = int(len(G.edges()) * removal_ratio*0.1)               \n",
    "    # 随机选择要删除的边\n",
    "    edges_to_remove = random.sample(list(G.edges()), num_edges_to_remove)                \n",
    "    # 从图中删除这些边\n",
    "    G.remove_edges_from(edges_to_remove)\n",
    "        \n",
    "    # 读取asthma gwas数据中所有基因\n",
    "    trait = pd.read_csv(r\"E:\\00_CeSOP\\data\\poly_posterior_prior_gene\\%s_new.txt\"%(t+1),sep = \"\\t\")\n",
    "    trait_coregene = list(pd.read_csv(r\"E:\\00_CeSOP\\data\\core_peri_geneset_of_49_traits\\core\\%s.txt\"%(t+1),sep = \"\\t\",header= None)[0])\n",
    "    trait_core = trait[trait[\"gene name\"].isin(trait_coregene)]\n",
    "    \n",
    "    tissuelist = os.listdir(r\"E:\\00_CeSOP\\results\\asthma\\lcczscore-pip-cell-sixpoints\")\n",
    "    for tissue in tissuelist[0:1]:\n",
    "        print(\"//n%s\"%tissue)\n",
    "        # 读取TS FACS单细胞数据\n",
    "        filePath = r\"E:\\00_CeSOP\\data\\TS_FACS\\TS_%s.h5ad\"%tissue\n",
    "        annData = sc.read_h5ad(filePath)\n",
    "        # 按照细胞类型进行分组,使用value_counts()方法计算每个分组中的细胞数量 ,按细胞数量逆序排列分组\n",
    "        sorted_groups = pd.DataFrame(annData.obs)[\"cell_ontology_class\"].value_counts().sort_values()\n",
    "        celltypelist = list(sorted_groups.keys())\n",
    "\n",
    "        ## 分别计算核心和外围\n",
    "        genelist = trait_coregene\n",
    "\n",
    "        # 创建结果文件夹\n",
    "        makedir(r\"E:\\00_CeSOP\\results\\robust\\network percent\\percent%s\\%s\"%(100-removal_ratio*10,tissue))\n",
    "        # 细胞类型\n",
    "        num = 0\n",
    "        for celltype in celltypelist:\n",
    "            num +=1\n",
    "            # 取出 'cd4-positive alpha-beta t cell' 对应的组的数据\n",
    "            subset_annData = annData[annData.obs['cell_ontology_class'] == celltype, :]\n",
    "            subset_annData_df = subset_annData.to_df()\n",
    "            # 有表达的基因\n",
    "            expressedGenes = subset_annData_df.apply(lambda row: subset_annData_df.columns[row.to_numpy().nonzero()[0]].tolist(), axis=1)\n",
    "            celllist = list(expressedGenes.index)\n",
    "            print(celltype,\"细胞类型：\"+str(num)+\"//\"+str(len(celltypelist))+\",细胞数量：\"+str(len(celllist)),str(time.strftime(\"%Y-%m-%d %H:%M:%S\", time.localtime())))\n",
    "\n",
    "            # 计算每个细胞中的结果\n",
    "            count = 0\n",
    "            result_list = []\n",
    "            for cell in celllist:   #cell是细胞名字\n",
    "                count+=1\n",
    "\n",
    "                # 单细胞有表达的网络基因\n",
    "                singlecell_network_genelist = list(set(expressedGenes[cell]) & set(list(G.nodes())))\n",
    "                \n",
    "                # 构建单细胞子网络\n",
    "                g = nx.subgraph(G,singlecell_network_genelist)\n",
    "                core_scnet_genelist = list(set(genelist) & set(singlecell_network_genelist))\n",
    "                l,lcc = Lcc(G,core_scnet_genelist)\n",
    "               \n",
    "                # lcc_expresszscore\n",
    "                lcczscore,lcc_expresssum_zscore,lcc_expressmean_zscore = \\\n",
    "                    gensetLccExpressZscore(G,g,core_scnet_genelist,20,subset_annData_df,cell)  # 随机50次\n",
    "                result_list.append([cell,len(core_scnet_genelist),lcc,lcczscore,lcc_expresssum_zscore,lcc_expressmean_zscore])\n",
    "\n",
    "            df_singcell = pd.DataFrame(result_list)\n",
    "            df_singcell.columns = [\"cell\",\"genenum\",\"lcc\",\"lcczscore\",\"lcc_expresssum_zscore\",\"lcc_expressmean_zscore\"]\n",
    "            df_singcell.to_csv(r\"E:\\00_CeSOP\\results\\robust\\network percent\\percent%s\\%s\\%s.csv\"%(100-removal_ratio*10,tissue,celltype))\n",
    "\n"
   ],
   "id": "5d3ecbb843268e9f",
   "outputs": [
    {
     "name": "stdout",
     "output_type": "stream",
     "text": [
      "//nBladder\n",
      "文件夹 'E:\\00_CeSOP\\results\\robust\\network percent\\percent90\\Bladder' 已存在，不进行任何处理\n",
      "plasmacytoid dendritic cell 细胞类型：1//15,细胞数量：18 2024-12-01 12:08:46\n",
      "endothelial cell of lymphatic vessel 细胞类型：2//15,细胞数量：74 2024-12-01 12:08:47\n",
      "capillary endothelial cell 细胞类型：3//15,细胞数量：77 2024-12-01 12:08:59\n",
      "b cell 细胞类型：4//15,细胞数量：253 2024-12-01 12:09:12\n",
      "vein endothelial cell 细胞类型：5//15,细胞数量：278 2024-12-01 12:09:55\n",
      "smooth muscle cell 细胞类型：6//15,细胞数量：290 2024-12-01 12:10:42\n",
      "nk cell 细胞类型：7//15,细胞数量：508 2024-12-01 12:11:33\n",
      "pericyte cell 细胞类型：8//15,细胞数量：875 2024-12-01 12:13:00\n",
      "mast cell 细胞类型：9//15,细胞数量：1029 2024-12-01 12:15:01\n",
      "plasma cell 细胞类型：10//15,细胞数量：1141 2024-12-01 12:16:21\n",
      "myofibroblast cell 细胞类型：11//15,细胞数量：2078 2024-12-01 12:18:07\n",
      "t cell 细胞类型：12//15,细胞数量：2916 2024-12-01 12:22:23\n",
      "bladder urothelial cell 细胞类型：13//15,细胞数量：4151 2024-12-01 12:26:36\n",
      "macrophage 细胞类型：14//15,细胞数量：5338 2024-12-01 12:35:45\n",
      "fibroblast 细胞类型：15//15,细胞数量：5557 2024-12-01 12:43:19\n"
     ]
    }
   ],
   "execution_count": 14
  },
  {
   "metadata": {
    "ExecuteTime": {
     "end_time": "2024-11-30T15:57:26.619982Z",
     "start_time": "2024-11-30T15:57:26.594677Z"
    }
   },
   "cell_type": "code",
   "source": [
    "import networkx as nx\n",
    "import random\n",
    "\n",
    "# 创建一个图（以一个简单的无向图为例）\n",
    "G = nx.erdos_renyi_graph(n=10, p=0.3)  # 生成一个包含10个节点的图，边的连接概率为0.3\n",
    "\n",
    "# 输出原图的边\n",
    "print(\"原图的边：\", list(G.edges()))\n",
    "\n",
    "# 设定要删除的比例\n",
    "removal_ratio = 0.2  # 比如删除20%的边\n",
    "\n",
    "# 计算要删除的边数\n",
    "num_edges_to_remove = int(len(G.edges()) * removal_ratio)\n",
    "\n",
    "# 随机选择要删除的边\n",
    "edges_to_remove = random.sample(list(G.edges()), num_edges_to_remove)\n",
    "\n",
    "# 从图中删除这些边\n",
    "G.remove_edges_from(edges_to_remove)\n",
    "\n",
    "# 输出删除边后的图的边\n",
    "print(\"删除边后的图的边：\", list(G.edges()))\n"
   ],
   "id": "75062fd94c7fc68a",
   "outputs": [
    {
     "name": "stdout",
     "output_type": "stream",
     "text": [
      "原图的边： [(0, 9), (2, 4), (3, 7), (3, 9), (4, 6), (4, 7), (5, 6), (5, 7), (6, 7), (7, 8)]\n",
      "删除边后的图的边： [(0, 9), (2, 4), (3, 7), (3, 9), (4, 6), (5, 7), (6, 7), (7, 8)]\n"
     ]
    }
   ],
   "execution_count": 12
  },
  {
   "metadata": {},
   "cell_type": "code",
   "outputs": [],
   "execution_count": null,
   "source": "",
   "id": "5da127dfa7b11613"
  }
 ],
 "metadata": {
  "kernelspec": {
   "display_name": "Python 3",
   "language": "python",
   "name": "python3"
  },
  "language_info": {
   "codemirror_mode": {
    "name": "ipython",
    "version": 2
   },
   "file_extension": ".py",
   "mimetype": "text/x-python",
   "name": "python",
   "nbconvert_exporter": "python",
   "pygments_lexer": "ipython2",
   "version": "2.7.6"
  }
 },
 "nbformat": 4,
 "nbformat_minor": 5
}
