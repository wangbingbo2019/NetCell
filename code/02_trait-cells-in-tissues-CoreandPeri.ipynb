{
 "cells": [
  {
   "cell_type": "markdown",
   "source": [
    "## 计算49个性状与组织和细胞类型关联的得分\n",
    "将细胞得分的topk细胞作为该性状相关的细胞，计算这些细胞与各个组织中细胞的富集情况"
   ],
   "metadata": {
    "collapsed": false
   }
  },
  {
   "cell_type": "code",
   "source": [
    "import pandas as pd\n",
    "import numpy as np\n",
    "import scanpy as sc\n",
    "import os\n",
    "\n",
    "import matplotlib.pyplot as plt\n",
    "#战置全局字体大小为12\n",
    "plt.rcParams['font.size'] = 14\n",
    "\n",
    "import warnings\n",
    "# 禁用所有警告\n",
    "warnings.filterwarnings(\"ignore\")"
   ],
   "metadata": {
    "collapsed": false,
    "pycharm": {
     "name": "#%%\n"
    },
    "ExecuteTime": {
     "end_time": "2025-02-28T13:57:09.966791Z",
     "start_time": "2025-02-28T13:56:50.279801Z"
    }
   },
   "outputs": [],
   "execution_count": 1
  },
  {
   "metadata": {
    "ExecuteTime": {
     "end_time": "2024-07-11T09:12:05.226989Z",
     "start_time": "2024-07-11T09:12:05.210296Z"
    }
   },
   "cell_type": "code",
   "source": [
    "import os\n",
    "def makedir(folder_path):\n",
    "    # 检查文件夹是否已经存在\n",
    "    if not os.path.exists(folder_path):\n",
    "        # 文件夹不存在时创建\n",
    "        os.makedirs(folder_path)\n",
    "        print(f\"文件夹 '{folder_path}' 已创建\")\n",
    "    else:\n",
    "        print(f\"文件夹 '{folder_path}' 已存在，不进行任何处理\")"
   ],
   "outputs": [],
   "execution_count": 5
  },
  {
   "cell_type": "code",
   "source": [
    "# 遍历文件夹中的指定格式的文件\n",
    "def openFolderAll(folder_path,desired_extension):\n",
    "    filelist = []\n",
    "    for filename in os.listdir(folder_path):\n",
    "        file_path = os.path.join(folder_path, filename)\n",
    "        if os.path.isfile(file_path) and filename.endswith(desired_extension):\n",
    "            filelist.append(file_path)\n",
    "    return filelist"
   ],
   "metadata": {
    "collapsed": false,
    "pycharm": {
     "name": "#%%\n"
    },
    "ExecuteTime": {
     "end_time": "2024-07-11T09:12:08.461102Z",
     "start_time": "2024-07-11T09:12:08.449977Z"
    }
   },
   "outputs": [],
   "execution_count": 6
  },
  {
   "cell_type": "code",
   "source": [
    "core = \"core\"\n",
    "# core = \"peri\"\n",
    "for trait in range(36,37):\n",
    "    tissuelist = os.listdir(r\"..\\results\\lcczscore-pip-coreperi-alltraits\\%s\\%s\"%(core,trait))\n",
    "    results_ct = pd.DataFrame()\n",
    "    for tissue in tissuelist:\n",
    "        folder_path = r\"..\\results\\lcczscore-pip-coreperi-alltraits\\%s\\%s\\%s\"%(core,trait,tissue)\n",
    "        # print(folder_path)\n",
    "        celltypelist = openFolderAll(folder_path,\".csv\")\n",
    "\n",
    "        tissue_df = pd.DataFrame()\n",
    "        for ct in celltypelist:\n",
    "            celltype = ct.split(\"\\\\\")[-1].split(\".\")[0]\n",
    "            df = pd.read_csv(ct)\n",
    "            df[\"celltype\"] = celltype\n",
    "            tissue_df = tissue_df.append(df)\n",
    "        tissue_df[\"tissue\"] = tissue\n",
    "        results_ct = results_ct.append(tissue_df)\n",
    "    results_ct.to_csv(r\"..\\results\\lcczscore-pip-coreperi-alltraits\\%s\\%s\\allcells.csv\"%(core,trait))\n",
    "    print(trait,\"finish!\")"
   ],
   "metadata": {
    "collapsed": false,
    "pycharm": {
     "name": "#%%\n"
    },
    "ExecuteTime": {
     "end_time": "2024-07-11T11:12:26.636693Z",
     "start_time": "2024-07-11T11:12:13.068658Z"
    }
   },
   "outputs": [
    {
     "name": "stdout",
     "output_type": "stream",
     "text": [
      "36 finish!\n"
     ]
    }
   ],
   "execution_count": 11
  },
  {
   "metadata": {
    "ExecuteTime": {
     "end_time": "2024-07-11T09:11:52.157318Z",
     "start_time": "2024-07-11T09:11:52.139522Z"
    }
   },
   "cell_type": "code",
   "source": [
    "\n",
    "def jaccard_similarity(set1, set2):\n",
    "    intersection = len(set1.intersection(set2))\n",
    "    union = len(set1.union(set2))\n",
    "    if union == 0:\n",
    "        return 0\n",
    "    else:\n",
    "        return intersection / union"
   ],
   "outputs": [],
   "execution_count": 3
  },
  {
   "cell_type": "code",
   "source": [
    "# 计算超几何分布pvalue\n",
    "from scipy.stats import hypergeom\n",
    "# Fisher's 精确检验\n",
    "import numpy as np\n",
    "from scipy.stats import fisher_exact\n",
    "\n",
    "# core = \"peri\"\n",
    "core = \"core\"\n",
    "index = \"lcczscore\"\n",
    "# index = \"lcc_expresssum_zscore\"\n",
    "# index = \"lcc_expressmean_zscore\"\n",
    "for trait in range(36,37):\n",
    "    makedir(r\"..\\results\\trait-cells-in-tissues-and-celltypes\\tissues\\%s\"%trait)\n",
    "    results_ct = pd.read_csv(r\"..\\results\\lcczscore-pip-coreperi-alltraits\\%s\\%s\\allcells.csv\"%(core,trait))\n",
    "    results_ct_sorted = results_ct.sort_values(by=index,ascending=False)\n",
    "    results_ct_sorted_topk = results_ct_sorted.iloc[:int(len(results_ct_sorted) * (10 / 100))][[index,\"tissue\",\"celltype\",\"cell\"]]\n",
    "    \n",
    "    #  计算超几何分布pvalue\n",
    "    topkcells = set(list(results_ct_sorted_topk[\"cell\"]))\n",
    "        # filenames = os.listdir(r\"E:\\0_单细胞1\\data\\TS_FACS\")\n",
    "    filenames = os.listdir(r\"..\\data\\TS_FACS\")\n",
    "    tissuelist = [f[len(\"TS_\"):-len(\".h5ad\")] for f in filenames]\n",
    "    result_index = []\n",
    "    for tissue in tissuelist:\n",
    "        tissue_cell = results_ct[results_ct['tissue']==tissue]\n",
    "        tissue_cell_topk = results_ct_sorted_topk[results_ct_sorted_topk['tissue']==tissue]\n",
    "        tissue_cellnum = len(tissue_cell)\n",
    "        tissue_cellnum_topk = len(tissue_cell_topk)\n",
    "    \n",
    "        # 计算jaccard系数\n",
    "        jaccard = jaccard_similarity(set(tissue_cell[\"cell\"]),set(tissue_cell_topk[\"cell\"]))\n",
    "    \n",
    "        # 计算fisher精确检验pvalue\n",
    "        b = tissue_cellnum\n",
    "        a = tissue_cellnum_topk\n",
    "        observed_table = [[a, b-a], [np.floor(b/10), b - np.floor(b/10)]]  # 2x2 列联表数据\n",
    "        odds_ratio, p_value = fisher_exact(observed_table, alternative='greater')\n",
    "    \n",
    "        # 所有细胞M中与性状相关的细胞有N个，那么某个组织的n个细胞中有k个性状相关细胞是否显著高\n",
    "        M = len(results_ct_sorted)\n",
    "        N = len(results_ct_sorted_topk)\n",
    "        n = tissue_cellnum\n",
    "        k = tissue_cellnum_topk\n",
    "        Hpvalue = hypergeom.sf(k-1,M,N,n)\n",
    "    \n",
    "        result_index.append([tissue,tissue_cellnum,tissue_cellnum_topk,\n",
    "                       jaccard,p_value,Hpvalue])\n",
    "    \n",
    "    result_index_df = pd.DataFrame(result_index)\n",
    "    result_index_df.columns = [\"tissue\",\"cellnum\",\"relatedCellnum\",\"jaccard\",\"fisher's pvalue\",\"hypergeom pvalue\"]\n",
    "    result_index_df.to_csv(r\"E:\\00_CeSOP\\results\\trait-cells-in-tissues-and-celltypes\\tissues\\%s\\top10_%s_lcczscore.csv\"%(trait,core))\n"
   ],
   "metadata": {
    "collapsed": false,
    "pycharm": {
     "name": "#%%\n"
    },
    "ExecuteTime": {
     "end_time": "2024-07-11T11:12:45.700830Z",
     "start_time": "2024-07-11T11:12:36.737617Z"
    }
   },
   "outputs": [
    {
     "name": "stdout",
     "output_type": "stream",
     "text": [
      "文件夹 'E:\\00_CeSOP\\results\\trait-cells-in-tissues-and-celltypes\\tissues\\36' 已存在，不进行任何处理\n"
     ]
    }
   ],
   "execution_count": 12
  },
  {
   "metadata": {
    "ExecuteTime": {
     "end_time": "2024-07-11T11:13:48.541428Z",
     "start_time": "2024-07-11T11:13:11.357993Z"
    }
   },
   "cell_type": "code",
   "source": [
    "## 细胞类型\n",
    "# core = \"peri\"\n",
    "core = \"core\"\n",
    "index = \"lcczscore\"\n",
    "# index = \"lcc_expresssum_zscore\"\n",
    "# index = \"lcc_expressmean_zscore\"\n",
    "for trait in range(36,37):\n",
    "    makedir(r\"..\\results\\trait-cells-in-tissues-and-celltypes\\celltypes\\%s\"%trait)\n",
    "    results_ct = pd.read_csv(r\"..\\results\\lcczscore-pip-coreperi-alltraits\\%s\\%s\\allcells.csv\"%(core,trait))\n",
    "    \n",
    "    results_ct_sorted = results_ct.sort_values(by=index,ascending=False)\n",
    "    results_ct_sorted_topk = results_ct_sorted.iloc[:int(len(results_ct_sorted) * (10 / 100))][[index,\"tissue\",\"celltype\",\"cell\"]]\n",
    "    \n",
    "    #  计算超几何分布pvalue\n",
    "    topkcells = set(list(results_ct_sorted_topk[\"cell\"]))\n",
    "    results_ct_group = results_ct.groupby([\"tissue\",\"celltype\"])\n",
    "    # tissuelist = os.listdir(r\"E:\\00_CeSOP\\results\\asthma\\lcczscore-pip-cell-sixpoints\")\n",
    "    result_index = []\n",
    "    # for tissue in tissuelist:\n",
    "    \n",
    "    for index0, group in results_ct_group:\n",
    "        tissue_cell = results_ct[(results_ct['tissue']==index0[0]) & (results_ct['celltype']==index0[1])]\n",
    "        tissue_cell_topk = results_ct_sorted_topk[(results_ct_sorted_topk['tissue']==index0[0])  & (results_ct_sorted_topk['celltype']==index0[1])]\n",
    "        tissue_cellnum = len(tissue_cell)\n",
    "        tissue_cellnum_topk = len(tissue_cell_topk)\n",
    "        \n",
    "        # 计算jaccard系数\n",
    "        jaccard = jaccard_similarity(set(tissue_cell[\"cell\"]),set(tissue_cell_topk[\"cell\"]))\n",
    "    \n",
    "        # 计算fisher精确检验pvalue\n",
    "        b = tissue_cellnum\n",
    "        a = tissue_cellnum_topk\n",
    "        observed_table = [[a, b-a], [np.floor(b/10), b - np.floor(b/10)]]  # 2x2 列联表数据\n",
    "        odds_ratio, p_value = fisher_exact(observed_table, alternative='greater')\n",
    "    \n",
    "        # 所有细胞M中与性状相关的细胞有N个，那么某个组织的n个细胞中有k个性状相关细胞是否显著高\n",
    "        M = len(results_ct_sorted)\n",
    "        N = len(results_ct_sorted_topk)\n",
    "        n = tissue_cellnum\n",
    "        k = tissue_cellnum_topk\n",
    "        Hpvalue = hypergeom.sf(k-1,M,N,n)\n",
    "    \n",
    "        result_index.append([index0[0],index0[1],tissue_cellnum,tissue_cellnum_topk,\n",
    "                       jaccard,p_value,Hpvalue])\n",
    "    \n",
    "    result_index_df = pd.DataFrame(result_index)\n",
    "    result_index_df.columns = [\"tissue\",\"celltype\",\"cellnum\",\"relatedCellnum\",\"jaccard\",\"fisher's pvalue\",\"hypergeom pvalue\"]\n",
    "    result_index_df.to_csv(r\"..\\results\\trait-cells-in-tissues-and-celltypes\\celltypes\\%s\\top10_%s_lcczscore.csv\"%(trait,core))"
   ],
   "outputs": [
    {
     "name": "stdout",
     "output_type": "stream",
     "text": [
      "文件夹 'E:\\00_CeSOP\\results\\trait-cells-in-tissues-and-celltypes\\celltypes\\36' 已存在，不进行任何处理\n"
     ]
    }
   ],
   "execution_count": 13
  }
 ],
 "metadata": {
  "kernelspec": {
   "display_name": "PyCharm (0 _单细胞)",
   "language": "python",
   "name": "pycharm-20651879"
  },
  "language_info": {
   "codemirror_mode": {
    "name": "ipython",
    "version": 2
   },
   "file_extension": ".py",
   "mimetype": "text/x-python",
   "name": "python",
   "nbconvert_exporter": "python",
   "pygments_lexer": "ipython2",
   "version": "2.7.6"
  }
 },
 "nbformat": 4,
 "nbformat_minor": 0
}
