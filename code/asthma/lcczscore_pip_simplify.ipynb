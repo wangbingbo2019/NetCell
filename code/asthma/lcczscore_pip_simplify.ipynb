{
 "cells": [
  {
   "cell_type": "markdown",
   "metadata": {
    "collapsed": true,
    "pycharm": {
     "name": "#%% md\n"
    }
   },
   "source": [
    "## 1. 简化计算单细胞lcczscore\n",
    "* lcczscore:  最大连通分支上节点数量的显著性\n",
    "* weighted-lcczscore: 最大连通分支上表达值的显著性\n",
    "* expressmean-lcczscore: 最大连通分支上平均每个基因表达的显著性\n",
    "* \n",
    "      1.1 pip>1时，正常随机 ，只记录单细胞中基因数量有变化的点  【高扰动】\n",
    "      1.2 计算“所有gene”的lcczscore和weighted-lcczscore，expressmean-lcczscore 【低扰动】\n",
    "\n",
    "## 2. 根据 lcczscore pip 计算得到的结果提取每个细胞的6个点\n",
    "对于每个细胞\n",
    "* 统计pip大于1 的lcczscore最大值，以及该位置对应的weightedlcczscore，expresszscore\n",
    "* 统计pip=0处(所有基因) 的lcczscore，以及该位置对应的weightedlcczscore，expresszscore"
   ]
  },
  {
   "metadata": {},
   "cell_type": "markdown",
   "source": "## 1. 计算lcczscore，weighted-lcczscore,expressmean-lcczscore"
  },
  {
   "cell_type": "code",
   "execution_count": 1,
   "metadata": {
    "pycharm": {
     "name": "#%%\n"
    }
   },
   "outputs": [],
   "source": [
    "import pandas as pd\n",
    "import matplotlib.pyplot as plt\n",
    "import seaborn as sns\n",
    "import networkx as nx\n",
    "import random\n",
    "import numpy as np\n",
    "import scanpy as sc\n",
    "import math\n",
    "import time\n",
    "\n",
    "import warnings\n",
    "# 禁用所有警告\n",
    "warnings.filterwarnings(\"ignore\")"
   ]
  },
  {
   "cell_type": "code",
   "execution_count": 2,
   "metadata": {
    "pycharm": {
     "name": "#%%\n"
    }
   },
   "outputs": [],
   "source": [
    "import os\n",
    "def makedir(folder_path):\n",
    "    # 检查文件夹是否已经存在\n",
    "    if not os.path.exists(folder_path):\n",
    "        # 文件夹不存在时创建\n",
    "        os.makedirs(folder_path)\n",
    "        print(f\"文件夹 '{folder_path}' 已创建\")\n",
    "    else:\n",
    "        print(f\"文件夹 '{folder_path}' 已存在，不进行任何处理\")"
   ]
  },
  {
   "cell_type": "code",
   "execution_count": 3,
   "metadata": {
    "pycharm": {
     "name": "#%%\n"
    }
   },
   "outputs": [],
   "source": [
    "'''读取背景网络'''\n",
    "def openPPI(filename):\n",
    "    '''\n",
    "        打开PPI\n",
    "        文件格式 gene1_name gene1_id gene2_name gene2_id\n",
    "        返回值：网络[节点是gene name]\n",
    "    '''\n",
    "    G = nx.Graph()\n",
    "    a=open(filename,\"r\")\n",
    "    next(a)\n",
    "\n",
    "    for i in a:\n",
    "        n=i.strip().split(\"\\t\")\n",
    "        G.add_edge(n[0],n[3])\n",
    "        G.add_node(n[0])\n",
    "        G.add_node(n[3])\n",
    "    a.close()\n",
    "    return G\n",
    "\n",
    "G = openPPI(r\"..\\data\\network(process_id).txt\")"
   ]
  },
  {
   "cell_type": "code",
   "execution_count": 4,
   "metadata": {
    "pycharm": {
     "name": "#%%\n"
    }
   },
   "outputs": [],
   "source": [
    "# 计算最大连通分支\n",
    "def Lcc(G,genename):\n",
    "    '''\n",
    "        输入图网络和一个列表，计算最大连通分支lcc\n",
    "        G：图，这里图中的节点是基因name\n",
    "        genename：用于计算lcc的genename列表\n",
    "    '''\n",
    "\n",
    "    g = nx.subgraph(G,genename)\n",
    "    if len(genename)==0:\n",
    "        largest = 0\n",
    "        l = []\n",
    "        return l,largest\n",
    "    else:\n",
    "        try:\n",
    "            l = max(nx.connected_components(g),key=len)  #如果随机选取的gene没有连通分支的话，会报错，添加判断条件\n",
    "            largest = len(l)     #最大联通分支\n",
    "        except ValueError as e:\n",
    "            l = genename[0]    # 假设genename列表中的第一个基因为最大连通分支\n",
    "            largest = 1        #设置最大联通分支数为1\n",
    "        return list(l),largest"
   ]
  },
  {
   "cell_type": "code",
   "execution_count": 5,
   "metadata": {
    "pycharm": {
     "name": "#%%\n"
    }
   },
   "outputs": [],
   "source": [
    "## 计算一组基因集合的表达值均值\n",
    "def expressValue(genelist,annData_df,cell):\n",
    "    '''\n",
    "    :param genelist: 要计算的gene列表\n",
    "    :param annData_df: 单细胞表达数据的df\n",
    "    :param cell:  第几个细胞\n",
    "    :return:\n",
    "    '''\n",
    "\n",
    "    # cell_expressedvalue = annData_df.loc[annData_df.index[cell],genelist]\n",
    "    cell_expressedvalue = annData_df.loc[cell,genelist]\n",
    "    if len(cell_expressedvalue)==0:\n",
    "        return 0,0\n",
    "    else:\n",
    "        return sum(cell_expressedvalue), sum(cell_expressedvalue)/len(cell_expressedvalue)"
   ]
  },
  {
   "cell_type": "code",
   "execution_count": 6,
   "metadata": {
    "pycharm": {
     "name": "#%%\n"
    }
   },
   "outputs": [],
   "source": [
    "# 计算最大连通分支，并返回最大连通分支上的基因表达值之和、均值\n",
    "def lccExpressedValue(G,genename,annData_df,cell):\n",
    "    '''\n",
    "    :param g: 选定的背景网络\n",
    "    :param genename:\n",
    "    :param annData_df:\n",
    "    :param cell:\n",
    "    :return:\n",
    "    '''\n",
    "\n",
    "    lccgenelist, largest = Lcc(G,genename)\n",
    "    lcc_expresssum,lcc_expressmean = expressValue(lccgenelist,annData_df,cell)\n",
    "    return lcc_expresssum,lcc_expressmean"
   ]
  },
  {
   "cell_type": "code",
   "execution_count": 7,
   "metadata": {
    "pycharm": {
     "name": "#%%\n"
    }
   },
   "outputs": [],
   "source": [
    "def LccExpress_mean(g,genelist,ran,annData_df,cell):\n",
    "    '''\n",
    "    每次从网络G的所有基因中随机选择genelist数量的gene，计算均值和标准差\n",
    "    g:背景网络\n",
    "    genelist：\n",
    "    ran：随机次数\n",
    "    返回：表达值之和、表达值均值的多次随机的均值和标准差\n",
    "    '''\n",
    "\n",
    "    all_genes = g.nodes()  # 背景网络中的gene\n",
    "\n",
    "    #做随机实验\n",
    "    l_list = []         #lcc列表\n",
    "    l1_list = []         #lcc列表\n",
    "    l2_list = []         #lcc列表\n",
    "    for j in range(ran):\n",
    "        black_nodes = random.sample(all_genes,len(genelist))\n",
    "        l,largest_ran = Lcc(g,black_nodes)\n",
    "        lcc_expresssum,lcc_expressmean = lccExpressedValue(g,black_nodes,annData_df,cell)\n",
    "\n",
    "        l_list.append(largest_ran)\n",
    "        l1_list.append(lcc_expresssum)\n",
    "        l2_list.append(lcc_expressmean)\n",
    "\n",
    "    #计算lcczscore\n",
    "    lcc_mean = np.mean(l_list)\n",
    "    lcc_std  = np.std(l_list)\n",
    "\n",
    "    lcc1_mean = np.mean(l1_list)\n",
    "    lcc1_std  = np.std(l1_list)\n",
    "\n",
    "    lcc2_mean = np.mean(l2_list)\n",
    "    lcc2_std  = np.std(l2_list)\n",
    "\n",
    "    return lcc_mean,lcc_std,lcc1_mean,lcc1_std,lcc2_mean,lcc2_std"
   ]
  },
  {
   "cell_type": "code",
   "execution_count": 8,
   "metadata": {
    "pycharm": {
     "name": "#%%\n"
    }
   },
   "outputs": [],
   "source": [
    "# 计算lcczscore\n",
    "def lccZscore(Lcc,lcc_mean,lcc_std):\n",
    "    if lcc_std == 0:\n",
    "        zscore = 0\n",
    "    else:\n",
    "        zscore = (Lcc - lcc_mean)/lcc_std\n",
    "        zscore = round(zscore,6)\n",
    "    return zscore\n"
   ]
  },
  {
   "cell_type": "code",
   "execution_count": 9,
   "metadata": {
    "pycharm": {
     "name": "#%%\n"
    }
   },
   "outputs": [],
   "source": [
    "# 计算某一组基因集合的lccexpresszscore\n",
    "# G：整个背景网络\n",
    "# g：随机选择基因集合的背景\n",
    "def gensetLccExpressZscore(G,g,genelist,ran,annData_df,cell):\n",
    "    l,lcc = Lcc(G,genelist)\n",
    "    lcc_expresssum,lcc_expressmean = lccExpressedValue(G,genelist,annData_df,cell)\n",
    "    lcc_mean,lcc_std,lcc_expresssum_mean,lcc_expresssum_std,lcc_expressmean_mean,lcc_expressmean_std = \\\n",
    "        LccExpress_mean(g,genelist,ran,annData_df,cell)\n",
    "\n",
    "    lcc_zscore = lccZscore(lcc,lcc_mean,lcc_std)\n",
    "    lcc_expresssum_zscore = lccZscore(lcc_expresssum,lcc_expresssum_mean,lcc_expresssum_std)\n",
    "    lcc_expressmean_zscore = lccZscore(lcc_expressmean,lcc_expressmean_mean,lcc_expressmean_mean)\n",
    "\n",
    "    return lcc_zscore,lcc_expresssum_zscore,lcc_expressmean_zscore"
   ]
  },
  {
   "cell_type": "markdown",
   "metadata": {
    "pycharm": {
     "name": "#%% md\n"
    }
   },
   "source": [
    "### 采样策略：等pip采样\n",
    "\n"
   ]
  },
  {
   "cell_type": "code",
   "execution_count": 10,
   "metadata": {
    "pycharm": {
     "name": "#%%\n"
    }
   },
   "outputs": [],
   "source": [
    "# 读取asthma gwas数据中所有基因\n",
    "trait = pd.read_csv(r\"..\\data\\poly_posterior_prior_gene_new\\29_new.txt\",sep = \"\\t\")\n",
    "trait_genelist = list(set(list(trait[\"gene name\"])))   # 性状相关基因 12676\n",
    "# gene-pip排序\n",
    "grouped_df = trait.groupby('gene name').sum()['posterior']\n",
    "grouped_dfsorted = grouped_df.sort_values(ascending=False)\n",
    "grouped_dfsorted = pd.DataFrame(grouped_dfsorted[1:]) #删除“-”\n",
    "grouped_dfsorted[\"gene name\"] = grouped_dfsorted.index"
   ]
  },
  {
   "cell_type": "code",
   "execution_count": 11,
   "metadata": {
    "pycharm": {
     "name": "#%%\n"
    }
   },
   "outputs": [],
   "source": [
    "def samplePip(grouped_dfsorted):\n",
    "    '''\n",
    "    采样策略：\n",
    "            [0)\n",
    "            [1~4.238)  全取  227次\n",
    "\n",
    "    :param grouped_dfsorted:\n",
    "    :return:  pip的分界线\n",
    "    '''\n",
    "    temp1 = [0]\n",
    "    temp4 = sorted(list(set(grouped_dfsorted[grouped_dfsorted['posterior']>=1]['posterior'].sort_values())))\n",
    "    temp5 = [max(grouped_dfsorted['posterior']) + 0.1]\n",
    "    binspip = temp1 +  temp4 + temp5\n",
    "    return binspip\n",
    "\n",
    "# 只选特定的一些点来计算\n",
    "binspip = samplePip(grouped_dfsorted)\n",
    "grouped_dfsorted['Category'] = pd.cut(grouped_dfsorted['posterior'], bins=binspip, right=False)"
   ]
  },
  {
   "cell_type": "code",
   "execution_count": null,
   "outputs": [],
   "source": [
    "tissue = \"Prostate\"\n",
    "# 读取TS FACS单细胞数据\n",
    "filePath = r\"..\\data\\TS FACS\\TS_%s.h5ad\"%tissue\n",
    "annData = sc.read_h5ad(filePath)\n",
    "# 按照指定列进行分组\n",
    "obs_df = pd.DataFrame(annData.obs)\n",
    "grouped_adata = obs_df.groupby(\"cell_ontology_class\")\n",
    "# 使用value_counts()方法计算每个分组中的细胞数量\n",
    "group_counts = obs_df[\"cell_ontology_class\"].value_counts()\n",
    "# 按细胞数量逆序排列分组\n",
    "sorted_groups = group_counts.sort_values()\n",
    "print(sorted_groups)\n",
    "celltypelist = list(sorted_groups.keys())"
   ],
   "metadata": {
    "collapsed": false,
    "pycharm": {
     "name": "#%%\n"
    }
   }
  },
  {
   "cell_type": "code",
   "execution_count": 12,
   "metadata": {},
   "outputs": [
    {
     "name": "stdout",
     "output_type": "stream",
     "text": [
      "mast cell                                      9\n",
      "sperm                                         11\n",
      "neutrophil                                    16\n",
      "stromal cell                                  32\n",
      "monocyte                                      33\n",
      "erythroid progenitor                          86\n",
      "nkt cell                                     175\n",
      "hillock cell of prostate epithelium          211\n",
      "fibroblast                                   223\n",
      "cd8b-positive nk t cell                      255\n",
      "smooth muscle cell                           285\n",
      "hillock-club cell of prostate epithelium     290\n",
      "macrophage                                   317\n",
      "myeloid cell                                 365\n",
      "endothelial cell                             585\n",
      "t cell                                       586\n",
      "club cell of prostate epithelium             788\n",
      "cd8-positive, alpha-beta t cell             1081\n",
      "luminal cell of prostate epithelium         1092\n",
      "basal cell of prostate epithelium           3298\n",
      "epithelial cell                             6637\n",
      "Name: cell_ontology_class, dtype: int64\n"
     ]
    }
   ],
   "source": [
    "num = 0\n",
    "for celltype in celltypelist[0:10]:\n",
    "    num +=1\n",
    "    print(celltype)\n",
    "    print(str(time.strftime(\"%Y-%m-%d %H:%M:%S\", time.localtime())))\n",
    "    # 创建结果文件夹\n",
    "    makedir(r\"..\\results\\lcczscore-pip\\%s\\%s\"%(tissue,celltype))\n",
    "    logpath = r\"..\\results\\lcczscore-pip\\%s\\%s\\0log.txt\"%(tissue,celltype)\n",
    "    with open(logpath, \"w\") as f:  # 先清空\n",
    "        f.truncate(0)\n",
    "    # 取出 'cd4-positive alpha-beta t cell' 对应的组的数据\n",
    "    subset_annData = annData[annData.obs['cell_ontology_class'] == celltype, :]\n",
    "    subset_annData_df = subset_annData.to_df()\n",
    "    # 有表达的基因\n",
    "    expressedGenes = subset_annData_df.apply(lambda row: subset_annData_df.columns[row.to_numpy().nonzero()[0]].tolist(), axis=1)\n",
    "    celllist = list(expressedGenes.index)\n",
    "    # 计算每个细胞中的结果\n",
    "    count = 0\n",
    "\n",
    "    for cell in celllist:   #cell是细胞名字\n",
    "        count+=1\n",
    "        with open(logpath, 'a') as r:\n",
    "            r.write(\"第\" + str(count) + \"/\" + str(len(celllist)) +\"个细胞:\"+str(time.strftime(\"%Y-%m-%d %H:%M:%S\", time.localtime()))+\"\\n\")\n",
    "        genelist = []\n",
    "        result_list = []\n",
    "\n",
    "        # 单细胞有表达的网络基因\n",
    "        singlecell_network_genelist = list(set(expressedGenes[cell]) & set(list(G.nodes())))\n",
    "        # 构建单细胞子网络\n",
    "        g = nx.subgraph(G,singlecell_network_genelist)\n",
    "        # 细胞有表达的asthma相关基因\n",
    "        # 每个细胞都采样426次，但是每次采样中加入的基因数目不同，有的采样可能不加入新基因\n",
    "        allgene = grouped_dfsorted[grouped_dfsorted[\"gene name\"].isin(singlecell_network_genelist)]\n",
    "        allgene['Left_Boundary'] = allgene['Category'].apply(lambda x: x.left)\n",
    "        gene_df= allgene.groupby('Left_Boundary')[\"gene name\"].agg(list).reset_index()\n",
    "        gene_df_sorted = gene_df.iloc[::-1]\n",
    "\n",
    "        for i in range(len(gene_df_sorted)):\n",
    "            if len(gene_df_sorted.iloc[i][\"gene name\"]) != 0:  # 只有当该细胞中基因数量发生变化时，才计算\n",
    "                genelist.extend(gene_df_sorted.iloc[i][\"gene name\"])\n",
    "                l,lcc = Lcc(G,genelist)\n",
    "                # lcc_expresszscore\n",
    "                lcczscore,lcc_expresssum_zscore,lcc_expressmean_zscore = \\\n",
    "                    gensetLccExpressZscore(G,g,genelist,50,subset_annData_df,cell)  # 随机50次\n",
    "                result_list.append([gene_df_sorted.iloc[i][\"Left_Boundary\"],len(genelist),lcc,lcczscore,lcc_expresssum_zscore,lcc_expressmean_zscore])\n",
    "\n",
    "        df_singcell = pd.DataFrame(result_list)\n",
    "        df_singcell.columns = [\"pip_Boundary\",\"genenum\",\"lcc\",\"lcczscore\",\"lcc_expresssum_zscore\",\"lcc_expressmean_zscore\"]\n",
    "        df_singcell.to_csv(r\"..\\results\\lcczscore-pip\\%s\\%s\\%s.csv\"%(tissue,celltype,cell))\n",
    "        r.close()"
   ]
  },
  {
   "metadata": {},
   "cell_type": "markdown",
   "source": [
    "## 2. 根据 lcczscore pip 计算得到的结果提取每个细胞的6个点\n",
    "    * 统计pip大于1 的lcczscore最大值，以及该位置对应的weightedlcczscore，expresszscore\n",
    "    * 统计pip=0处(所有基因) 的lcczscore，以及该位置对应的weightedlcczscore，expresszscore\n"
   ]
  },
  {
   "metadata": {},
   "cell_type": "code",
   "outputs": [],
   "execution_count": null,
   "source": [
    "# 遍历文件夹中的指定格式的文件\n",
    "def openFolderAll(folder_path, desired_extension):\n",
    "    filelist = []\n",
    "    for filename in os.listdir(folder_path):\n",
    "        file_path = os.path.join(folder_path, filename)\n",
    "        if os.path.isfile(file_path) and filename.endswith(desired_extension):\n",
    "            filelist.append(file_path)\n",
    "    return filelist\n"
   ]
  },
  {
   "metadata": {},
   "cell_type": "code",
   "outputs": [],
   "execution_count": null,
   "source": [
    "boundary = 1\n",
    "tissuelist = os.listdir(r\"..\\results\\lcczscore-pip\")\n",
    "for tissue in tissuelist[20:]:\n",
    "    # 创建结果文件夹\n",
    "    makedir(r\"..\\results\\lcczscore-pip-cell-sixpoints\\%s\" % tissue)\n",
    "\n",
    "    ## 目前文件夹中结果的细胞类型\n",
    "    celltypelist = os.listdir(r\"..\\results\\lcczscore-pip\\%s\" % tissue)\n",
    "    for celltype in celltypelist:\n",
    "        # 读取文件夹下的所有文件\n",
    "        folder_path = r\"..\\results\\lcczscore-pip\\%s\\%s\" % (tissue, celltype)\n",
    "        desired_extension = '.csv'\n",
    "        filelist = openFolderAll(folder_path, desired_extension)\n",
    "\n",
    "        celltype_result = []\n",
    "        for file in filelist:\n",
    "            cellname = file.split(\"\\\\\")[-1].split(\".\")[0]\n",
    "            result_singcell = pd.read_csv(file, index_col=0)\n",
    "\n",
    "            if len(result_singcell) <= 6:\n",
    "                continue\n",
    "            # 条件筛选删除小于边界值的行\n",
    "            result_singcell = result_singcell[result_singcell[\"genenum\"] >= 5].reset_index(drop=True)\n",
    "            # 后验概率>1的最大值\n",
    "            if len(result_singcell[result_singcell[\"pip_Boundary\"] >= boundary]) != 0:\n",
    "                # pip大于1 的lcczscore最大值，以及该位置对应的lccexpresssum\n",
    "                maxlcczscore = max(result_singcell[result_singcell[\"pip_Boundary\"] >= boundary][\"lcczscore\"])\n",
    "                index_maxlcczscore = result_singcell[result_singcell[\"pip_Boundary\"] >= boundary][\"lcczscore\"].idxmax()\n",
    "                maxpip = result_singcell.iloc[index_maxlcczscore][\"pip_Boundary\"]\n",
    "                maxlcc_expresszscore = result_singcell.iloc[index_maxlcczscore][\"lcc_expresssum_zscore\"]\n",
    "                maxlcc_expressmeanzscore = result_singcell.iloc[index_maxlcczscore][\"lcc_expressmean_zscore\"]\n",
    "                maxlcc_genenum = result_singcell.iloc[index_maxlcczscore][\"genenum\"] + 5\n",
    "                maxlcc_lcc = result_singcell.iloc[index_maxlcczscore][\"lcc\"]\n",
    "\n",
    "                # pip=0处 的lcczscore，以及该位置对应的lccexpresssum\n",
    "                allgene_lcczscore = result_singcell.iloc[len(result_singcell) - 1][\"lcczscore\"]\n",
    "                allgene_lccexpresszscore = result_singcell.iloc[len(result_singcell) - 1][\"lcc_expresssum_zscore\"]\n",
    "                allgene_lccexpressmeanzscore = result_singcell.iloc[len(result_singcell) - 1][\"lcc_expressmean_zscore\"]\n",
    "                celltype_result.append(\n",
    "                    [cellname, index_maxlcczscore, maxpip, maxlcczscore, maxlcc_expresszscore, maxlcc_expressmeanzscore,\n",
    "                     maxlcc_genenum, maxlcc_lcc,\n",
    "                     allgene_lcczscore, allgene_lccexpresszscore, allgene_lccexpressmeanzscore])\n",
    "        df_result = pd.DataFrame(celltype_result)\n",
    "        print(celltype + \"  finish!\")\n",
    "        if len(df_result) > 0:\n",
    "            df_result.columns = [\"cellname\", \"index_maxlcczscore\", \"maxpip\", \"maxlcczscore\", \"maxlcc_expresszscore\",\n",
    "                                 \"maxlcc_expressmeanzscore\", \"maxlcc_genenum\", \"maxlcc_lcc\",\n",
    "                                 \"allgene_lcczscore\", \"allgene_lccexpresszscore\", \"allgene_lccexpressmeanzscore\"]\n",
    "            df_result.to_csv(r\"..\\results\\lcczscore-pip-cell-sixpoints\\%s\\%s.csv\" % (tissue, celltype))\n",
    "\n",
    "    print(\"Finish!\")"
   ]
  }
 ],
 "metadata": {
  "kernelspec": {
   "display_name": "PyCharm (0 _单细胞)",
   "language": "python",
   "name": "pycharm-20651879"
  },
  "language_info": {
   "codemirror_mode": {
    "name": "ipython",
    "version": 3
   },
   "file_extension": ".py",
   "mimetype": "text/x-python",
   "name": "python",
   "nbconvert_exporter": "python",
   "pygments_lexer": "ipython3",
   "version": "3.8.5"
  }
 },
 "nbformat": 4,
 "nbformat_minor": 1
}
