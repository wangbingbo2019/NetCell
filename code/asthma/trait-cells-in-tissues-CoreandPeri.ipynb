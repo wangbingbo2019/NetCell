{
 "cells": [
  {
   "cell_type": "markdown",
   "source": [
    "将所有细胞得分的topk细胞作为该性状相关的细胞，计算这些细胞与各个组织中细胞的富集情况"
   ],
   "metadata": {
    "collapsed": false
   }
  },
  {
   "cell_type": "code",
   "source": [
    "import pandas as pd\n",
    "import numpy as np\n",
    "import scanpy as sc\n",
    "import os\n",
    "\n",
    "import matplotlib.pyplot as plt\n",
    "#战置全局字体大小为12\n",
    "plt.rcParams['font.size'] = 14\n",
    "\n",
    "import warnings\n",
    "# 禁用所有警告\n",
    "warnings.filterwarnings(\"ignore\")"
   ],
   "metadata": {
    "collapsed": false,
    "pycharm": {
     "name": "#%%\n"
    },
    "ExecuteTime": {
     "end_time": "2024-05-05T07:18:33.046947Z",
     "start_time": "2024-05-05T07:18:18.302131Z"
    }
   },
   "outputs": [],
   "execution_count": 1
  },
  {
   "cell_type": "code",
   "source": [
    "# 遍历文件夹中的指定格式的文件\n",
    "def openFolderAll(folder_path,desired_extension):\n",
    "    filelist = []\n",
    "    for filename in os.listdir(folder_path):\n",
    "        file_path = os.path.join(folder_path, filename)\n",
    "        if os.path.isfile(file_path) and filename.endswith(desired_extension):\n",
    "            filelist.append(file_path)\n",
    "    return filelist"
   ],
   "metadata": {
    "collapsed": false,
    "pycharm": {
     "name": "#%%\n"
    },
    "ExecuteTime": {
     "end_time": "2024-05-05T07:18:33.062188Z",
     "start_time": "2024-05-05T07:18:33.048910Z"
    }
   },
   "outputs": [],
   "execution_count": 2
  },
  {
   "cell_type": "code",
   "execution_count": 8,
   "outputs": [
    {
     "name": "stdout",
     "output_type": "stream",
     "text": [
      "finish!\n"
     ]
    }
   ],
   "source": [
    "# core = \"core\"\n",
    "# tissuelist = os.listdir(r\"..\\results\\asthma\\lcczscore-pip-coreperi\\%s\"%core)\n",
    "# \n",
    "# results_ct = pd.DataFrame()\n",
    "# for tissue in tissuelist:\n",
    "#     folder_path = r\"E:\\0_单细胞1\\results\\asthma\\lcczscore-pip-coreperi\\%s\\%s\"%(core,tissue)\n",
    "#     celltypelist = openFolderAll(folder_path,\".csv\")\n",
    "# \n",
    "#     tissue_df = pd.DataFrame()\n",
    "#     for ct in celltypelist:\n",
    "#         celltype = ct.split(\"\\\\\")[-1].split(\".\")[0]\n",
    "#         df = pd.read_csv(ct)\n",
    "#         df[\"celltype\"] = celltype\n",
    "#         tissue_df = tissue_df.append(df)\n",
    "#     tissue_df[\"tissue\"] = tissue\n",
    "#     results_ct = results_ct.append(tissue_df)\n",
    "# results_ct.to_csv(r\"..\\results\\asthma\\lcczscore-pip-coreperi\\%s\\allcells.csv\"%core)\n",
    "# print(\"finish!\")"
   ],
   "metadata": {
    "collapsed": false,
    "pycharm": {
     "name": "#%%\n"
    }
   }
  },
  {
   "cell_type": "code",
   "execution_count": 18,
   "outputs": [
    {
     "name": "stdout",
     "output_type": "stream",
     "text": [
      "                 num of top10cell\n",
      "Lung                         5663\n",
      "Blood                        4053\n",
      "Fat                          3844\n",
      "Vasculature                  3771\n",
      "Muscle                       3348\n",
      "Salivary_Gland               2934\n",
      "Bladder                      2904\n",
      "Spleen                       2799\n",
      "Thymus                       2595\n",
      "Eye                          2251\n",
      "Lymph_Node                   2036\n",
      "Pancreas                     1732\n",
      "Trachea                      1442\n",
      "Heart                        1354\n",
      "Tongue                       1322\n",
      "Prostate                     1266\n",
      "Bone_Marrow                  1175\n",
      "Uterus                        994\n",
      "Mammary                       944\n",
      "Skin                          626\n",
      "Small_Intestine               389\n",
      "Large_Intestine               374\n",
      "Liver                         302\n",
      "Kidney                        197\n"
     ]
    }
   ],
   "source": [
    "# # core = \"peri\"\n",
    "# core = \"core\"\n",
    "# index = \"lcczscore\"\n",
    "# # index = \"lcc_expresssum_zscore\"\n",
    "# # index = \"lcc_expressmean_zscore\"\n",
    "# results_ct = pd.read_csv(r\"..\\results\\asthma\\lcczscore-pip-coreperi\\%s\\allcells.csv\"%core)\n",
    "# results_ct_sorted = results_ct.sort_values(by=index,ascending=False)\n",
    "# results_ct_sorted_topk = results_ct_sorted.iloc[:int(len(results_ct_sorted) * (10 / 100))][[index,\"tissue\",\"celltype\",\"cell\"]]\n",
    "# counts_df = pd.DataFrame(results_ct_sorted_topk['tissue'].value_counts())\n",
    "# counts_df.columns = [\"num of top10cell\"]\n",
    "# print(counts_df)\n",
    "# counts_df.to_csv(r\"..\\results\\asthma\\trait-cells-in-tissues\\tissues\\%s\\top10_%s.csv\"%(core,index))"
   ],
   "metadata": {
    "collapsed": false,
    "pycharm": {
     "name": "#%%\n"
    }
   }
  },
  {
   "cell_type": "markdown",
   "source": [
    "计算Sørensen-Dice系数,Simpson系数,Cosine指数,Geometric指数"
   ],
   "metadata": {
    "collapsed": false
   }
  },
  {
   "cell_type": "code",
   "source": [
    "# import math\n",
    "# \n",
    "# def dice_coefficient(set1, set2):\n",
    "#     \"\"\"\n",
    "#     计算两个集合的Dice系数\n",
    "#     :param set1: 第一个集合\n",
    "#     :param set2: 第二个集合\n",
    "#     :return: Dice系数\n",
    "#     \"\"\"\n",
    "#     intersection = len(set1.intersection(set2))\n",
    "#     return 2.0 * intersection / (len(set1) + len(set2))\n",
    "# \n",
    "# def simpson_coefficient(set1, set2):\n",
    "#     \"\"\"\n",
    "#     计算两个集合的Simpson系数\n",
    "#     :param set1: 第一个集合\n",
    "#     :param set2: 第二个集合\n",
    "#     :return: Simpson系数\n",
    "#     \"\"\"\n",
    "#     intersection = len(set1.intersection(set2))\n",
    "#     return intersection / min(len(set1), len(set2))\n",
    "# \n",
    "# def cosine_similarity(set1, set2):\n",
    "#     \"\"\"\n",
    "#     计算两个集合的余弦相似度（Cosine指数）\n",
    "#     :param set1: 第一个集合\n",
    "#     :param set2: 第二个集合\n",
    "#     :return: 余弦相似度\n",
    "#     \"\"\"\n",
    "#     intersection = len(set1.intersection(set2))\n",
    "#     magnitude_set1 = math.sqrt(len(set1))\n",
    "#     magnitude_set2 = math.sqrt(len(set2))\n",
    "#     return intersection / (magnitude_set1 * magnitude_set2)\n",
    "# \n",
    "def jaccard_similarity(set1, set2):\n",
    "    intersection = len(set1.intersection(set2))\n",
    "    union = len(set1.union(set2))\n",
    "    return intersection / union"
   ],
   "metadata": {
    "collapsed": false,
    "pycharm": {
     "name": "#%%\n"
    },
    "ExecuteTime": {
     "end_time": "2024-05-05T07:19:01.511078Z",
     "start_time": "2024-05-05T07:19:01.497708Z"
    }
   },
   "outputs": [],
   "execution_count": 3
  },
  {
   "cell_type": "code",
   "execution_count": 22,
   "outputs": [
    {
     "name": "stdout",
     "output_type": "stream",
     "text": [
      "                  0      1     2         3         4    5         6\n",
      "0           Bladder  24583  2212  0.089981  0.165105  1.0  0.299968\n",
      "1             Blood  50115  6581  0.131318  0.232150  1.0  0.362378\n",
      "2       Bone_Marrow  12297  2156  0.175327  0.298346  1.0  0.418721\n",
      "3               Eye  10650   890  0.083568  0.154246  1.0  0.289081\n",
      "4               Fat  20263  2714  0.133939  0.236236  1.0  0.365976\n",
      "5             Heart  11505  1431  0.124381  0.221243  1.0  0.352676\n",
      "6            Kidney   9641   428  0.044394  0.085013  1.0  0.210698\n",
      "7   Large_Intestine  13680   919  0.067178  0.125899  1.0  0.259188\n",
      "8             Liver   5007   584  0.116637  0.208907  1.0  0.341521\n",
      "9              Lung  35682  6058  0.169777  0.290273  1.0  0.412041\n",
      "10       Lymph_Node  53275  2967  0.055692  0.105508  1.0  0.235992\n",
      "11          Mammary  11375   468  0.041143  0.079034  1.0  0.202837\n",
      "12           Muscle  30746  1856  0.060366  0.113858  1.0  0.245694\n",
      "13         Pancreas  13497  1834  0.135882  0.239254  1.0  0.368622\n",
      "14         Prostate  16375  1523  0.093008  0.170187  1.0  0.304972\n",
      "15   Salivary_Gland  27199  2467  0.090702  0.166318  1.0  0.301168\n",
      "16             Skin   9424   237  0.025149  0.049063  1.0  0.158583\n",
      "17  Small_Intestine  12467   599  0.048047  0.091688  1.0  0.219196\n",
      "18           Spleen  34004  4316  0.126926  0.225261  1.0  0.356267\n",
      "19           Thymus  33664  2538  0.075392  0.140213  1.0  0.274576\n",
      "20           Tongue  15020  1182  0.078695  0.145908  1.0  0.280526\n",
      "21          Trachea   9522   963  0.101134  0.183691  1.0  0.318016\n",
      "22           Uterus   7124   591  0.082959  0.153208  1.0  0.288026\n",
      "23      Vasculature  16037  2801  0.174659  0.297378  1.0  0.417922\n"
     ]
    }
   ],
   "source": [
    "core = \"peri\"\n",
    "# core = \"core\"\n",
    "index = \"lcczscore\"\n",
    "# index = \"lcc_expresssum_zscore\"\n",
    "# index = \"lcc_expressmean_zscore\"\n",
    "results_ct = pd.read_csv(r\"E:\\0_单细胞1\\results\\lcczscore-pip-coreperi\\%s\\allcells.csv\"%core)\n",
    "results_ct_sorted = results_ct.sort_values(by=index,ascending=False)\n",
    "results_ct_sorted_topk = results_ct_sorted.iloc[:int(len(results_ct_sorted) * (10 / 100))][[index,\"tissue\",\"celltype\",\"cell\"]]\n",
    "# \n",
    "# # 计算jaccard系数\n",
    "# # set1 = set(list(results_ct_sorted_topk[\"cellname\"]))\n",
    "# tissuelist = os.listdir(r\"..\\results\\lcczscore-pip-cell-sixpoints\")\n",
    "# result = []\n",
    "# for tissue in tissuelist:\n",
    "#     tissue_cells = set(list(results_ct[results_ct[\"tissue\"]==tissue][\"cell\"]))\n",
    "#     tissue_related_cells = set(results_ct_sorted_topk[results_ct_sorted_topk[\"tissue\"]==tissue][\"cell\"])\n",
    "# \n",
    "#     observed_similarity = jaccard_similarity(tissue_related_cells, tissue_cells)\n",
    "#     observed_similarity1 = dice_coefficient(tissue_related_cells, tissue_cells)\n",
    "#     observed_similarity2 = simpson_coefficient(tissue_related_cells, tissue_cells)\n",
    "#     observed_similarity4 = cosine_similarity(tissue_related_cells, tissue_cells)\n",
    "#     result.append([tissue,len(tissue_cells),len(tissue_related_cells),observed_similarity,observed_similarity1,observed_similarity2,observed_similarity4])\n",
    "# print(pd.DataFrame(result))"
   ],
   "metadata": {
    "collapsed": false,
    "pycharm": {
     "name": "#%%\n"
    }
   }
  },
  {
   "cell_type": "markdown",
   "source": [
    "计算jaccard系数的经验pvalue"
   ],
   "metadata": {
    "collapsed": false
   }
  },
  {
   "cell_type": "code",
   "execution_count": 44,
   "outputs": [
    {
     "name": "stdout",
     "output_type": "stream",
     "text": [
      "0\n"
     ]
    },
    {
     "name": "stderr",
     "output_type": "stream",
     "text": [
      "\n",
      "KeyboardInterrupt\n",
      "\n"
     ]
    }
   ],
   "source": [
    "#从所有细胞中随机抽取1000次10%数量的细胞\n",
    "sampled_cells_list = []\n",
    "for i in range(10000):\n",
    "    sampled_cells = set(list(results_ct_sorted.sample(frac=0.1)[\"cellname\"]))\n",
    "    sampled_cells_list.append(sampled_cells)\n",
    "    if (i/200 == 0) :\n",
    "        print(i)\n",
    "print(\"finish\")\n",
    "\n",
    "# 重复10000次，计算jaccard系数的经验pvalue\n",
    "set1 = set(list(results_ct_sorted_topk[\"cellname\"]))\n",
    "tissuelist = os.listdir(r\"..\\results\\lcczscore-pip-cell-sixpoints\")\n",
    "for tissue in tissuelist:\n",
    "    tissue_df = pd.read_csv(r\"..\\results\\lcczscore-pip-cell-sixpoints-tissue\\%s.csv\"%tissue)\n",
    "    tissue_cells = set(list(tissue_df[\"cellname\"]))\n",
    "    observed_similarity = jaccard_similarity(set1, tissue_cells)\n",
    "    permuted_similarities = []\n",
    "    # 计算经验pvalue\n",
    "    for sampled in sampled_cells_list:\n",
    "        permuted_similarity  = jaccard_similarity(sampled, tissue_cells)\n",
    "        permuted_similarities.append(permuted_similarity)\n",
    "    p_value = (np.sum(np.array(permuted_similarities) >= observed_similarity) + 1) / (10000 + 1)\n",
    "\n",
    "    print(tissue)\n",
    "    print(\"观察到的 Jaccard 相关系数:\", observed_similarity)\n",
    "    print(tissue,\" 经验 p 值: \", p_value)"
   ],
   "metadata": {
    "collapsed": false,
    "pycharm": {
     "name": "#%%\n"
    }
   }
  },
  {
   "cell_type": "code",
   "execution_count": 32,
   "outputs": [
    {
     "data": {
      "text/plain": "             tissue  cellnum  relatedCellnum   jaccard  fisher's pvalue  \\\n0           Bladder    24583            2212  0.089981     9.999277e-01   \n1             Blood    50115            6581  0.131318     1.320988e-54   \n2       Bone_Marrow    12297            2156  0.175327     7.396689e-67   \n3               Eye    10650             890  0.083568     9.999854e-01   \n4               Fat    20263            2714  0.133939     1.020943e-26   \n5             Heart    11505            1431  0.124381     2.396460e-09   \n6            Kidney     9641             428  0.044394     1.000000e+00   \n7   Large_Intestine    13680             919  0.067178     1.000000e+00   \n8             Liver     5007             584  0.116637     3.786074e-03   \n9              Lung    35682            6058  0.169777    1.038489e-165   \n10       Lymph_Node    53275            2967  0.055692     1.000000e+00   \n11          Mammary    11375             468  0.041143     1.000000e+00   \n12           Muscle    30746            1856  0.060366     1.000000e+00   \n13         Pancreas    13497            1834  0.135882     2.853701e-20   \n14         Prostate    16375            1523  0.093008     9.843168e-01   \n15   Salivary_Gland    27199            2467  0.090702     9.998898e-01   \n16             Skin     9424             237  0.025149     1.000000e+00   \n17  Small_Intestine    12467             599  0.048047     1.000000e+00   \n18           Spleen    34004            4316  0.126926     8.336806e-29   \n19           Thymus    33664            2538  0.075392     1.000000e+00   \n20           Tongue    15020            1182  0.078695     1.000000e+00   \n21          Trachea     9522             963  0.101134     4.047997e-01   \n22           Uterus     7124             591  0.082959     9.998059e-01   \n23      Vasculature    16037            2801  0.174659     3.310111e-85   \n\n    hypergeom pvalue  \n0       1.000000e+00  \n1      2.184364e-125  \n2      1.238898e-147  \n3       1.000000e+00  \n4       3.302498e-56  \n5       7.310832e-18  \n6       1.000000e+00  \n7       1.000000e+00  \n8       6.198245e-05  \n9       0.000000e+00  \n10      1.000000e+00  \n11      1.000000e+00  \n12      1.000000e+00  \n13      1.506601e-41  \n14      9.989501e-01  \n15      1.000000e+00  \n16      1.000000e+00  \n17      1.000000e+00  \n18      3.971047e-62  \n19      1.000000e+00  \n20      1.000000e+00  \n21      3.596649e-01  \n22      9.999997e-01  \n23     1.562715e-190  ",
      "text/html": "<div>\n<style scoped>\n    .dataframe tbody tr th:only-of-type {\n        vertical-align: middle;\n    }\n\n    .dataframe tbody tr th {\n        vertical-align: top;\n    }\n\n    .dataframe thead th {\n        text-align: right;\n    }\n</style>\n<table border=\"1\" class=\"dataframe\">\n  <thead>\n    <tr style=\"text-align: right;\">\n      <th></th>\n      <th>tissue</th>\n      <th>cellnum</th>\n      <th>relatedCellnum</th>\n      <th>jaccard</th>\n      <th>fisher's pvalue</th>\n      <th>hypergeom pvalue</th>\n    </tr>\n  </thead>\n  <tbody>\n    <tr>\n      <th>0</th>\n      <td>Bladder</td>\n      <td>24583</td>\n      <td>2212</td>\n      <td>0.089981</td>\n      <td>9.999277e-01</td>\n      <td>1.000000e+00</td>\n    </tr>\n    <tr>\n      <th>1</th>\n      <td>Blood</td>\n      <td>50115</td>\n      <td>6581</td>\n      <td>0.131318</td>\n      <td>1.320988e-54</td>\n      <td>2.184364e-125</td>\n    </tr>\n    <tr>\n      <th>2</th>\n      <td>Bone_Marrow</td>\n      <td>12297</td>\n      <td>2156</td>\n      <td>0.175327</td>\n      <td>7.396689e-67</td>\n      <td>1.238898e-147</td>\n    </tr>\n    <tr>\n      <th>3</th>\n      <td>Eye</td>\n      <td>10650</td>\n      <td>890</td>\n      <td>0.083568</td>\n      <td>9.999854e-01</td>\n      <td>1.000000e+00</td>\n    </tr>\n    <tr>\n      <th>4</th>\n      <td>Fat</td>\n      <td>20263</td>\n      <td>2714</td>\n      <td>0.133939</td>\n      <td>1.020943e-26</td>\n      <td>3.302498e-56</td>\n    </tr>\n    <tr>\n      <th>5</th>\n      <td>Heart</td>\n      <td>11505</td>\n      <td>1431</td>\n      <td>0.124381</td>\n      <td>2.396460e-09</td>\n      <td>7.310832e-18</td>\n    </tr>\n    <tr>\n      <th>6</th>\n      <td>Kidney</td>\n      <td>9641</td>\n      <td>428</td>\n      <td>0.044394</td>\n      <td>1.000000e+00</td>\n      <td>1.000000e+00</td>\n    </tr>\n    <tr>\n      <th>7</th>\n      <td>Large_Intestine</td>\n      <td>13680</td>\n      <td>919</td>\n      <td>0.067178</td>\n      <td>1.000000e+00</td>\n      <td>1.000000e+00</td>\n    </tr>\n    <tr>\n      <th>8</th>\n      <td>Liver</td>\n      <td>5007</td>\n      <td>584</td>\n      <td>0.116637</td>\n      <td>3.786074e-03</td>\n      <td>6.198245e-05</td>\n    </tr>\n    <tr>\n      <th>9</th>\n      <td>Lung</td>\n      <td>35682</td>\n      <td>6058</td>\n      <td>0.169777</td>\n      <td>1.038489e-165</td>\n      <td>0.000000e+00</td>\n    </tr>\n    <tr>\n      <th>10</th>\n      <td>Lymph_Node</td>\n      <td>53275</td>\n      <td>2967</td>\n      <td>0.055692</td>\n      <td>1.000000e+00</td>\n      <td>1.000000e+00</td>\n    </tr>\n    <tr>\n      <th>11</th>\n      <td>Mammary</td>\n      <td>11375</td>\n      <td>468</td>\n      <td>0.041143</td>\n      <td>1.000000e+00</td>\n      <td>1.000000e+00</td>\n    </tr>\n    <tr>\n      <th>12</th>\n      <td>Muscle</td>\n      <td>30746</td>\n      <td>1856</td>\n      <td>0.060366</td>\n      <td>1.000000e+00</td>\n      <td>1.000000e+00</td>\n    </tr>\n    <tr>\n      <th>13</th>\n      <td>Pancreas</td>\n      <td>13497</td>\n      <td>1834</td>\n      <td>0.135882</td>\n      <td>2.853701e-20</td>\n      <td>1.506601e-41</td>\n    </tr>\n    <tr>\n      <th>14</th>\n      <td>Prostate</td>\n      <td>16375</td>\n      <td>1523</td>\n      <td>0.093008</td>\n      <td>9.843168e-01</td>\n      <td>9.989501e-01</td>\n    </tr>\n    <tr>\n      <th>15</th>\n      <td>Salivary_Gland</td>\n      <td>27199</td>\n      <td>2467</td>\n      <td>0.090702</td>\n      <td>9.998898e-01</td>\n      <td>1.000000e+00</td>\n    </tr>\n    <tr>\n      <th>16</th>\n      <td>Skin</td>\n      <td>9424</td>\n      <td>237</td>\n      <td>0.025149</td>\n      <td>1.000000e+00</td>\n      <td>1.000000e+00</td>\n    </tr>\n    <tr>\n      <th>17</th>\n      <td>Small_Intestine</td>\n      <td>12467</td>\n      <td>599</td>\n      <td>0.048047</td>\n      <td>1.000000e+00</td>\n      <td>1.000000e+00</td>\n    </tr>\n    <tr>\n      <th>18</th>\n      <td>Spleen</td>\n      <td>34004</td>\n      <td>4316</td>\n      <td>0.126926</td>\n      <td>8.336806e-29</td>\n      <td>3.971047e-62</td>\n    </tr>\n    <tr>\n      <th>19</th>\n      <td>Thymus</td>\n      <td>33664</td>\n      <td>2538</td>\n      <td>0.075392</td>\n      <td>1.000000e+00</td>\n      <td>1.000000e+00</td>\n    </tr>\n    <tr>\n      <th>20</th>\n      <td>Tongue</td>\n      <td>15020</td>\n      <td>1182</td>\n      <td>0.078695</td>\n      <td>1.000000e+00</td>\n      <td>1.000000e+00</td>\n    </tr>\n    <tr>\n      <th>21</th>\n      <td>Trachea</td>\n      <td>9522</td>\n      <td>963</td>\n      <td>0.101134</td>\n      <td>4.047997e-01</td>\n      <td>3.596649e-01</td>\n    </tr>\n    <tr>\n      <th>22</th>\n      <td>Uterus</td>\n      <td>7124</td>\n      <td>591</td>\n      <td>0.082959</td>\n      <td>9.998059e-01</td>\n      <td>9.999997e-01</td>\n    </tr>\n    <tr>\n      <th>23</th>\n      <td>Vasculature</td>\n      <td>16037</td>\n      <td>2801</td>\n      <td>0.174659</td>\n      <td>3.310111e-85</td>\n      <td>1.562715e-190</td>\n    </tr>\n  </tbody>\n</table>\n</div>"
     },
     "execution_count": 32,
     "metadata": {},
     "output_type": "execute_result"
    }
   ],
   "source": [
    "# 计算超几何分布pvalue\n",
    "from scipy.stats import hypergeom\n",
    "# Fisher's 精确检验\n",
    "import numpy as np\n",
    "from scipy.stats import fisher_exact\n",
    "\n",
    "core = \"peri\"\n",
    "# core = \"core\"\n",
    "index = \"lcczscore\"\n",
    "# index = \"lcc_expresssum_zscore\"\n",
    "# index = \"lcc_expressmean_zscore\"\n",
    "results_ct = pd.read_csv(r\"E:\\0_单细胞1\\results\\lcczscore-pip-coreperi\\%s\\allcells.csv\"%core)\n",
    "results_ct_sorted = results_ct.sort_values(by=index,ascending=False)\n",
    "results_ct_sorted_topk_df = results_ct_sorted.iloc[:int(len(results_ct_sorted) * (10 / 100))][[index,\"tissue\",\"celltype\",\"cell\"]]\n",
    "\n",
    "#  计算超几何分布pvalue\n",
    "topkcells = set(list(results_ct_sorted_topk[\"cell\"]))\n",
    "tissuelist = os.listdir(r\"..\\results\\lcczscore-pip-cell-sixpoints\")\n",
    "result_index = []\n",
    "for tissue in tissuelist:\n",
    "    tissue_cell = results_ct[results_ct['tissue']==tissue]\n",
    "    tissue_cell_topk = results_ct_sorted_topk_df[results_ct_sorted_topk_df['tissue']==tissue]\n",
    "    tissue_cellnum = len(tissue_cell)\n",
    "    tissue_cellnum_topk = len(tissue_cell_topk)\n",
    "\n",
    "    # 计算jaccard系数\n",
    "    jaccard = jaccard_similarity(set(tissue_cell[\"cell\"]),set(tissue_cell_topk[\"cell\"]))\n",
    "\n",
    "    # 计算fisher精确检验pvalue\n",
    "    b = tissue_cellnum\n",
    "    a = tissue_cellnum_topk\n",
    "    observed_table = [[a, b-a], [np.floor(b/10), b - np.floor(b/10)]]  # 2x2 列联表数据\n",
    "    odds_ratio, p_value = fisher_exact(observed_table, alternative='greater')\n",
    "\n",
    "    # 所有细胞M中与性状相关的细胞有N个，那么某个组织的n个细胞中有k个性状相关细胞是否显著高\n",
    "    M = len(allcells_result_df)\n",
    "    N = len(results_ct_sorted_topk_df)\n",
    "    n = tissue_cellnum\n",
    "    k = tissue_cellnum_topk\n",
    "    Hpvalue = hypergeom.sf(k-1,M,N,n)\n",
    "\n",
    "    result_index.append([tissue,tissue_cellnum,tissue_cellnum_topk,\n",
    "                   jaccard,p_value,Hpvalue])\n",
    "result_index_df = pd.DataFrame(result_index)\n",
    "result_index_df.columns = [\"tissue\",\"cellnum\",\"relatedCellnum\",\"jaccard\",\"fisher's pvalue\",\"hypergeom pvalue\"]\n",
    "result_index_df.to_csv(r\"E:\\00_CeSOP\\results\\asthma\\trait-cells-in-tissues\\tissues\\top10_%s_lcczscore.csv\"%core)\n",
    "result_index_df"
   ],
   "metadata": {
    "collapsed": false,
    "pycharm": {
     "name": "#%%\n"
    }
   }
  },
  {
   "cell_type": "markdown",
   "source": [
    "## 细胞类型"
   ],
   "metadata": {
    "collapsed": false,
    "pycharm": {
     "name": "#%% md\n"
    }
   }
  },
  {
   "cell_type": "code",
   "execution_count": 44,
   "outputs": [],
   "source": [
    "# # 相关细胞数量\n",
    "# # core = \"peri\"\n",
    "# core = \"core\"\n",
    "# index = \"lcczscore\"\n",
    "# # index = \"lcc_expresssum_zscore\"\n",
    "# # index = \"lcc_expressmean_zscore\"\n",
    "# allcells_result_df = pd.read_csv(r\"E:\\00_CeSOP\\results\\asthma\\lcczscore-pip-coreperi\\%s\\allcells.csv\"%core)\n",
    "# results_ct_sorted = allcells_result_df.sort_values(by=index,ascending=False)\n",
    "# results_ct_sorted_topk = results_ct_sorted.iloc[:int(len(results_ct_sorted) * (10 / 100))][[index,\"tissue\",\"celltype\",\"cell\"]]\n",
    "# \n",
    "# ## 性状相关细胞数量\n",
    "# results_ct_topk_counts = results_ct_sorted_topk.groupby([\"tissue\",'celltype']).size().reset_index(name='Relatedcellnum')\n",
    "# results_ct_counts = results_ct_sorted.groupby([\"tissue\",'celltype']).size().reset_index(name='cellnum')\n",
    "# \n",
    "# # 使用 merge 函数将两个 DataFrame 合并\n",
    "# merged_df = pd.merge(results_ct_counts, results_ct_topk_counts, on=['tissue','celltype'], how='left')\n",
    "# # 使用 fillna 方法将缺失的值填充为 0\n",
    "# merged_df.fillna(0, inplace=True)\n",
    "# merged_df.to_csv(r\"temp.csv\")"
   ],
   "metadata": {
    "collapsed": false,
    "pycharm": {
     "name": "#%%\n"
    }
   }
  },
  {
   "cell_type": "code",
   "execution_count": 42,
   "outputs": [
    {
     "data": {
      "text/plain": "          tissue                              celltype  cellnum  \\\n0        Bladder                                b cell      253   \n1        Bladder               bladder urothelial cell     4151   \n2        Bladder            capillary endothelial cell       77   \n3        Bladder  endothelial cell of lymphatic vessel       74   \n4        Bladder                            fibroblast     5557   \n..           ...                                   ...      ...   \n469  Vasculature                               nk cell      121   \n470  Vasculature                         pericyte cell     1193   \n471  Vasculature                           plasma cell       42   \n472  Vasculature                    smooth muscle cell     3075   \n473  Vasculature                                t cell      476   \n\n     Relatedcellnum  \n0              23.0  \n1             604.0  \n2              19.0  \n3              10.0  \n4             364.0  \n..              ...  \n469            11.0  \n470           207.0  \n471             8.0  \n472           490.0  \n473            24.0  \n\n[474 rows x 4 columns]",
      "text/html": "<div>\n<style scoped>\n    .dataframe tbody tr th:only-of-type {\n        vertical-align: middle;\n    }\n\n    .dataframe tbody tr th {\n        vertical-align: top;\n    }\n\n    .dataframe thead th {\n        text-align: right;\n    }\n</style>\n<table border=\"1\" class=\"dataframe\">\n  <thead>\n    <tr style=\"text-align: right;\">\n      <th></th>\n      <th>tissue</th>\n      <th>celltype</th>\n      <th>cellnum</th>\n      <th>Relatedcellnum</th>\n    </tr>\n  </thead>\n  <tbody>\n    <tr>\n      <th>0</th>\n      <td>Bladder</td>\n      <td>b cell</td>\n      <td>253</td>\n      <td>23.0</td>\n    </tr>\n    <tr>\n      <th>1</th>\n      <td>Bladder</td>\n      <td>bladder urothelial cell</td>\n      <td>4151</td>\n      <td>604.0</td>\n    </tr>\n    <tr>\n      <th>2</th>\n      <td>Bladder</td>\n      <td>capillary endothelial cell</td>\n      <td>77</td>\n      <td>19.0</td>\n    </tr>\n    <tr>\n      <th>3</th>\n      <td>Bladder</td>\n      <td>endothelial cell of lymphatic vessel</td>\n      <td>74</td>\n      <td>10.0</td>\n    </tr>\n    <tr>\n      <th>4</th>\n      <td>Bladder</td>\n      <td>fibroblast</td>\n      <td>5557</td>\n      <td>364.0</td>\n    </tr>\n    <tr>\n      <th>...</th>\n      <td>...</td>\n      <td>...</td>\n      <td>...</td>\n      <td>...</td>\n    </tr>\n    <tr>\n      <th>469</th>\n      <td>Vasculature</td>\n      <td>nk cell</td>\n      <td>121</td>\n      <td>11.0</td>\n    </tr>\n    <tr>\n      <th>470</th>\n      <td>Vasculature</td>\n      <td>pericyte cell</td>\n      <td>1193</td>\n      <td>207.0</td>\n    </tr>\n    <tr>\n      <th>471</th>\n      <td>Vasculature</td>\n      <td>plasma cell</td>\n      <td>42</td>\n      <td>8.0</td>\n    </tr>\n    <tr>\n      <th>472</th>\n      <td>Vasculature</td>\n      <td>smooth muscle cell</td>\n      <td>3075</td>\n      <td>490.0</td>\n    </tr>\n    <tr>\n      <th>473</th>\n      <td>Vasculature</td>\n      <td>t cell</td>\n      <td>476</td>\n      <td>24.0</td>\n    </tr>\n  </tbody>\n</table>\n<p>474 rows × 4 columns</p>\n</div>"
     },
     "execution_count": 42,
     "metadata": {},
     "output_type": "execute_result"
    }
   ],
   "source": "# merged_df",
   "metadata": {
    "collapsed": false,
    "pycharm": {
     "name": "#%%\n"
    }
   }
  },
  {
   "cell_type": "markdown",
   "source": [
    "计算jaccard系数和超几何分布pvalue"
   ],
   "metadata": {
    "collapsed": false
   }
  },
  {
   "cell_type": "code",
   "source": [
    "# 计算超几何分布pvalue\n",
    "from scipy.stats import hypergeom\n",
    "# Fisher's 精确检验\n",
    "import numpy as np\n",
    "from scipy.stats import fisher_exact\n",
    "\n",
    "core = \"peri\"\n",
    "# core = \"core\"\n",
    "index = \"lcczscore\"\n",
    "# index = \"lcc_expresssum_zscore\"\n",
    "# index = \"lcc_expressmean_zscore\"\n",
    "\n",
    "results_ct = pd.read_csv(r\"E:\\00_CeSOP\\results\\asthma\\lcczscore-pip-coreperi\\%s\\allcells.csv\"%core)\n",
    "results_ct_sorted = results_ct.sort_values(by=index,ascending=False)\n",
    "results_ct_sorted_topk = results_ct_sorted.iloc[:int(len(results_ct_sorted) * (10 / 100))][[index,\"tissue\",\"celltype\",\"cell\"]]\n",
    "# 计算jaccard系数\n",
    "result = []\n",
    "\n",
    "tissue_ct = results_ct_sorted.groupby([\"tissue\",'celltype'])\n",
    "for group_name, group_data in tissue_ct:\n",
    "    ct_cells = set(list(results_ct_sorted[(results_ct_sorted[\"tissue\"]==group_name[0]) & (results_ct_sorted[\"celltype\"]==group_name[1])][\"cell\"]))\n",
    "    ct_cells_num = len(ct_cells)\n",
    "    topkcells = set(list(results_ct_sorted_topk[(results_ct_sorted_topk[\"tissue\"]==group_name[0]) & (results_ct_sorted_topk[\"celltype\"]==group_name[1])][\"cell\"]))\n",
    "    topkcells_num = len(topkcells)\n",
    "    if topkcells_num==0:\n",
    "        observed_similarity = 0\n",
    "        p_value = 1\n",
    "        Hpvalue = 1\n",
    "    else :\n",
    "        # Jaccard 相关系数\n",
    "        observed_similarity = jaccard_similarity(topkcells, ct_cells)\n",
    "\n",
    "        # 计算fisher精确检验pvalue\n",
    "        b = ct_cells_num\n",
    "        a = topkcells_num\n",
    "        observed_table = [[a, b-a], [np.floor(b/10), b - np.floor(b/10)]]  # 2x2 列联表数据\n",
    "        odds_ratio, p_value = fisher_exact(observed_table, alternative='greater')\n",
    "\n",
    "        # 超几何检验pvalue\n",
    "        # 所有细胞M中与性状相关的细胞有N个，那么某个细胞类型的n个细胞中有k个性状相关细胞是否显著高\n",
    "        M = len((results_ct[\"cell\"]))\n",
    "        N = len(topkcells)\n",
    "        n = len(ct_cells)\n",
    "        k = len(topkcells & ct_cells)\n",
    "        Hpvalue = hypergeom.sf(k-1,M,N,n)\n",
    "\n",
    "    result.append([group_name[0],group_name[1],ct_cells_num,topkcells_num,observed_similarity,p_value,Hpvalue])\n",
    "result_df = pd.DataFrame(result)\n",
    "result_df.columns = [\"tissue\",\"celltype\",\"cellnum\",\"relatedCellnum\",\"jaccard\",\"fisher's pvalue\",\"hypergeom pvalue\"]\n",
    "result_df.to_csv(r\"E:\\00_CeSOP\\results\\asthma\\trait-cells-in-tissues-and-celltypes\\celltypes\\top10_%s_%s.csv\"%(core,index))"
   ],
   "metadata": {
    "collapsed": false,
    "pycharm": {
     "name": "#%%\n"
    },
    "ExecuteTime": {
     "end_time": "2024-05-05T07:31:59.947497Z",
     "start_time": "2024-05-05T07:30:56.809339Z"
    }
   },
   "outputs": [],
   "execution_count": 9
  },
  {
   "cell_type": "markdown",
   "source": [
    "## 可视化"
   ],
   "metadata": {
    "collapsed": false
   }
  },
  {
   "cell_type": "code",
   "source": [
    "import matplotlib.pyplot as plt\n",
    "core = \"core\"\n",
    "# core = \"peri\"\n",
    "df = pd.read_csv(r\"E:\\00_CeSOP\\results\\asthma\\trait-cells-in-tissues-and-celltypes\\tissues\\top10_%s_lcczscore.csv\"%core)\n",
    "df2 = df.sort_values(by = \"jaccard\")\n",
    "fig = plt.figure(figsize=(2,6))\n",
    "plt.barh(df2[\"tissue\"], df2[\"jaccard\"],color = \"green\")\n",
    "# plt.barh(df2[\"tissue\"], df2[\"jaccard\"],color = \"green\",alpha = 0.2)\n",
    "\n",
    "plt.xlabel(\"Jaccard\")\n",
    "# 添加星号\n",
    "for i, value in enumerate(list(df2[\"jaccard\"])):\n",
    "    # print(df2[df2[\"jaccard\"]==value][\"fisher's pvalue\"].values[0])\n",
    "    if df2[df2[\"jaccard\"]==value][\"fisher's pvalue\"].values[0] < 0.005:\n",
    "        plt.text(value, i, \"*\", color='red', fontsize=12, va='center')\n",
    "# plt.axvline(x=0.005, color='green', linestyle='--')\n",
    "plt.show()"
   ],
   "metadata": {
    "collapsed": false,
    "pycharm": {
     "name": "#%%\n"
    },
    "ExecuteTime": {
     "end_time": "2024-05-05T07:52:48.851752Z",
     "start_time": "2024-05-05T07:52:47.974236Z"
    }
   },
   "outputs": [
    {
     "data": {
      "text/plain": [
       "<Figure size 200x600 with 1 Axes>"
      ],
      "image/png": "[encoded data removed]"
     },
     "metadata": {},
     "output_type": "display_data"
    }
   ],
   "execution_count": 12
  },
  {
   "cell_type": "code",
   "execution_count": null,
   "outputs": [],
   "source": [
    "\n"
   ],
   "metadata": {
    "collapsed": false,
    "pycharm": {
     "name": "#%%\n"
    }
   }
  }
 ],
 "metadata": {
  "kernelspec": {
   "display_name": "PyCharm (0 _单细胞)",
   "language": "python",
   "name": "pycharm-20651879"
  },
  "language_info": {
   "codemirror_mode": {
    "name": "ipython",
    "version": 2
   },
   "file_extension": ".py",
   "mimetype": "text/x-python",
   "name": "python",
   "nbconvert_exporter": "python",
   "pygments_lexer": "ipython2",
   "version": "2.7.6"
  }
 },
 "nbformat": 4,
 "nbformat_minor": 0
}
